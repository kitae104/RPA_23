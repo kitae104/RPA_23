{
 "cells": [
  {
   "cell_type": "code",
   "execution_count": 1,
   "metadata": {},
   "outputs": [
    {
     "name": "stderr",
     "output_type": "stream",
     "text": [
      "C:\\Users\\kitae\\AppData\\Local\\Temp\\ipykernel_5100\\1292469605.py:10: DeprecationWarning: executable_path has been deprecated, please pass in a Service object\n",
      "  driver = webdriver.Chrome(executable_path=chrome_driver_path)\n"
     ]
    },
    {
     "name": "stdout",
     "output_type": "stream",
     "text": [
      "Data for notice1.csv has been saved.\n",
      "Data for newsletter2.csv has been saved.\n"
     ]
    }
   ],
   "source": [
    "import csv\n",
    "from selenium import webdriver\n",
    "from selenium.webdriver.common.by import By\n",
    "import time\n",
    "\n",
    "# 로컬에 있는 chromedriver.exe 파일의 경로를 지정\n",
    "chrome_driver_path = \"chromedriver.exe\"  # 본인의 실제 경로로 변경해주세요.\n",
    "\n",
    "# 웹 드라이버 초기화\n",
    "driver = webdriver.Chrome(executable_path=chrome_driver_path)\n",
    "\n",
    "# 웹 사이트로 이동\n",
    "driver.get(\"https://www.goeyi.kr/yongin-e/main.do\")\n",
    "time.sleep(1)\n",
    "\n",
    "for i in range(1, 3):\n",
    "    # id가 \"notice1\"인 요소 찾기\n",
    "    element = driver.find_element(By.CSS_SELECTOR, f\"#container > div.MC_wrap1 > div > div.MC_box2.widgEdit > div > div.titTab > ul > li:nth-child({i})\")\n",
    "    element.click()\n",
    "\n",
    "    notice_element = driver.find_element(By.CSS_SELECTOR, \"#notice\" + str(i))\n",
    "\n",
    "    # 공지사항 리스트 가져오기\n",
    "    notice_list = notice_element.find_elements(By.CSS_SELECTOR, f\"#notice{i} > ul > li > a\")\n",
    "\n",
    "    # CSV 파일 생성 및 헤더 작성\n",
    "    csv_filename = f\"notice{i}.csv\" if i == 1 else f\"newsletter{i}.csv\"\n",
    "    with open(csv_filename, mode='w', encoding='utf-8', newline='') as file:\n",
    "        writer = csv.writer(file)\n",
    "        writer.writerow(['Title', 'Content', 'Link'])\n",
    "\n",
    "        for notice in notice_list:\n",
    "            link = notice.get_attribute(\"href\")\n",
    "            driver.get(link)\n",
    "            time.sleep(2)\n",
    "            title = driver.find_element(By.CSS_SELECTOR, \"#nttViewForm > div:nth-child(31) > h3\").text\n",
    "            content = driver.find_element(By.CSS_SELECTOR, \"#nttViewForm > div:nth-child(32) > div.bbsV_cont\").text \n",
    "\n",
    "            # CSV 파일에 데이터 작성\n",
    "            writer.writerow([title, content, link])\n",
    "\n",
    "            driver.back()\n",
    "            time.sleep(2)\n",
    "\n",
    "    print(f\"Data for {csv_filename} has been saved.\")\n",
    "\n",
    "# 웹 드라이버 종료\n",
    "driver.quit()"
   ]
  }
 ],
 "metadata": {
  "kernelspec": {
   "display_name": "Python 3",
   "language": "python",
   "name": "python3"
  },
  "language_info": {
   "codemirror_mode": {
    "name": "ipython",
    "version": 3
   },
   "file_extension": ".py",
   "mimetype": "text/x-python",
   "name": "python",
   "nbconvert_exporter": "python",
   "pygments_lexer": "ipython3",
   "version": "3.11.0"
  }
 },
 "nbformat": 4,
 "nbformat_minor": 2
}
