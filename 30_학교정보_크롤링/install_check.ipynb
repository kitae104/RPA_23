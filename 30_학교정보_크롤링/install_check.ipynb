{
 "cells": [
  {
   "cell_type": "code",
   "execution_count": 1,
   "metadata": {},
   "outputs": [],
   "source": [
    "from selenium import webdriver\n",
    "from selenium.webdriver.chrome.service import Service\n",
    "from selenium.webdriver.chrome.options import Options\n",
    "from selenium.webdriver.common.keys import Keys\n",
    "from selenium.webdriver.common.by import By\n",
    "from webdriver_manager.chrome import ChromeDriverManager\n",
    "import time\n",
    "\n",
    "options = Options() # 크롬 옵션 객체 생성\n",
    "options.add_experimental_option(\"detach\", True) # 크롬 창을 종료해도 프로세스가 종료되지 않도록 설정\n",
    "service = Service(ChromeDriverManager().install())  # 크롬 드라이버 경로 설정\n",
    "driver = webdriver.Chrome(service=service, options=options) # 크롬 드라이버 객체 생성\n",
    "\n",
    "# 네이버 쇼핑 페이지로 이동합니다.\n",
    "driver.get('https://shopping.naver.com/home')\n",
    "\n",
    "\n"
   ]
  }
 ],
 "metadata": {
  "kernelspec": {
   "display_name": "Python 3",
   "language": "python",
   "name": "python3"
  },
  "language_info": {
   "codemirror_mode": {
    "name": "ipython",
    "version": 3
   },
   "file_extension": ".py",
   "mimetype": "text/x-python",
   "name": "python",
   "nbconvert_exporter": "python",
   "pygments_lexer": "ipython3",
   "version": "3.11.6"
  }
 },
 "nbformat": 4,
 "nbformat_minor": 2
}
