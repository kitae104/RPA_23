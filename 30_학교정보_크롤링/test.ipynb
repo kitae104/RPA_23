{
 "cells": [
  {
   "cell_type": "code",
   "execution_count": 6,
   "metadata": {},
   "outputs": [
    {
     "name": "stderr",
     "output_type": "stream",
     "text": [
      "C:\\Users\\kitae\\AppData\\Local\\Temp\\ipykernel_4496\\2316305999.py:9: DeprecationWarning: executable_path has been deprecated, please pass in a Service object\n",
      "  driver = webdriver.Chrome(executable_path=chrome_driver_path)\n"
     ]
    }
   ],
   "source": [
    "from selenium import webdriver\n",
    "from selenium.webdriver.common.by import By\n",
    "import time\n",
    "\n",
    "# 로컬에 있는 chromedriver.exe 파일의 경로를 지정\n",
    "chrome_driver_path = \"chromedriver.exe\"  # 본인의 실제 경로로 변경해주세요.\n",
    "\n",
    "# 웹 드라이버 초기화\n",
    "driver = webdriver.Chrome(executable_path=chrome_driver_path)\n",
    "\n",
    "# 웹 사이트로 이동\n",
    "driver.get(\"https://gyungeui-e.goeujb.kr/gyungeui-e/main.do\")\n",
    "time.sleep(1)\n",
    "\n",
    "# #container > div.MC_wrap3 > div > div.con_wrap > div.MC_box4.widgEdit > div > a\n",
    "more = driver.find_element(By.CSS_SELECTOR, \"#container > div.MC_wrap3 > div > div.con_wrap > div.MC_box4.widgEdit > div > a\")\n",
    "more.click()\n",
    "\n",
    "\n",
    "#driver.close()"
   ]
  }
 ],
 "metadata": {
  "kernelspec": {
   "display_name": "Python 3",
   "language": "python",
   "name": "python3"
  },
  "language_info": {
   "codemirror_mode": {
    "name": "ipython",
    "version": 3
   },
   "file_extension": ".py",
   "mimetype": "text/x-python",
   "name": "python",
   "nbconvert_exporter": "python",
   "pygments_lexer": "ipython3",
   "version": "3.11.0"
  }
 },
 "nbformat": 4,
 "nbformat_minor": 2
}
