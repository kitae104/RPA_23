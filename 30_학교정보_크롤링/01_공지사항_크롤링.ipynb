{
 "cells": [
  {
   "cell_type": "code",
   "execution_count": 1,
   "metadata": {},
   "outputs": [
    {
     "ename": "TypeError",
     "evalue": "WebDriver.__init__() got an unexpected keyword argument 'executable_path'",
     "output_type": "error",
     "traceback": [
      "\u001b[1;31m---------------------------------------------------------------------------\u001b[0m",
      "\u001b[1;31mTypeError\u001b[0m                                 Traceback (most recent call last)",
      "Cell \u001b[1;32mIn[1], line 9\u001b[0m\n\u001b[0;32m      6\u001b[0m chrome_driver_path \u001b[38;5;241m=\u001b[39m \u001b[38;5;124m\"\u001b[39m\u001b[38;5;124mchromedriver.exe\u001b[39m\u001b[38;5;124m\"\u001b[39m  \u001b[38;5;66;03m# 본인의 실제 경로로 변경해주세요.\u001b[39;00m\n\u001b[0;32m      8\u001b[0m \u001b[38;5;66;03m# 웹 드라이버 초기화\u001b[39;00m\n\u001b[1;32m----> 9\u001b[0m driver \u001b[38;5;241m=\u001b[39m \u001b[43mwebdriver\u001b[49m\u001b[38;5;241;43m.\u001b[39;49m\u001b[43mChrome\u001b[49m\u001b[43m(\u001b[49m\u001b[43mexecutable_path\u001b[49m\u001b[38;5;241;43m=\u001b[39;49m\u001b[43mchrome_driver_path\u001b[49m\u001b[43m)\u001b[49m\n\u001b[0;32m     11\u001b[0m \u001b[38;5;66;03m# 웹 사이트로 이동\u001b[39;00m\n\u001b[0;32m     12\u001b[0m driver\u001b[38;5;241m.\u001b[39mget(\u001b[38;5;124m\"\u001b[39m\u001b[38;5;124mhttps://www.goeyi.kr/yongin-e/main.do\u001b[39m\u001b[38;5;124m\"\u001b[39m)\n",
      "\u001b[1;31mTypeError\u001b[0m: WebDriver.__init__() got an unexpected keyword argument 'executable_path'"
     ]
    }
   ],
   "source": [
    "from selenium import webdriver\n",
    "from selenium.webdriver.common.by import By\n",
    "import time\n",
    "\n",
    "# 로컬에 있는 chromedriver.exe 파일의 경로를 지정\n",
    "chrome_driver_path = \"chromedriver.exe\"  # 본인의 실제 경로로 변경해주세요.\n",
    "\n",
    "# 웹 드라이버 초기화\n",
    "driver = webdriver.Chrome(executable_path=chrome_driver_path)\n",
    "\n",
    "# 웹 사이트로 이동\n",
    "driver.get(\"https://www.goeyi.kr/yongin-e/main.do\")\n",
    "time.sleep(1)\n",
    "# id가 \"notice1\"인 요소 찾기\n",
    "notice1_element = driver.find_element(By.CSS_SELECTOR, \"#notice1\")\n",
    "\n",
    "# 공지사항 리스트 가져오기\n",
    "notice_list = notice1_element.find_elements(By.CSS_SELECTOR, \"#notice1 > ul > li > a\")\n",
    "\n",
    "for notice in notice_list:\n",
    "  link = notice.get_attribute(\"href\")\n",
    "  print(notice.get_attribute(\"href\"))\n",
    "\n",
    "  driver.get(link)\n",
    "  time.sleep(2)\n",
    "  title = driver.find_element(By.CSS_SELECTOR, \"#nttViewForm > div:nth-child(31) > h3\").text\n",
    "  print(\"제목:\", title)\n",
    "  content = driver.find_element(By.CSS_SELECTOR, \"#nttViewForm > div:nth-child(32) > div.bbsV_cont\").text \n",
    "  print(\"내용:\", content)\n",
    "  driver.back()\n",
    "  print(\"-\" * 50)"
   ]
  },
  {
   "cell_type": "code",
   "execution_count": null,
   "metadata": {},
   "outputs": [],
   "source": []
  }
 ],
 "metadata": {
  "kernelspec": {
   "display_name": "Python 3",
   "language": "python",
   "name": "python3"
  },
  "language_info": {
   "codemirror_mode": {
    "name": "ipython",
    "version": 3
   },
   "file_extension": ".py",
   "mimetype": "text/x-python",
   "name": "python",
   "nbconvert_exporter": "python",
   "pygments_lexer": "ipython3",
   "version": "3.11.6"
  }
 },
 "nbformat": 4,
 "nbformat_minor": 2
}
