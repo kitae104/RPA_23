{
 "cells": [
  {
   "cell_type": "code",
   "execution_count": 5,
   "metadata": {},
   "outputs": [
    {
     "name": "stderr",
     "output_type": "stream",
     "text": [
      "C:\\Users\\kitae\\AppData\\Local\\Temp\\ipykernel_12156\\3194944210.py:14: DeprecationWarning: executable_path has been deprecated, please pass in a Service object\n",
      "  driver = webdriver.Chrome(executable_path=chrome_driver_path, options=options) # 크롬 드라이버 객체 생성\n"
     ]
    }
   ],
   "source": [
    "from selenium import webdriver\n",
    "from selenium.webdriver.common.by import By\n",
    "import time\n",
    "\n",
    "# 로컬에 있는 chromedriver.exe 파일의 경로를 지정\n",
    "chrome_driver_path = \"chromedriver.exe\"  # 본인의 실제 경로로 변경해주세요.\n",
    "\n",
    "# 웹 드라이버 초기화\n",
    "driver = webdriver.Chrome(executable_path=chrome_driver_path)\n",
    "\n",
    "# 웹 사이트로 이동\n",
    "driver.get(\"https://www.goeyi.kr/yongin-e/main.do\")\n",
    "time.sleep(1)\n",
    "# id가 \"notice1\"인 요소 찾기\n",
    "notice1_element = driver.find_element(By.CSS_SELECTOR, \"#notice1\")\n",
    "\n",
    "# 공지사항 리스트 가져오기\n",
    "notice_list = notice1_element.find_elements(By.CSS_SELECTOR, \"#notice1 > ul > li > a\")\n",
    "\n",
    "for notice in notice_list:\n",
    "  link = notice.get_attribute(\"href\")\n",
    "  print(notice.get_attribute(\"href\"))\n",
    "\n",
    "  driver.get(link)\n",
    "  time.sleep(2)\n",
    "  title = driver.find_element(By.CSS_SELECTOR, \"#nttViewForm > div:nth-child(31) > h3\").text\n",
    "  print(\"제목:\", title)\n",
    "  content = driver.find_element(By.CSS_SELECTOR, \"#nttViewForm > div:nth-child(32) > div.bbsV_cont\").text \n",
    "  print(\"내용:\", content)\n",
    "  driver.back()\n",
    "  print(\"-\" * 50)"
   ]
  },
  {
   "cell_type": "code",
   "execution_count": null,
   "metadata": {},
   "outputs": [],
   "source": []
  }
 ],
 "metadata": {
  "kernelspec": {
   "display_name": "Python 3",
   "language": "python",
   "name": "python3"
  },
  "language_info": {
   "codemirror_mode": {
    "name": "ipython",
    "version": 3
   },
   "file_extension": ".py",
   "mimetype": "text/x-python",
   "name": "python",
   "nbconvert_exporter": "python",
   "pygments_lexer": "ipython3",
   "version": "3.11.0"
  }
 },
 "nbformat": 4,
 "nbformat_minor": 2
}
