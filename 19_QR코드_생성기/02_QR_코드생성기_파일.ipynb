{
 "cells": [
  {
   "cell_type": "code",
   "execution_count": 3,
   "metadata": {},
   "outputs": [],
   "source": [
    "import qrcode\n",
    "import os\n",
    "\n",
    "# 데이터가 저장된 파일 경로\n",
    "file_path = os.path.join(\"datas\", \"qrdata.txt\")"
   ]
  },
  {
   "cell_type": "code",
   "execution_count": 4,
   "metadata": {},
   "outputs": [],
   "source": [
    "# QR 코드 생성 함수\n",
    "def create_qrcode(data):\n",
    "    # QR 코드 생성\n",
    "    img = qrcode.make(data)\n",
    "\n",
    "    # 이미지 파일로 저장\n",
    "    img_file_path = os.path.join(\"images\", f\"qrcode_{data}.png\")\n",
    "    img.save(img_file_path)"
   ]
  },
  {
   "cell_type": "code",
   "execution_count": 6,
   "metadata": {},
   "outputs": [],
   "source": [
    "# qrdata.txt 파일에서 데이터 읽어오기\n",
    "with open(file_path, 'r', encoding='utf-8') as f:\n",
    "    for line in f:\n",
    "        # 개행 문자 제거\n",
    "        data = line.strip()\n",
    "        create_qrcode(data)"
   ]
  }
 ],
 "metadata": {
  "kernelspec": {
   "display_name": "Python 3",
   "language": "python",
   "name": "python3"
  },
  "language_info": {
   "codemirror_mode": {
    "name": "ipython",
    "version": 3
   },
   "file_extension": ".py",
   "mimetype": "text/x-python",
   "name": "python",
   "nbconvert_exporter": "python",
   "pygments_lexer": "ipython3",
   "version": "3.11.0"
  },
  "orig_nbformat": 4
 },
 "nbformat": 4,
 "nbformat_minor": 2
}
