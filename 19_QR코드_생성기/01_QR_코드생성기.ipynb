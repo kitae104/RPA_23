{
 "cells": [
  {
   "attachments": {},
   "cell_type": "markdown",
   "metadata": {},
   "source": [
    "라이브러리 설치\n",
    "- pip install qrcode"
   ]
  },
  {
   "cell_type": "code",
   "execution_count": 3,
   "metadata": {},
   "outputs": [],
   "source": [
    "import qrcode\n",
    "\n",
    "# QR 코드에 넣을 데이터\n",
    "data = \"교사연수중입니다.\"\n",
    "\n",
    "# QR 코드 생성\n",
    "img = qrcode.make(data)\n",
    "\n",
    "# 이미지 파일로 저장\n",
    "img.save(\"./images/qrcode.png\")"
   ]
  },
  {
   "cell_type": "code",
   "execution_count": null,
   "metadata": {},
   "outputs": [],
   "source": [
    "import qrcode\n",
    "import os\n",
    "\n",
    "# QR 코드에 넣을 데이터\n",
    "data = \"Hello, World!\"\n",
    "\n",
    "# QR 코드 생성\n",
    "img = qrcode.make(data)\n",
    "\n",
    "# 이미지 파일로 저장\n",
    "file_path = os.path.join(\"images\", \"qrcode2.png\")\n",
    "img.save(file_path)"
   ]
  }
 ],
 "metadata": {
  "kernelspec": {
   "display_name": "Python 3",
   "language": "python",
   "name": "python3"
  },
  "language_info": {
   "codemirror_mode": {
    "name": "ipython",
    "version": 3
   },
   "file_extension": ".py",
   "mimetype": "text/x-python",
   "name": "python",
   "nbconvert_exporter": "python",
   "pygments_lexer": "ipython3",
   "version": "3.11.0"
  },
  "orig_nbformat": 4
 },
 "nbformat": 4,
 "nbformat_minor": 2
}
