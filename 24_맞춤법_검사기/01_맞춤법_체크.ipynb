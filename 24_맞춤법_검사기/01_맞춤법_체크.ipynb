{
 "cells": [
  {
   "cell_type": "markdown",
   "metadata": {},
   "source": [
    "1. 한글 띄어쓰기  \n",
    "- pip install git+https://github.com/haven-jeon/PykoSpacing.git\n",
    "\n",
    "2. 한글 맞춤법\n",
    "- pip install git+https://github.com/ssut/py-hanspell.git"
   ]
  },
  {
   "cell_type": "code",
   "execution_count": 1,
   "metadata": {},
   "outputs": [
    {
     "name": "stdout",
     "output_type": "stream",
     "text": [
      "WARNING:tensorflow:From c:\\Python\\311\\Lib\\site-packages\\keras\\src\\losses.py:2976: The name tf.losses.sparse_softmax_cross_entropy is deprecated. Please use tf.compat.v1.losses.sparse_softmax_cross_entropy instead.\n",
      "\n",
      "WARNING:tensorflow:From c:\\Python\\311\\Lib\\site-packages\\keras\\src\\backend.py:1398: The name tf.executing_eagerly_outside_functions is deprecated. Please use tf.compat.v1.executing_eagerly_outside_functions instead.\n",
      "\n"
     ]
    }
   ],
   "source": [
    "from hanspell import spell_checker\n",
    "from pykospacing import Spacing"
   ]
  },
  {
   "cell_type": "code",
   "execution_count": 2,
   "metadata": {},
   "outputs": [],
   "source": [
    "# 맞춤법 검사를 수행하는 함수를 정의합니다.\n",
    "def correct_spelling(text):\n",
    "    # PyKoSpacing 라이브러리를 사용하여 띄어쓰기를 보정합니다.\n",
    "    spacing = Spacing()\n",
    "    text = spacing(text)\n",
    "    # hanspell 라이브러리를 사용하여 맞춤법을 교정합니다.\n",
    "    spelled_sent = spell_checker.check(text)\n",
    "    # 교정된 문장을 반환합니다.\n",
    "    corrected_sent = spelled_sent.checked\n",
    "    return corrected_sent"
   ]
  },
  {
   "cell_type": "code",
   "execution_count": 4,
   "metadata": {},
   "outputs": [
    {
     "ename": "KeyError",
     "evalue": "'result'",
     "output_type": "error",
     "traceback": [
      "\u001b[1;31m---------------------------------------------------------------------------\u001b[0m",
      "\u001b[1;31mKeyError\u001b[0m                                  Traceback (most recent call last)",
      "Cell \u001b[1;32mIn[4], line 3\u001b[0m\n\u001b[0;32m      1\u001b[0m \u001b[38;5;66;03m# 맞춤법 검사를 수행할 문장을 입력합니다.\u001b[39;00m\n\u001b[0;32m      2\u001b[0m sentence \u001b[38;5;241m=\u001b[39m \u001b[38;5;28minput\u001b[39m(\u001b[38;5;124m'\u001b[39m\u001b[38;5;124m문장을 입력하세요: \u001b[39m\u001b[38;5;124m'\u001b[39m)\n\u001b[1;32m----> 3\u001b[0m checked_sentence \u001b[38;5;241m=\u001b[39m \u001b[43mcorrect_spelling\u001b[49m\u001b[43m(\u001b[49m\u001b[43msentence\u001b[49m\u001b[43m)\u001b[49m\n\u001b[0;32m      4\u001b[0m \u001b[38;5;28mprint\u001b[39m(\u001b[38;5;124m'\u001b[39m\u001b[38;5;124m검사 결과:\u001b[39m\u001b[38;5;124m'\u001b[39m, checked_sentence)\n",
      "Cell \u001b[1;32mIn[2], line 7\u001b[0m, in \u001b[0;36mcorrect_spelling\u001b[1;34m(text)\u001b[0m\n\u001b[0;32m      5\u001b[0m text \u001b[38;5;241m=\u001b[39m spacing(text)\n\u001b[0;32m      6\u001b[0m \u001b[38;5;66;03m# hanspell 라이브러리를 사용하여 맞춤법을 교정합니다.\u001b[39;00m\n\u001b[1;32m----> 7\u001b[0m spelled_sent \u001b[38;5;241m=\u001b[39m \u001b[43mspell_checker\u001b[49m\u001b[38;5;241;43m.\u001b[39;49m\u001b[43mcheck\u001b[49m\u001b[43m(\u001b[49m\u001b[43mtext\u001b[49m\u001b[43m)\u001b[49m\n\u001b[0;32m      8\u001b[0m \u001b[38;5;66;03m# 교정된 문장을 반환합니다.\u001b[39;00m\n\u001b[0;32m      9\u001b[0m corrected_sent \u001b[38;5;241m=\u001b[39m spelled_sent\u001b[38;5;241m.\u001b[39mchecked\n",
      "File \u001b[1;32mc:\\Python\\311\\Lib\\site-packages\\hanspell\\spell_checker.py:62\u001b[0m, in \u001b[0;36mcheck\u001b[1;34m(text)\u001b[0m\n\u001b[0;32m     59\u001b[0m passed_time \u001b[38;5;241m=\u001b[39m time\u001b[38;5;241m.\u001b[39mtime() \u001b[38;5;241m-\u001b[39m start_time\n\u001b[0;32m     61\u001b[0m data \u001b[38;5;241m=\u001b[39m json\u001b[38;5;241m.\u001b[39mloads(r\u001b[38;5;241m.\u001b[39mtext)\n\u001b[1;32m---> 62\u001b[0m html \u001b[38;5;241m=\u001b[39m \u001b[43mdata\u001b[49m\u001b[43m[\u001b[49m\u001b[38;5;124;43m'\u001b[39;49m\u001b[38;5;124;43mmessage\u001b[39;49m\u001b[38;5;124;43m'\u001b[39;49m\u001b[43m]\u001b[49m\u001b[43m[\u001b[49m\u001b[38;5;124;43m'\u001b[39;49m\u001b[38;5;124;43mresult\u001b[39;49m\u001b[38;5;124;43m'\u001b[39;49m\u001b[43m]\u001b[49m[\u001b[38;5;124m'\u001b[39m\u001b[38;5;124mhtml\u001b[39m\u001b[38;5;124m'\u001b[39m]\n\u001b[0;32m     63\u001b[0m result \u001b[38;5;241m=\u001b[39m {\n\u001b[0;32m     64\u001b[0m     \u001b[38;5;124m'\u001b[39m\u001b[38;5;124mresult\u001b[39m\u001b[38;5;124m'\u001b[39m: \u001b[38;5;28;01mTrue\u001b[39;00m,\n\u001b[0;32m     65\u001b[0m     \u001b[38;5;124m'\u001b[39m\u001b[38;5;124moriginal\u001b[39m\u001b[38;5;124m'\u001b[39m: text,\n\u001b[1;32m   (...)\u001b[0m\n\u001b[0;32m     69\u001b[0m     \u001b[38;5;124m'\u001b[39m\u001b[38;5;124mwords\u001b[39m\u001b[38;5;124m'\u001b[39m: OrderedDict(),\n\u001b[0;32m     70\u001b[0m }\n\u001b[0;32m     72\u001b[0m \u001b[38;5;66;03m# 띄어쓰기로 구분하기 위해 태그는 일단 보기 쉽게 바꿔둠.\u001b[39;00m\n\u001b[0;32m     73\u001b[0m \u001b[38;5;66;03m# ElementTree의 iter()를 써서 더 좋게 할 수 있는 방법이 있지만\u001b[39;00m\n\u001b[0;32m     74\u001b[0m \u001b[38;5;66;03m# 이 짧은 코드에 굳이 그렇게 할 필요성이 없으므로 일단 문자열을 치환하는 방법으로 작성.\u001b[39;00m\n",
      "\u001b[1;31mKeyError\u001b[0m: 'result'"
     ]
    }
   ],
   "source": [
    "# 맞춤법 검사를 수행할 문장을 입력합니다.\n",
    "sentence = input('문장을 입력하세요: ')\n",
    "checked_sentence = correct_spelling(sentence)\n",
    "print('검사 결과:', checked_sentence)\n"
   ]
  }
 ],
 "metadata": {
  "kernelspec": {
   "display_name": "Python 3",
   "language": "python",
   "name": "python3"
  },
  "language_info": {
   "codemirror_mode": {
    "name": "ipython",
    "version": 3
   },
   "file_extension": ".py",
   "mimetype": "text/x-python",
   "name": "python",
   "nbconvert_exporter": "python",
   "pygments_lexer": "ipython3",
   "version": "3.11.6"
  }
 },
 "nbformat": 4,
 "nbformat_minor": 2
}
