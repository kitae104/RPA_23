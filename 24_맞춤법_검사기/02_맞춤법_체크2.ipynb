{
 "cells": [
  {
   "cell_type": "markdown",
   "metadata": {},
   "source": [
    "1. pip install kiwipiepy PyKoSpacing"
   ]
  },
  {
   "cell_type": "code",
   "execution_count": 3,
   "metadata": {},
   "outputs": [],
   "source": [
    "from pykospacing import Spacing\n",
    "from hanspell import spell_checker\n",
    "import json"
   ]
  },
  {
   "cell_type": "code",
   "execution_count": 4,
   "metadata": {},
   "outputs": [
    {
     "name": "stdout",
     "output_type": "stream",
     "text": [
      "KeyError: 'result'\n",
      "맞춤법 검사가 완료되었습니다. 수정된 파일은 ./수정맞춤법.txt에 저장되었습니다.\n"
     ]
    }
   ],
   "source": [
    "# 맞춤법 검사를 수행할 파일 경로를 지정합니다.\n",
    "input_path = \"./틀린맞춤법.txt\"\n",
    "# 수정된 맞춤법을 저장할 파일 경로를 지정합니다.\n",
    "output_path = \"./수정맞춤법.txt\"\n",
    "\n",
    "def correct_text(text):\n",
    "    # 띄어쓰기 교정을 위해 PyKoSpacing 사용\n",
    "    spacing = Spacing()\n",
    "    spaced_text = spacing(text)\n",
    "\n",
    "    # 맞춤법 교정을 위해 hanspell 사용\n",
    "    try:\n",
    "        spelled_sent = spell_checker.check(spaced_text)\n",
    "        corrected_text = spelled_sent.checked\n",
    "    except KeyError as e:\n",
    "        print(f\"KeyError: {e}\")\n",
    "        corrected_text = spaced_text\n",
    "    except Exception as e:\n",
    "        print(f\"An error occurred: {e}\")\n",
    "        corrected_text = spaced_text\n",
    "\n",
    "    return corrected_text\n",
    "\n",
    "# 입력 파일을 읽어서 맞춤법을 보정한 뒤 출력 파일에 저장합니다.\n",
    "with open(input_path, \"r\", encoding=\"utf-8\") as f:\n",
    "    text = f.read()\n",
    "    corrected_text = correct_text(text)\n",
    "\n",
    "with open(output_path, \"w\", encoding=\"utf-8\") as f:\n",
    "    f.write(corrected_text)\n",
    "\n",
    "print(f\"맞춤법 검사가 완료되었습니다. 수정된 파일은 {output_path}에 저장되었습니다.\")"
   ]
  }
 ],
 "metadata": {
  "kernelspec": {
   "display_name": "Python 3",
   "language": "python",
   "name": "python3"
  },
  "language_info": {
   "codemirror_mode": {
    "name": "ipython",
    "version": 3
   },
   "file_extension": ".py",
   "mimetype": "text/x-python",
   "name": "python",
   "nbconvert_exporter": "python",
   "pygments_lexer": "ipython3",
   "version": "3.11.6"
  }
 },
 "nbformat": 4,
 "nbformat_minor": 2
}
