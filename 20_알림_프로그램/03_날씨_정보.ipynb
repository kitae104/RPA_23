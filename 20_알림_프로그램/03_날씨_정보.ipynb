{
 "cells": [
  {
   "cell_type": "code",
   "execution_count": 1,
   "metadata": {},
   "outputs": [],
   "source": [
    "import requests\n",
    "import schedule\n",
    "import time\n",
    "from win10toast import ToastNotifier\n",
    "\n",
    "from selenium import webdriver\n",
    "from selenium.webdriver.chrome.service import Service\n",
    "from selenium.webdriver.chrome.options import Options\n",
    "from selenium.webdriver.common.by import By\n",
    "from webdriver_manager.chrome import ChromeDriverManager"
   ]
  },
  {
   "cell_type": "code",
   "execution_count": 2,
   "metadata": {},
   "outputs": [],
   "source": [
    "options = Options()\n",
    "options.add_experimental_option(\"detach\", True)\n",
    "service = Service(ChromeDriverManager().install())\n",
    "browser = webdriver.Chrome(service=service, options=options)"
   ]
  },
  {
   "cell_type": "code",
   "execution_count": 14,
   "metadata": {},
   "outputs": [],
   "source": [
    "toaster = ToastNotifier()"
   ]
  },
  {
   "cell_type": "code",
   "execution_count": 17,
   "metadata": {},
   "outputs": [
    {
     "name": "stdout",
     "output_type": "stream",
     "text": [
      "무더위에 '폭염 특보'…낮 최고기온 35도[오늘날씨]\n",
      "맑고 더운 날씨 계속…최고 35도 '폭염 주의'\n",
      "[날씨] 내륙 사흘째 폭염주의보...불볕더위 절정, 서울 35℃\n",
      "[날씨] 전국 곳곳 폭염 특보…낮 최고 35도\n"
     ]
    },
    {
     "name": "stderr",
     "output_type": "stream",
     "text": [
      "WNDPROC return value cannot be converted to LRESULT\n"
     ]
    },
    {
     "ename": "TypeError",
     "evalue": "WPARAM is simple, so must be an int object (got NoneType)",
     "output_type": "error",
     "traceback": [
      "\u001b[1;31m---------------------------------------------------------------------------\u001b[0m",
      "\u001b[1;31mTypeError\u001b[0m                                 Traceback (most recent call last)",
      "\u001b[1;31mTypeError\u001b[0m: WPARAM is simple, so must be an int object (got NoneType)"
     ]
    }
   ],
   "source": [
    "alert_str = \"\";\n",
    "browser.get('https://search.naver.com/search.naver?sm=top_hty&fbm=1&ie=utf8&query=날씨')\n",
    "\n",
    "#검색이 지연될 경우 대비\n",
    "time.sleep(1)\n",
    "\n",
    "news_elements = browser.find_elements(By.CLASS_NAME, 'news_tit')\n",
    "#print(len(news_elements))\n",
    "\n",
    "news_list = []\n",
    "alert_str = \"\"\n",
    "\n",
    "for i in range(len(news_elements)):\n",
    "    news_title = news_elements[i].get_attribute(\"title\")\n",
    "    print(news_title)\n",
    "    news_list.append(news_title)\n",
    "    alert_str += news_title + \"\\n\"\n",
    "\n",
    "toaster.show_toast(\"Sample Notification\", alert_str)\n",
    "time.sleep(1)"
   ]
  }
 ],
 "metadata": {
  "kernelspec": {
   "display_name": "Python 3",
   "language": "python",
   "name": "python3"
  },
  "language_info": {
   "codemirror_mode": {
    "name": "ipython",
    "version": 3
   },
   "file_extension": ".py",
   "mimetype": "text/x-python",
   "name": "python",
   "nbconvert_exporter": "python",
   "pygments_lexer": "ipython3",
   "version": "3.11.0"
  },
  "orig_nbformat": 4
 },
 "nbformat": 4,
 "nbformat_minor": 2
}
