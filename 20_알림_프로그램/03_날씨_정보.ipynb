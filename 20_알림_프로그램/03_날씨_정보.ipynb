{
 "cells": [
  {
   "cell_type": "code",
   "execution_count": 2,
   "metadata": {},
   "outputs": [],
   "source": [
    "import requests\n",
    "import schedule\n",
    "import time\n",
    "from win10toast import ToastNotifier\n",
    "\n",
    "from selenium import webdriver\n",
    "from selenium.webdriver.chrome.service import Service\n",
    "from selenium.webdriver.chrome.options import Options\n",
    "from selenium.webdriver.common.by import By\n",
    "from webdriver_manager.chrome import ChromeDriverManager"
   ]
  },
  {
   "cell_type": "code",
   "execution_count": 3,
   "metadata": {},
   "outputs": [],
   "source": [
    "options = Options()\n",
    "options.add_experimental_option(\"detach\", True)\n",
    "service = Service(ChromeDriverManager().install())\n",
    "browser = webdriver.Chrome(service=service, options=options)"
   ]
  },
  {
   "cell_type": "code",
   "execution_count": 4,
   "metadata": {},
   "outputs": [],
   "source": [
    "toaster = ToastNotifier()"
   ]
  },
  {
   "cell_type": "code",
   "execution_count": 5,
   "metadata": {},
   "outputs": [
    {
     "name": "stdout",
     "output_type": "stream",
     "text": [
      "[날씨] 다시 장마 시작…수도권 최대 150㎜ 많은 비\n",
      "중부지방 중심 전국 곳곳 비…시간당 최대 60㎜[내일날씨]\n",
      "[날씨] 밤사이 남부에 물 폭탄...내일 다시 중부 호우\n",
      "낮에 수도권부터 강하고 많은 비…제주 최대 250㎜[내일날씨]\n"
     ]
    },
    {
     "name": "stderr",
     "output_type": "stream",
     "text": [
      "WNDPROC return value cannot be converted to LRESULT\n"
     ]
    }
   ],
   "source": [
    "alert_str = \"\";\n",
    "browser.get('https://search.naver.com/search.naver?sm=top_hty&fbm=1&ie=utf8&query=날씨')\n",
    "\n",
    "#검색이 지연될 경우 대비\n",
    "time.sleep(1)\n",
    "\n",
    "news_elements = browser.find_elements(By.CLASS_NAME, 'news_tit')\n",
    "#print(len(news_elements))\n",
    "\n",
    "news_list = []\n",
    "alert_str = \"\"\n",
    "\n",
    "for i in range(len(news_elements)):\n",
    "    news_title = news_elements[i].get_attribute(\"title\")\n",
    "    print(news_title)\n",
    "    news_list.append(news_title)\n",
    "    alert_str += news_title + \"\\n\"\n",
    "\n",
    "toaster.show_toast(\"Sample Notification\", alert_str, duration=10, threaded=True)\n",
    "time.sleep(1)"
   ]
  }
 ],
 "metadata": {
  "kernelspec": {
   "display_name": "Python 3.11.1 64-bit",
   "language": "python",
   "name": "python3"
  },
  "language_info": {
   "codemirror_mode": {
    "name": "ipython",
    "version": 3
   },
   "file_extension": ".py",
   "mimetype": "text/x-python",
   "name": "python",
   "nbconvert_exporter": "python",
   "pygments_lexer": "ipython3",
   "version": "3.11.1"
  },
  "orig_nbformat": 4,
  "vscode": {
   "interpreter": {
    "hash": "81eef19b52451e11e3f8bf6bc518dd5f147d5a651198624c9c211c83ec7c4923"
   }
  }
 },
 "nbformat": 4,
 "nbformat_minor": 2
}
