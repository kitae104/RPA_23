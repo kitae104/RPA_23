{
 "cells": [
  {
   "cell_type": "code",
   "execution_count": 4,
   "metadata": {},
   "outputs": [],
   "source": [
    "# parser.py\n",
    "import requests\n",
    "import schedule\n",
    "import time\n",
    "from win10toast import ToastNotifier\n",
    "\n",
    "from selenium import webdriver\n",
    "from selenium.webdriver.chrome.service import Service\n",
    "from selenium.webdriver.chrome.options import Options\n",
    "from selenium.webdriver.common.by import By\n",
    "from webdriver_manager.chrome import ChromeDriverManager"
   ]
  },
  {
   "cell_type": "code",
   "execution_count": 7,
   "metadata": {},
   "outputs": [],
   "source": [
    "options = Options()\n",
    "options.add_experimental_option(\"detach\", True)\n",
    "service = Service(ChromeDriverManager().install())\n",
    "browser = webdriver.Chrome(service=service, options=options)"
   ]
  },
  {
   "cell_type": "code",
   "execution_count": 8,
   "metadata": {},
   "outputs": [],
   "source": [
    "news_list = []\n",
    "\n",
    "toaster = ToastNotifier()\n",
    "\n",
    "browser.set_window_size(1120, 550)"
   ]
  },
  {
   "cell_type": "code",
   "execution_count": 10,
   "metadata": {},
   "outputs": [],
   "source": [
    "def searchUpdate():\n",
    "\n",
    "\talert_str = \"\";\n",
    "\tbrowser.get('https://search.naver.com/search.naver?sm=top_hty&fbm=1&ie=utf8&query=날씨')\n",
    "\n",
    "\t#검색이 지연될 경우 대비\n",
    "\ttime.sleep(1)\n",
    "\n",
    "\t#페이지 이동이 필요할 경우 클릭 이벤트로 접근할 수도 있다.\n",
    "\t#tab = browser.find_elements_by_class_name(\"tab__item\")\n",
    "\t#tab[1].click()\n",
    "\t\t\n",
    "\tnews_element = browser.find_element(By.CLASS_NAME, \"_prs_nws_all\").find_element(By.TAG_NAME, \"dt\")\n",
    "\tprint(news_element.text)\n",
    "\n",
    "\n",
    "\t#for i in range(len(news_element)):\n",
    "\t#\tnews_title = news_element[i].find_element(By.TAG_NAME, \"a\").get_attribute(\"title\")\n",
    "\t#\tif not news_title in news_list:\n",
    "\t#\t\tnews_list.append(news_title)\n",
    "\t#\t\talert_str += news_title;\n",
    "\t#\t\talert_str += \"\\n\";\n",
    "\t#\t\tprint(news_title)\n",
    "\n",
    "\t#toaster.show_toast(\"Sample Notification\",alert_str)"
   ]
  },
  {
   "cell_type": "code",
   "execution_count": 12,
   "metadata": {},
   "outputs": [
    {
     "ename": "AttributeError",
     "evalue": "'WebDriver' object has no attribute 'find_element_by_class_name'",
     "output_type": "error",
     "traceback": [
      "\u001b[1;31m---------------------------------------------------------------------------\u001b[0m",
      "\u001b[1;31mAttributeError\u001b[0m                            Traceback (most recent call last)",
      "\u001b[1;32me:\\Github\\JPA_WS\\RPA_23\\20_알림_프로그램\\02_날씨_알람.ipynb 셀 5\u001b[0m in \u001b[0;36m4\n\u001b[0;32m      <a href='vscode-notebook-cell:/e%3A/Github/JPA_WS/RPA_23/20_%EC%95%8C%EB%A6%BC_%ED%94%84%EB%A1%9C%EA%B7%B8%EB%9E%A8/02_%EB%82%A0%EC%94%A8_%EC%95%8C%EB%9E%8C.ipynb#W4sZmlsZQ%3D%3D?line=0'>1</a>\u001b[0m schedule\u001b[39m.\u001b[39mevery(\u001b[39m1\u001b[39m)\u001b[39m.\u001b[39mminutes\u001b[39m.\u001b[39mdo(searchUpdate)\n\u001b[0;32m      <a href='vscode-notebook-cell:/e%3A/Github/JPA_WS/RPA_23/20_%EC%95%8C%EB%A6%BC_%ED%94%84%EB%A1%9C%EA%B7%B8%EB%9E%A8/02_%EB%82%A0%EC%94%A8_%EC%95%8C%EB%9E%8C.ipynb#W4sZmlsZQ%3D%3D?line=2'>3</a>\u001b[0m \u001b[39mwhile\u001b[39;00m \u001b[39m1\u001b[39m:\n\u001b[1;32m----> <a href='vscode-notebook-cell:/e%3A/Github/JPA_WS/RPA_23/20_%EC%95%8C%EB%A6%BC_%ED%94%84%EB%A1%9C%EA%B7%B8%EB%9E%A8/02_%EB%82%A0%EC%94%A8_%EC%95%8C%EB%9E%8C.ipynb#W4sZmlsZQ%3D%3D?line=3'>4</a>\u001b[0m     schedule\u001b[39m.\u001b[39;49mrun_pending()\n\u001b[0;32m      <a href='vscode-notebook-cell:/e%3A/Github/JPA_WS/RPA_23/20_%EC%95%8C%EB%A6%BC_%ED%94%84%EB%A1%9C%EA%B7%B8%EB%9E%A8/02_%EB%82%A0%EC%94%A8_%EC%95%8C%EB%9E%8C.ipynb#W4sZmlsZQ%3D%3D?line=4'>5</a>\u001b[0m     time\u001b[39m.\u001b[39msleep(\u001b[39m1\u001b[39m)\n",
      "File \u001b[1;32mc:\\Python\\311\\Lib\\site-packages\\schedule\\__init__.py:780\u001b[0m, in \u001b[0;36mrun_pending\u001b[1;34m()\u001b[0m\n\u001b[0;32m    776\u001b[0m \u001b[39mdef\u001b[39;00m \u001b[39mrun_pending\u001b[39m() \u001b[39m-\u001b[39m\u001b[39m>\u001b[39m \u001b[39mNone\u001b[39;00m:\n\u001b[0;32m    777\u001b[0m     \u001b[39m\"\"\"Calls :meth:`run_pending <Scheduler.run_pending>` on the\u001b[39;00m\n\u001b[0;32m    778\u001b[0m \u001b[39m    :data:`default scheduler instance <default_scheduler>`.\u001b[39;00m\n\u001b[0;32m    779\u001b[0m \u001b[39m    \"\"\"\u001b[39;00m\n\u001b[1;32m--> 780\u001b[0m     default_scheduler\u001b[39m.\u001b[39;49mrun_pending()\n",
      "File \u001b[1;32mc:\\Python\\311\\Lib\\site-packages\\schedule\\__init__.py:100\u001b[0m, in \u001b[0;36mScheduler.run_pending\u001b[1;34m(self)\u001b[0m\n\u001b[0;32m     98\u001b[0m runnable_jobs \u001b[39m=\u001b[39m (job \u001b[39mfor\u001b[39;00m job \u001b[39min\u001b[39;00m \u001b[39mself\u001b[39m\u001b[39m.\u001b[39mjobs \u001b[39mif\u001b[39;00m job\u001b[39m.\u001b[39mshould_run)\n\u001b[0;32m     99\u001b[0m \u001b[39mfor\u001b[39;00m job \u001b[39min\u001b[39;00m \u001b[39msorted\u001b[39m(runnable_jobs):\n\u001b[1;32m--> 100\u001b[0m     \u001b[39mself\u001b[39;49m\u001b[39m.\u001b[39;49m_run_job(job)\n",
      "File \u001b[1;32mc:\\Python\\311\\Lib\\site-packages\\schedule\\__init__.py:172\u001b[0m, in \u001b[0;36mScheduler._run_job\u001b[1;34m(self, job)\u001b[0m\n\u001b[0;32m    171\u001b[0m \u001b[39mdef\u001b[39;00m \u001b[39m_run_job\u001b[39m(\u001b[39mself\u001b[39m, job: \u001b[39m\"\u001b[39m\u001b[39mJob\u001b[39m\u001b[39m\"\u001b[39m) \u001b[39m-\u001b[39m\u001b[39m>\u001b[39m \u001b[39mNone\u001b[39;00m:\n\u001b[1;32m--> 172\u001b[0m     ret \u001b[39m=\u001b[39m job\u001b[39m.\u001b[39;49mrun()\n\u001b[0;32m    173\u001b[0m     \u001b[39mif\u001b[39;00m \u001b[39misinstance\u001b[39m(ret, CancelJob) \u001b[39mor\u001b[39;00m ret \u001b[39mis\u001b[39;00m CancelJob:\n\u001b[0;32m    174\u001b[0m         \u001b[39mself\u001b[39m\u001b[39m.\u001b[39mcancel_job(job)\n",
      "File \u001b[1;32mc:\\Python\\311\\Lib\\site-packages\\schedule\\__init__.py:661\u001b[0m, in \u001b[0;36mJob.run\u001b[1;34m(self)\u001b[0m\n\u001b[0;32m    658\u001b[0m     \u001b[39mreturn\u001b[39;00m CancelJob\n\u001b[0;32m    660\u001b[0m logger\u001b[39m.\u001b[39mdebug(\u001b[39m\"\u001b[39m\u001b[39mRunning job \u001b[39m\u001b[39m%s\u001b[39;00m\u001b[39m\"\u001b[39m, \u001b[39mself\u001b[39m)\n\u001b[1;32m--> 661\u001b[0m ret \u001b[39m=\u001b[39m \u001b[39mself\u001b[39;49m\u001b[39m.\u001b[39;49mjob_func()\n\u001b[0;32m    662\u001b[0m \u001b[39mself\u001b[39m\u001b[39m.\u001b[39mlast_run \u001b[39m=\u001b[39m datetime\u001b[39m.\u001b[39mdatetime\u001b[39m.\u001b[39mnow()\n\u001b[0;32m    663\u001b[0m \u001b[39mself\u001b[39m\u001b[39m.\u001b[39m_schedule_next_run()\n",
      "\u001b[1;32me:\\Github\\JPA_WS\\RPA_23\\20_알림_프로그램\\02_날씨_알람.ipynb 셀 5\u001b[0m in \u001b[0;36m3\n\u001b[0;32m     <a href='vscode-notebook-cell:/e%3A/Github/JPA_WS/RPA_23/20_%EC%95%8C%EB%A6%BC_%ED%94%84%EB%A1%9C%EA%B7%B8%EB%9E%A8/02_%EB%82%A0%EC%94%A8_%EC%95%8C%EB%9E%8C.ipynb#W4sZmlsZQ%3D%3D?line=23'>24</a>\u001b[0m time\u001b[39m.\u001b[39msleep(\u001b[39m1\u001b[39m)\n\u001b[0;32m     <a href='vscode-notebook-cell:/e%3A/Github/JPA_WS/RPA_23/20_%EC%95%8C%EB%A6%BC_%ED%94%84%EB%A1%9C%EA%B7%B8%EB%9E%A8/02_%EB%82%A0%EC%94%A8_%EC%95%8C%EB%9E%8C.ipynb#W4sZmlsZQ%3D%3D?line=25'>26</a>\u001b[0m \u001b[39m#페이지 이동이 필요할 경우 클릭 이벤트로 접근할 수도 있다.\u001b[39;00m\n\u001b[0;32m     <a href='vscode-notebook-cell:/e%3A/Github/JPA_WS/RPA_23/20_%EC%95%8C%EB%A6%BC_%ED%94%84%EB%A1%9C%EA%B7%B8%EB%9E%A8/02_%EB%82%A0%EC%94%A8_%EC%95%8C%EB%9E%8C.ipynb#W4sZmlsZQ%3D%3D?line=26'>27</a>\u001b[0m \u001b[39m#tab = browser.find_elements_by_class_name(\"tab__item\")\u001b[39;00m\n\u001b[0;32m     <a href='vscode-notebook-cell:/e%3A/Github/JPA_WS/RPA_23/20_%EC%95%8C%EB%A6%BC_%ED%94%84%EB%A1%9C%EA%B7%B8%EB%9E%A8/02_%EB%82%A0%EC%94%A8_%EC%95%8C%EB%9E%8C.ipynb#W4sZmlsZQ%3D%3D?line=27'>28</a>\u001b[0m \u001b[39m#tab[1].click()\u001b[39;00m\n\u001b[1;32m---> <a href='vscode-notebook-cell:/e%3A/Github/JPA_WS/RPA_23/20_%EC%95%8C%EB%A6%BC_%ED%94%84%EB%A1%9C%EA%B7%B8%EB%9E%A8/02_%EB%82%A0%EC%94%A8_%EC%95%8C%EB%9E%8C.ipynb#W4sZmlsZQ%3D%3D?line=29'>30</a>\u001b[0m news_element \u001b[39m=\u001b[39m browser\u001b[39m.\u001b[39;49mfind_element_by_class_name(\u001b[39m\"\u001b[39m\u001b[39m_prs_nws_all\u001b[39m\u001b[39m\"\u001b[39m)\u001b[39m.\u001b[39mfind_elements_by_tag_name(\u001b[39m\"\u001b[39m\u001b[39mdt\u001b[39m\u001b[39m\"\u001b[39m)\n\u001b[0;32m     <a href='vscode-notebook-cell:/e%3A/Github/JPA_WS/RPA_23/20_%EC%95%8C%EB%A6%BC_%ED%94%84%EB%A1%9C%EA%B7%B8%EB%9E%A8/02_%EB%82%A0%EC%94%A8_%EC%95%8C%EB%9E%8C.ipynb#W4sZmlsZQ%3D%3D?line=31'>32</a>\u001b[0m \u001b[39mfor\u001b[39;00m i \u001b[39min\u001b[39;00m \u001b[39mrange\u001b[39m(\u001b[39mlen\u001b[39m(news_element)):\n\u001b[0;32m     <a href='vscode-notebook-cell:/e%3A/Github/JPA_WS/RPA_23/20_%EC%95%8C%EB%A6%BC_%ED%94%84%EB%A1%9C%EA%B7%B8%EB%9E%A8/02_%EB%82%A0%EC%94%A8_%EC%95%8C%EB%9E%8C.ipynb#W4sZmlsZQ%3D%3D?line=32'>33</a>\u001b[0m \tnews_title \u001b[39m=\u001b[39m news_element[i]\u001b[39m.\u001b[39mfind_element_by_tag_name(\u001b[39m\"\u001b[39m\u001b[39ma\u001b[39m\u001b[39m\"\u001b[39m)\u001b[39m.\u001b[39mget_attribute(\u001b[39m\"\u001b[39m\u001b[39mtitle\u001b[39m\u001b[39m\"\u001b[39m)\n",
      "\u001b[1;31mAttributeError\u001b[0m: 'WebDriver' object has no attribute 'find_element_by_class_name'"
     ]
    }
   ],
   "source": [
    "schedule.every(1).minutes.do(searchUpdate)\n",
    "\n",
    "while 1:\n",
    "    schedule.run_pending()\n",
    "    time.sleep(1)"
   ]
  }
 ],
 "metadata": {
  "kernelspec": {
   "display_name": "Python 3",
   "language": "python",
   "name": "python3"
  },
  "language_info": {
   "codemirror_mode": {
    "name": "ipython",
    "version": 3
   },
   "file_extension": ".py",
   "mimetype": "text/x-python",
   "name": "python",
   "nbconvert_exporter": "python",
   "pygments_lexer": "ipython3",
   "version": "3.11.0"
  },
  "orig_nbformat": 4
 },
 "nbformat": 4,
 "nbformat_minor": 2
}
