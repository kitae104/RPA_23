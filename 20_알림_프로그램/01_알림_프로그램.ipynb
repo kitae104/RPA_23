{
 "cells": [
  {
   "attachments": {},
   "cell_type": "markdown",
   "metadata": {},
   "source": [
    "라이브러리 설치 \n",
    "- pip install win10toast"
   ]
  },
  {
   "cell_type": "code",
   "execution_count": 1,
   "metadata": {},
   "outputs": [
    {
     "name": "stderr",
     "output_type": "stream",
     "text": [
      "WNDPROC return value cannot be converted to LRESULT\n"
     ]
    },
    {
     "ename": "TypeError",
     "evalue": "WPARAM is simple, so must be an int object (got NoneType)",
     "output_type": "error",
     "traceback": [
      "\u001b[1;31m---------------------------------------------------------------------------\u001b[0m",
      "\u001b[1;31mTypeError\u001b[0m                                 Traceback (most recent call last)",
      "\u001b[1;31mTypeError\u001b[0m: WPARAM is simple, so must be an int object (got NoneType)"
     ]
    },
    {
     "data": {
      "text/plain": [
       "True"
      ]
     },
     "execution_count": 1,
     "metadata": {},
     "output_type": "execute_result"
    }
   ],
   "source": [
    "from win10toast import ToastNotifier\n",
    "\n",
    "toaster = ToastNotifier()\n",
    "toaster.show_toast(\"제목\", \"내용\")"
   ]
  },
  {
   "cell_type": "code",
   "execution_count": 2,
   "metadata": {},
   "outputs": [
    {
     "name": "stderr",
     "output_type": "stream",
     "text": [
      "WNDPROC return value cannot be converted to LRESULT\n"
     ]
    },
    {
     "ename": "TypeError",
     "evalue": "WPARAM is simple, so must be an int object (got NoneType)",
     "output_type": "error",
     "traceback": [
      "\u001b[1;31m---------------------------------------------------------------------------\u001b[0m",
      "\u001b[1;31mTypeError\u001b[0m                                 Traceback (most recent call last)",
      "\u001b[1;31mTypeError\u001b[0m: WPARAM is simple, so must be an int object (got NoneType)"
     ]
    }
   ],
   "source": [
    "from win10toast import ToastNotifier\n",
    "\n",
    "def show_toast(title, message, duration):\n",
    "    toaster = ToastNotifier()\n",
    "    toaster.show_toast(title, message, duration=duration)\n",
    "\n",
    "# 토스트 알림 표시\n",
    "show_toast(\"알림\", \"새로운 메시지가 도착했습니다.\", duration=10)"
   ]
  }
 ],
 "metadata": {
  "kernelspec": {
   "display_name": "Python 3",
   "language": "python",
   "name": "python3"
  },
  "language_info": {
   "codemirror_mode": {
    "name": "ipython",
    "version": 3
   },
   "file_extension": ".py",
   "mimetype": "text/x-python",
   "name": "python",
   "nbconvert_exporter": "python",
   "pygments_lexer": "ipython3",
   "version": "3.11.0"
  },
  "orig_nbformat": 4
 },
 "nbformat": 4,
 "nbformat_minor": 2
}
