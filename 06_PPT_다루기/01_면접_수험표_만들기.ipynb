{
 "cells": [
  {
   "attachments": {},
   "cell_type": "markdown",
   "metadata": {},
   "source": [
    "1. 데이터 생성해서 엑셀로 저장하기"
   ]
  },
  {
   "cell_type": "code",
   "execution_count": 3,
   "metadata": {},
   "outputs": [
    {
     "name": "stdout",
     "output_type": "stream",
     "text": [
      "['이지은', '민영자', '이현지', '최정순', '윤영미', '강현정', '남현준', '김성진', '김미숙', '김옥순']\n",
      "['2022-001', '2022-002', '2022-003', '2022-004', '2022-005', '2022-006', '2022-007', '2022-008', '2022-009', '2022-010']\n"
     ]
    }
   ],
   "source": [
    "from faker import Faker\n",
    "import pandas as pd\n",
    "\n",
    "fake = Faker(\"ko_KR\")   # 한국어로 가짜 데이터 생성\n",
    "\n",
    "name_list = [fake.name() for i in range(10)]\n",
    "no_list = [\"2022-\" + str(i+1).zfill(3) for i in range(10)]\n",
    "\n",
    "print(name_list)\n",
    "print(no_list)\n",
    "\n",
    "df = pd.DataFrame({ '이름' :  name_list,\n",
    "                    '수험번호' :  no_list})\n",
    "\n",
    "df.to_excel('수험번호.xlsx')"
   ]
  },
  {
   "attachments": {},
   "cell_type": "markdown",
   "metadata": {},
   "source": [
    "2. 판다스로 엑셀 파일 읽고 리스트로 저장하는 코드 작성하기"
   ]
  },
  {
   "cell_type": "code",
   "execution_count": 6,
   "metadata": {},
   "outputs": [
    {
     "name": "stdout",
     "output_type": "stream",
     "text": [
      "이름: ['이지은', '민영자', '이현지', '최정순', '윤영미', '강현정', '남현준', '김성진', '김미숙', '김옥순']\n",
      "수험번호: ['2022-001', '2022-002', '2022-003', '2022-004', '2022-005', '2022-006', '2022-007', '2022-008', '2022-009', '2022-010']\n",
      "이지은 2022-001\n",
      "민영자 2022-002\n",
      "이현지 2022-003\n",
      "최정순 2022-004\n",
      "윤영미 2022-005\n",
      "강현정 2022-006\n",
      "남현준 2022-007\n",
      "김성진 2022-008\n",
      "김미숙 2022-009\n",
      "김옥순 2022-010\n"
     ]
    }
   ],
   "source": [
    "df = pd.read_excel(\"수험번호.xlsx\")\n",
    "\n",
    "name_list = df['이름'].to_list()\n",
    "no_list = df['수험번호'].to_list()\n",
    "\n",
    "print(\"이름:\",name_list)\n",
    "print(\"수험번호:\",no_list)\n",
    "\n",
    "for i in range(len(name_list)):\n",
    "    print(name_list[i], no_list[i])"
   ]
  },
  {
   "attachments": {},
   "cell_type": "markdown",
   "metadata": {},
   "source": [
    "3. 반복 가능한 객체를 이용하여 데이터 가져오기"
   ]
  },
  {
   "cell_type": "code",
   "execution_count": 5,
   "metadata": {},
   "outputs": [
    {
     "name": "stdout",
     "output_type": "stream",
     "text": [
      "이지은 2022-001\n",
      "민영자 2022-002\n",
      "이현지 2022-003\n",
      "최정순 2022-004\n",
      "윤영미 2022-005\n",
      "강현정 2022-006\n",
      "남현준 2022-007\n",
      "김성진 2022-008\n",
      "김미숙 2022-009\n",
      "김옥순 2022-010\n"
     ]
    }
   ],
   "source": [
    "name = iter(name_list)\n",
    "no = iter(no_list)\n",
    "\n",
    "for i in range(10):\n",
    "    print(next(name), next(no))"
   ]
  },
  {
   "attachments": {},
   "cell_type": "markdown",
   "metadata": {},
   "source": [
    "4. PPT에서 글자 읽기\n",
    "- pip install python-pptx"
   ]
  },
  {
   "cell_type": "code",
   "execution_count": 8,
   "metadata": {},
   "outputs": [
    {
     "name": "stdout",
     "output_type": "stream",
     "text": [
      "수험표\n",
      "수험번호\n",
      "인하공업전문대학\n",
      "이름\n",
      "수험표\n",
      "수험번호\n",
      "인하공업전문대학\n",
      "이름\n"
     ]
    }
   ],
   "source": [
    "from pptx import Presentation \n",
    "from pptx.util import Pt\n",
    "\n",
    "prs = Presentation('./data/수험표_샘플.pptx')\n",
    "\n",
    "for slide in prs.slides:\n",
    "    for shape in slide.shapes:\n",
    "        if shape.shape_type == 17:   # 17: 글자\n",
    "            print(shape.text)\n",
    "            \n",
    "\n"
   ]
  }
 ],
 "metadata": {
  "kernelspec": {
   "display_name": "Python 3",
   "language": "python",
   "name": "python3"
  },
  "language_info": {
   "codemirror_mode": {
    "name": "ipython",
    "version": 3
   },
   "file_extension": ".py",
   "mimetype": "text/x-python",
   "name": "python",
   "nbconvert_exporter": "python",
   "pygments_lexer": "ipython3",
   "version": "3.11.0"
  },
  "orig_nbformat": 4
 },
 "nbformat": 4,
 "nbformat_minor": 2
}
