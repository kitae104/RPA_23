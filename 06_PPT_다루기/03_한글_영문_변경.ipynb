{
 "cells": [
  {
   "attachments": {},
   "cell_type": "markdown",
   "metadata": {},
   "source": [
    "1. 라이브러리 설치 \n",
    "- pip install python-pptx\n",
    "- pip install googletrans==4.0.0-rc1"
   ]
  },
  {
   "cell_type": "code",
   "execution_count": 5,
   "metadata": {},
   "outputs": [
    {
     "name": "stdout",
     "output_type": "stream",
     "text": [
      "행복하세요 => be happy\n",
      "I am happy => 나는 행복하다\n"
     ]
    }
   ],
   "source": [
    "from googletrans import Translator\n",
    "\n",
    "translator = Translator()\n",
    "\n",
    "str1 = \"행복하세요\" \n",
    "result1 = translator.translate(str1, dest='en', src='auto') \n",
    "print(f\"행복하세요 => {result1.text}\") \n",
    "\n",
    "str2 = \"I am happy\" \n",
    "result2 = translator.translate(str2, dest='ko', src='en') \n",
    "print(f\"I am happy => {result2.text}\")"
   ]
  },
  {
   "attachments": {},
   "cell_type": "markdown",
   "metadata": {},
   "source": [
    "2. PPT에서 글자 읽기"
   ]
  },
  {
   "cell_type": "code",
   "execution_count": 6,
   "metadata": {},
   "outputs": [
    {
     "name": "stdout",
     "output_type": "stream",
     "text": [
      "한글 제목\n",
      "안녕하세요. 두번째 슬라이드 입니다.\n",
      "오늘은 날씨가 좋습니다.\n",
      "행복하세요.\n",
      "세번째 슬라이드 입니다.\n",
      "소 잃고 외양간 고친다.\n",
      "호랑이에게 물려가도 정신만 바짝 차리면 산다.\n",
      "\n"
     ]
    }
   ],
   "source": [
    "from pptx import Presentation \n",
    "from pptx.util import Pt\n",
    "\n",
    "prs = Presentation(\"./data/한글.pptx\")\n",
    "\n",
    "for slide in prs.slides:\n",
    "    for shape in slide.shapes:\n",
    "        if shape.shape_type == 14 or shape.shape_type == 17:\n",
    "            print(shape.text)"
   ]
  },
  {
   "attachments": {},
   "cell_type": "markdown",
   "metadata": {},
   "source": [
    "3. PPT에서 읽은 한글을 영문으로 번역하기 -> PPT 파일로 저장하기"
   ]
  },
  {
   "cell_type": "code",
   "execution_count": 8,
   "metadata": {},
   "outputs": [
    {
     "name": "stdout",
     "output_type": "stream",
     "text": [
      "한글 제목\n",
      "Korean title\n",
      "안녕하세요. 두번째 슬라이드 입니다.\n",
      "hello.The second slide.\n",
      "오늘은 날씨가 좋습니다.\n",
      "행복하세요.\n",
      "The weather is good today.\n",
      "be happy.\n",
      "세번째 슬라이드 입니다.\n",
      "The third slide.\n",
      "소 잃고 외양간 고친다.\n",
      "호랑이에게 물려가도 정신만 바짝 차리면 산다.\n",
      "\n",
      "Lost the cow and fix the barn.\n",
      "Even if you are inherited by the tiger, you will live if you just wake up.\n"
     ]
    }
   ],
   "source": [
    "for slide in prs.slides:\n",
    "    for shape in slide.shapes:\n",
    "        if shape.shape_type == 14 or shape.shape_type == 17:\n",
    "            result = translator.translate(shape.text, dest='en', src='ko') \n",
    "            print(shape.text)\n",
    "            print(result.text)\n",
    "            shape.text_frame.text = result.text\n",
    "\n",
    "prs.save(\"영문.pptx\")"
   ]
  }
 ],
 "metadata": {
  "kernelspec": {
   "display_name": "Python 3",
   "language": "python",
   "name": "python3"
  },
  "language_info": {
   "codemirror_mode": {
    "name": "ipython",
    "version": 3
   },
   "file_extension": ".py",
   "mimetype": "text/x-python",
   "name": "python",
   "nbconvert_exporter": "python",
   "pygments_lexer": "ipython3",
   "version": "3.11.0"
  },
  "orig_nbformat": 4
 },
 "nbformat": 4,
 "nbformat_minor": 2
}
