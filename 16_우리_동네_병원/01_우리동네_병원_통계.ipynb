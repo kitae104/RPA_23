{
 "cells": [
  {
   "attachments": {},
   "cell_type": "markdown",
   "metadata": {},
   "source": [
    "병원 정보 엑셀 파일 불러오는 코드 만들기"
   ]
  },
  {
   "cell_type": "code",
   "execution_count": 1,
   "metadata": {},
   "outputs": [
    {
     "name": "stderr",
     "output_type": "stream",
     "text": [
      "c:\\Python\\311\\Lib\\site-packages\\openpyxl\\styles\\stylesheet.py:226: UserWarning: Workbook contains no default style, apply openpyxl's default\n",
      "  warn(\"Workbook contains no default style, apply openpyxl's default\")\n"
     ]
    },
    {
     "name": "stdout",
     "output_type": "stream",
     "text": [
      "7081\n"
     ]
    }
   ],
   "source": [
    "#데이터 읽기\n",
    "import pandas as pd\n",
    "\n",
    "file_path = \"01_01_01_P.xlsx\"\n",
    "df = pd.read_excel(file_path)\n",
    "print(len(df))"
   ]
  },
  {
   "cell_type": "code",
   "execution_count": 2,
   "metadata": {},
   "outputs": [
    {
     "name": "stdout",
     "output_type": "stream",
     "text": [
      "1 번호,2 개방서비스명,3 개방서비스아이디,4 개방자치단체코드,5 관리번호\n",
      "6 인허가일자,7 인허가취소일자,8 영업상태구분코드,9 영업상태명,10 상세영업상태코드\n",
      "11 상세영업상태명,12 폐업일자,13 휴업시작일자,14 휴업종료일자,15 재개업일자\n",
      "16 소재지전화,17 소재지면적,18 소재지우편번호,19 소재지전체주소,20 도로명전체주소\n",
      "21 도로명우편번호,22 사업장명,23 최종수정시점,24 데이터갱신구분,25 데이터갱신일자\n",
      "26 업태구분명,27 좌표정보(X),28 좌표정보(Y),29 의료기관종별명,30 의료인수\n",
      "31 입원실수,32 병상수,33 총면적,34 진료과목내용,35 진료과목내용명\n",
      "36 지정취소일자,37 완화의료지정형태,38 완화의료담당부서명,39 구급차특수,40 구급차일반\n",
      "41 총인원,42 구조사수,43 허가병상수,44 최초지정일자,"
     ]
    }
   ],
   "source": [
    "#column 이름 확인\n",
    "for i, col in enumerate(df.columns):\n",
    "    i += 1\n",
    "    if i % 5 == 0:\n",
    "        print(i, col)\n",
    "        \n",
    "    else:\n",
    "        print(i, col, end=\",\")"
   ]
  },
  {
   "attachments": {},
   "cell_type": "markdown",
   "metadata": {},
   "source": [
    "소재지전체주소에서 값이 없으면 도로명전체주소값으로 대체하여 \"주소\" 에 저장\n",
    "* 소재지 전체주소(지번주소)와 도로명  전체주소(도로명주소) 중에 하나만 있는 주소가 존재\n",
    "* 도로명 전체주소를 기준으로 주소가 없다면 소재지 전체주소로 값을 채워 넣기\n"
   ]
  },
  {
   "cell_type": "code",
   "execution_count": 8,
   "metadata": {},
   "outputs": [
    {
     "data": {
      "text/html": [
       "<div>\n",
       "<style scoped>\n",
       "    .dataframe tbody tr th:only-of-type {\n",
       "        vertical-align: middle;\n",
       "    }\n",
       "\n",
       "    .dataframe tbody tr th {\n",
       "        vertical-align: top;\n",
       "    }\n",
       "\n",
       "    .dataframe thead th {\n",
       "        text-align: right;\n",
       "    }\n",
       "</style>\n",
       "<table border=\"1\" class=\"dataframe\">\n",
       "  <thead>\n",
       "    <tr style=\"text-align: right;\">\n",
       "      <th></th>\n",
       "      <th>소재지전체주소</th>\n",
       "      <th>도로명전체주소</th>\n",
       "    </tr>\n",
       "  </thead>\n",
       "  <tbody>\n",
       "    <tr>\n",
       "      <th>0</th>\n",
       "      <td>서울특별시 종로구 신문로2가 1-158 썬타워빌딩 지하1층, 지상2,3,4,5,6,7층</td>\n",
       "      <td>서울특별시 종로구 경희궁길 26, 썬타워빌딩 지하1층, 지상2,3,4,5,6,7층 ...</td>\n",
       "    </tr>\n",
       "    <tr>\n",
       "      <th>1</th>\n",
       "      <td>NaN</td>\n",
       "      <td>서울특별시 종로구 새문안로5가길 33, 포레스트빌딩 2~12층,14층일부 (내자동)</td>\n",
       "    </tr>\n",
       "    <tr>\n",
       "      <th>2</th>\n",
       "      <td>서울특별시 종로구 창신1동 327번지 2호 금호팰리스 4층</td>\n",
       "      <td>서울특별시 종로구 지봉로 29 (창신동)</td>\n",
       "    </tr>\n",
       "    <tr>\n",
       "      <th>3</th>\n",
       "      <td>서울특별시 종로구 돈의동 78번지</td>\n",
       "      <td>서울특별시 종로구 돈화문로9길 26 (돈의동)</td>\n",
       "    </tr>\n",
       "    <tr>\n",
       "      <th>4</th>\n",
       "      <td>서울특별시 종로구 종로6가 70</td>\n",
       "      <td>NaN</td>\n",
       "    </tr>\n",
       "    <tr>\n",
       "      <th>...</th>\n",
       "      <td>...</td>\n",
       "      <td>...</td>\n",
       "    </tr>\n",
       "    <tr>\n",
       "      <th>7076</th>\n",
       "      <td>NaN</td>\n",
       "      <td>제주특별자치도 서귀포시 일주동로 8638 (동홍동)</td>\n",
       "    </tr>\n",
       "    <tr>\n",
       "      <th>7077</th>\n",
       "      <td>제주특별자치도 서귀포시  1530번지 2호 외1필지</td>\n",
       "      <td>제주특별자치도 서귀포시 장수로 47 (동홍동)</td>\n",
       "    </tr>\n",
       "    <tr>\n",
       "      <th>7078</th>\n",
       "      <td>NaN</td>\n",
       "      <td>제주특별자치도 서귀포시 1100로 453-95 (회수동)</td>\n",
       "    </tr>\n",
       "    <tr>\n",
       "      <th>7079</th>\n",
       "      <td>제주특별자치도 서귀포시 부두로7(서귀동558-1)</td>\n",
       "      <td>NaN</td>\n",
       "    </tr>\n",
       "    <tr>\n",
       "      <th>7080</th>\n",
       "      <td>제주특별자치도 서귀포시 서귀동 708번지 1호</td>\n",
       "      <td>제주특별자치도 서귀포시 부두로 34 (서귀동)</td>\n",
       "    </tr>\n",
       "  </tbody>\n",
       "</table>\n",
       "<p>7081 rows × 2 columns</p>\n",
       "</div>"
      ],
      "text/plain": [
       "                                               소재지전체주소  \\\n",
       "0     서울특별시 종로구 신문로2가 1-158 썬타워빌딩 지하1층, 지상2,3,4,5,6,7층   \n",
       "1                                                  NaN   \n",
       "2                     서울특별시 종로구 창신1동 327번지 2호 금호팰리스 4층   \n",
       "3                                   서울특별시 종로구 돈의동 78번지   \n",
       "4                                    서울특별시 종로구 종로6가 70   \n",
       "...                                                ...   \n",
       "7076                                               NaN   \n",
       "7077                      제주특별자치도 서귀포시  1530번지 2호 외1필지   \n",
       "7078                                               NaN   \n",
       "7079                       제주특별자치도 서귀포시 부두로7(서귀동558-1)   \n",
       "7080                         제주특별자치도 서귀포시 서귀동 708번지 1호   \n",
       "\n",
       "                                                도로명전체주소  \n",
       "0     서울특별시 종로구 경희궁길 26, 썬타워빌딩 지하1층, 지상2,3,4,5,6,7층 ...  \n",
       "1        서울특별시 종로구 새문안로5가길 33, 포레스트빌딩 2~12층,14층일부 (내자동)  \n",
       "2                                서울특별시 종로구 지봉로 29 (창신동)  \n",
       "3                             서울특별시 종로구 돈화문로9길 26 (돈의동)  \n",
       "4                                                   NaN  \n",
       "...                                                 ...  \n",
       "7076                       제주특별자치도 서귀포시 일주동로 8638 (동홍동)  \n",
       "7077                          제주특별자치도 서귀포시 장수로 47 (동홍동)  \n",
       "7078                    제주특별자치도 서귀포시 1100로 453-95 (회수동)  \n",
       "7079                                                NaN  \n",
       "7080                          제주특별자치도 서귀포시 부두로 34 (서귀동)  \n",
       "\n",
       "[7081 rows x 2 columns]"
      ]
     },
     "execution_count": 8,
     "metadata": {},
     "output_type": "execute_result"
    }
   ],
   "source": [
    "df[['소재지전체주소','도로명전체주소']]"
   ]
  },
  {
   "cell_type": "code",
   "execution_count": 9,
   "metadata": {},
   "outputs": [
    {
     "name": "stdout",
     "output_type": "stream",
     "text": [
      "소재지전체주소 빈 데이터 수 1397\n",
      "도로명전체주소 빈 데이터 수 399\n"
     ]
    }
   ],
   "source": [
    "print(\"소재지전체주소 빈 데이터 수\",df[\"소재지전체주소\"].isnull().sum()) # numll 확인\n",
    "print(\"도로명전체주소 빈 데이터 수\",df[\"도로명전체주소\"].isnull().sum()) # numll 확인"
   ]
  },
  {
   "cell_type": "code",
   "execution_count": 11,
   "metadata": {},
   "outputs": [
    {
     "name": "stdout",
     "output_type": "stream",
     "text": [
      "주소 빈 데이터 수 0\n"
     ]
    }
   ],
   "source": [
    "import numpy as np\n",
    "\n",
    "df['주소'] = np.where(pd.notnull(df['도로명전체주소']) == True, df['도로명전체주소'], df['소재지전체주소'])\n",
    "print(\"주소 빈 데이터 수\",df[\"주소\"].isnull().sum()) # numll 확인\n",
    "df.to_excel(\"결과확인.xlsx\")"
   ]
  },
  {
   "cell_type": "code",
   "execution_count": 12,
   "metadata": {},
   "outputs": [
    {
     "name": "stdout",
     "output_type": "stream",
     "text": [
      "폐업:  2900\n",
      "영업중:  4181\n"
     ]
    }
   ],
   "source": [
    "# 상세영업상태명  에서 폐업의 수와, 영업중 수 확인\n",
    "print(\"폐업: \",(df[\"상세영업상태명\"].str.contains('영업중',na=False) == False).sum())\n",
    "print(\"영업중: \",df[\"상세영업상태명\"].str.contains('영업중').sum())"
   ]
  },
  {
   "attachments": {},
   "cell_type": "markdown",
   "metadata": {},
   "source": [
    "주소에서 시/도 만 분리하는 코드 "
   ]
  },
  {
   "cell_type": "code",
   "execution_count": 13,
   "metadata": {},
   "outputs": [
    {
     "name": "stdout",
     "output_type": "stream",
     "text": [
      "0          서울특별시 종로구\n",
      "1          서울특별시 종로구\n",
      "2          서울특별시 종로구\n",
      "3          서울특별시 종로구\n",
      "4          서울특별시 종로구\n",
      "            ...     \n",
      "7076    제주특별자치도 서귀포시\n",
      "7077    제주특별자치도 서귀포시\n",
      "7078    제주특별자치도 서귀포시\n",
      "7079    제주특별자치도 서귀포시\n",
      "7080    제주특별자치도 서귀포시\n",
      "Name: 시도주소, Length: 7081, dtype: object\n"
     ]
    }
   ],
   "source": [
    "# 주소에서 시/도 주소만 분리하여 저장\n",
    "df['시도주소'] = df['주소'].str.split(\" \")\n",
    "\n",
    "# 시 + 도 로 \"시도주소\"에 저장\n",
    "df['시도주소'] = df['시도주소'].str.get(0) +\" \" +df['시도주소'].str.get(1)\n",
    "print(df['시도주소'])"
   ]
  },
  {
   "attachments": {},
   "cell_type": "markdown",
   "metadata": {},
   "source": [
    "병원의 수가 많은 상위 20개의 도시만 출력하기"
   ]
  },
  {
   "cell_type": "code",
   "execution_count": 14,
   "metadata": {},
   "outputs": [
    {
     "data": {
      "text/html": [
       "<div>\n",
       "<style scoped>\n",
       "    .dataframe tbody tr th:only-of-type {\n",
       "        vertical-align: middle;\n",
       "    }\n",
       "\n",
       "    .dataframe tbody tr th {\n",
       "        vertical-align: top;\n",
       "    }\n",
       "\n",
       "    .dataframe thead th {\n",
       "        text-align: right;\n",
       "    }\n",
       "</style>\n",
       "<table border=\"1\" class=\"dataframe\">\n",
       "  <thead>\n",
       "    <tr style=\"text-align: right;\">\n",
       "      <th></th>\n",
       "      <th>병원수</th>\n",
       "      <th>순위</th>\n",
       "    </tr>\n",
       "    <tr>\n",
       "      <th>시도주소</th>\n",
       "      <th></th>\n",
       "      <th></th>\n",
       "    </tr>\n",
       "  </thead>\n",
       "  <tbody>\n",
       "    <tr>\n",
       "      <th>광주광역시 북구</th>\n",
       "      <td>198</td>\n",
       "      <td>1</td>\n",
       "    </tr>\n",
       "    <tr>\n",
       "      <th>전라북도 전주시</th>\n",
       "      <td>181</td>\n",
       "      <td>2</td>\n",
       "    </tr>\n",
       "    <tr>\n",
       "      <th>경상남도 창원시</th>\n",
       "      <td>147</td>\n",
       "      <td>3</td>\n",
       "    </tr>\n",
       "    <tr>\n",
       "      <th>광주광역시 서구</th>\n",
       "      <td>140</td>\n",
       "      <td>4</td>\n",
       "    </tr>\n",
       "    <tr>\n",
       "      <th>광주광역시 광산구</th>\n",
       "      <td>134</td>\n",
       "      <td>5</td>\n",
       "    </tr>\n",
       "    <tr>\n",
       "      <th>경기도 안산시</th>\n",
       "      <td>129</td>\n",
       "      <td>6</td>\n",
       "    </tr>\n",
       "    <tr>\n",
       "      <th>경기도 고양시</th>\n",
       "      <td>116</td>\n",
       "      <td>7</td>\n",
       "    </tr>\n",
       "    <tr>\n",
       "      <th>서울특별시 강남구</th>\n",
       "      <td>114</td>\n",
       "      <td>8</td>\n",
       "    </tr>\n",
       "    <tr>\n",
       "      <th>충청남도 천안시</th>\n",
       "      <td>111</td>\n",
       "      <td>9</td>\n",
       "    </tr>\n",
       "    <tr>\n",
       "      <th>경상남도 김해시</th>\n",
       "      <td>107</td>\n",
       "      <td>10</td>\n",
       "    </tr>\n",
       "    <tr>\n",
       "      <th>경기도 부천시</th>\n",
       "      <td>105</td>\n",
       "      <td>11</td>\n",
       "    </tr>\n",
       "    <tr>\n",
       "      <th>충청북도 청주시</th>\n",
       "      <td>104</td>\n",
       "      <td>12</td>\n",
       "    </tr>\n",
       "    <tr>\n",
       "      <th>경기도 수원시</th>\n",
       "      <td>98</td>\n",
       "      <td>13</td>\n",
       "    </tr>\n",
       "    <tr>\n",
       "      <th>경기도 용인시</th>\n",
       "      <td>91</td>\n",
       "      <td>14</td>\n",
       "    </tr>\n",
       "    <tr>\n",
       "      <th>대전광역시 서구</th>\n",
       "      <td>91</td>\n",
       "      <td>14</td>\n",
       "    </tr>\n",
       "    <tr>\n",
       "      <th>광주광역시 남구</th>\n",
       "      <td>86</td>\n",
       "      <td>16</td>\n",
       "    </tr>\n",
       "    <tr>\n",
       "      <th>부산광역시 사하구</th>\n",
       "      <td>81</td>\n",
       "      <td>17</td>\n",
       "    </tr>\n",
       "    <tr>\n",
       "      <th>대구광역시 달서구</th>\n",
       "      <td>78</td>\n",
       "      <td>18</td>\n",
       "    </tr>\n",
       "    <tr>\n",
       "      <th>경기도 성남시</th>\n",
       "      <td>77</td>\n",
       "      <td>19</td>\n",
       "    </tr>\n",
       "    <tr>\n",
       "      <th>서울특별시 영등포구</th>\n",
       "      <td>76</td>\n",
       "      <td>21</td>\n",
       "    </tr>\n",
       "  </tbody>\n",
       "</table>\n",
       "</div>"
      ],
      "text/plain": [
       "            병원수  순위\n",
       "시도주소               \n",
       "광주광역시 북구    198   1\n",
       "전라북도 전주시    181   2\n",
       "경상남도 창원시    147   3\n",
       "광주광역시 서구    140   4\n",
       "광주광역시 광산구   134   5\n",
       "경기도 안산시     129   6\n",
       "경기도 고양시     116   7\n",
       "서울특별시 강남구   114   8\n",
       "충청남도 천안시    111   9\n",
       "경상남도 김해시    107  10\n",
       "경기도 부천시     105  11\n",
       "충청북도 청주시    104  12\n",
       "경기도 수원시      98  13\n",
       "경기도 용인시      91  14\n",
       "대전광역시 서구     91  14\n",
       "광주광역시 남구     86  16\n",
       "부산광역시 사하구    81  17\n",
       "대구광역시 달서구    78  18\n",
       "경기도 성남시      77  19\n",
       "서울특별시 영등포구   76  21"
      ]
     },
     "execution_count": 14,
     "metadata": {},
     "output_type": "execute_result"
    }
   ],
   "source": [
    "# 시도 이름으로 묶고, 병원수가 많은 20개의 순서대로 출력하기\n",
    "new_df = pd.DataFrame()\n",
    "new_df[\"병원수\"] = df.groupby('시도주소').size()\n",
    "new_df[\"순위\"] = new_df['병원수'].rank(ascending=False)\n",
    "new_df[\"순위\"] = new_df[\"순위\"].astype(int)\n",
    "new_df.sort_values(by='순위')[0:20]"
   ]
  }
 ],
 "metadata": {
  "kernelspec": {
   "display_name": "Python 3",
   "language": "python",
   "name": "python3"
  },
  "language_info": {
   "codemirror_mode": {
    "name": "ipython",
    "version": 3
   },
   "file_extension": ".py",
   "mimetype": "text/x-python",
   "name": "python",
   "nbconvert_exporter": "python",
   "pygments_lexer": "ipython3",
   "version": "3.11.0"
  },
  "orig_nbformat": 4
 },
 "nbformat": 4,
 "nbformat_minor": 2
}
