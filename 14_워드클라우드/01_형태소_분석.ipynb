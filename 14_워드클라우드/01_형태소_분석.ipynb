{
 "cells": [
  {
   "cell_type": "markdown",
   "metadata": {},
   "source": [
    "- pip install konlpy\n",
    "- pip install wordcloud\n",
    "\n",
    "자바 최신 설치 - jvm.dll 위치 확인\n",
    "- JAVA_HOME : C:\\Program Files\\Java\\jdk-17.0.1\n",
    "- PATH :  %JAVA_HOME%\\bin\\server\\"
   ]
  },
  {
   "cell_type": "code",
   "execution_count": 1,
   "metadata": {},
   "outputs": [
    {
     "name": "stdout",
     "output_type": "stream",
     "text": [
      "kom:  [('파이썬', 'NNP'), ('을', 'JKO'), ('이용한', 'NNP'), ('한글', 'NNP'), ('형태소', 'NNP'), ('분석', 'NNG'), ('방법', 'NNG'), ('이', 'VCP'), ('ㅂ니다', 'EF'), ('.', 'SF')]\n",
      "kkm:  [('파이', 'NNG'), ('썰', 'VV'), ('ㄴ', 'ETD'), ('을', 'NNG'), ('이용', 'NNG'), ('하', 'XSV'), ('ㄴ', 'ETD'), ('한글', 'NNG'), ('형태소', 'NNG'), ('분석', 'NNG'), ('방법', 'NNG'), ('이', 'VCP'), ('ㅂ니다', 'EFN'), ('.', 'SF')]\n",
      "okt ['파이썬', '을', '이용', '한', '한글', '형태소', '분석', '방법', '입니다', '.']\n",
      "okt 명사: ['파이썬', '이용', '한글', '형태소', '분석', '방법']\n"
     ]
    }
   ],
   "source": [
    "from konlpy.tag import Kkma, Komoran, Okt\n",
    "\n",
    "kom = Komoran()\n",
    "kkm = Kkma()\n",
    "okt = Okt()\n",
    "\n",
    "text = '파이썬을 이용한 한글 형태소 분석방법 입니다.'\n",
    "\n",
    "print(\"kom: \",kom.pos(text))\n",
    "print(\"kkm: \",kkm.pos(text))\n",
    "\n",
    "print(\"okt\",okt.morphs (text))\n",
    "print(\"okt 명사:\",okt.nouns (text))"
   ]
  },
  {
   "cell_type": "markdown",
   "metadata": {},
   "source": [
    "2. 형태소를 리스트로 만들어 출력하기 "
   ]
  },
  {
   "cell_type": "code",
   "execution_count": 2,
   "metadata": {},
   "outputs": [
    {
     "name": "stdout",
     "output_type": "stream",
     "text": [
      "명사:  ['파이썬', '이용', '한글', '형태소', '분석', '방법']\n"
     ]
    }
   ],
   "source": [
    "from konlpy.tag import Okt\n",
    "\n",
    "okt = Okt()\n",
    "\n",
    "text = '파이썬을 이용한 한글 형태소 분석방법 입니다'\n",
    "\n",
    "noun_list = []\n",
    "for noun in okt.nouns(text):\n",
    "    if len(noun) > 1:\n",
    "        noun_list.append(noun)\n",
    "\n",
    "print(\"명사: \", noun_list)"
   ]
  }
 ],
 "metadata": {
  "kernelspec": {
   "display_name": "Python 3.11.1 64-bit",
   "language": "python",
   "name": "python3"
  },
  "language_info": {
   "codemirror_mode": {
    "name": "ipython",
    "version": 3
   },
   "file_extension": ".py",
   "mimetype": "text/x-python",
   "name": "python",
   "nbconvert_exporter": "python",
   "pygments_lexer": "ipython3",
   "version": "3.11.1"
  },
  "orig_nbformat": 4,
  "vscode": {
   "interpreter": {
    "hash": "81eef19b52451e11e3f8bf6bc518dd5f147d5a651198624c9c211c83ec7c4923"
   }
  }
 },
 "nbformat": 4,
 "nbformat_minor": 2
}
