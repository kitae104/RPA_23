{
 "cells": [
  {
   "cell_type": "markdown",
   "metadata": {},
   "source": [
    "1. 구글 뉴스 RSS에 접속하여 뉴스 제목, 뉴스 요약 가져오기"
   ]
  },
  {
   "cell_type": "code",
   "execution_count": 1,
   "metadata": {},
   "outputs": [],
   "source": [
    "import requests                         # 웹 페이지의 HTML을 가져오는 모듈\n",
    "import re                               # 정규표현식을 사용하기 위한 모듈\n",
    "import xml.etree.ElementTree as ET      # XML 데이터를 파싱하는 모듈\n",
    "\n",
    "from konlpy.tag import Okt\n",
    "okt = Okt()\n",
    "from collections import Counter"
   ]
  },
  {
   "cell_type": "code",
   "execution_count": 2,
   "metadata": {},
   "outputs": [],
   "source": [
    "url = 'https://news.google.com/rss?hl=ko&gl=KR&ceid=KR:ko' \n",
    "\n",
    "headers = {\n",
    "        'User-Agent': 'Mozilla/5.0',\n",
    "        'Content-Type': 'text/html; charset=utf-8'\n",
    "        }\n",
    "\n",
    "response = requests.get(url, headers=headers)\n",
    "\n",
    "root_element = ET.fromstring(response.text)\n",
    "iter_element = root_element.iter(tag=\"item\")        # item 태그를 찾아서 반복"
   ]
  },
  {
   "cell_type": "code",
   "execution_count": 3,
   "metadata": {},
   "outputs": [
    {
     "name": "stdout",
     "output_type": "stream",
     "text": [
      "뉴스제목:  ['‘슈퍼 태풍’에 발묶인 괌 여행객 돌아온다…괌 공항 29일 운영 재개 - 서울신문', '시흥동 데이트폭력 보복살해범 구속영장 발부…\"도주 우려\" - 뉴스핌', '아시아나, 사고 기종 비상구석 안판다…웃돈 판매 논란 - 연합뉴스TV']\n",
      "뉴스요약:  ['  슈퍼 태풍에 발묶인 괌 여행객 돌아온다괌 공항 일 운영 재개 서울신문  뉴스쏙 괌 드디어 하늘길 열린다한국인 관광객 드디어 귀국길 매우 강한 태풍 마와르대만 해상서 일본 향할 듯 연합뉴스  연합뉴스   기지도 쑥대밭슈퍼태풍 지나간 괌 위성사진 공개 연합뉴스  태풍 마와르 북동진 경로 좀 더 북쪽으로 수정 오키나와 느리게 관통 매일신문  괌 고립  여행객들 명 고통 계속물음식 부족 뉴스   뉴스에서 전체 콘텐츠 보기', '  시흥동 데이트폭력 보복살해범 구속영장 발부도주 우려 뉴스핌  데이트폭력 신고에 보복금천 살해범 구속영장  연합뉴스  연합뉴스  교제폭력 신고에 보복 살인 대 남성 구속도주 우려 뉴스  법 밖에 놓인 데이트폭력또 참극 이어졌다 한겨레  연인 보복살인 김모씨 노컷뉴스   뉴스에서 전체 콘텐츠 보기', '  아시아나 사고 기종 비상구석 안판다웃돈 판매 논란 연합뉴스  공포의 착륙 중 도와달라 승무원 요청에 비상구 연 대 제압한 의인 한겨레  아시아나에어서울 사고 기종 비상구  좌석 안 판다 종합 한국경제  아시아나 여객기 비상문 연 대 구속  영남  전국  뉴스 한겨레  뛰어내릴 생각이었다 아이들에 죄송비행기 비상문 연 남성 구속 뉴스   뉴스에서 전체 콘텐츠 보기']\n"
     ]
    }
   ],
   "source": [
    "title_list = []\n",
    "description_list = []\n",
    "for element in iter_element:\n",
    "    title_list.append(element.find(\"title\").text)           # title 태그에서 텍스트 추출\n",
    "\n",
    "    # 한글과 띄어쓰기를 제외한 모든 글자를 제거\n",
    "    hangul = re.compile('[^ ㄱ-ㅣ가-힣]+')                  # 한글과 띄어쓰기를 제외한 모든 글자\n",
    "    description = element.find(\"description\").text          # description 태그에서 텍스트 추출\n",
    "    description_list.append(hangul.sub(\"\",description))     \n",
    "    #description_list.append(description)     \n",
    "\n",
    "# 뉴스제목과 뉴스요약을 3개만 가져와 출력\n",
    "print(\"뉴스제목: \",title_list[0:3])\n",
    "print(\"뉴스요약: \",description_list[0:3])"
   ]
  },
  {
   "cell_type": "markdown",
   "metadata": {},
   "source": [
    "2. 형태소를 분석하여 빈도수를 계산"
   ]
  },
  {
   "cell_type": "code",
   "execution_count": 4,
   "metadata": {},
   "outputs": [
    {
     "name": "stdout",
     "output_type": "stream",
     "text": [
      "Counter({'뉴스': 59, '연합뉴스': 28, '전체': 25, '콘텐츠': 25, '보기': 25, '한국': 16, '서울': 13, '신문': 11, '전국': 10, '일본': 10, '경제': 9, '연예': 9, '연휴': 8, '가능성': 8, '태풍': 7, '태평양': 7, '조선일보': 7, '금쪽': 7, '임영웅': 7, '폭력': 6, '공급망': 6, '위성': 6, '뉴스데스크': 6, '부채': 6, '한도': 6, '합의': 6, '개국': 6, '테슬라': 6, '정숙': 6, '엄정화': 6, '미나': 6, '필립': 6, '유빈': 6, '월드컵': 6, '한겨레': 6, '보복': 5, '중국': 5, '견제': 5, '동아일보': 5, '타결': 5, '도서국': 5, '회담': 5, '안보리': 5, '원희룡': 5, '닥터': 5, '걸환': 5, '은메달': 5, '충격': 5, '역전패': 5, '종합': 5, '방송': 5, '데이트': 4, '아시아나': 4, '비상': 4, '차세대': 4, '마지막': 4, '호우': 4, '내내': 4, '바이든': 4, '매카시': 4, '협상': 4, '잠정': 4, '대통령': 4, '오늘': 4, '정상': 4, '연쇄': 4, '영상': 4, '집값': 4, '폭로': 4, '스타벅스': 4, '최대': 4, '게임메카': 4, '공개': 4, '김병철': 4, '스타': 4, '아이': 4, '폴리스': 4, '현금': 4, '스포츠': 4, '진출': 4, '윌리안': 4, '연속': 4, '변화': 4, '조선': 4, '코메디닷컴': 4, '여행객': 3, '운영': 3, '살해': 3, '구속영장': 3, '도주': 3, '우려': 3, '사고': 3, '경향신문': 3, '윤관석': 3, '봉투': 3, '센터': 3, '소형': 3, '안테나': 3, '신호': 3, '확인': 3, '남산타워': 3, '빗줄기': 3, '최종': 3, '주목': 3, '정상회담': 3, '관광객': 3, '내일': 3, '진료': 3, '대피소': 3, '제대로': 3, '엄마': 3, '매수': 3, '머니투데이': 3, '여자': 3, '복식': 3, '눈물': 3, '황의조': 3, '빅뉴스': 3, '우리': 3, '구속': 3, '노컷뉴스': 3, '미국': 3, '위기': 3, '체포': 3, '민주당': 3, '누리': 3, '역대': 3, '고객': 3, '보호': 3, '억원': 3, '지희': 3, '이스라엘': 3, '슈퍼': 2, '묶인': 2, '공항': 2, '재개': 2, '시흥동': 2, '발부': 2, '구석': 2, '웃돈': 2, '판매': 2, '논란': 2, '포문': 2, '대전': 2, '송영길': 2, '지지': 2, '조찬': 2, '모임': 2, '전달': 2, '얼마나': 2, '시각': 2, '기상': 2, '교신': 2, '시도': 2, '경인일보': 2, '총리': 2, '김정은': 2, '고위': 2, '협의': 2, '추진': 2, '비상임이사국': 2, '출사표': 2, '한미': 2, '조로': 2, '중러': 2, '설치': 2, '전세': 2, '제도': 2, '자막': 2, '내부': 2, '고발': 2, '자의': 2, '발칵': 2, '뒤집힌': 2, '상하이': 2, '훙차오': 2, '국제공항': 2, '처녀': 2, '비행': 2, '여름': 2, '프리': 2, '퀀시': 2, '시간': 2, '대별': 2, '방문': 2, '정보통': 2, '마침내': 2, '완성': 2, '핸드': 2, '헬드': 2, '게이': 2, '등장': 2, '윈도우': 2, '기반': 2, '라이': 2, '익스트림': 2, '탑재': 2, '알럽': 2, '피씨': 2, '전문가': 2, '아보카도': 2, '오일이': 2, '피부': 2, '이점': 2, '무엇': 2, '시각장애인': 2, '플레이': 2, '가능': 2, '미로': 2, '탈출': 2, '게임': 2, '스팀': 2, '리얼': 2, '사실': 2, '대자연': 2, '사운드': 2, '오브': 2, '네이처': 2, '명세빈': 2, '별별': 2, '미안': 2, '시험관': 2, '시술': 2, '머리': 2, '잡고': 2, '도로': 2, '경악': 2, '거래': 2, '대한민국': 2, '대표팀': 2, '감비아': 2, '결과': 2, '상대': 2, '결정': 2, '이슈': 2, '라이브': 2, '상암': 2, '원더': 2, '아주': 2, '승리': 2, '국가대표': 2, '나상호': 2, '우위': 2, '한편': 2, '드라마': 2, '주행': 2, '헬스': 2, '숙면': 2, '최적화': 2, '효과': 2, '습관': 2, '건강': 2, '정말': 2, '별로': 2, '식품': 2, '보리': 2, '상추': 2, '자주': 2, '혈당': 2, '혈액': 2, '신고': 2, '살인': 2, '남성': 2, '비상구': 2, '협정': 2, '의안': 2, '매일경제': 2, '성공': 2, '우주': 2, '날씨': 2, '경북': 2, '정부': 2, '사국': 2, '세번': 2, '유력': 2, '선호': 2, '아파트': 2, '내부고발자': 2, '정보': 2, '샤넬': 2, '예약': 2, '완료': 2, '행사': 2, '올해': 2, '북새통': 2, '화제': 2, '분노': 2, '연하': 2, '위해': 2, '임신': 2, '희망': 2, '남편': 2, '모친': 2, '전액': 2, '펜트하우스': 2, '비즈': 2, '세계': 2, '축구': 2, '하이라이트': 2, '강원': 2, '실제': 1, '하늘': 1, '린다': 1, '한국인': 1, '귀국': 1, '매우': 1, '해상': 1, '기지': 1, '쑥대밭': 1, '슈퍼태풍': 1, '위성사진': 1, '마와르': 1, '북동': 1, '경로': 1, '북쪽': 1, '수정': 1, '오키나와': 1, '관통': 1, '매일신문': 1, '고립': 1, '고통': 1, '계속': 1, '물음': 1, '부족': 1, '금천': 1, '교제': 1, '참극': 1, '연인': 1, '모씨': 1, '공포': 1, '착륙': 1, '달라': 1, '승무원': 1, '요청': 1, '제압': 1, '의인': 1, '에어': 1, '좌석': 1, '판다': 1, '여객기': 1, '영남': 1, '생각': 1, '죄송': 1, '비행기': 1, '배제': 1, '인태': 1, '지역': 1, '복귀': 1, '성과': 1, '압박': 1, '성격': 1, '중심': 1, '반도체': 1, '주도': 1, '공동': 1, '대처': 1, '팽재용': 1, '다시': 1, '정국': 1, '딜레마': 1, '가결': 1, '부결': 1, '이성': 1, '벌써': 1, '정론': 1, '결심': 1, '다음': 1, '표결': 1, '의원': 1, '수사': 1, '분수령': 1, '임무': 1, '수행': 1, '돌입': 1, '북한': 1, '강국': 1, '호가': 1, '오리무중': 1, '발사': 1, '과기부': 1, '최고': 1, '월요일': 1, '충청': 1, '이남': 1, '주의': 1, '대구': 1, '빗방울': 1, '사흘': 1, '원칙': 1, '국가부도': 1, '피하': 1, '백악관': 1, '공화당': 1, '상향': 1, '전북일보': 1, '살짝': 1, '디폴트': 1, '시한': 1, '점점': 1, '근접': 1, '패권': 1, '각축': 1, '섬나라': 1, '인도': 1, '전략': 1, '본격': 1, '회의': 1, '양자': 1, '공식': 1, '만찬': 1, '임시': 1, '마련': 1, '소도': 1, '바닥': 1, '조금': 1, '개별': 1, '국면': 1, '평균': 1, '강남': 1, '직원': 1, '개인정보': 1, '소홀': 1, '과징금': 1, '안전': 1, '문제': 1, '항의': 1, '코리아': 1, '한석규': 1, '사부': 1, '박빙': 1, '승부': 1, '병원': 1, '송지호': 1, '아람': 1, '키스': 1, '목격': 1, '미드': 1, '불륜': 1, '로이킴': 1, '심쿵': 1, '질투': 1, '활활': 1, '이혼': 1, '고민': 1, '출산': 1, '연상': 1, '포기': 1, '먼저': 1, '걱정': 1, '결말': 1, '시청자': 1, '치료': 1, '수술': 1, '다리': 1, '모두': 1, '위키트리': 1, '오은영': 1, '속눈썹': 1, '솔루션': 1, '난관': 1, '봉착': 1, '이유': 1, '새끼': 1, '자식': 1, '섬유': 1, '근육통': 1, '패륜': 1, '주인': 1, '중앙': 1, '일보': 1, '합정': 1, '리얼리티': 1, '예능': 1, '선택': 1, '누구': 1, '이데일리': 1, '매입': 1, '하하': 1, '산다': 1, '탁구': 1, '노력': 1, '순간': 1, '뉴스룸': 1, '선수권': 1, '준우승': 1, '선수': 1, '분석': 1, '쾌거': 1, '강조': 1, '브라질': 1, '격돌': 1, '대박': 1, '반전': 1, '우린': 1, '확정': 1, '후반': 1, '탈락': 1, '장골': 1, '침몰': 1, '출전': 1, '결승골': 1, '탈환': 1, '포토': 1, '양현준': 1, '몸싸움': 1, '개인': 1, '돌파': 1, '득점': 1, '다득점': 1, '제주': 1, '앞서': 1, '단독': 1, '현장': 1, '이별': 1, '안익수': 1, '감독': 1, '존중': 1})\n"
     ]
    }
   ],
   "source": [
    "noun_list = []\n",
    "for title in title_list:\n",
    "    for noun in okt.nouns(title):\n",
    "        if len(noun) > 1:\n",
    "            noun_list.append(noun)\n",
    "# print(\"명사: \", noun_list)\n",
    "\n",
    "for description in description_list:\n",
    "    for noun in okt.nouns(description):\n",
    "        if len(noun) > 1:\n",
    "            noun_list.append(noun)\n",
    "# print(\"명사: \", noun_list)\n",
    "\n",
    "noun_freq_list = Counter(noun_list)\n",
    "print(noun_freq_list)"
   ]
  },
  {
   "cell_type": "markdown",
   "metadata": {},
   "source": [
    "3. 워드클라우드 그리기"
   ]
  },
  {
   "cell_type": "code",
   "execution_count": 5,
   "metadata": {},
   "outputs": [
    {
     "data": {
      "text/plain": [
       "<wordcloud.wordcloud.WordCloud at 0x1f6dd2b7550>"
      ]
     },
     "execution_count": 5,
     "metadata": {},
     "output_type": "execute_result"
    }
   ],
   "source": [
    "from wordcloud import WordCloud\n",
    "\n",
    "wc = WordCloud(font_path=\"NanumGothic\", width=400, height=400, scale=2.0, max_font_size=250)\n",
    "gen = wc.generate_from_frequencies(noun_freq_list)\n",
    "wc.to_file('뉴스_워드클라우드.png')"
   ]
  },
  {
   "cell_type": "markdown",
   "metadata": {},
   "source": [
    "4. 마스크 적용하기"
   ]
  },
  {
   "cell_type": "code",
   "execution_count": 14,
   "metadata": {},
   "outputs": [
    {
     "data": {
      "image/png": "[encoded data removed]",
      "text/plain": [
       "<Figure size 640x480 with 1 Axes>"
      ]
     },
     "metadata": {},
     "output_type": "display_data"
    }
   ],
   "source": [
    "import numpy as np\n",
    "from PIL import Image # 이미지를 위한 라이브러리\n",
    "import matplotlib.pyplot as plt # 그래프 및 이미지화 라이브러리\n",
    "\n",
    "wine_mask = np.array(Image.open('img.jpg'))\n",
    "wordcloud = WordCloud(font_path=\"NanumGothic\", background_color='white', mask=wine_mask, max_font_size=30).generate_from_frequencies(noun_freq_list)\n",
    "\n",
    "plt.figure()\n",
    "plt.axis('off')\n",
    "plt.imshow(wordcloud, interpolation='bilinear') \n",
    "plt.show()"
   ]
  }
 ],
 "metadata": {
  "kernelspec": {
   "display_name": "Python 3.11.1 64-bit",
   "language": "python",
   "name": "python3"
  },
  "language_info": {
   "codemirror_mode": {
    "name": "ipython",
    "version": 3
   },
   "file_extension": ".py",
   "mimetype": "text/x-python",
   "name": "python",
   "nbconvert_exporter": "python",
   "pygments_lexer": "ipython3",
   "version": "3.11.1"
  },
  "orig_nbformat": 4,
  "vscode": {
   "interpreter": {
    "hash": "81eef19b52451e11e3f8bf6bc518dd5f147d5a651198624c9c211c83ec7c4923"
   }
  }
 },
 "nbformat": 4,
 "nbformat_minor": 2
}
