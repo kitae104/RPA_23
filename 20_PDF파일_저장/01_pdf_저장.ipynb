{
 "cells": [
  {
   "cell_type": "code",
   "execution_count": 3,
   "metadata": {},
   "outputs": [],
   "source": [
    "from selenium import webdriver\n",
    "from selenium.webdriver.chrome.service import Service\n",
    "from selenium.webdriver.chrome.options import Options\n",
    "from selenium.webdriver.common.keys import Keys\n",
    "from selenium.webdriver.common.by import By\n",
    "from webdriver_manager.chrome import ChromeDriverManager\n",
    "import time\n",
    "from selenium.webdriver import ActionChains\n",
    "import pdfkit"
   ]
  },
  {
   "cell_type": "code",
   "execution_count": 4,
   "metadata": {},
   "outputs": [
    {
     "name": "stdout",
     "output_type": "stream",
     "text": [
      "00 환경 및 사전지식 준비 - 파이썬 자동화\n"
     ]
    },
    {
     "ename": "OSError",
     "evalue": "wkhtmltopdf reported an error:\nExit with code 1 due to network error: ProtocolUnknownError\r\n",
     "output_type": "error",
     "traceback": [
      "\u001b[1;31m---------------------------------------------------------------------------\u001b[0m",
      "\u001b[1;31mOSError\u001b[0m                                   Traceback (most recent call last)",
      "Cell \u001b[1;32mIn[4], line 21\u001b[0m\n\u001b[0;32m     14\u001b[0m config \u001b[38;5;241m=\u001b[39m pdfkit\u001b[38;5;241m.\u001b[39mconfiguration(wkhtmltopdf\u001b[38;5;241m=\u001b[39m\u001b[38;5;124m\"\u001b[39m\u001b[38;5;124mC:\u001b[39m\u001b[38;5;130;01m\\\\\u001b[39;00m\u001b[38;5;124mProgram Files\u001b[39m\u001b[38;5;130;01m\\\\\u001b[39;00m\u001b[38;5;124mwkhtmltopdf\u001b[39m\u001b[38;5;130;01m\\\\\u001b[39;00m\u001b[38;5;124mbin\u001b[39m\u001b[38;5;130;01m\\\\\u001b[39;00m\u001b[38;5;124mwkhtmltopdf.exe\u001b[39m\u001b[38;5;124m\"\u001b[39m) \u001b[38;5;66;03m# wkhtmltopdf.exe 경로 설정하기\u001b[39;00m\n\u001b[0;32m     15\u001b[0m options \u001b[38;5;241m=\u001b[39m {\n\u001b[0;32m     16\u001b[0m     \u001b[38;5;124m'\u001b[39m\u001b[38;5;124mno-stop-slow-scripts\u001b[39m\u001b[38;5;124m'\u001b[39m: \u001b[38;5;124m'\u001b[39m\u001b[38;5;124m'\u001b[39m,\n\u001b[0;32m     17\u001b[0m     \u001b[38;5;124m'\u001b[39m\u001b[38;5;124mno-load-error\u001b[39m\u001b[38;5;124m'\u001b[39m: \u001b[38;5;124m'\u001b[39m\u001b[38;5;124m'\u001b[39m,\n\u001b[0;32m     18\u001b[0m     \u001b[38;5;124m'\u001b[39m\u001b[38;5;124mload-media-error-handling\u001b[39m\u001b[38;5;124m'\u001b[39m: \u001b[38;5;124m'\u001b[39m\u001b[38;5;124mignore\u001b[39m\u001b[38;5;124m'\u001b[39m  \n\u001b[0;32m     19\u001b[0m }\n\u001b[1;32m---> 21\u001b[0m \u001b[43mpdfkit\u001b[49m\u001b[38;5;241;43m.\u001b[39;49m\u001b[43mfrom_string\u001b[49m\u001b[43m(\u001b[49m\u001b[43mpage_html\u001b[49m\u001b[43m,\u001b[49m\u001b[43m \u001b[49m\u001b[38;5;124;43m'\u001b[39;49m\u001b[38;5;124;43mwikidocs.pdf\u001b[39;49m\u001b[38;5;124;43m'\u001b[39;49m\u001b[43m,\u001b[49m\u001b[43m \u001b[49m\u001b[43mconfiguration\u001b[49m\u001b[38;5;241;43m=\u001b[39;49m\u001b[43mconfig\u001b[49m\u001b[43m)\u001b[49m \u001b[38;5;66;03m# pdfkit로 pdf파일로 저장하기\u001b[39;00m\n\u001b[0;32m     23\u001b[0m driver\u001b[38;5;241m.\u001b[39mquit()\n",
      "File \u001b[1;32mc:\\Python\\311\\Lib\\site-packages\\pdfkit\\api.py:75\u001b[0m, in \u001b[0;36mfrom_string\u001b[1;34m(input, output_path, options, toc, cover, css, configuration, cover_first, verbose)\u001b[0m\n\u001b[0;32m     56\u001b[0m \u001b[39m\u001b[39m\u001b[39m\"\"\"\u001b[39;00m\n\u001b[0;32m     57\u001b[0m \u001b[39mConvert given string or strings to PDF document\u001b[39;00m\n\u001b[0;32m     58\u001b[0m \n\u001b[1;32m   (...)\u001b[0m\n\u001b[0;32m     69\u001b[0m \u001b[39mReturns: True on success\u001b[39;00m\n\u001b[0;32m     70\u001b[0m \u001b[39m\"\"\"\u001b[39;00m\n\u001b[0;32m     72\u001b[0m r \u001b[39m=\u001b[39m PDFKit(\u001b[39minput\u001b[39m, \u001b[39m'\u001b[39m\u001b[39mstring\u001b[39m\u001b[39m'\u001b[39m, options\u001b[39m=\u001b[39moptions, toc\u001b[39m=\u001b[39mtoc, cover\u001b[39m=\u001b[39mcover, css\u001b[39m=\u001b[39mcss,\n\u001b[0;32m     73\u001b[0m            configuration\u001b[39m=\u001b[39mconfiguration, cover_first\u001b[39m=\u001b[39mcover_first, verbose\u001b[39m=\u001b[39mverbose)\n\u001b[1;32m---> 75\u001b[0m \u001b[39mreturn\u001b[39;00m r\u001b[39m.\u001b[39;49mto_pdf(output_path)\n",
      "File \u001b[1;32mc:\\Python\\311\\Lib\\site-packages\\pdfkit\\pdfkit.py:201\u001b[0m, in \u001b[0;36mPDFKit.to_pdf\u001b[1;34m(self, path)\u001b[0m\n\u001b[0;32m    199\u001b[0m stderr \u001b[39m=\u001b[39m stderr\u001b[39m.\u001b[39mdecode(\u001b[39m'\u001b[39m\u001b[39mutf-8\u001b[39m\u001b[39m'\u001b[39m, errors\u001b[39m=\u001b[39m\u001b[39m'\u001b[39m\u001b[39mreplace\u001b[39m\u001b[39m'\u001b[39m)\n\u001b[0;32m    200\u001b[0m exit_code \u001b[39m=\u001b[39m result\u001b[39m.\u001b[39mreturncode\n\u001b[1;32m--> 201\u001b[0m \u001b[39mself\u001b[39;49m\u001b[39m.\u001b[39;49mhandle_error(exit_code, stderr)\n\u001b[0;32m    203\u001b[0m \u001b[39m# Since wkhtmltopdf sends its output to stderr we will capture it\u001b[39;00m\n\u001b[0;32m    204\u001b[0m \u001b[39m# and properly send to stdout\u001b[39;00m\n\u001b[0;32m    205\u001b[0m \u001b[39mif\u001b[39;00m \u001b[39m'\u001b[39m\u001b[39m--quiet\u001b[39m\u001b[39m'\u001b[39m \u001b[39mnot\u001b[39;00m \u001b[39min\u001b[39;00m args:\n",
      "File \u001b[1;32mc:\\Python\\311\\Lib\\site-packages\\pdfkit\\pdfkit.py:155\u001b[0m, in \u001b[0;36mPDFKit.handle_error\u001b[1;34m(exit_code, stderr)\u001b[0m\n\u001b[0;32m    149\u001b[0m     \u001b[39mraise\u001b[39;00m \u001b[39mIOError\u001b[39;00m(\u001b[39m'\u001b[39m\u001b[39m%s\u001b[39;00m\u001b[39m\\n\u001b[39;00m\u001b[39m'\u001b[39m\n\u001b[0;32m    150\u001b[0m                   \u001b[39m'\u001b[39m\u001b[39mYou will need to run wkhtmltopdf within a \u001b[39m\u001b[39m\"\u001b[39m\u001b[39mvirtual\u001b[39m\u001b[39m\"\u001b[39m\u001b[39m X server.\u001b[39m\u001b[39m\\n\u001b[39;00m\u001b[39m'\u001b[39m\n\u001b[0;32m    151\u001b[0m                   \u001b[39m'\u001b[39m\u001b[39mGo to the link below for more information\u001b[39m\u001b[39m\\n\u001b[39;00m\u001b[39m'\u001b[39m\n\u001b[0;32m    152\u001b[0m                   \u001b[39m'\u001b[39m\u001b[39mhttps://github.com/JazzCore/python-pdfkit/wiki/Using-wkhtmltopdf-without-X-server\u001b[39m\u001b[39m'\u001b[39m \u001b[39m%\u001b[39m stderr)\n\u001b[0;32m    154\u001b[0m \u001b[39mif\u001b[39;00m \u001b[39m'\u001b[39m\u001b[39mError\u001b[39m\u001b[39m'\u001b[39m \u001b[39min\u001b[39;00m stderr:\n\u001b[1;32m--> 155\u001b[0m     \u001b[39mraise\u001b[39;00m \u001b[39mIOError\u001b[39;00m(\u001b[39m'\u001b[39m\u001b[39mwkhtmltopdf reported an error:\u001b[39m\u001b[39m\\n\u001b[39;00m\u001b[39m'\u001b[39m \u001b[39m+\u001b[39m stderr)\n\u001b[0;32m    157\u001b[0m error_msg \u001b[39m=\u001b[39m stderr \u001b[39mor\u001b[39;00m \u001b[39m'\u001b[39m\u001b[39mUnknown Error\u001b[39m\u001b[39m'\u001b[39m\n\u001b[0;32m    158\u001b[0m \u001b[39mraise\u001b[39;00m \u001b[39mIOError\u001b[39;00m(\u001b[39m\"\u001b[39m\u001b[39mwkhtmltopdf exited with non-zero code \u001b[39m\u001b[39m{0}\u001b[39;00m\u001b[39m. error:\u001b[39m\u001b[39m\\n\u001b[39;00m\u001b[39m{1}\u001b[39;00m\u001b[39m\"\u001b[39m\u001b[39m.\u001b[39mformat(exit_code, error_msg))\n",
      "\u001b[1;31mOSError\u001b[0m: wkhtmltopdf reported an error:\nExit with code 1 due to network error: ProtocolUnknownError\r\n"
     ]
    }
   ],
   "source": [
    "options = Options()\n",
    "options.headless = True # headless mode를 사용하여 브라우저 창을 띄우지 않도록 설정\n",
    "\n",
    "driver = webdriver.Chrome(service=Service(ChromeDriverManager().install()), options=options)\n",
    "driver.get('https://wikidocs.net/73526') # 사이트 연결하기\n",
    "print(driver.title)     # 타이틀 읽어오기        \n",
    "page_html = driver.page_source\n",
    "\n",
    "# 파일로 저장 \n",
    "# with open('temp.html', 'w', encoding='utf-8') as f:\n",
    "#     f.write(page_html)\n",
    "\n",
    "time.sleep(2)\n",
    "\n",
    "config = pdfkit.configuration(wkhtmltopdf=\"C:\\\\Program Files\\\\wkhtmltopdf\\\\bin\\\\wkhtmltopdf.exe\") # wkhtmltopdf.exe 경로 설정하기\n",
    "\n",
    "# 옵션 설정하기\n",
    "# options = {\n",
    "#     'no-stop-slow-scripts': '',\n",
    "#     'no-load-error': '',\n",
    "#     'load-media-error-handling': 'ignore'  \n",
    "# }\n",
    "\n",
    "pdfkit.from_string(page_html, 'wikidocs.pdf', configuration=config) # pdfkit로 pdf파일로 저장하기\n",
    "\n",
    "driver.quit()"
   ]
  }
 ],
 "metadata": {
  "kernelspec": {
   "display_name": "Python 3.11.6 64-bit",
   "language": "python",
   "name": "python3"
  },
  "language_info": {
   "codemirror_mode": {
    "name": "ipython",
    "version": 3
   },
   "file_extension": ".py",
   "mimetype": "text/x-python",
   "name": "python",
   "nbconvert_exporter": "python",
   "pygments_lexer": "ipython3",
   "version": "3.11.6"
  },
  "orig_nbformat": 4,
  "vscode": {
   "interpreter": {
    "hash": "81eef19b52451e11e3f8bf6bc518dd5f147d5a651198624c9c211c83ec7c4923"
   }
  }
 },
 "nbformat": 4,
 "nbformat_minor": 2
}
