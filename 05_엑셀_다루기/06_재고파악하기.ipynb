{
 "cells": [
  {
   "cell_type": "markdown",
   "metadata": {},
   "source": [
    "1. 여러개의 엑셀 파일을 읽어 하나의 데이터프레임으로 만들기"
   ]
  },
  {
   "cell_type": "code",
   "execution_count": 1,
   "metadata": {},
   "outputs": [],
   "source": [
    "import pandas as pd\n",
    "import glob"
   ]
  },
  {
   "cell_type": "code",
   "execution_count": 17,
   "metadata": {},
   "outputs": [
    {
     "name": "stdout",
     "output_type": "stream",
     "text": [
      "['./data\\\\재고_1층교실.xlsx', './data\\\\재고_식당.xlsx', './data\\\\재고_체육관.xlsx']\n",
      "   번호   품목  수량         날짜     재고위치\n",
      "0   1   의자  20 2015-06-08  재고_1층교실\n",
      "1   2  모니터  10 2021-01-03  재고_1층교실\n",
      "2   3   책상  10 2022-05-05  재고_1층교실\n",
      "3   4  정수기   2 2021-04-16  재고_1층교실\n",
      "0   1   의자  50 2012-10-05    재고_식당\n",
      "1   2   국자  20 2021-01-03    재고_식당\n",
      "2   3   TV   2 2022-05-05    재고_식당\n",
      "0   1   의자  12 2010-10-10   재고_체육관\n",
      "1   2  축구공  20 2020-05-05   재고_체육관\n",
      "2   3  농구공  12 2012-09-08   재고_체육관\n",
      "3   4   네트   2 2015-01-03   재고_체육관\n"
     ]
    }
   ],
   "source": [
    "files = glob.glob('./data/재고_*.xlsx')\n",
    "print(files)\n",
    "\n",
    "merge_df = pd.DataFrame()                           # 빈 데이터프레임 만들기 \n",
    "for file in files:                                  # 반복문으로 파일 읽어오기\n",
    "    df_from_excel = pd.read_excel(file)\n",
    "    df_from_excel['재고위치'] = file.split('/')[1].split('\\\\')[1].split('.')[0]  # 파일명에서 재고위치 추출\n",
    "    merge_df = pd.concat([merge_df,df_from_excel])\n",
    "\n",
    "print(merge_df)"
   ]
  },
  {
   "cell_type": "markdown",
   "metadata": {},
   "source": [
    "2. 특정 날짜 이전의 재고 파악하기 "
   ]
  },
  {
   "cell_type": "code",
   "execution_count": 20,
   "metadata": {},
   "outputs": [
    {
     "data": {
      "text/html": [
       "<div>\n",
       "<style scoped>\n",
       "    .dataframe tbody tr th:only-of-type {\n",
       "        vertical-align: middle;\n",
       "    }\n",
       "\n",
       "    .dataframe tbody tr th {\n",
       "        vertical-align: top;\n",
       "    }\n",
       "\n",
       "    .dataframe thead th {\n",
       "        text-align: right;\n",
       "    }\n",
       "</style>\n",
       "<table border=\"1\" class=\"dataframe\">\n",
       "  <thead>\n",
       "    <tr style=\"text-align: right;\">\n",
       "      <th></th>\n",
       "      <th>번호</th>\n",
       "      <th>품목</th>\n",
       "      <th>수량</th>\n",
       "      <th>날짜</th>\n",
       "      <th>재고위치</th>\n",
       "    </tr>\n",
       "  </thead>\n",
       "  <tbody>\n",
       "    <tr>\n",
       "      <th>0</th>\n",
       "      <td>1</td>\n",
       "      <td>의자</td>\n",
       "      <td>50</td>\n",
       "      <td>2012-10-05</td>\n",
       "      <td>재고_식당</td>\n",
       "    </tr>\n",
       "    <tr>\n",
       "      <th>0</th>\n",
       "      <td>1</td>\n",
       "      <td>의자</td>\n",
       "      <td>12</td>\n",
       "      <td>2010-10-10</td>\n",
       "      <td>재고_체육관</td>\n",
       "    </tr>\n",
       "    <tr>\n",
       "      <th>2</th>\n",
       "      <td>3</td>\n",
       "      <td>농구공</td>\n",
       "      <td>12</td>\n",
       "      <td>2012-09-08</td>\n",
       "      <td>재고_체육관</td>\n",
       "    </tr>\n",
       "  </tbody>\n",
       "</table>\n",
       "</div>"
      ],
      "text/plain": [
       "   번호   품목  수량         날짜    재고위치\n",
       "0   1   의자  50 2012-10-05   재고_식당\n",
       "0   1   의자  12 2010-10-10  재고_체육관\n",
       "2   3  농구공  12 2012-09-08  재고_체육관"
      ]
     },
     "execution_count": 20,
     "metadata": {},
     "output_type": "execute_result"
    }
   ],
   "source": [
    "filter_df = merge_df[merge_df['날짜'] < '2015-01-01']\n",
    "filter_df"
   ]
  },
  {
   "cell_type": "code",
   "execution_count": 22,
   "metadata": {},
   "outputs": [
    {
     "data": {
      "text/html": [
       "<div>\n",
       "<style scoped>\n",
       "    .dataframe tbody tr th:only-of-type {\n",
       "        vertical-align: middle;\n",
       "    }\n",
       "\n",
       "    .dataframe tbody tr th {\n",
       "        vertical-align: top;\n",
       "    }\n",
       "\n",
       "    .dataframe thead th {\n",
       "        text-align: right;\n",
       "    }\n",
       "</style>\n",
       "<table border=\"1\" class=\"dataframe\">\n",
       "  <thead>\n",
       "    <tr style=\"text-align: right;\">\n",
       "      <th></th>\n",
       "      <th>번호</th>\n",
       "      <th>품목</th>\n",
       "      <th>수량</th>\n",
       "      <th>날짜</th>\n",
       "      <th>재고위치</th>\n",
       "    </tr>\n",
       "  </thead>\n",
       "  <tbody>\n",
       "    <tr>\n",
       "      <th>2</th>\n",
       "      <td>3</td>\n",
       "      <td>농구공</td>\n",
       "      <td>12</td>\n",
       "      <td>2012-09-08</td>\n",
       "      <td>재고_체육관</td>\n",
       "    </tr>\n",
       "    <tr>\n",
       "      <th>3</th>\n",
       "      <td>4</td>\n",
       "      <td>네트</td>\n",
       "      <td>2</td>\n",
       "      <td>2015-01-03</td>\n",
       "      <td>재고_체육관</td>\n",
       "    </tr>\n",
       "  </tbody>\n",
       "</table>\n",
       "</div>"
      ],
      "text/plain": [
       "   번호   품목  수량         날짜    재고위치\n",
       "2   3  농구공  12 2012-09-08  재고_체육관\n",
       "3   4   네트   2 2015-01-03  재고_체육관"
      ]
     },
     "execution_count": 22,
     "metadata": {},
     "output_type": "execute_result"
    }
   ],
   "source": [
    "# 특정 기간의 재고 수향이 15개 미만일 경우 엑셀로 저장하기 \n",
    "filter_df = merge_df[merge_df['날짜'].between('2012-1-1', '2015-12-31')]\n",
    "filter_df = filter_df[filter_df['수량'] < 15]\n",
    "\n",
    "filter_df.to_excel('날짜_수량.xlsx')\n",
    "\n",
    "filter_df"
   ]
  }
 ],
 "metadata": {
  "kernelspec": {
   "display_name": "Python 3.11.1 64-bit",
   "language": "python",
   "name": "python3"
  },
  "language_info": {
   "codemirror_mode": {
    "name": "ipython",
    "version": 3
   },
   "file_extension": ".py",
   "mimetype": "text/x-python",
   "name": "python",
   "nbconvert_exporter": "python",
   "pygments_lexer": "ipython3",
   "version": "3.11.1"
  },
  "orig_nbformat": 4,
  "vscode": {
   "interpreter": {
    "hash": "81eef19b52451e11e3f8bf6bc518dd5f147d5a651198624c9c211c83ec7c4923"
   }
  }
 },
 "nbformat": 4,
 "nbformat_minor": 2
}
