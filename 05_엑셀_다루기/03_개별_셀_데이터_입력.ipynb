{
 "cells": [
  {
   "attachments": {},
   "cell_type": "markdown",
   "metadata": {},
   "source": [
    "개별 셀 데이터 입력"
   ]
  },
  {
   "cell_type": "code",
   "execution_count": 1,
   "metadata": {},
   "outputs": [],
   "source": [
    "from openpyxl import Workbook\n",
    "import math\n",
    "import datetime"
   ]
  },
  {
   "cell_type": "code",
   "execution_count": 2,
   "metadata": {},
   "outputs": [],
   "source": [
    "wb = Workbook()\n",
    "ws = wb.active\n",
    "\n",
    "ws['A1'] = '홍길동'  # 문자열\n",
    "ws['A2'] = 1234     # 숫자 (int)\n",
    "ws['A3'] = math.pi  # 숫자 (float)\n",
    "ws['A4'] = datetime.datetime(2019, 1, 3, 15, 25, 0) # 시간 2019-01-03 15:25:00\n",
    "ws['A5'] = '=SIN(PI()/2)'  # 수식\n",
    "\n",
    "wb.save('test.xlsx')"
   ]
  },
  {
   "attachments": {},
   "cell_type": "markdown",
   "metadata": {},
   "source": [
    "여러 셀 작업하기"
   ]
  },
  {
   "cell_type": "code",
   "execution_count": 3,
   "metadata": {},
   "outputs": [
    {
     "data": {
      "text/plain": [
       "((<Cell 'Sheet'.A1>, <Cell 'Sheet'.B1>, <Cell 'Sheet'.C1>),\n",
       " (<Cell 'Sheet'.A2>, <Cell 'Sheet'.B2>, <Cell 'Sheet'.C2>))"
      ]
     },
     "execution_count": 3,
     "metadata": {},
     "output_type": "execute_result"
    }
   ],
   "source": [
    "ws['A1':'C2']"
   ]
  },
  {
   "cell_type": "code",
   "execution_count": 4,
   "metadata": {},
   "outputs": [
    {
     "name": "stdout",
     "output_type": "stream",
     "text": [
      "(<Cell 'Sheet'.A1>, <Cell 'Sheet'.B1>, <Cell 'Sheet'.C1>)\n",
      "(<Cell 'Sheet'.A2>, <Cell 'Sheet'.B2>, <Cell 'Sheet'.C2>)\n"
     ]
    }
   ],
   "source": [
    "# 행 단위로 반복 처리 \n",
    "for row in ws['A1':'C2']:\n",
    "    print(row)"
   ]
  },
  {
   "cell_type": "code",
   "execution_count": 5,
   "metadata": {},
   "outputs": [],
   "source": [
    "# data 변수에 저장된 2차원 데이터를 엑셀에 저장하기 \n",
    "wb2 = Workbook()\n",
    "ws2 = wb2.active\n",
    "data = [(1,2,3),\n",
    "       (4,5,6)]\n",
    "\n",
    "for row, drow in zip(ws2['A1':'C2'], data):\n",
    "  for cell, value in zip(row, drow):\n",
    "    cell.value = value"
   ]
  },
  {
   "cell_type": "code",
   "execution_count": 6,
   "metadata": {},
   "outputs": [],
   "source": [
    "wb2.save('test2.xlsx')"
   ]
  },
  {
   "attachments": {},
   "cell_type": "markdown",
   "metadata": {},
   "source": [
    "A1 셀주소 대신 숫자 인덱스 사용하기"
   ]
  },
  {
   "cell_type": "code",
   "execution_count": 7,
   "metadata": {},
   "outputs": [
    {
     "data": {
      "text/plain": [
       "'A'"
      ]
     },
     "execution_count": 7,
     "metadata": {},
     "output_type": "execute_result"
    }
   ],
   "source": [
    "from openpyxl.utils import get_column_letter\n",
    "get_column_letter(1)"
   ]
  },
  {
   "cell_type": "code",
   "execution_count": 8,
   "metadata": {},
   "outputs": [
    {
     "data": {
      "text/plain": [
       "'C1'"
      ]
     },
     "execution_count": 8,
     "metadata": {},
     "output_type": "execute_result"
    }
   ],
   "source": [
    "# 행과 열 인덱스 값을 기호로 된 셀 주소로 바꾸는 함수 \n",
    "def index2cell(row, col):\n",
    "  return '{}{}'.format(get_column_letter(col), row)\n",
    "\n",
    "index2cell(row=1, col=3)"
   ]
  },
  {
   "cell_type": "code",
   "execution_count": 9,
   "metadata": {},
   "outputs": [],
   "source": [
    "wb3 = Workbook()\n",
    "ws3 = wb3.active\n",
    "\n",
    "data=[('Id','이름','나이'),\n",
    "      (1,'홍길동',50),\n",
    "      (2,'홍길순',60)]\n",
    "\n",
    "# 행 추가 \n",
    "for row in data:\n",
    "  ws3.append(row)\n",
    "\n",
    "wb3.save(\"test3.xlsx\")  "
   ]
  },
  {
   "attachments": {},
   "cell_type": "markdown",
   "metadata": {},
   "source": [
    "일정 간격으로 시간 데이터 만들어 엑셀에 삽입하기"
   ]
  },
  {
   "cell_type": "code",
   "execution_count": 10,
   "metadata": {},
   "outputs": [],
   "source": [
    "import pandas as pd\n",
    "\n",
    "wb4 = Workbook()\n",
    "ws4 = wb4.active\n",
    "\n",
    "ws4.append(('시간', ))\n",
    "data = pd.date_range('2023-2-17 09:00:00', '2023-2-17 15:00:00', freq='10min')\n",
    "\n",
    "for row in data:\n",
    "  ws4.append((row,))\n",
    "\n",
    "ws4.column_dimensions['A'].width = 18   # 18자 폭\n",
    "wb4.save(\"text4.xlsx\")"
   ]
  },
  {
   "cell_type": "code",
   "execution_count": 11,
   "metadata": {},
   "outputs": [
    {
     "data": {
      "text/plain": [
       "Timestamp('2023-02-17 09:00:00', freq='10T')"
      ]
     },
     "execution_count": 11,
     "metadata": {},
     "output_type": "execute_result"
    }
   ],
   "source": [
    "data[0]"
   ]
  },
  {
   "attachments": {},
   "cell_type": "markdown",
   "metadata": {},
   "source": [
    "속성 설정하기 \n",
    "- 워크시트의 열의 폭과 높이 설정"
   ]
  },
  {
   "cell_type": "code",
   "execution_count": 32,
   "metadata": {},
   "outputs": [],
   "source": [
    "wb5 = Workbook()\n",
    "ws5 = wb5.active\n",
    "ws5.append(('시간2', ))\n",
    "ws5['A2'] = datetime.datetime(2019, 1, 3, 15, 25, 0) # 시간 2019-01-03 15:25:00\n",
    "ws5.column_dimensions['A'].width = 18\n",
    "ws5.row_dimensions[2].height = 30"
   ]
  },
  {
   "attachments": {},
   "cell_type": "markdown",
   "metadata": {},
   "source": [
    "표시 형식"
   ]
  },
  {
   "cell_type": "code",
   "execution_count": 33,
   "metadata": {},
   "outputs": [],
   "source": [
    "ws5['A3'] = 123456789\n",
    "wb5.save(\"text5.xlsx\")"
   ]
  },
  {
   "attachments": {},
   "cell_type": "markdown",
   "metadata": {},
   "source": [
    "바탕색 + 폰트"
   ]
  },
  {
   "cell_type": "code",
   "execution_count": 56,
   "metadata": {},
   "outputs": [],
   "source": [
    "from openpyxl import Workbook\n",
    "from openpyxl.styles import PatternFill, Font, Color, colors, Side, Alignment, Border\n",
    "wb = Workbook()\n",
    "ws = wb.active\n",
    "\n",
    "ws.append(('데이터', ))\n",
    "\n",
    "data = pd.date_range('2023-2-17 09:00:00', '2023-2-17 15:00:00', freq='10min')\n",
    "\n",
    "for row in data:\n",
    "  ws.append((row,))\n",
    "\n",
    "\n",
    "ws['A2'] = 123456789\n",
    "cell = ws['A2']\n",
    "cell.number_format = \"#,##0_-\"\n",
    "ws.column_dimensions['A'].width = 18\n",
    "\n",
    "# 배경 색상 \n",
    "fill = PatternFill(start_color='ffff00', fill_type='solid')\n",
    "ws['A1'].fill = fill\n",
    "\n",
    "# 폰트 속성\n",
    "font = Font(name='나눔고딕', size=11, color='FF0000', italic=True, bold=True)\n",
    "ws['A1'].font = font"
   ]
  },
  {
   "attachments": {},
   "cell_type": "markdown",
   "metadata": {},
   "source": [
    "셀 병합"
   ]
  },
  {
   "cell_type": "code",
   "execution_count": 57,
   "metadata": {},
   "outputs": [],
   "source": [
    "ws.merge_cells(\"A2:D2\")\n",
    "ws.unmerge_cells(\"A2:D2\")"
   ]
  },
  {
   "attachments": {},
   "cell_type": "markdown",
   "metadata": {},
   "source": [
    "행과 열 추가/삭제"
   ]
  },
  {
   "cell_type": "code",
   "execution_count": 58,
   "metadata": {},
   "outputs": [],
   "source": [
    "ws.insert_rows(3)\n",
    "ws.insert_cols(1)"
   ]
  },
  {
   "cell_type": "code",
   "execution_count": 59,
   "metadata": {},
   "outputs": [],
   "source": [
    "wb.save(\"test.xlsx\")"
   ]
  }
 ],
 "metadata": {
  "kernelspec": {
   "display_name": "Python 3",
   "language": "python",
   "name": "python3"
  },
  "language_info": {
   "codemirror_mode": {
    "name": "ipython",
    "version": 3
   },
   "file_extension": ".py",
   "mimetype": "text/x-python",
   "name": "python",
   "nbconvert_exporter": "python",
   "pygments_lexer": "ipython3",
   "version": "3.11.0"
  },
  "orig_nbformat": 4,
  "vscode": {
   "interpreter": {
    "hash": "81eef19b52451e11e3f8bf6bc518dd5f147d5a651198624c9c211c83ec7c4923"
   }
  }
 },
 "nbformat": 4,
 "nbformat_minor": 2
}
