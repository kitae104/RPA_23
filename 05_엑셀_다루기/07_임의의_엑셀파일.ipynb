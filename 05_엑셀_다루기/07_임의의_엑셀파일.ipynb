{
 "cells": [
  {
   "cell_type": "markdown",
   "metadata": {},
   "source": [
    "[질문] A열에는 반(0~10), B열에는 한글이름(예를 들어, 김철수, 김민지, 강수지, 이연희, 홍길동), C열에는 국어성적(0~100), D열에는 영어성적(0~100), E열에는 수학성적(0~100)이 들어가 있고 100개의 학생정보가 들어가 있는 엑셀 파일을 만드는 python 코드를 작성해줘"
   ]
  },
  {
   "cell_type": "code",
   "execution_count": 1,
   "metadata": {},
   "outputs": [],
   "source": [
    "import pandas as pd\n",
    "import random\n",
    "\n",
    "# 데이터 생성\n",
    "data = []\n",
    "data.append(['반', '이름', '국어', '영어', '수학'])\n",
    "for _ in range(100):\n",
    "    ban = random.randint(0, 10)  # 반(0~10) 생성\n",
    "    name = random.choice(['김철수', '김민지', '강수지', '이연희', '홍길동'])  # 한글 이름 선택\n",
    "    korean = random.randint(0, 100)  # 국어 성적 생성\n",
    "    english = random.randint(0, 100)  # 영어 성적 생성\n",
    "    math = random.randint(0, 100)  # 수학 성적 생성\n",
    "    data.append([ban, name, korean, english, math])\n",
    "\n",
    "# DataFrame 생성\n",
    "df = pd.DataFrame(data)\n",
    "\n",
    "# Excel 파일 저장\n",
    "file_name = '학생정보.xlsx'\n",
    "df.to_excel(file_name, index=False)\n"
   ]
  },
  {
   "cell_type": "markdown",
   "metadata": {},
   "source": [
    "[질문] pandas와 faker를 이용하여 학생정보.xlsx라는 파일명을 가지고 첫번째 행에는 [반, 이름, 국어, 영어, 수학]라는 값을 가지고 두번째 행부터 열번째 행까지는 임의의 반, 이름, 국어 점수, 영어 점수, 수학 점수를 생성해서 저장하는 파이썬 코드를 작성해줘"
   ]
  },
  {
   "cell_type": "code",
   "execution_count": 7,
   "metadata": {},
   "outputs": [],
   "source": [
    "import pandas as pd\n",
    "from faker import Faker\n",
    "import random\n",
    "\n",
    "# 한글 이름을 생성하기 위한 Faker 객체 생성\n",
    "faker = Faker('ko_KR')\n",
    "\n",
    "# 학생 정보를 담을 빈 리스트 생성\n",
    "students = []\n",
    "\n",
    "# 10명의 학생 정보 생성\n",
    "for _ in range(100):\n",
    "    # 임의의 한글 이름 생성\n",
    "    name = faker.name()\n",
    "    # 임의의 국어, 영어, 수학 점수 생성 (0부터 100 사이)\n",
    "    korean = faker.random_int(min=0, max=100)\n",
    "    english = faker.random_int(min=0, max=100)\n",
    "    math = faker.random_int(min=0, max=100)\n",
    "    # 임의의 반 생성 (1에서 5까지의 값)\n",
    "    ban = str(random.randint(1, 10))\n",
    "    # 학생 정보를 리스트에 추가\n",
    "    students.append([ban, name, korean, english, math])\n",
    "\n",
    "# 데이터프레임 생성\n",
    "df = pd.DataFrame(students, columns=['반', '이름', '국어', '영어', '수학'])\n",
    "\n",
    "# 데이터프레임을 Excel 파일로 저장\n",
    "df.to_excel('학생정보2.xlsx', index=False)\n"
   ]
  }
 ],
 "metadata": {
  "kernelspec": {
   "display_name": "Python 3.11.1 64-bit",
   "language": "python",
   "name": "python3"
  },
  "language_info": {
   "codemirror_mode": {
    "name": "ipython",
    "version": 3
   },
   "file_extension": ".py",
   "mimetype": "text/x-python",
   "name": "python",
   "nbconvert_exporter": "python",
   "pygments_lexer": "ipython3",
   "version": "3.11.1"
  },
  "orig_nbformat": 4,
  "vscode": {
   "interpreter": {
    "hash": "81eef19b52451e11e3f8bf6bc518dd5f147d5a651198624c9c211c83ec7c4923"
   }
  }
 },
 "nbformat": 4,
 "nbformat_minor": 2
}
