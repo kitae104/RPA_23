{
 "cells": [
  {
   "attachments": {},
   "cell_type": "markdown",
   "metadata": {},
   "source": [
    "여러개의 엑셀 판매보고서 합치기\n",
    "* 경로 앞에 r을 지정하여 Python이 원시 문자열로 해석하도록 지시합니다. \n",
    "* 이렇게 하면 \\를 이스케이프 문자로 간주하지 않습니다."
   ]
  },
  {
   "cell_type": "code",
   "execution_count": 1,
   "metadata": {},
   "outputs": [
    {
     "name": "stdout",
     "output_type": "stream",
     "text": [
      "['data\\\\판매보고_부산점.xlsx', 'data\\\\판매보고_시흥점.xlsx', 'data\\\\판매보고_청주점.xlsx']\n"
     ]
    }
   ],
   "source": [
    "import glob\n",
    "\n",
    "reports = glob.glob(r'data/판매보고_*.xlsx')\n",
    "print(reports)"
   ]
  },
  {
   "cell_type": "code",
   "execution_count": 2,
   "metadata": {},
   "outputs": [
    {
     "name": "stdout",
     "output_type": "stream",
     "text": [
      "data\\판매보고_부산점.xlsx\n",
      "data\\판매보고_시흥점.xlsx\n",
      "data\\판매보고_청주점.xlsx\n"
     ]
    }
   ],
   "source": [
    "# for 문을 사용해 하나씩 요소 가져오기 \n",
    "for report in reports:\n",
    "    print(report)"
   ]
  },
  {
   "attachments": {},
   "cell_type": "markdown",
   "metadata": {},
   "source": [
    "엑셀 파일에서 데이터를 읽어 리스트에 저장하기"
   ]
  },
  {
   "cell_type": "code",
   "execution_count": 3,
   "metadata": {},
   "outputs": [
    {
     "name": "stdout",
     "output_type": "stream",
     "text": [
      "['부산점', '시흥점', '청주점']\n",
      "['2022-08-09 00:00:00', '2022-08-09 00:00:00', '2022-08-09 00:00:00']\n",
      "[1500000, 500000, 850000]\n"
     ]
    }
   ],
   "source": [
    "import glob\n",
    "from openpyxl import load_workbook\n",
    "from openpyxl import Workbook\n",
    "\n",
    "reports = glob.glob(r'data/판매보고_*.xlsx')\n",
    "\n",
    "shop_list =[]\n",
    "date_list = []\n",
    "money_list = []\n",
    "\n",
    "for report in reports:\n",
    "    # 함수가 아닌 연산이 완료된 최종 결괏값으로 보고 싶다면 엑셀 파일을 열 때 \"data_only\"라는 파라미터에 \"True\"를 설정\n",
    "    wb = load_workbook(report, data_only=True)\n",
    "    ws = wb.active\n",
    "    shop_list.append(ws['B1'].value)\n",
    "    date_list.append(str(ws['B2'].value))\n",
    "    money_list.append(ws['B3'].value)\n",
    "\n",
    "print(shop_list)\n",
    "print(date_list)\n",
    "print(money_list)"
   ]
  },
  {
   "attachments": {},
   "cell_type": "markdown",
   "metadata": {},
   "source": [
    "판매 보고서를 하나의 엑셀 파일로 저장하기 "
   ]
  },
  {
   "cell_type": "code",
   "execution_count": 4,
   "metadata": {},
   "outputs": [
    {
     "name": "stdout",
     "output_type": "stream",
     "text": [
      "['부산점', '시흥점', '청주점']\n",
      "['2022-08-09 00:00:00', '2022-08-09 00:00:00', '2022-08-09 00:00:00']\n",
      "[1500000, 500000, 850000]\n"
     ]
    }
   ],
   "source": [
    "import glob\n",
    "from openpyxl import load_workbook\n",
    "from openpyxl import Workbook\n",
    "\n",
    "# 파일 불러오기 \n",
    "reports = glob.glob(r'data/판매보고_*.xlsx')\n",
    "\n",
    "shop_list =[]\n",
    "date_list = []\n",
    "money_list = []\n",
    "\n",
    "for report in reports:\n",
    "    wb = load_workbook(report, data_only=True)\n",
    "    ws = wb.active\n",
    "    shop_list.append(ws['B1'].value)\n",
    "    date_list.append(str(ws['B2'].value))\n",
    "    money_list.append(ws['B3'].value)\n",
    "\n",
    "print(shop_list)\n",
    "print(date_list)\n",
    "print(money_list)\n",
    "\n",
    "try:\n",
    "    wb = load_workbook(r\"data/결과.xlsx\", data_only=True)\n",
    "    ws  = wb.active\n",
    "except:\n",
    "    wb = Workbook()\n",
    "    ws = wb.active\n",
    "\n",
    "for i in range(len(shop_list)):\n",
    "    ws.cell(row=i+1, column=1).value = shop_list[i]\n",
    "    ws.cell(row=i+1, column=2).value = date_list[i]\n",
    "    ws.cell(row=i+1, column=3).value = money_list[i]\n",
    "\n",
    "# 파일 저장하기 \n",
    "wb.save(r\"data/결과.xlsx\")"
   ]
  }
 ],
 "metadata": {
  "kernelspec": {
   "display_name": "Python 3",
   "language": "python",
   "name": "python3"
  },
  "language_info": {
   "codemirror_mode": {
    "name": "ipython",
    "version": 3
   },
   "file_extension": ".py",
   "mimetype": "text/x-python",
   "name": "python",
   "nbconvert_exporter": "python",
   "pygments_lexer": "ipython3",
   "version": "3.11.0"
  },
  "orig_nbformat": 4
 },
 "nbformat": 4,
 "nbformat_minor": 2
}
