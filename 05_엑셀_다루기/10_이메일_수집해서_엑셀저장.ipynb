{
 "cells": [
  {
   "cell_type": "code",
   "execution_count": 1,
   "metadata": {},
   "outputs": [
    {
     "name": "stdout",
     "output_type": "stream",
     "text": [
      "['mihye@yna.co.kr', 'yoon2@yna.co.kr']\n"
     ]
    }
   ],
   "source": [
    "import requests\n",
    "from bs4 import BeautifulSoup\n",
    "import re\n",
    "import pandas as pd\n",
    "\n",
    "url = \"https://v.daum.net/v/20230303140011566\"  # 이메일을 수집할 웹 페이지 주소\n",
    "response = requests.get(url)  # 웹 페이지 요청\n",
    "\n",
    "soup = BeautifulSoup(response.text, \"html.parser\")  # BeautifulSoup 객체 생성\n",
    "emails = []\n",
    "\n",
    "# 이메일 패턴\n",
    "email_pattern = r'\\b[A-Za-z0-9._%+-]+@[A-Za-z0-9.-]+\\.[A-Z|a-z]{2,}\\b'\n",
    "\n",
    "# 웹 페이지에서 모든 텍스트 추출\n",
    "text = soup.get_text()\n",
    "\n",
    "# 이메일 패턴 매칭 후 리스트에 추가\n",
    "for match in re.findall(email_pattern, text):\n",
    "    emails.append(match)\n",
    "\n",
    "# 중복 제거\n",
    "emails = list(set(emails))\n",
    "\n",
    "# 결과 출력\n",
    "print(emails)\n",
    "\n",
    "# 이메일을 엑셀 파일로 저장\n",
    "df = pd.DataFrame(emails, columns=[\"Email\"])\n",
    "df.to_excel(\"./이메일.xlsx\", index=False)"
   ]
  }
 ],
 "metadata": {
  "kernelspec": {
   "display_name": "Python 3",
   "language": "python",
   "name": "python3"
  },
  "language_info": {
   "codemirror_mode": {
    "name": "ipython",
    "version": 3
   },
   "file_extension": ".py",
   "mimetype": "text/x-python",
   "name": "python",
   "nbconvert_exporter": "python",
   "pygments_lexer": "ipython3",
   "version": "3.11.0"
  }
 },
 "nbformat": 4,
 "nbformat_minor": 2
}
