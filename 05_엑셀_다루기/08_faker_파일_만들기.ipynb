{
 "cells": [
  {
   "cell_type": "code",
   "execution_count": 1,
   "metadata": {},
   "outputs": [],
   "source": [
    "import pandas as pd\n",
    "from faker import Faker\n",
    "\n",
    "# Faker 객체 생성\n",
    "fake = Faker('ko_KR')\n",
    "\n",
    "# 필요한 데이터 개수\n",
    "num_rows = 10\n",
    "\n",
    "# 빈 리스트 생성\n",
    "data = []\n",
    "\n",
    "# 가상의 데이터 생성\n",
    "for _ in range(num_rows):\n",
    "    name = fake.name()\n",
    "    age = fake.random_int(min=20, max=60)\n",
    "    gender = fake.random_element(['남자', '여자'])\n",
    "    occupation = fake.job()\n",
    "    marital_status = fake.random_element(['기혼', '미혼'])\n",
    "    children = fake.random_int(min=0, max=3)\n",
    "    data.append([name, age, gender, occupation, marital_status, children])\n",
    "\n",
    "# 데이터프레임 생성\n",
    "df = pd.DataFrame(data, columns=['이름', '나이', '성별', '직업', '결혼여부', '자녀수'])\n",
    "\n",
    "# Excel 파일로 저장\n",
    "df.to_excel('info.xlsx', index=False)"
   ]
  },
  {
   "cell_type": "code",
   "execution_count": null,
   "metadata": {},
   "outputs": [],
   "source": [
    "import pandas as pd\n",
    "from faker import Faker\n",
    "\n",
    "# Faker 객체 생성\n",
    "fake = Faker('ko_KR')\n",
    "\n",
    "# 필요한 데이터 개수\n",
    "num_rows = 10\n",
    "\n",
    "# 빈 리스트 생성\n",
    "data = []\n",
    "\n",
    "# 가상의 데이터 생성\n",
    "for _ in range(num_rows):\n",
    "    name = fake.name()\n",
    "    age = fake.random_int(min=20, max=60)\n",
    "    gender = fake.random_element(['남자', '여자'])\n",
    "    occupation = fake.random_element(['초등학교 선생님', '중학교 선생님', '고등학교 선생님'])\n",
    "    marital_status = fake.random_element(['기혼', '미혼'])\n",
    "    children = fake.random_int(min=0, max=3)\n",
    "    data.append([name, age, gender, occupation, marital_status, children])\n",
    "\n",
    "# 데이터프레임 생성\n",
    "df = pd.DataFrame(data, columns=['이름', '나이', '성별', '직업', '결혼여부', '자녀수'])\n",
    "\n",
    "# Excel 파일로 저장\n",
    "df.to_excel('info2.xlsx', index=False)"
   ]
  }
 ],
 "metadata": {
  "kernelspec": {
   "display_name": "Python 3.11.1 64-bit",
   "language": "python",
   "name": "python3"
  },
  "language_info": {
   "codemirror_mode": {
    "name": "ipython",
    "version": 3
   },
   "file_extension": ".py",
   "mimetype": "text/x-python",
   "name": "python",
   "nbconvert_exporter": "python",
   "pygments_lexer": "ipython3",
   "version": "3.11.1"
  },
  "orig_nbformat": 4,
  "vscode": {
   "interpreter": {
    "hash": "81eef19b52451e11e3f8bf6bc518dd5f147d5a651198624c9c211c83ec7c4923"
   }
  }
 },
 "nbformat": 4,
 "nbformat_minor": 2
}
