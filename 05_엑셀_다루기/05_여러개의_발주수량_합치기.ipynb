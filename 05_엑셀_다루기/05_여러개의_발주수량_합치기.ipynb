{
 "cells": [
  {
   "cell_type": "markdown",
   "metadata": {},
   "source": [
    "동일한 물품은 수량을 더해 하나의 엑셀 파일로 만들기"
   ]
  },
  {
   "cell_type": "code",
   "execution_count": 1,
   "metadata": {},
   "outputs": [],
   "source": [
    "import glob\n",
    "from openpyxl import load_workbook"
   ]
  },
  {
   "cell_type": "code",
   "execution_count": 4,
   "metadata": {},
   "outputs": [
    {
     "name": "stdout",
     "output_type": "stream",
     "text": [
      "['data\\\\발주서_시흥.xlsx', 'data\\\\발주서_청주.xlsx', 'data\\\\발주서_해운대.xlsx']\n"
     ]
    }
   ],
   "source": [
    "orders = glob.glob(r'data\\발주서_*.xlsx')   # 발주서_로 시작하는 모든 엑셀 파일을 찾아서 리스트로 만듦\n",
    "print(orders)"
   ]
  },
  {
   "cell_type": "markdown",
   "metadata": {},
   "source": [
    "여러개의 엑셀 파일에서 값 읽기 코드 만들기"
   ]
  },
  {
   "cell_type": "code",
   "execution_count": 6,
   "metadata": {},
   "outputs": [
    {
     "name": "stdout",
     "output_type": "stream",
     "text": [
      "발주처: ['시흥', '청주', '해운대']\n"
     ]
    }
   ],
   "source": [
    "order_list =[]\n",
    "for order in orders:                              # 발주서 파일을 하나씩 가져오기\n",
    "    wb = load_workbook(order, data_only=True)     # 수식이 아닌 값으로 가져오기\n",
    "    ws = wb.active                                # 현재 활성화된 sheet 가져오기\n",
    "    order_list.append(ws['B1'].value)            # 발주처명\n",
    "\n",
    "print(\"발주처:\", order_list)"
   ]
  },
  {
   "cell_type": "code",
   "execution_count": 7,
   "metadata": {},
   "outputs": [
    {
     "name": "stdout",
     "output_type": "stream",
     "text": [
      "발주처 리스트 : ['시흥', '청주', '해운대']\n",
      "물품 리스트 : ['연필', '자', 'A4용지', '볼펜', '연필', '연필', '볼펜', '필통']\n",
      "수량 리스트 : [100, 150, 100, 50, 50, 50, 100, 10]\n"
     ]
    }
   ],
   "source": [
    "order_list =[]\n",
    "product_list = []\n",
    "amount_list = []\n",
    "for order in orders:\n",
    "    wb = load_workbook(order, data_only=True)\n",
    "    ws = wb.active\n",
    "    order_list.append(ws['B1'].value)\n",
    "    for data in ws['A4':'B12']:\n",
    "        for cell in data:\n",
    "            if cell.column == 1:\n",
    "                if cell.value is not None:\n",
    "                    product_list.append(cell.value)\n",
    "            elif cell.column == 2:\n",
    "                if cell.value is not None:\n",
    "                    amount_list.append(cell.value)\n",
    "\n",
    "print(\"발주처 리스트 :\",order_list)\n",
    "print(\"물품 리스트 :\",product_list)\n",
    "print(\"수량 리스트 :\",amount_list)"
   ]
  },
  {
   "cell_type": "code",
   "execution_count": 8,
   "metadata": {},
   "outputs": [
    {
     "data": {
      "text/html": [
       "<div>\n",
       "<style scoped>\n",
       "    .dataframe tbody tr th:only-of-type {\n",
       "        vertical-align: middle;\n",
       "    }\n",
       "\n",
       "    .dataframe tbody tr th {\n",
       "        vertical-align: top;\n",
       "    }\n",
       "\n",
       "    .dataframe thead th {\n",
       "        text-align: right;\n",
       "    }\n",
       "</style>\n",
       "<table border=\"1\" class=\"dataframe\">\n",
       "  <thead>\n",
       "    <tr style=\"text-align: right;\">\n",
       "      <th></th>\n",
       "      <th>수량</th>\n",
       "    </tr>\n",
       "    <tr>\n",
       "      <th>물품</th>\n",
       "      <th></th>\n",
       "    </tr>\n",
       "  </thead>\n",
       "  <tbody>\n",
       "    <tr>\n",
       "      <th>A4용지</th>\n",
       "      <td>100</td>\n",
       "    </tr>\n",
       "    <tr>\n",
       "      <th>볼펜</th>\n",
       "      <td>150</td>\n",
       "    </tr>\n",
       "    <tr>\n",
       "      <th>연필</th>\n",
       "      <td>200</td>\n",
       "    </tr>\n",
       "    <tr>\n",
       "      <th>자</th>\n",
       "      <td>150</td>\n",
       "    </tr>\n",
       "    <tr>\n",
       "      <th>필통</th>\n",
       "      <td>10</td>\n",
       "    </tr>\n",
       "  </tbody>\n",
       "</table>\n",
       "</div>"
      ],
      "text/plain": [
       "       수량\n",
       "물품       \n",
       "A4용지  100\n",
       "볼펜    150\n",
       "연필    200\n",
       "자     150\n",
       "필통     10"
      ]
     },
     "execution_count": 8,
     "metadata": {},
     "output_type": "execute_result"
    }
   ],
   "source": [
    "import pandas as pd\n",
    "df = pd.DataFrame({ '물품' :  product_list, '수량' :  amount_list})\n",
    "df = df.groupby('물품').sum()\n",
    "df"
   ]
  },
  {
   "cell_type": "code",
   "execution_count": null,
   "metadata": {},
   "outputs": [],
   "source": [
    "df.to_excel('data/발주서_합계.xlsx')"
   ]
  }
 ],
 "metadata": {
  "kernelspec": {
   "display_name": "Python 3.11.1 64-bit",
   "language": "python",
   "name": "python3"
  },
  "language_info": {
   "codemirror_mode": {
    "name": "ipython",
    "version": 3
   },
   "file_extension": ".py",
   "mimetype": "text/x-python",
   "name": "python",
   "nbconvert_exporter": "python",
   "pygments_lexer": "ipython3",
   "version": "3.11.1"
  },
  "orig_nbformat": 4,
  "vscode": {
   "interpreter": {
    "hash": "81eef19b52451e11e3f8bf6bc518dd5f147d5a651198624c9c211c83ec7c4923"
   }
  }
 },
 "nbformat": 4,
 "nbformat_minor": 2
}
