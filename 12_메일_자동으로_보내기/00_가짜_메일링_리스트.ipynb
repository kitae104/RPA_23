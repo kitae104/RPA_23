{
 "cells": [
  {
   "cell_type": "code",
   "execution_count": 3,
   "metadata": {},
   "outputs": [
    {
     "name": "stdout",
     "output_type": "stream",
     "text": [
      "['이정숙', '이영길', '진영자', '박춘자', '정수빈', '윤정웅', '김도현', '김성현', '민정훈', '권은지', '홍성훈', '고현준', '이도윤', '김상철', '김민수', '장수빈', '이상호', '김상훈', '강서준', '김보람', '이정웅', '장혜진', '이은지', '손지은', '이서윤', '박준서', '박영호', '안예원', '이미숙', '백미숙', '최진호', '박준호', '김주원', '김정웅', '박현지', '민은주', '이영길', '박정희', '김은경', '김현준', '진도현', '최은주', '이재호', '우종수', '최옥순', '문지훈', '김승민', '김재호', '이옥순', '박정훈', '박윤서', '김혜진', '이민재', '김영자', '김영철', '안지은', '장예준', '이준서', '송승민', '김명숙', '한하은', '김영자', '권서준', '이영수', '김현지', '김영호', '강순옥', '윤정훈', '김미숙', '이옥순', '강경숙', '민예원', '한준혁', '이아름', '윤지영', '강수진', '김은지', '김숙자', '차준영', '최승현', '김예은', '이하윤', '박선영', '권시우', '장경숙', '한숙자', '김영진', '류승민', '김정자', '송정남', '최서윤', '양은주', '김지은', '류은주', '박예준', '박성진', '장재호', '박지현', '김주원', '송승현']\n",
      "[82, 73, 96, 70, 95, 84, 96, 97, 78, 95, 96, 86, 83, 98, 78, 70, 91, 73, 94, 91, 87, 67, 77, 92, 70, 67, 100, 78, 66, 98, 77, 76, 80, 91, 99, 90, 68, 65, 92, 86, 75, 68, 67, 80, 76, 97, 98, 85, 92, 79, 99, 67, 97, 87, 75, 68, 79, 88, 88, 95, 68, 99, 84, 68, 87, 74, 88, 69, 74, 97, 95, 93, 81, 66, 94, 74, 90, 68, 85, 99, 97, 91, 90, 97, 77, 100, 81, 87, 83, 78, 74, 89, 81, 77, 65, 94, 80, 76, 92, 90]\n",
      "['caeweon94@example.org', 'gimeunyeong@example.net', 'ujin30@example.org', 'yeongsugjo@example.org', 'hwangjeongja@example.org', 'hyeonjun86@example.net', 'sryu@example.com', 'seonyeong38@example.org', 'iyun@example.net', 'yeonghyi35@example.org', 'rgim@example.net', 'jeongung02@example.com', 'rgim@example.net', 'ijinu@example.net', 'seojungim@example.net', 'ieunji@example.com', 'ryujiyeon@example.com', 'hayungim@example.net', 'jungsugim@example.org', 'sanghun34@example.com', 'sanghyeoni@example.org', 'areum21@example.net', 'yunogsun@example.net', 'jungsuna@example.org', 'dohyeonhan@example.org', 'ygim@example.org', 'jieun26@example.net', 'ocoe@example.org', 'gimyeongsig@example.com', 'yeongilhong@example.net', 'jimin71@example.org', 'seoyeon47@example.org', 'sujingim@example.com', 'sgim@example.net', 'lyun@example.org', 'yeongjin97@example.net', 'ggim@example.org', 'bgim@example.com', 'ryusiu@example.org', 'sujinhan@example.org', 'jaehyeongim@example.org', 'jinu70@example.net', 'seoyunnam@example.org', 'yeongsunheo@example.com', 'tcoe@example.com', 'anyeongsun@example.com', 'gimjunyeong@example.com', 'sugjai@example.com', 'coeyeonggil@example.org', 'yeongil10@example.net', 'sugja79@example.org', 'hyeonju26@example.net', 'gimjihu@example.com', 'seoyeongo@example.net', 'hgim@example.net', 'bageungyeong@example.com', 'iyeongmi@example.com', 'hyeonju86@example.org', 'minjuni@example.org', 'yejin83@example.org', 'byeongceolyang@example.net', 'gyeongja75@example.com', 'junyeong57@example.org', 'mgim@example.com', 'jeonghyi29@example.net', 'minjaegim@example.net', 'gweonjeongsu@example.org', 'gyeongsu72@example.net', 'fi@example.org', 'gimeunju@example.net', 'iminsu@example.org', 'sujini@example.com', 'eunyeongi@example.com', 'jiweon92@example.org', 'haeun23@example.com', 'bagseonghyeon@example.com', 'jiweon82@example.net', 'bagjiyeong@example.org', 'eunjigim@example.org', 'seohyeon77@example.org', 'ii@example.com', 'wno@example.net', 'useo@example.com', 'obag@example.net', 'kcoe@example.net', 'bagjeonghyi@example.org', 'gimseungmin@example.org', 'zgang@example.net', 'ogjagang@example.net', 'dohyeonha@example.net', 'junhogim@example.org', 'minminjun@example.net', 'jieungim@example.org', 'junhobag@example.com', 'minseog14@example.net', 'jeongsu91@example.net', 'eyu@example.com', 'jeonyeongmi@example.com', 'yeonghyi78@example.com', 'seongmin70@example.net']\n"
     ]
    }
   ],
   "source": [
    "from faker import Faker\n",
    "import pandas as pd\n",
    "import random\n",
    "\n",
    "fake = Faker(\"ko_KR\")\n",
    "\n",
    "fake_name_list = [fake.name() for i in range(100)]\n",
    "fake_score_list = [random.randint(65,100) for i in range(100)]\n",
    "fake_email_list = [fake.email() for i in range(100)]\n",
    "\n",
    "print(fake_name_list)\n",
    "print(fake_score_list)\n",
    "print(fake_email_list)\n",
    "\n",
    "df = pd.DataFrame({ '이름' :  fake_name_list,\n",
    "                    '점수' :  fake_score_list,\n",
    "                    '이메일' : fake_email_list\n",
    "                    })\n",
    "\n",
    "df.to_excel('이름_점수_이메일.xlsx')"
   ]
  }
 ],
 "metadata": {
  "kernelspec": {
   "display_name": "Python 3.11.1 64-bit",
   "language": "python",
   "name": "python3"
  },
  "language_info": {
   "codemirror_mode": {
    "name": "ipython",
    "version": 3
   },
   "file_extension": ".py",
   "mimetype": "text/x-python",
   "name": "python",
   "nbconvert_exporter": "python",
   "pygments_lexer": "ipython3",
   "version": "3.11.1"
  },
  "orig_nbformat": 4,
  "vscode": {
   "interpreter": {
    "hash": "81eef19b52451e11e3f8bf6bc518dd5f147d5a651198624c9c211c83ec7c4923"
   }
  }
 },
 "nbformat": 4,
 "nbformat_minor": 2
}
