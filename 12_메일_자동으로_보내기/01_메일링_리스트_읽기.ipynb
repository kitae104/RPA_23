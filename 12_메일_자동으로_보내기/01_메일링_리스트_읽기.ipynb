{
 "cells": [
  {
   "cell_type": "code",
   "execution_count": 1,
   "metadata": {},
   "outputs": [],
   "source": [
    "import openpyxl"
   ]
  },
  {
   "cell_type": "code",
   "execution_count": 2,
   "metadata": {},
   "outputs": [],
   "source": [
    "# 엑셀 파일 열기\n",
    "wb = openpyxl.load_workbook('이메일.xlsx')\n",
    "sheet = wb.active"
   ]
  },
  {
   "cell_type": "code",
   "execution_count": 3,
   "metadata": {},
   "outputs": [
    {
     "name": "stdout",
     "output_type": "stream",
     "text": [
      "test@example.com, 홍길동\n",
      "hello@example.com, 장다인\n",
      "hi@example.com, 김땡땡\n",
      "good@example.com, 이땡땡\n"
     ]
    }
   ],
   "source": [
    "# 각 행의 이메일과 이름 출력\n",
    "for row in sheet.iter_rows(min_row=2, values_only=True):  # 첫 번째 행은 제외\n",
    "    email, name = row\n",
    "    print(f\"{email}, {name}\")\n",
    "\n",
    "# 엑셀 파일 닫기\n",
    "wb.close()\n"
   ]
  },
  {
   "attachments": {},
   "cell_type": "markdown",
   "metadata": {},
   "source": [
    "이메일 보내기"
   ]
  },
  {
   "cell_type": "code",
   "execution_count": 4,
   "metadata": {},
   "outputs": [],
   "source": [
    "import openpyxl\n",
    "import smtplib\n",
    "from email.mime.text import MIMEText\n",
    "from email.mime.multipart import MIMEMultipart"
   ]
  },
  {
   "cell_type": "code",
   "execution_count": 5,
   "metadata": {},
   "outputs": [],
   "source": [
    "# 이메일 설정\n",
    "your_email_address = \"your_email_address@example.com\"  # 본인의 이메일 주소\n",
    "your_email_password = \"your_email_password\"  # 본인의 이메일 비밀번호\n",
    "smtp_server = \"smtp.naver.com\"  # SMTP 서버 주소\n",
    "smtp_port = 587  # SMTP 서버 포트 번호\n",
    "\n",
    "# 엑셀 파일 열기\n",
    "wb = openpyxl.load_workbook('이메일.xlsx')\n",
    "sheet = wb.active"
   ]
  },
  {
   "cell_type": "code",
   "execution_count": null,
   "metadata": {},
   "outputs": [],
   "source": [
    "# 각 행의 이메일과 이름에 대해 메일 보내기\n",
    "for row in sheet.iter_rows(min_row=2, values_only=True):  # 첫 번째 행은 제외\n",
    "    email, name = row\n",
    "\n",
    "    # 이메일 내용 작성\n",
    "    subject = f\"{name}님 환영합니다.\"\n",
    "    body = f\"{name}님 늦지 않게 와주세요.\"\n",
    "    message = MIMEMultipart()\n",
    "    message['From'] = your_email_address\n",
    "    message['To'] = email\n",
    "    message['Subject'] = subject\n",
    "    message.attach(MIMEText(body, 'plain'))\n",
    "\n",
    "    # 이메일 보내기\n",
    "    with smtplib.SMTP(smtp_server, smtp_port) as smtp:\n",
    "        smtp.ehlo()\n",
    "        smtp.starttls()\n",
    "        smtp.login(your_email_address, your_email_password)\n",
    "        smtp.sendmail(your_email_address, email, message.as_string())\n",
    "\n",
    "# 엑셀 파일 닫기\n",
    "wb.close()\n"
   ]
  }
 ],
 "metadata": {
  "kernelspec": {
   "display_name": "Python 3",
   "language": "python",
   "name": "python3"
  },
  "language_info": {
   "codemirror_mode": {
    "name": "ipython",
    "version": 3
   },
   "file_extension": ".py",
   "mimetype": "text/x-python",
   "name": "python",
   "nbconvert_exporter": "python",
   "pygments_lexer": "ipython3",
   "version": "3.11.0"
  },
  "orig_nbformat": 4
 },
 "nbformat": 4,
 "nbformat_minor": 2
}
