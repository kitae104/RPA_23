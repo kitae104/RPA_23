{
 "cells": [
  {
   "cell_type": "markdown",
   "metadata": {},
   "source": [
    "1. 구글 메일 설정 \n",
    "- 모든 설정 보기 \n",
    "- 전달 및 POP/IMAP\n",
    "2. 앱 비밀 번호 설정 \n",
    "- Google 계정 관리\n",
    "- 보안 탭 - 2단계 인증 \n",
    "- 앱 비밀번호 - 앱 선택 - 기기 선택 - 앱 비밀번호 생성"
   ]
  },
  {
   "cell_type": "code",
   "execution_count": 1,
   "metadata": {},
   "outputs": [],
   "source": [
    "import smtplib\n",
    "from email.mime.text import MIMEText"
   ]
  },
  {
   "cell_type": "markdown",
   "metadata": {},
   "source": [
    "메일 전송을 위한 함수 정의"
   ]
  },
  {
   "cell_type": "code",
   "execution_count": 2,
   "metadata": {},
   "outputs": [],
   "source": [
    "def send_naver_google_email(naver_or_google,send_email,send_pwd,recv_email,subject,text):\n",
    "    try:\n",
    "        if naver_or_google == \"naver\":\n",
    "            smtp_name = \"smtp.naver.com\" \n",
    "            smtp_port = 587\n",
    "        else:\n",
    "            smtp_name = \"smtp.gmail.com\"\n",
    "            smtp_port = 587\n",
    "\n",
    "        msg = MIMEText(text)\n",
    "\n",
    "        msg['Subject'] = subject\n",
    "        msg['From'] = send_email\n",
    "        msg['To'] = recv_email\n",
    "        #print(msg.as_string())\n",
    "\n",
    "        s=smtplib.SMTP( smtp_name , smtp_port )                   # 메일 서버 연결\n",
    "        s.starttls()                                              # TLS 보안 처리\n",
    "        s.login( send_email , send_pwd )                          # 로그인\n",
    "        s.sendmail( send_email, recv_email, msg.as_string() )     # 메일 전송, 문자열로 변환하여 보냅니다.\n",
    "        s.quit()                                                  # 세션 종료   \n",
    "        return recv_email + \" 메일을 성공적으로 보냈습니다.\"\n",
    "    except:\n",
    "        return recv_email + \" 메일보내는데 실패하였습니다.\""
   ]
  },
  {
   "cell_type": "code",
   "execution_count": 4,
   "metadata": {},
   "outputs": [
    {
     "name": "stdout",
     "output_type": "stream",
     "text": [
      "aqua0405@gmail.com 메일을 성공적으로 보냈습니다.\n"
     ]
    }
   ],
   "source": [
    "send_email = \"보낼 이메일\"\n",
    "send_pwd = \"패스워드\"\n",
    "recv_email = \"받을 이메일\"\n",
    "subject = \"메일 제목 입니다.22\"\n",
    "text = \"\"\" 메일 내용을 입력합니다.\n",
    "여러줄 입력하여도 됩니다.\n",
    "\"\"\"\n",
    "\n",
    "print( send_naver_google_email(\"naver\",send_email,send_pwd,recv_email,subject,text) )"
   ]
  }
 ],
 "metadata": {
  "kernelspec": {
   "display_name": "Python 3.11.1 64-bit",
   "language": "python",
   "name": "python3"
  },
  "language_info": {
   "codemirror_mode": {
    "name": "ipython",
    "version": 3
   },
   "file_extension": ".py",
   "mimetype": "text/x-python",
   "name": "python",
   "nbconvert_exporter": "python",
   "pygments_lexer": "ipython3",
   "version": "3.11.1"
  },
  "orig_nbformat": 4,
  "vscode": {
   "interpreter": {
    "hash": "81eef19b52451e11e3f8bf6bc518dd5f147d5a651198624c9c211c83ec7c4923"
   }
  }
 },
 "nbformat": 4,
 "nbformat_minor": 2
}
