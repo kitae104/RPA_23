{
 "cells": [
  {
   "cell_type": "code",
   "execution_count": 1,
   "metadata": {},
   "outputs": [],
   "source": [
    "import tkinter as tk\n",
    "import random\n",
    "\n",
    "def generate_lotto_numbers():\n",
    "    numbers = random.sample(range(1, 46), 6)\n",
    "    numbers.sort()\n",
    "    return numbers\n",
    "\n",
    "def generate_and_display_numbers():\n",
    "    numbers = generate_lotto_numbers()\n",
    "    number_label.config(text=\" \".join(str(num) for num in numbers))\n",
    "\n",
    "# tkinter 윈도우 생성\n",
    "window = tk.Tk()\n",
    "window.title(\"로또 번호 생성기\")\n",
    "window.geometry(\"300x100\")\n",
    "\n",
    "# 버튼과 번호 출력 레이블 생성\n",
    "button = tk.Button(text=\"번호 생성\", command=generate_and_display_numbers)\n",
    "number_label = tk.Label(text=\"\")\n",
    "number_label.pack()\n",
    "\n",
    "# 버튼과 번호 출력 레이블 배치\n",
    "button.pack(pady=10)\n",
    "number_label.pack()\n",
    "\n",
    "window.mainloop()"
   ]
  }
 ],
 "metadata": {
  "kernelspec": {
   "display_name": "Python 3",
   "language": "python",
   "name": "python3"
  },
  "language_info": {
   "codemirror_mode": {
    "name": "ipython",
    "version": 3
   },
   "file_extension": ".py",
   "mimetype": "text/x-python",
   "name": "python",
   "nbconvert_exporter": "python",
   "pygments_lexer": "ipython3",
   "version": "3.11.6"
  }
 },
 "nbformat": 4,
 "nbformat_minor": 2
}
