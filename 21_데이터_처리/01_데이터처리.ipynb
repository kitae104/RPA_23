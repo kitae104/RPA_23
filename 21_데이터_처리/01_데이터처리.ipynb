{
 "cells": [
  {
   "cell_type": "markdown",
   "metadata": {},
   "source": [
    "44개의 엑셀 파일을 하나의 파일로 통합한 후 국가별이 아닌 상품별로 데이터를 나누기 "
   ]
  },
  {
   "cell_type": "code",
   "execution_count": 2,
   "metadata": {},
   "outputs": [
    {
     "name": "stdout",
     "output_type": "stream",
     "text": [
      "['product_america_automobile.xlsx', 'product_america_battery.xlsx', 'product_america_metaverse.xlsx', 'product_america_semiconductor.xlsx', 'product_canada_automobile.xlsx', 'product_canada_battery.xlsx', 'product_canada_metaverse.xlsx', 'product_canada_semiconductor.xlsx', 'product_china_automobile.xlsx', 'product_china_battery.xlsx', 'product_china_metaverse.xlsx', 'product_china_semiconductor.xlsx', 'product_england_automobile.xlsx', 'product_england_battery.xlsx', 'product_england_metaverse.xlsx', 'product_england_semiconductor.xlsx', 'product_france_automobile.xlsx', 'product_france_battery.xlsx', 'product_france_metaverse.xlsx', 'product_france_semiconductor.xlsx', 'product_germany_automobile.xlsx', 'product_germany_battery.xlsx', 'product_germany_metaverse.xlsx', 'product_germany_semiconductor.xlsx', 'product_italy_automobile.xlsx', 'product_italy_battery.xlsx', 'product_italy_metaverse.xlsx', 'product_italy_semiconductor.xlsx', 'product_japan_automobile.xlsx', 'product_japan_battery.xlsx', 'product_japan_metaverse.xlsx', 'product_japan_semiconductor.xlsx', 'product_south_africa_automobile.xlsx', 'product_south_africa_battery.xlsx', 'product_south_africa_metaverse.xlsx', 'product_south_africa_semiconductor.xlsx', 'product_spain_automobile.xlsx', 'product_spain_battery.xlsx', 'product_spain_metaverse.xlsx', 'product_spain_semiconductor.xlsx', 'product_taiwan_automobile.xlsx', 'product_taiwan_battery.xlsx', 'product_taiwan_metaverse.xlsx', 'product_taiwan_semiconductor.xlsx']\n"
     ]
    }
   ],
   "source": [
    "#1 필요한 라이브러리 설치하기\n",
    "import pandas as pd\n",
    "import os\n",
    "\n",
    "bacic_folder = 'new_data'\n",
    "\n",
    "#2 엑셀취합자료의 자료 가져오기\n",
    "file_list = os.listdir(f\"./{bacic_folder}\")\n",
    "file_list_xls = []\n",
    "for a in file_list:\n",
    "    if \".xls\" in a:\n",
    "        file_list_xls.append(a)\n",
    "print(file_list_xls)"
   ]
  },
  {
   "cell_type": "code",
   "execution_count": 3,
   "metadata": {},
   "outputs": [],
   "source": [
    "#3.각각의 엑셀파일을 편집후와 함께 저장한다.\n",
    "data_unit_sum = pd.DataFrame()\n",
    "for b in file_list_xls:\n",
    "    df = pd.read_excel(f\"./{bacic_folder}/\"+b)\n",
    "    df['나라'] = b.split(\"_\")[1]\n",
    "    data_unit = df[['나라','조사제품','제목','내용']]\n",
    "    data_unit_sum = pd.concat([data_unit_sum, data_unit], axis = 0)\n",
    "data_unit_sum.to_excel('./combined_excel.xlsx')"
   ]
  },
  {
   "cell_type": "code",
   "execution_count": null,
   "metadata": {},
   "outputs": [],
   "source": [
    "#4. 만들어진 파일을 기반으로 제품별로 구분하여 분할 저장하기\n",
    "product_list = data_unit_sum['조사제품'].value_counts()\n",
    "for d in dict(product_list):\n",
    "    xls_name = data_unit_sum[data_unit_sum['조사제품']==d]\n",
    "    xls_name.to_excel(f\"./{d}.xlsx\")"
   ]
  }
 ],
 "metadata": {
  "kernelspec": {
   "display_name": "Python 3",
   "language": "python",
   "name": "python3"
  },
  "language_info": {
   "codemirror_mode": {
    "name": "ipython",
    "version": 3
   },
   "file_extension": ".py",
   "mimetype": "text/x-python",
   "name": "python",
   "nbconvert_exporter": "python",
   "pygments_lexer": "ipython3",
   "version": "3.11.6"
  }
 },
 "nbformat": 4,
 "nbformat_minor": 2
}
