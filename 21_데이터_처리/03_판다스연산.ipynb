{
 "cells": [
  {
   "cell_type": "code",
   "execution_count": 3,
   "metadata": {},
   "outputs": [
    {
     "data": {
      "text/html": [
       "<div>\n",
       "<style scoped>\n",
       "    .dataframe tbody tr th:only-of-type {\n",
       "        vertical-align: middle;\n",
       "    }\n",
       "\n",
       "    .dataframe tbody tr th {\n",
       "        vertical-align: top;\n",
       "    }\n",
       "\n",
       "    .dataframe thead th {\n",
       "        text-align: right;\n",
       "    }\n",
       "</style>\n",
       "<table border=\"1\" class=\"dataframe\">\n",
       "  <thead>\n",
       "    <tr style=\"text-align: right;\">\n",
       "      <th></th>\n",
       "      <th>이름</th>\n",
       "      <th>조사일</th>\n",
       "      <th>몸무게</th>\n",
       "      <th>단위</th>\n",
       "      <th>트레이너</th>\n",
       "      <th>지점명</th>\n",
       "    </tr>\n",
       "    <tr>\n",
       "      <th>행번</th>\n",
       "      <th></th>\n",
       "      <th></th>\n",
       "      <th></th>\n",
       "      <th></th>\n",
       "      <th></th>\n",
       "      <th></th>\n",
       "    </tr>\n",
       "  </thead>\n",
       "  <tbody>\n",
       "    <tr>\n",
       "      <th>1</th>\n",
       "      <td>비현코</td>\n",
       "      <td>2019-01-01</td>\n",
       "      <td>70.0</td>\n",
       "      <td>kg</td>\n",
       "      <td>jason</td>\n",
       "      <td>잠실동</td>\n",
       "    </tr>\n",
       "    <tr>\n",
       "      <th>2</th>\n",
       "      <td>비현코</td>\n",
       "      <td>2019-03-01</td>\n",
       "      <td>68.0</td>\n",
       "      <td>kg</td>\n",
       "      <td>jason</td>\n",
       "      <td>잠실</td>\n",
       "    </tr>\n",
       "    <tr>\n",
       "      <th>3</th>\n",
       "      <td>비현코</td>\n",
       "      <td>2019-06-01</td>\n",
       "      <td>NaN</td>\n",
       "      <td>kg</td>\n",
       "      <td>jason</td>\n",
       "      <td>잠실동</td>\n",
       "    </tr>\n",
       "    <tr>\n",
       "      <th>4</th>\n",
       "      <td>비투코</td>\n",
       "      <td>2019-01-01</td>\n",
       "      <td>80.0</td>\n",
       "      <td>kg</td>\n",
       "      <td>jason</td>\n",
       "      <td>잠실</td>\n",
       "    </tr>\n",
       "    <tr>\n",
       "      <th>5</th>\n",
       "      <td>비투코</td>\n",
       "      <td>2019-03-01</td>\n",
       "      <td>75.0</td>\n",
       "      <td>kg</td>\n",
       "      <td>jason</td>\n",
       "      <td>잠실</td>\n",
       "    </tr>\n",
       "    <tr>\n",
       "      <th>6</th>\n",
       "      <td>비투코</td>\n",
       "      <td>2019-06-01</td>\n",
       "      <td>NaN</td>\n",
       "      <td>kg</td>\n",
       "      <td>jason</td>\n",
       "      <td>잠실</td>\n",
       "    </tr>\n",
       "    <tr>\n",
       "      <th>7</th>\n",
       "      <td>비사코</td>\n",
       "      <td>2019-01-01</td>\n",
       "      <td>89.0</td>\n",
       "      <td>kg</td>\n",
       "      <td>cherry</td>\n",
       "      <td>강남</td>\n",
       "    </tr>\n",
       "    <tr>\n",
       "      <th>8</th>\n",
       "      <td>비사코</td>\n",
       "      <td>2019-03-01</td>\n",
       "      <td>NaN</td>\n",
       "      <td>kg</td>\n",
       "      <td>cherry</td>\n",
       "      <td>강남</td>\n",
       "    </tr>\n",
       "    <tr>\n",
       "      <th>9</th>\n",
       "      <td>비사코</td>\n",
       "      <td>2019-06-01</td>\n",
       "      <td>92.0</td>\n",
       "      <td>kg</td>\n",
       "      <td>cherry</td>\n",
       "      <td>강남</td>\n",
       "    </tr>\n",
       "  </tbody>\n",
       "</table>\n",
       "</div>"
      ],
      "text/plain": [
       "     이름         조사일   몸무게  단위    트레이너  지점명\n",
       "행번                                        \n",
       "1   비현코  2019-01-01  70.0  kg   jason  잠실동\n",
       "2   비현코  2019-03-01  68.0  kg   jason   잠실\n",
       "3   비현코  2019-06-01   NaN  kg   jason  잠실동\n",
       "4   비투코  2019-01-01  80.0  kg   jason   잠실\n",
       "5   비투코  2019-03-01  75.0  kg   jason   잠실\n",
       "6   비투코  2019-06-01   NaN  kg   jason   잠실\n",
       "7   비사코  2019-01-01  89.0  kg  cherry   강남\n",
       "8   비사코  2019-03-01   NaN  kg  cherry   강남\n",
       "9   비사코  2019-06-01  92.0  kg  cherry   강남"
      ]
     },
     "execution_count": 3,
     "metadata": {},
     "output_type": "execute_result"
    }
   ],
   "source": [
    "#1 필요한 라이브러리 설치하기\n",
    "import pandas as pd\n",
    "\n",
    "data = pd.read_csv(\"test_df.csv\")\n",
    "data = data.set_index(\"행번\")       # 행번을 인덱스로 설정\n",
    "data"
   ]
  },
  {
   "cell_type": "markdown",
   "metadata": {},
   "source": [
    "데이터 확인"
   ]
  },
  {
   "cell_type": "code",
   "execution_count": 7,
   "metadata": {},
   "outputs": [
    {
     "name": "stdout",
     "output_type": "stream",
     "text": [
      "Index([1, 2, 3, 4, 5, 6, 7, 8, 9], dtype='int64', name='행번')\n",
      "Index(['이름', '조사일', '몸무게', '단위', '트레이너', '지점명'], dtype='object')\n",
      "[['비현코' '2019-01-01' 70.0 'kg' 'jason' '잠실동']\n",
      " ['비현코' '2019-03-01' 68.0 'kg' 'jason' '잠실']\n",
      " ['비현코' '2019-06-01' nan 'kg' 'jason' '잠실동']\n",
      " ['비투코' '2019-01-01' 80.0 'kg' 'jason' '잠실']\n",
      " ['비투코' '2019-03-01' 75.0 'kg' 'jason' '잠실']\n",
      " ['비투코' '2019-06-01' nan 'kg' 'jason' '잠실']\n",
      " ['비사코' '2019-01-01' 89.0 'kg' 'cherry' '강남']\n",
      " ['비사코' '2019-03-01' nan 'kg' 'cherry' '강남']\n",
      " ['비사코' '2019-06-01' 92.0 'kg' 'cherry' '강남']]\n",
      "(9, 6)\n"
     ]
    }
   ],
   "source": [
    "print(data.index)\n",
    "print(data.columns)\n",
    "print(data.values)\n",
    "print(data.shape)"
   ]
  },
  {
   "cell_type": "markdown",
   "metadata": {},
   "source": [
    "기본 연산"
   ]
  }
 ],
 "metadata": {
  "kernelspec": {
   "display_name": "Python 3",
   "language": "python",
   "name": "python3"
  },
  "language_info": {
   "codemirror_mode": {
    "name": "ipython",
    "version": 3
   },
   "file_extension": ".py",
   "mimetype": "text/x-python",
   "name": "python",
   "nbconvert_exporter": "python",
   "pygments_lexer": "ipython3",
   "version": "3.11.6"
  }
 },
 "nbformat": 4,
 "nbformat_minor": 2
}
