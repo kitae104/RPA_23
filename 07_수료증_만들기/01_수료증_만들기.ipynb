{
 "cells": [
  {
   "cell_type": "markdown",
   "metadata": {},
   "source": [
    "- pip install openpyxl\n",
    "- pip install python-docx\n",
    "- pip install docx2pdf"
   ]
  },
  {
   "cell_type": "markdown",
   "metadata": {},
   "source": [
    "1. 엑셀 파일 읽기"
   ]
  },
  {
   "cell_type": "code",
   "execution_count": 6,
   "metadata": {},
   "outputs": [
    {
     "name": "stdout",
     "output_type": "stream",
     "text": [
      "이름 생년월일 호\n",
      "장다인 2017.12.12 2023-0001\n",
      "홍길동 2002.05.05 2023-0002\n",
      "임꺽정 1994.09.09 2023-0003\n",
      "장문철 1984.09.19 2023-0004\n",
      "['장다인', '홍길동', '임꺽정', '장문철']\n",
      "['2017.12.12', '2002.05.05', '1994.09.09', '1984.09.19']\n",
      "['2023-0001', '2023-0002', '2023-0003', '2023-0004']\n"
     ]
    }
   ],
   "source": [
    "from openpyxl import load_workbook\n",
    "\n",
    "wb = load_workbook('./data/수료명단.xlsx')\n",
    "ws = wb.active\n",
    "\n",
    "name_list = []\n",
    "birthday_list = []\n",
    "ho_list = []\n",
    "\n",
    "for r in ws.rows:\n",
    "    print(r[0].value, r[1].value, r[2].value)\n",
    "\n",
    "for i in range(2, ws.max_row + 1):\n",
    "    # print(ws.cell(row=i, column=1).value)\n",
    "    name_list.append(ws.cell(row=i, column=1).value)\n",
    "    birthday_list.append(ws.cell(row=i, column=2).value)\n",
    "    ho_list.append(ws.cell(row=i, column=3).value)\n",
    "\n",
    "print(name_list)\n",
    "print(birthday_list)\n",
    "print(ho_list)"
   ]
  },
  {
   "cell_type": "markdown",
   "metadata": {},
   "source": [
    "2. 워드 파일 읽기"
   ]
  },
  {
   "cell_type": "code",
   "execution_count": 9,
   "metadata": {},
   "outputs": [
    {
     "name": "stdout",
     "output_type": "stream",
     "text": [
      "0: \n",
      "1: \n",
      "2: \n",
      "3: 제 2023-0001 호\n",
      "4: \n",
      "5: 수  료  증\n",
      "6: 성       명: 이름\n",
      "7: 생 년 월 일: 2017.12.12\n",
      "8: 교 육 과 정: 알기쉬운 업무자동화 과정\n",
      "9: 교 육 날 짜: 2022.07.05~2022.08.09\n",
      "10:         \n",
      "11: 위 사람은 파이썬을 이용한 알기쉬운 업무자동화 \n",
      "12: 교육과정을 이수하였으므로 이 증서를 수여 합니다.\n",
      "13: \n",
      "14: \n",
      "15: 2023.05.19\n",
      "16: \n",
      "17: 파이썬교육기관장\n"
     ]
    }
   ],
   "source": [
    "from docx import Document\n",
    "import docx\n",
    "from docx.oxml.ns import qn\n",
    "\n",
    "doc = Document(\"./data/수료증양식.docx\")\n",
    "\n",
    "for i, paragraph in enumerate(doc.paragraphs):\n",
    "    print(str(i) + \": \" + paragraph.text)"
   ]
  },
  {
   "cell_type": "markdown",
   "metadata": {},
   "source": [
    "3. 내용 수정하기"
   ]
  },
  {
   "cell_type": "code",
   "execution_count": 17,
   "metadata": {},
   "outputs": [
    {
     "name": "stdout",
     "output_type": "stream",
     "text": [
      "0: \n",
      "1: \n",
      "2: \n",
      "3: 제 2023-9999 호\n",
      "4: \n",
      "5: 수  료  증\n",
      "6: 성       명: 장문철\n",
      "7: 생 년 월 일: 1984.09.19\n",
      "8: 교 육 과 정: 알기쉬운 업무자동화 과정\n",
      "9: 교 육 날 짜: 2022.07.05~2022.08.09\n",
      "10:         \n",
      "11: 위 사람은 파이썬을 이용한 알기쉬운 업무자동화 \n",
      "12: 교육과정을 이수하였으므로 이 증서를 수여 합니다.\n",
      "13: \n",
      "14: \n",
      "15: 2023.05.19\n",
      "16: \n",
      "17: 파이썬교육기관장\n"
     ]
    }
   ],
   "source": [
    "from docx import Document\n",
    "import docx\n",
    "from docx.oxml.ns import qn\n",
    "\n",
    "doc = Document(\"./data/수료증양식.docx\")\n",
    "\n",
    "doc.paragraphs[3].clear()\n",
    "run = doc.paragraphs[3].add_run('제 2023-9999 호')\n",
    "run.font.size = docx.shared.Pt(20)\n",
    "\n",
    "doc.paragraphs[6].clear()\n",
    "run = doc.paragraphs[6].add_run('성       명: 장문철')\n",
    "run.font.size = docx.shared.Pt(18)\n",
    "\n",
    "doc.paragraphs[7].clear()\n",
    "run = doc.paragraphs[7].add_run('생 년 월 일: 1984.09.19')\n",
    "run.font.size = docx.shared.Pt(18)\n",
    "\n",
    "for i, paragraph in enumerate(doc.paragraphs):\n",
    "    print(str(i) + \": \" + paragraph.text)\n",
    "\n",
    "doc.save(\"수료증_제작.docx\")"
   ]
  },
  {
   "cell_type": "markdown",
   "metadata": {},
   "source": [
    "4. 엑셀 정보 이용해서 수료증 출력하기 "
   ]
  },
  {
   "cell_type": "code",
   "execution_count": 25,
   "metadata": {},
   "outputs": [
    {
     "name": "stderr",
     "output_type": "stream",
     "text": [
      "100%|██████████| 1/1 [00:01<00:00,  1.58s/it]\n",
      "100%|██████████| 1/1 [00:01<00:00,  1.19s/it]\n",
      "100%|██████████| 1/1 [00:01<00:00,  1.36s/it]\n",
      "100%|██████████| 1/1 [00:01<00:00,  1.29s/it]\n"
     ]
    }
   ],
   "source": [
    "from docx2pdf import convert\n",
    "\n",
    "for i in range(len(name_list)):\n",
    "  doc.paragraphs[3].clear()\n",
    "  run = doc.paragraphs[3].add_run('제 ' + ho_list[i] + ' 호')\n",
    "  run.font.size = docx.shared.Pt(20)\n",
    "\n",
    "  doc.paragraphs[6].clear()\n",
    "  run = doc.paragraphs[6].add_run('성       명: ' + name_list[i])\n",
    "  run.font.size = docx.shared.Pt(18)\n",
    "\n",
    "  doc.paragraphs[7].clear()\n",
    "  run = doc.paragraphs[7].add_run('생 년 월 일: ' + birthday_list[i])\n",
    "  run.font.size = docx.shared.Pt(18)\n",
    "\n",
    "  doc.save(\"./data/\" + ho_list[i] + \"_\" + name_list[i] + \".docx\")\n",
    "  convert(\"./data/\" + ho_list[i] + \"_\" + name_list[i] + \".docx\", \"./data/\" + ho_list[i] + \"_\" + name_list[i] + \".pdf\")"
   ]
  }
 ],
 "metadata": {
  "kernelspec": {
   "display_name": "Python 3.11.1 64-bit",
   "language": "python",
   "name": "python3"
  },
  "language_info": {
   "codemirror_mode": {
    "name": "ipython",
    "version": 3
   },
   "file_extension": ".py",
   "mimetype": "text/x-python",
   "name": "python",
   "nbconvert_exporter": "python",
   "pygments_lexer": "ipython3",
   "version": "3.11.1"
  },
  "orig_nbformat": 4,
  "vscode": {
   "interpreter": {
    "hash": "81eef19b52451e11e3f8bf6bc518dd5f147d5a651198624c9c211c83ec7c4923"
   }
  }
 },
 "nbformat": 4,
 "nbformat_minor": 2
}
