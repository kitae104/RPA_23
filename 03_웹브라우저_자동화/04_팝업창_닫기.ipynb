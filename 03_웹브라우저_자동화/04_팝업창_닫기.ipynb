{
 "cells": [
  {
   "cell_type": "code",
   "execution_count": 1,
   "metadata": {},
   "outputs": [],
   "source": [
    "from selenium import webdriver\n",
    "from selenium.webdriver.chrome.service import Service"
   ]
  },
  {
   "cell_type": "code",
   "execution_count": 7,
   "metadata": {},
   "outputs": [],
   "source": [
    "s = Service('data/chromedriver')\n",
    "driver = webdriver.Chrome(service=s)"
   ]
  },
  {
   "cell_type": "code",
   "execution_count": 8,
   "metadata": {},
   "outputs": [],
   "source": [
    "main_window = driver.window_handles[0]\n",
    "driver.get(\"https://cyber.inhatc.ac.kr/\")\n",
    "#driver.get(\"http://www.kw.ac.kr/\")"
   ]
  },
  {
   "cell_type": "code",
   "execution_count": 9,
   "metadata": {},
   "outputs": [],
   "source": [
    "# 팝업창 닫기 \n",
    "for handle in driver.window_handles:\n",
    "  if handle != main_window:\n",
    "    driver.switch_to.window(handle)\n",
    "    driver.close()"
   ]
  },
  {
   "cell_type": "code",
   "execution_count": 14,
   "metadata": {},
   "outputs": [
    {
     "ename": "NoSuchWindowException",
     "evalue": "Message: no such window: target window already closed\nfrom unknown error: web view not found\n  (Session info: chrome=103.0.5060.134)\nStacktrace:\nBacktrace:\n\tOrdinal0 [0x00F95FD3+2187219]\n\tOrdinal0 [0x00F2E6D1+1763025]\n\tOrdinal0 [0x00E43E78+802424]\n\tOrdinal0 [0x00E2C680+706176]\n\tOrdinal0 [0x00E8F519+1111321]\n\tOrdinal0 [0x00E55471+873585]\n\tOrdinal0 [0x00E8C9A6+1100198]\n\tOrdinal0 [0x00E66F80+946048]\n\tOrdinal0 [0x00E67E76+949878]\n\tGetHandleVerifier [0x012390C2+2721218]\n\tGetHandleVerifier [0x0122AAF0+2662384]\n\tGetHandleVerifier [0x0102137A+526458]\n\tGetHandleVerifier [0x01020416+522518]\n\tOrdinal0 [0x00F34EAB+1789611]\n\tOrdinal0 [0x00F397A8+1808296]\n\tOrdinal0 [0x00F39895+1808533]\n\tOrdinal0 [0x00F426C1+1844929]\n\tBaseThreadInitThunk [0x752BFA29+25]\n\tRtlGetAppContainerNamedObjectPath [0x76FC7A7E+286]\n\tRtlGetAppContainerNamedObjectPath [0x76FC7A4E+238]\n",
     "output_type": "error",
     "traceback": [
      "\u001b[1;31m---------------------------------------------------------------------------\u001b[0m",
      "\u001b[1;31mNoSuchWindowException\u001b[0m                     Traceback (most recent call last)",
      "\u001b[1;32md:\\Github\\Python_WS\\RPA_Python\\RPA_JAP\\04_웹_브라우저_자동화\\04_팝업창_닫기.ipynb 셀 5\u001b[0m in \u001b[0;36m<cell line: 2>\u001b[1;34m()\u001b[0m\n\u001b[0;32m      <a href='vscode-notebook-cell:/d%3A/Github/Python_WS/RPA_Python/RPA_JAP/04_%EC%9B%B9_%EB%B8%8C%EB%9D%BC%EC%9A%B0%EC%A0%80_%EC%9E%90%EB%8F%99%ED%99%94/04_%ED%8C%9D%EC%97%85%EC%B0%BD_%EB%8B%AB%EA%B8%B0.ipynb#ch0000004?line=0'>1</a>\u001b[0m \u001b[39m# 경고창 닫기 \u001b[39;00m\n\u001b[1;32m----> <a href='vscode-notebook-cell:/d%3A/Github/Python_WS/RPA_Python/RPA_JAP/04_%EC%9B%B9_%EB%B8%8C%EB%9D%BC%EC%9A%B0%EC%A0%80_%EC%9E%90%EB%8F%99%ED%99%94/04_%ED%8C%9D%EC%97%85%EC%B0%BD_%EB%8B%AB%EA%B8%B0.ipynb#ch0000004?line=1'>2</a>\u001b[0m alert \u001b[39m=\u001b[39m driver\u001b[39m.\u001b[39;49mswitch_to\u001b[39m.\u001b[39;49malert\n\u001b[0;32m      <a href='vscode-notebook-cell:/d%3A/Github/Python_WS/RPA_Python/RPA_JAP/04_%EC%9B%B9_%EB%B8%8C%EB%9D%BC%EC%9A%B0%EC%A0%80_%EC%9E%90%EB%8F%99%ED%99%94/04_%ED%8C%9D%EC%97%85%EC%B0%BD_%EB%8B%AB%EA%B8%B0.ipynb#ch0000004?line=2'>3</a>\u001b[0m \u001b[39mtry\u001b[39;00m:\n\u001b[0;32m      <a href='vscode-notebook-cell:/d%3A/Github/Python_WS/RPA_Python/RPA_JAP/04_%EC%9B%B9_%EB%B8%8C%EB%9D%BC%EC%9A%B0%EC%A0%80_%EC%9E%90%EB%8F%99%ED%99%94/04_%ED%8C%9D%EC%97%85%EC%B0%BD_%EB%8B%AB%EA%B8%B0.ipynb#ch0000004?line=3'>4</a>\u001b[0m   alert\u001b[39m.\u001b[39maccept()\n",
      "File \u001b[1;32mc:\\python\\310\\lib\\site-packages\\selenium\\webdriver\\remote\\switch_to.py:56\u001b[0m, in \u001b[0;36mSwitchTo.alert\u001b[1;34m(self)\u001b[0m\n\u001b[0;32m     47\u001b[0m \u001b[39m\"\"\"\u001b[39;00m\n\u001b[0;32m     48\u001b[0m \u001b[39mSwitches focus to an alert on the page.\u001b[39;00m\n\u001b[0;32m     49\u001b[0m \n\u001b[1;32m   (...)\u001b[0m\n\u001b[0;32m     53\u001b[0m \u001b[39m        alert = driver.switch_to.alert\u001b[39;00m\n\u001b[0;32m     54\u001b[0m \u001b[39m\"\"\"\u001b[39;00m\n\u001b[0;32m     55\u001b[0m alert \u001b[39m=\u001b[39m Alert(\u001b[39mself\u001b[39m\u001b[39m.\u001b[39m_driver)\n\u001b[1;32m---> 56\u001b[0m _ \u001b[39m=\u001b[39m alert\u001b[39m.\u001b[39;49mtext\n\u001b[0;32m     57\u001b[0m \u001b[39mreturn\u001b[39;00m alert\n",
      "File \u001b[1;32mc:\\python\\310\\lib\\site-packages\\selenium\\webdriver\\common\\alert.py:66\u001b[0m, in \u001b[0;36mAlert.text\u001b[1;34m(self)\u001b[0m\n\u001b[0;32m     61\u001b[0m \u001b[39m@property\u001b[39m\n\u001b[0;32m     62\u001b[0m \u001b[39mdef\u001b[39;00m \u001b[39mtext\u001b[39m(\u001b[39mself\u001b[39m):\n\u001b[0;32m     63\u001b[0m     \u001b[39m\"\"\"\u001b[39;00m\n\u001b[0;32m     64\u001b[0m \u001b[39m    Gets the text of the Alert.\u001b[39;00m\n\u001b[0;32m     65\u001b[0m \u001b[39m    \"\"\"\u001b[39;00m\n\u001b[1;32m---> 66\u001b[0m     \u001b[39mreturn\u001b[39;00m \u001b[39mself\u001b[39;49m\u001b[39m.\u001b[39;49mdriver\u001b[39m.\u001b[39;49mexecute(Command\u001b[39m.\u001b[39;49mW3C_GET_ALERT_TEXT)[\u001b[39m\"\u001b[39m\u001b[39mvalue\u001b[39m\u001b[39m\"\u001b[39m]\n",
      "File \u001b[1;32mc:\\python\\310\\lib\\site-packages\\selenium\\webdriver\\remote\\webdriver.py:435\u001b[0m, in \u001b[0;36mWebDriver.execute\u001b[1;34m(self, driver_command, params)\u001b[0m\n\u001b[0;32m    433\u001b[0m response \u001b[39m=\u001b[39m \u001b[39mself\u001b[39m\u001b[39m.\u001b[39mcommand_executor\u001b[39m.\u001b[39mexecute(driver_command, params)\n\u001b[0;32m    434\u001b[0m \u001b[39mif\u001b[39;00m response:\n\u001b[1;32m--> 435\u001b[0m     \u001b[39mself\u001b[39;49m\u001b[39m.\u001b[39;49merror_handler\u001b[39m.\u001b[39;49mcheck_response(response)\n\u001b[0;32m    436\u001b[0m     response[\u001b[39m'\u001b[39m\u001b[39mvalue\u001b[39m\u001b[39m'\u001b[39m] \u001b[39m=\u001b[39m \u001b[39mself\u001b[39m\u001b[39m.\u001b[39m_unwrap_value(\n\u001b[0;32m    437\u001b[0m         response\u001b[39m.\u001b[39mget(\u001b[39m'\u001b[39m\u001b[39mvalue\u001b[39m\u001b[39m'\u001b[39m, \u001b[39mNone\u001b[39;00m))\n\u001b[0;32m    438\u001b[0m     \u001b[39mreturn\u001b[39;00m response\n",
      "File \u001b[1;32mc:\\python\\310\\lib\\site-packages\\selenium\\webdriver\\remote\\errorhandler.py:247\u001b[0m, in \u001b[0;36mErrorHandler.check_response\u001b[1;34m(self, response)\u001b[0m\n\u001b[0;32m    245\u001b[0m         alert_text \u001b[39m=\u001b[39m value[\u001b[39m'\u001b[39m\u001b[39malert\u001b[39m\u001b[39m'\u001b[39m]\u001b[39m.\u001b[39mget(\u001b[39m'\u001b[39m\u001b[39mtext\u001b[39m\u001b[39m'\u001b[39m)\n\u001b[0;32m    246\u001b[0m     \u001b[39mraise\u001b[39;00m exception_class(message, screen, stacktrace, alert_text)  \u001b[39m# type: ignore[call-arg]  # mypy is not smart enough here\u001b[39;00m\n\u001b[1;32m--> 247\u001b[0m \u001b[39mraise\u001b[39;00m exception_class(message, screen, stacktrace)\n",
      "\u001b[1;31mNoSuchWindowException\u001b[0m: Message: no such window: target window already closed\nfrom unknown error: web view not found\n  (Session info: chrome=103.0.5060.134)\nStacktrace:\nBacktrace:\n\tOrdinal0 [0x00F95FD3+2187219]\n\tOrdinal0 [0x00F2E6D1+1763025]\n\tOrdinal0 [0x00E43E78+802424]\n\tOrdinal0 [0x00E2C680+706176]\n\tOrdinal0 [0x00E8F519+1111321]\n\tOrdinal0 [0x00E55471+873585]\n\tOrdinal0 [0x00E8C9A6+1100198]\n\tOrdinal0 [0x00E66F80+946048]\n\tOrdinal0 [0x00E67E76+949878]\n\tGetHandleVerifier [0x012390C2+2721218]\n\tGetHandleVerifier [0x0122AAF0+2662384]\n\tGetHandleVerifier [0x0102137A+526458]\n\tGetHandleVerifier [0x01020416+522518]\n\tOrdinal0 [0x00F34EAB+1789611]\n\tOrdinal0 [0x00F397A8+1808296]\n\tOrdinal0 [0x00F39895+1808533]\n\tOrdinal0 [0x00F426C1+1844929]\n\tBaseThreadInitThunk [0x752BFA29+25]\n\tRtlGetAppContainerNamedObjectPath [0x76FC7A7E+286]\n\tRtlGetAppContainerNamedObjectPath [0x76FC7A4E+238]\n"
     ]
    }
   ],
   "source": [
    "# 경고창 닫기 \n",
    "alert = driver.switch_to.alert\n",
    "try:\n",
    "  alert.accept()\n",
    "except:\n",
    "  print('no alert close')"
   ]
  }
 ],
 "metadata": {
  "kernelspec": {
   "display_name": "Python 3.10.5 64-bit",
   "language": "python",
   "name": "python3"
  },
  "language_info": {
   "codemirror_mode": {
    "name": "ipython",
    "version": 3
   },
   "file_extension": ".py",
   "mimetype": "text/x-python",
   "name": "python",
   "nbconvert_exporter": "python",
   "pygments_lexer": "ipython3",
   "version": "3.10.5"
  },
  "orig_nbformat": 4,
  "vscode": {
   "interpreter": {
    "hash": "0f78bbb0629de31cfba7b6ffeb7ee704a2178ea9df3add28fbd43ed494a29e0d"
   }
  }
 },
 "nbformat": 4,
 "nbformat_minor": 2
}
