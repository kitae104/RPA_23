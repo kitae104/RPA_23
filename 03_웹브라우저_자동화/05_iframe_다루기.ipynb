{
 "cells": [
  {
   "cell_type": "code",
   "execution_count": 5,
   "metadata": {},
   "outputs": [],
   "source": [
    "from selenium import webdriver\n",
    "from selenium.webdriver.chrome.service import Service\n",
    "from selenium.webdriver.common.keys import Keys\n",
    "from selenium.webdriver.common.by import By"
   ]
  },
  {
   "cell_type": "code",
   "execution_count": 2,
   "metadata": {},
   "outputs": [],
   "source": [
    "s = Service('data/chromedriver')\n",
    "driver = webdriver.Chrome(service=s)\n",
    "url = 'https://www.w3schools.com/html/tryit.asp?filename=tryhtml_default'\n",
    "driver.get(url)"
   ]
  },
  {
   "cell_type": "code",
   "execution_count": 6,
   "metadata": {},
   "outputs": [
    {
     "data": {
      "text/plain": [
       "23"
      ]
     },
     "execution_count": 6,
     "metadata": {},
     "output_type": "execute_result"
    }
   ],
   "source": [
    "# iframe 태크 갯수 확인하기 \n",
    "len(driver.find_elements(By.TAG_NAME, 'iframe'))"
   ]
  },
  {
   "cell_type": "code",
   "execution_count": 7,
   "metadata": {},
   "outputs": [
    {
     "name": "stdout",
     "output_type": "stream",
     "text": [
      "This is a Heading\n",
      "This is a paragraph.\n"
     ]
    }
   ],
   "source": [
    "# 대상 문서 변경하기 \n",
    "driver.switch_to.frame(driver.find_element(By.ID, \"iframeResult\"))\n",
    "elem = driver.find_element(By.TAG_NAME, 'body')\n",
    "print(elem.text)"
   ]
  }
 ],
 "metadata": {
  "kernelspec": {
   "display_name": "Python 3.10.5 64-bit",
   "language": "python",
   "name": "python3"
  },
  "language_info": {
   "codemirror_mode": {
    "name": "ipython",
    "version": 3
   },
   "file_extension": ".py",
   "mimetype": "text/x-python",
   "name": "python",
   "nbconvert_exporter": "python",
   "pygments_lexer": "ipython3",
   "version": "3.10.5"
  },
  "orig_nbformat": 4,
  "vscode": {
   "interpreter": {
    "hash": "0f78bbb0629de31cfba7b6ffeb7ee704a2178ea9df3add28fbd43ed494a29e0d"
   }
  }
 },
 "nbformat": 4,
 "nbformat_minor": 2
}
