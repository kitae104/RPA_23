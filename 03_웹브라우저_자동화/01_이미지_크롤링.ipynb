{
 "cells": [
  {
   "attachments": {},
   "cell_type": "markdown",
   "metadata": {},
   "source": [
    "### 이미지 크롤링"
   ]
  },
  {
   "attachments": {},
   "cell_type": "markdown",
   "metadata": {},
   "source": [
    "- https://github.com/joedockrill/jmd_imagescraper\n",
    "- 검색 사이트 : https://duckduckgo.com/\n",
    "- pip install jmd_imagescraper\n",
    "- 사용법 보여주기\n"
   ]
  },
  {
   "attachments": {},
   "cell_type": "markdown",
   "metadata": {},
   "source": [
    "다음은 jmd_imagescraper 라이브러리의 사용법입니다.  \n",
    "\n",
    "from jmd_imagescraper.core import * # dont't worry, it's designed to work with import *\n",
    "from pathlib import Path\n",
    "\n",
    "root = Path().cwd()/\"images\"\n",
    "\n",
    "duckduckgo_search(root, \"Cats\", \"cute kittens\", max_results=20)\n",
    "\n",
    "\n",
    "jmd_imagescraper 라이브러리를 이용해서 bts라고 검색하면 나오는 이미지들을 저장하는 파이썬 코드를 작성해줘"
   ]
  },
  {
   "cell_type": "code",
   "execution_count": 1,
   "metadata": {},
   "outputs": [
    {
     "name": "stdout",
     "output_type": "stream",
     "text": [
      "Duckduckgo search: cat_images\n",
      "Hit request throttle, sleeping and retrying\n",
      "Hit request throttle, sleeping and retrying\n"
     ]
    },
    {
     "ename": "KeyboardInterrupt",
     "evalue": "",
     "output_type": "error",
     "traceback": [
      "\u001b[1;31m---------------------------------------------------------------------------\u001b[0m",
      "\u001b[1;31mJSONDecodeError\u001b[0m                           Traceback (most recent call last)",
      "File \u001b[1;32mc:\\Python\\311\\Lib\\site-packages\\jmd_imagescraper\\core.py:121\u001b[0m, in \u001b[0;36mduckduckgo_scrape_urls\u001b[1;34m(keywords, max_results, img_size, img_type, img_layout, img_color)\u001b[0m\n\u001b[0;32m    120\u001b[0m resp \u001b[39m=\u001b[39m requests\u001b[39m.\u001b[39mget(requestUrl, headers\u001b[39m=\u001b[39mHEADERS, params\u001b[39m=\u001b[39mPARAMS)\n\u001b[1;32m--> 121\u001b[0m data \u001b[39m=\u001b[39m json\u001b[39m.\u001b[39;49mloads(resp\u001b[39m.\u001b[39;49mtext)\n\u001b[0;32m    122\u001b[0m \u001b[39mbreak\u001b[39;00m\n",
      "File \u001b[1;32mc:\\Python\\311\\Lib\\json\\__init__.py:346\u001b[0m, in \u001b[0;36mloads\u001b[1;34m(s, cls, object_hook, parse_float, parse_int, parse_constant, object_pairs_hook, **kw)\u001b[0m\n\u001b[0;32m    343\u001b[0m \u001b[39mif\u001b[39;00m (\u001b[39mcls\u001b[39m \u001b[39mis\u001b[39;00m \u001b[39mNone\u001b[39;00m \u001b[39mand\u001b[39;00m object_hook \u001b[39mis\u001b[39;00m \u001b[39mNone\u001b[39;00m \u001b[39mand\u001b[39;00m\n\u001b[0;32m    344\u001b[0m         parse_int \u001b[39mis\u001b[39;00m \u001b[39mNone\u001b[39;00m \u001b[39mand\u001b[39;00m parse_float \u001b[39mis\u001b[39;00m \u001b[39mNone\u001b[39;00m \u001b[39mand\u001b[39;00m\n\u001b[0;32m    345\u001b[0m         parse_constant \u001b[39mis\u001b[39;00m \u001b[39mNone\u001b[39;00m \u001b[39mand\u001b[39;00m object_pairs_hook \u001b[39mis\u001b[39;00m \u001b[39mNone\u001b[39;00m \u001b[39mand\u001b[39;00m \u001b[39mnot\u001b[39;00m kw):\n\u001b[1;32m--> 346\u001b[0m     \u001b[39mreturn\u001b[39;00m _default_decoder\u001b[39m.\u001b[39;49mdecode(s)\n\u001b[0;32m    347\u001b[0m \u001b[39mif\u001b[39;00m \u001b[39mcls\u001b[39m \u001b[39mis\u001b[39;00m \u001b[39mNone\u001b[39;00m:\n",
      "File \u001b[1;32mc:\\Python\\311\\Lib\\json\\decoder.py:337\u001b[0m, in \u001b[0;36mJSONDecoder.decode\u001b[1;34m(self, s, _w)\u001b[0m\n\u001b[0;32m    333\u001b[0m \u001b[39m\u001b[39m\u001b[39m\"\"\"Return the Python representation of ``s`` (a ``str`` instance\u001b[39;00m\n\u001b[0;32m    334\u001b[0m \u001b[39mcontaining a JSON document).\u001b[39;00m\n\u001b[0;32m    335\u001b[0m \n\u001b[0;32m    336\u001b[0m \u001b[39m\"\"\"\u001b[39;00m\n\u001b[1;32m--> 337\u001b[0m obj, end \u001b[39m=\u001b[39m \u001b[39mself\u001b[39;49m\u001b[39m.\u001b[39;49mraw_decode(s, idx\u001b[39m=\u001b[39;49m_w(s, \u001b[39m0\u001b[39;49m)\u001b[39m.\u001b[39;49mend())\n\u001b[0;32m    338\u001b[0m end \u001b[39m=\u001b[39m _w(s, end)\u001b[39m.\u001b[39mend()\n",
      "File \u001b[1;32mc:\\Python\\311\\Lib\\json\\decoder.py:355\u001b[0m, in \u001b[0;36mJSONDecoder.raw_decode\u001b[1;34m(self, s, idx)\u001b[0m\n\u001b[0;32m    354\u001b[0m \u001b[39mexcept\u001b[39;00m \u001b[39mStopIteration\u001b[39;00m \u001b[39mas\u001b[39;00m err:\n\u001b[1;32m--> 355\u001b[0m     \u001b[39mraise\u001b[39;00m JSONDecodeError(\u001b[39m\"\u001b[39m\u001b[39mExpecting value\u001b[39m\u001b[39m\"\u001b[39m, s, err\u001b[39m.\u001b[39mvalue) \u001b[39mfrom\u001b[39;00m \u001b[39mNone\u001b[39m\n\u001b[0;32m    356\u001b[0m \u001b[39mreturn\u001b[39;00m obj, end\n",
      "\u001b[1;31mJSONDecodeError\u001b[0m: Expecting value: line 1 column 1 (char 0)",
      "\nDuring handling of the above exception, another exception occurred:\n",
      "\u001b[1;31mKeyboardInterrupt\u001b[0m                         Traceback (most recent call last)",
      "Cell \u001b[1;32mIn[1], line 13\u001b[0m\n\u001b[0;32m     10\u001b[0m root \u001b[38;5;241m=\u001b[39m Path()\u001b[38;5;241m.\u001b[39mcwd() \u001b[38;5;241m/\u001b[39m \u001b[38;5;124m\"\u001b[39m\u001b[38;5;124mimages\u001b[39m\u001b[38;5;124m\"\u001b[39m\n\u001b[0;32m     12\u001b[0m \u001b[38;5;66;03m# 이미지 검색 및 다운로드\u001b[39;00m\n\u001b[1;32m---> 13\u001b[0m \u001b[43mduckduckgo_search\u001b[49m\u001b[43m(\u001b[49m\u001b[43mroot\u001b[49m\u001b[43m,\u001b[49m\u001b[43m \u001b[49m\u001b[43msearch_term\u001b[49m\u001b[43m,\u001b[49m\u001b[43m \u001b[49m\u001b[43mimage_directory\u001b[49m\u001b[43m,\u001b[49m\u001b[43m \u001b[49m\u001b[43mmax_results\u001b[49m\u001b[38;5;241;43m=\u001b[39;49m\u001b[38;5;241;43m10\u001b[39;49m\u001b[43m,\u001b[49m\u001b[43m \u001b[49m\u001b[43mimg_size\u001b[49m\u001b[38;5;241;43m=\u001b[39;49m\u001b[43mImgSize\u001b[49m\u001b[38;5;241;43m.\u001b[39;49m\u001b[43mLarge\u001b[49m\u001b[43m)\u001b[49m\n\u001b[0;32m     15\u001b[0m \u001b[38;5;66;03m# 다운로드한 이미지 표시 및 정리\u001b[39;00m\n\u001b[0;32m     16\u001b[0m display_image_cleaner(image_directory)\n",
      "File \u001b[1;32mc:\\Python\\311\\Lib\\site-packages\\jmd_imagescraper\\core.py:211\u001b[0m, in \u001b[0;36mduckduckgo_search\u001b[1;34m(path, label, keywords, max_results, img_size, img_type, img_layout, img_color, uuid_names)\u001b[0m\n\u001b[0;32m    208\u001b[0m \u001b[39m\u001b[39m\u001b[39m'''Run a DuckDuckGo search and download the images. Returns a list of Path objects for files downloaded to disc.'''\u001b[39;00m\n\u001b[0;32m    210\u001b[0m \u001b[39mprint\u001b[39m(\u001b[39m\"\u001b[39m\u001b[39mDuckduckgo search:\u001b[39m\u001b[39m\"\u001b[39m, keywords)\n\u001b[1;32m--> 211\u001b[0m links \u001b[39m=\u001b[39m duckduckgo_scrape_urls(keywords, max_results, img_size, img_type, img_layout, img_color)\n\u001b[0;32m    212\u001b[0m \u001b[39mreturn\u001b[39;00m download_urls(Path(path)\u001b[39m/\u001b[39mlabel, links, uuid_names\u001b[39m=\u001b[39muuid_names)\n",
      "File \u001b[1;32mc:\\Python\\311\\Lib\\site-packages\\jmd_imagescraper\\core.py:125\u001b[0m, in \u001b[0;36mduckduckgo_scrape_urls\u001b[1;34m(keywords, max_results, img_size, img_type, img_layout, img_color)\u001b[0m\n\u001b[0;32m    123\u001b[0m     \u001b[39mexcept\u001b[39;00m \u001b[39mValueError\u001b[39;00m \u001b[39mas\u001b[39;00m e:\n\u001b[0;32m    124\u001b[0m         \u001b[39mprint\u001b[39m(\u001b[39m\"\u001b[39m\u001b[39mHit request throttle, sleeping and retrying\u001b[39m\u001b[39m\"\u001b[39m)\n\u001b[1;32m--> 125\u001b[0m         time\u001b[39m.\u001b[39;49msleep(\u001b[39m5\u001b[39;49m)\n\u001b[0;32m    126\u001b[0m         \u001b[39mcontinue\u001b[39;00m\n\u001b[0;32m    128\u001b[0m \u001b[39m#result[\"thumbnail\"] is normally big enough for most purposes\u001b[39;00m\n\u001b[0;32m    129\u001b[0m \u001b[39m#result[\"width\"], result[\"height\"] are for the full size img in result[\"image\"]\u001b[39;00m\n\u001b[0;32m    130\u001b[0m \u001b[39m#result[\"image\"] url to full size img on orig site (so may be less reliable)\u001b[39;00m\n\u001b[0;32m    131\u001b[0m \u001b[39m#result[\"url\"], result[\"title\"].encode('utf-8') from the page the img came from\u001b[39;00m\n",
      "\u001b[1;31mKeyboardInterrupt\u001b[0m: "
     ]
    }
   ],
   "source": [
    "from jmd_imagescraper.core import *\n",
    "from jmd_imagescraper.imagecleaner import *\n",
    "from pathlib import Path\n",
    "\n",
    "# 검색어로 이미지 검색\n",
    "search_term = 'cats'\n",
    "image_directory = 'cat_images'\n",
    "\n",
    "# 경로 설정\n",
    "root = Path().cwd() / \"images\"\n",
    "\n",
    "# 이미지 검색 및 다운로드\n",
    "duckduckgo_search(root, search_term, image_directory, max_results=10, img_size=ImgSize.Large)\n",
    "\n",
    "# 다운로드한 이미지 표시 및 정리\n",
    "display_image_cleaner(image_directory)"
   ]
  },
  {
   "cell_type": "code",
   "execution_count": 2,
   "metadata": {},
   "outputs": [
    {
     "name": "stdout",
     "output_type": "stream",
     "text": [
      "Duckduckgo search: BTS kpop\n",
      "Hit request throttle, sleeping and retrying\n"
     ]
    },
    {
     "ename": "KeyboardInterrupt",
     "evalue": "",
     "output_type": "error",
     "traceback": [
      "\u001b[1;31m---------------------------------------------------------------------------\u001b[0m",
      "\u001b[1;31mKeyboardInterrupt\u001b[0m                         Traceback (most recent call last)",
      "Cell \u001b[1;32mIn[2], line 8\u001b[0m\n\u001b[0;32m      5\u001b[0m root \u001b[38;5;241m=\u001b[39m Path()\u001b[38;5;241m.\u001b[39mcwd() \u001b[38;5;241m/\u001b[39m \u001b[38;5;124m\"\u001b[39m\u001b[38;5;124mimages\u001b[39m\u001b[38;5;124m\"\u001b[39m\n\u001b[0;32m      7\u001b[0m \u001b[38;5;66;03m# \"bts\"로 이미지 검색 및 저장\u001b[39;00m\n\u001b[1;32m----> 8\u001b[0m \u001b[43mduckduckgo_search\u001b[49m\u001b[43m(\u001b[49m\u001b[43mroot\u001b[49m\u001b[43m,\u001b[49m\u001b[43m \u001b[49m\u001b[38;5;124;43m\"\u001b[39;49m\u001b[38;5;124;43mbts\u001b[39;49m\u001b[38;5;124;43m\"\u001b[39;49m\u001b[43m,\u001b[49m\u001b[43m \u001b[49m\u001b[38;5;124;43m\"\u001b[39;49m\u001b[38;5;124;43mBTS kpop\u001b[39;49m\u001b[38;5;124;43m\"\u001b[39;49m\u001b[43m,\u001b[49m\u001b[43m \u001b[49m\u001b[43mmax_results\u001b[49m\u001b[38;5;241;43m=\u001b[39;49m\u001b[38;5;241;43m20\u001b[39;49m\u001b[43m)\u001b[49m\n\u001b[0;32m     10\u001b[0m \u001b[38;5;28;01mfrom\u001b[39;00m \u001b[38;5;21;01mjmd_imagescraper\u001b[39;00m\u001b[38;5;21;01m.\u001b[39;00m\u001b[38;5;21;01mimagecleaner\u001b[39;00m \u001b[38;5;28;01mimport\u001b[39;00m \u001b[38;5;241m*\u001b[39m\n\u001b[0;32m     12\u001b[0m display_image_cleaner(root)\n",
      "File \u001b[1;32mc:\\Python\\311\\Lib\\site-packages\\jmd_imagescraper\\core.py:211\u001b[0m, in \u001b[0;36mduckduckgo_search\u001b[1;34m(path, label, keywords, max_results, img_size, img_type, img_layout, img_color, uuid_names)\u001b[0m\n\u001b[0;32m    208\u001b[0m \u001b[39m\u001b[39m\u001b[39m'''Run a DuckDuckGo search and download the images. Returns a list of Path objects for files downloaded to disc.'''\u001b[39;00m\n\u001b[0;32m    210\u001b[0m \u001b[39mprint\u001b[39m(\u001b[39m\"\u001b[39m\u001b[39mDuckduckgo search:\u001b[39m\u001b[39m\"\u001b[39m, keywords)\n\u001b[1;32m--> 211\u001b[0m links \u001b[39m=\u001b[39m duckduckgo_scrape_urls(keywords, max_results, img_size, img_type, img_layout, img_color)\n\u001b[0;32m    212\u001b[0m \u001b[39mreturn\u001b[39;00m download_urls(Path(path)\u001b[39m/\u001b[39mlabel, links, uuid_names\u001b[39m=\u001b[39muuid_names)\n",
      "File \u001b[1;32mc:\\Python\\311\\Lib\\site-packages\\jmd_imagescraper\\core.py:120\u001b[0m, in \u001b[0;36mduckduckgo_scrape_urls\u001b[1;34m(keywords, max_results, img_size, img_type, img_layout, img_color)\u001b[0m\n\u001b[0;32m    118\u001b[0m \u001b[39mwhile\u001b[39;00m \u001b[39mTrue\u001b[39;00m:\n\u001b[0;32m    119\u001b[0m     \u001b[39mtry\u001b[39;00m:\n\u001b[1;32m--> 120\u001b[0m         resp \u001b[39m=\u001b[39m requests\u001b[39m.\u001b[39;49mget(requestUrl, headers\u001b[39m=\u001b[39;49mHEADERS, params\u001b[39m=\u001b[39;49mPARAMS)\n\u001b[0;32m    121\u001b[0m         data \u001b[39m=\u001b[39m json\u001b[39m.\u001b[39mloads(resp\u001b[39m.\u001b[39mtext)\n\u001b[0;32m    122\u001b[0m         \u001b[39mbreak\u001b[39;00m\n",
      "File \u001b[1;32mc:\\Python\\311\\Lib\\site-packages\\requests\\api.py:73\u001b[0m, in \u001b[0;36mget\u001b[1;34m(url, params, **kwargs)\u001b[0m\n\u001b[0;32m     62\u001b[0m \u001b[39mdef\u001b[39;00m \u001b[39mget\u001b[39m(url, params\u001b[39m=\u001b[39m\u001b[39mNone\u001b[39;00m, \u001b[39m*\u001b[39m\u001b[39m*\u001b[39mkwargs):\n\u001b[0;32m     63\u001b[0m \u001b[39m    \u001b[39m\u001b[39mr\u001b[39m\u001b[39m\"\"\"Sends a GET request.\u001b[39;00m\n\u001b[0;32m     64\u001b[0m \n\u001b[0;32m     65\u001b[0m \u001b[39m    :param url: URL for the new :class:`Request` object.\u001b[39;00m\n\u001b[1;32m   (...)\u001b[0m\n\u001b[0;32m     70\u001b[0m \u001b[39m    :rtype: requests.Response\u001b[39;00m\n\u001b[0;32m     71\u001b[0m \u001b[39m    \"\"\"\u001b[39;00m\n\u001b[1;32m---> 73\u001b[0m     \u001b[39mreturn\u001b[39;00m request(\u001b[39m\"\u001b[39;49m\u001b[39mget\u001b[39;49m\u001b[39m\"\u001b[39;49m, url, params\u001b[39m=\u001b[39;49mparams, \u001b[39m*\u001b[39;49m\u001b[39m*\u001b[39;49mkwargs)\n",
      "File \u001b[1;32mc:\\Python\\311\\Lib\\site-packages\\requests\\api.py:59\u001b[0m, in \u001b[0;36mrequest\u001b[1;34m(method, url, **kwargs)\u001b[0m\n\u001b[0;32m     55\u001b[0m \u001b[39m# By using the 'with' statement we are sure the session is closed, thus we\u001b[39;00m\n\u001b[0;32m     56\u001b[0m \u001b[39m# avoid leaving sockets open which can trigger a ResourceWarning in some\u001b[39;00m\n\u001b[0;32m     57\u001b[0m \u001b[39m# cases, and look like a memory leak in others.\u001b[39;00m\n\u001b[0;32m     58\u001b[0m \u001b[39mwith\u001b[39;00m sessions\u001b[39m.\u001b[39mSession() \u001b[39mas\u001b[39;00m session:\n\u001b[1;32m---> 59\u001b[0m     \u001b[39mreturn\u001b[39;00m session\u001b[39m.\u001b[39;49mrequest(method\u001b[39m=\u001b[39;49mmethod, url\u001b[39m=\u001b[39;49murl, \u001b[39m*\u001b[39;49m\u001b[39m*\u001b[39;49mkwargs)\n",
      "File \u001b[1;32mc:\\Python\\311\\Lib\\site-packages\\requests\\sessions.py:587\u001b[0m, in \u001b[0;36mSession.request\u001b[1;34m(self, method, url, params, data, headers, cookies, files, auth, timeout, allow_redirects, proxies, hooks, stream, verify, cert, json)\u001b[0m\n\u001b[0;32m    582\u001b[0m send_kwargs \u001b[39m=\u001b[39m {\n\u001b[0;32m    583\u001b[0m     \u001b[39m\"\u001b[39m\u001b[39mtimeout\u001b[39m\u001b[39m\"\u001b[39m: timeout,\n\u001b[0;32m    584\u001b[0m     \u001b[39m\"\u001b[39m\u001b[39mallow_redirects\u001b[39m\u001b[39m\"\u001b[39m: allow_redirects,\n\u001b[0;32m    585\u001b[0m }\n\u001b[0;32m    586\u001b[0m send_kwargs\u001b[39m.\u001b[39mupdate(settings)\n\u001b[1;32m--> 587\u001b[0m resp \u001b[39m=\u001b[39m \u001b[39mself\u001b[39;49m\u001b[39m.\u001b[39;49msend(prep, \u001b[39m*\u001b[39;49m\u001b[39m*\u001b[39;49msend_kwargs)\n\u001b[0;32m    589\u001b[0m \u001b[39mreturn\u001b[39;00m resp\n",
      "File \u001b[1;32mc:\\Python\\311\\Lib\\site-packages\\requests\\sessions.py:701\u001b[0m, in \u001b[0;36mSession.send\u001b[1;34m(self, request, **kwargs)\u001b[0m\n\u001b[0;32m    698\u001b[0m start \u001b[39m=\u001b[39m preferred_clock()\n\u001b[0;32m    700\u001b[0m \u001b[39m# Send the request\u001b[39;00m\n\u001b[1;32m--> 701\u001b[0m r \u001b[39m=\u001b[39m adapter\u001b[39m.\u001b[39;49msend(request, \u001b[39m*\u001b[39;49m\u001b[39m*\u001b[39;49mkwargs)\n\u001b[0;32m    703\u001b[0m \u001b[39m# Total elapsed time of the request (approximately)\u001b[39;00m\n\u001b[0;32m    704\u001b[0m elapsed \u001b[39m=\u001b[39m preferred_clock() \u001b[39m-\u001b[39m start\n",
      "File \u001b[1;32mc:\\Python\\311\\Lib\\site-packages\\requests\\adapters.py:489\u001b[0m, in \u001b[0;36mHTTPAdapter.send\u001b[1;34m(self, request, stream, timeout, verify, cert, proxies)\u001b[0m\n\u001b[0;32m    487\u001b[0m \u001b[39mtry\u001b[39;00m:\n\u001b[0;32m    488\u001b[0m     \u001b[39mif\u001b[39;00m \u001b[39mnot\u001b[39;00m chunked:\n\u001b[1;32m--> 489\u001b[0m         resp \u001b[39m=\u001b[39m conn\u001b[39m.\u001b[39;49murlopen(\n\u001b[0;32m    490\u001b[0m             method\u001b[39m=\u001b[39;49mrequest\u001b[39m.\u001b[39;49mmethod,\n\u001b[0;32m    491\u001b[0m             url\u001b[39m=\u001b[39;49murl,\n\u001b[0;32m    492\u001b[0m             body\u001b[39m=\u001b[39;49mrequest\u001b[39m.\u001b[39;49mbody,\n\u001b[0;32m    493\u001b[0m             headers\u001b[39m=\u001b[39;49mrequest\u001b[39m.\u001b[39;49mheaders,\n\u001b[0;32m    494\u001b[0m             redirect\u001b[39m=\u001b[39;49m\u001b[39mFalse\u001b[39;49;00m,\n\u001b[0;32m    495\u001b[0m             assert_same_host\u001b[39m=\u001b[39;49m\u001b[39mFalse\u001b[39;49;00m,\n\u001b[0;32m    496\u001b[0m             preload_content\u001b[39m=\u001b[39;49m\u001b[39mFalse\u001b[39;49;00m,\n\u001b[0;32m    497\u001b[0m             decode_content\u001b[39m=\u001b[39;49m\u001b[39mFalse\u001b[39;49;00m,\n\u001b[0;32m    498\u001b[0m             retries\u001b[39m=\u001b[39;49m\u001b[39mself\u001b[39;49m\u001b[39m.\u001b[39;49mmax_retries,\n\u001b[0;32m    499\u001b[0m             timeout\u001b[39m=\u001b[39;49mtimeout,\n\u001b[0;32m    500\u001b[0m         )\n\u001b[0;32m    502\u001b[0m     \u001b[39m# Send the request.\u001b[39;00m\n\u001b[0;32m    503\u001b[0m     \u001b[39melse\u001b[39;00m:\n\u001b[0;32m    504\u001b[0m         \u001b[39mif\u001b[39;00m \u001b[39mhasattr\u001b[39m(conn, \u001b[39m\"\u001b[39m\u001b[39mproxy_pool\u001b[39m\u001b[39m\"\u001b[39m):\n",
      "File \u001b[1;32mc:\\Python\\311\\Lib\\site-packages\\urllib3\\connectionpool.py:703\u001b[0m, in \u001b[0;36mHTTPConnectionPool.urlopen\u001b[1;34m(self, method, url, body, headers, retries, redirect, assert_same_host, timeout, pool_timeout, release_conn, chunked, body_pos, **response_kw)\u001b[0m\n\u001b[0;32m    700\u001b[0m     \u001b[39mself\u001b[39m\u001b[39m.\u001b[39m_prepare_proxy(conn)\n\u001b[0;32m    702\u001b[0m \u001b[39m# Make the request on the httplib connection object.\u001b[39;00m\n\u001b[1;32m--> 703\u001b[0m httplib_response \u001b[39m=\u001b[39m \u001b[39mself\u001b[39;49m\u001b[39m.\u001b[39;49m_make_request(\n\u001b[0;32m    704\u001b[0m     conn,\n\u001b[0;32m    705\u001b[0m     method,\n\u001b[0;32m    706\u001b[0m     url,\n\u001b[0;32m    707\u001b[0m     timeout\u001b[39m=\u001b[39;49mtimeout_obj,\n\u001b[0;32m    708\u001b[0m     body\u001b[39m=\u001b[39;49mbody,\n\u001b[0;32m    709\u001b[0m     headers\u001b[39m=\u001b[39;49mheaders,\n\u001b[0;32m    710\u001b[0m     chunked\u001b[39m=\u001b[39;49mchunked,\n\u001b[0;32m    711\u001b[0m )\n\u001b[0;32m    713\u001b[0m \u001b[39m# If we're going to release the connection in ``finally:``, then\u001b[39;00m\n\u001b[0;32m    714\u001b[0m \u001b[39m# the response doesn't need to know about the connection. Otherwise\u001b[39;00m\n\u001b[0;32m    715\u001b[0m \u001b[39m# it will also try to release it and we'll have a double-release\u001b[39;00m\n\u001b[0;32m    716\u001b[0m \u001b[39m# mess.\u001b[39;00m\n\u001b[0;32m    717\u001b[0m response_conn \u001b[39m=\u001b[39m conn \u001b[39mif\u001b[39;00m \u001b[39mnot\u001b[39;00m release_conn \u001b[39melse\u001b[39;00m \u001b[39mNone\u001b[39;00m\n",
      "File \u001b[1;32mc:\\Python\\311\\Lib\\site-packages\\urllib3\\connectionpool.py:449\u001b[0m, in \u001b[0;36mHTTPConnectionPool._make_request\u001b[1;34m(self, conn, method, url, timeout, chunked, **httplib_request_kw)\u001b[0m\n\u001b[0;32m    444\u001b[0m             httplib_response \u001b[39m=\u001b[39m conn\u001b[39m.\u001b[39mgetresponse()\n\u001b[0;32m    445\u001b[0m         \u001b[39mexcept\u001b[39;00m \u001b[39mBaseException\u001b[39;00m \u001b[39mas\u001b[39;00m e:\n\u001b[0;32m    446\u001b[0m             \u001b[39m# Remove the TypeError from the exception chain in\u001b[39;00m\n\u001b[0;32m    447\u001b[0m             \u001b[39m# Python 3 (including for exceptions like SystemExit).\u001b[39;00m\n\u001b[0;32m    448\u001b[0m             \u001b[39m# Otherwise it looks like a bug in the code.\u001b[39;00m\n\u001b[1;32m--> 449\u001b[0m             six\u001b[39m.\u001b[39;49mraise_from(e, \u001b[39mNone\u001b[39;49;00m)\n\u001b[0;32m    450\u001b[0m \u001b[39mexcept\u001b[39;00m (SocketTimeout, BaseSSLError, SocketError) \u001b[39mas\u001b[39;00m e:\n\u001b[0;32m    451\u001b[0m     \u001b[39mself\u001b[39m\u001b[39m.\u001b[39m_raise_timeout(err\u001b[39m=\u001b[39me, url\u001b[39m=\u001b[39murl, timeout_value\u001b[39m=\u001b[39mread_timeout)\n",
      "File \u001b[1;32m<string>:3\u001b[0m, in \u001b[0;36mraise_from\u001b[1;34m(value, from_value)\u001b[0m\n",
      "File \u001b[1;32mc:\\Python\\311\\Lib\\site-packages\\urllib3\\connectionpool.py:444\u001b[0m, in \u001b[0;36mHTTPConnectionPool._make_request\u001b[1;34m(self, conn, method, url, timeout, chunked, **httplib_request_kw)\u001b[0m\n\u001b[0;32m    441\u001b[0m \u001b[39mexcept\u001b[39;00m \u001b[39mTypeError\u001b[39;00m:\n\u001b[0;32m    442\u001b[0m     \u001b[39m# Python 3\u001b[39;00m\n\u001b[0;32m    443\u001b[0m     \u001b[39mtry\u001b[39;00m:\n\u001b[1;32m--> 444\u001b[0m         httplib_response \u001b[39m=\u001b[39m conn\u001b[39m.\u001b[39;49mgetresponse()\n\u001b[0;32m    445\u001b[0m     \u001b[39mexcept\u001b[39;00m \u001b[39mBaseException\u001b[39;00m \u001b[39mas\u001b[39;00m e:\n\u001b[0;32m    446\u001b[0m         \u001b[39m# Remove the TypeError from the exception chain in\u001b[39;00m\n\u001b[0;32m    447\u001b[0m         \u001b[39m# Python 3 (including for exceptions like SystemExit).\u001b[39;00m\n\u001b[0;32m    448\u001b[0m         \u001b[39m# Otherwise it looks like a bug in the code.\u001b[39;00m\n\u001b[0;32m    449\u001b[0m         six\u001b[39m.\u001b[39mraise_from(e, \u001b[39mNone\u001b[39;00m)\n",
      "File \u001b[1;32mc:\\Python\\311\\Lib\\http\\client.py:1374\u001b[0m, in \u001b[0;36mHTTPConnection.getresponse\u001b[1;34m(self)\u001b[0m\n\u001b[0;32m   1372\u001b[0m \u001b[39mtry\u001b[39;00m:\n\u001b[0;32m   1373\u001b[0m     \u001b[39mtry\u001b[39;00m:\n\u001b[1;32m-> 1374\u001b[0m         response\u001b[39m.\u001b[39;49mbegin()\n\u001b[0;32m   1375\u001b[0m     \u001b[39mexcept\u001b[39;00m \u001b[39mConnectionError\u001b[39;00m:\n\u001b[0;32m   1376\u001b[0m         \u001b[39mself\u001b[39m\u001b[39m.\u001b[39mclose()\n",
      "File \u001b[1;32mc:\\Python\\311\\Lib\\http\\client.py:318\u001b[0m, in \u001b[0;36mHTTPResponse.begin\u001b[1;34m(self)\u001b[0m\n\u001b[0;32m    316\u001b[0m \u001b[39m# read until we get a non-100 response\u001b[39;00m\n\u001b[0;32m    317\u001b[0m \u001b[39mwhile\u001b[39;00m \u001b[39mTrue\u001b[39;00m:\n\u001b[1;32m--> 318\u001b[0m     version, status, reason \u001b[39m=\u001b[39m \u001b[39mself\u001b[39;49m\u001b[39m.\u001b[39;49m_read_status()\n\u001b[0;32m    319\u001b[0m     \u001b[39mif\u001b[39;00m status \u001b[39m!=\u001b[39m CONTINUE:\n\u001b[0;32m    320\u001b[0m         \u001b[39mbreak\u001b[39;00m\n",
      "File \u001b[1;32mc:\\Python\\311\\Lib\\http\\client.py:279\u001b[0m, in \u001b[0;36mHTTPResponse._read_status\u001b[1;34m(self)\u001b[0m\n\u001b[0;32m    278\u001b[0m \u001b[39mdef\u001b[39;00m \u001b[39m_read_status\u001b[39m(\u001b[39mself\u001b[39m):\n\u001b[1;32m--> 279\u001b[0m     line \u001b[39m=\u001b[39m \u001b[39mstr\u001b[39m(\u001b[39mself\u001b[39;49m\u001b[39m.\u001b[39;49mfp\u001b[39m.\u001b[39;49mreadline(_MAXLINE \u001b[39m+\u001b[39;49m \u001b[39m1\u001b[39;49m), \u001b[39m\"\u001b[39m\u001b[39miso-8859-1\u001b[39m\u001b[39m\"\u001b[39m)\n\u001b[0;32m    280\u001b[0m     \u001b[39mif\u001b[39;00m \u001b[39mlen\u001b[39m(line) \u001b[39m>\u001b[39m _MAXLINE:\n\u001b[0;32m    281\u001b[0m         \u001b[39mraise\u001b[39;00m LineTooLong(\u001b[39m\"\u001b[39m\u001b[39mstatus line\u001b[39m\u001b[39m\"\u001b[39m)\n",
      "File \u001b[1;32mc:\\Python\\311\\Lib\\socket.py:706\u001b[0m, in \u001b[0;36mSocketIO.readinto\u001b[1;34m(self, b)\u001b[0m\n\u001b[0;32m    704\u001b[0m \u001b[39mwhile\u001b[39;00m \u001b[39mTrue\u001b[39;00m:\n\u001b[0;32m    705\u001b[0m     \u001b[39mtry\u001b[39;00m:\n\u001b[1;32m--> 706\u001b[0m         \u001b[39mreturn\u001b[39;00m \u001b[39mself\u001b[39;49m\u001b[39m.\u001b[39;49m_sock\u001b[39m.\u001b[39;49mrecv_into(b)\n\u001b[0;32m    707\u001b[0m     \u001b[39mexcept\u001b[39;00m timeout:\n\u001b[0;32m    708\u001b[0m         \u001b[39mself\u001b[39m\u001b[39m.\u001b[39m_timeout_occurred \u001b[39m=\u001b[39m \u001b[39mTrue\u001b[39;00m\n",
      "File \u001b[1;32mc:\\Python\\311\\Lib\\ssl.py:1278\u001b[0m, in \u001b[0;36mSSLSocket.recv_into\u001b[1;34m(self, buffer, nbytes, flags)\u001b[0m\n\u001b[0;32m   1274\u001b[0m     \u001b[39mif\u001b[39;00m flags \u001b[39m!=\u001b[39m \u001b[39m0\u001b[39m:\n\u001b[0;32m   1275\u001b[0m         \u001b[39mraise\u001b[39;00m \u001b[39mValueError\u001b[39;00m(\n\u001b[0;32m   1276\u001b[0m           \u001b[39m\"\u001b[39m\u001b[39mnon-zero flags not allowed in calls to recv_into() on \u001b[39m\u001b[39m%s\u001b[39;00m\u001b[39m\"\u001b[39m \u001b[39m%\u001b[39m\n\u001b[0;32m   1277\u001b[0m           \u001b[39mself\u001b[39m\u001b[39m.\u001b[39m\u001b[39m__class__\u001b[39m)\n\u001b[1;32m-> 1278\u001b[0m     \u001b[39mreturn\u001b[39;00m \u001b[39mself\u001b[39;49m\u001b[39m.\u001b[39;49mread(nbytes, buffer)\n\u001b[0;32m   1279\u001b[0m \u001b[39melse\u001b[39;00m:\n\u001b[0;32m   1280\u001b[0m     \u001b[39mreturn\u001b[39;00m \u001b[39msuper\u001b[39m()\u001b[39m.\u001b[39mrecv_into(buffer, nbytes, flags)\n",
      "File \u001b[1;32mc:\\Python\\311\\Lib\\ssl.py:1134\u001b[0m, in \u001b[0;36mSSLSocket.read\u001b[1;34m(self, len, buffer)\u001b[0m\n\u001b[0;32m   1132\u001b[0m \u001b[39mtry\u001b[39;00m:\n\u001b[0;32m   1133\u001b[0m     \u001b[39mif\u001b[39;00m buffer \u001b[39mis\u001b[39;00m \u001b[39mnot\u001b[39;00m \u001b[39mNone\u001b[39;00m:\n\u001b[1;32m-> 1134\u001b[0m         \u001b[39mreturn\u001b[39;00m \u001b[39mself\u001b[39;49m\u001b[39m.\u001b[39;49m_sslobj\u001b[39m.\u001b[39;49mread(\u001b[39mlen\u001b[39;49m, buffer)\n\u001b[0;32m   1135\u001b[0m     \u001b[39melse\u001b[39;00m:\n\u001b[0;32m   1136\u001b[0m         \u001b[39mreturn\u001b[39;00m \u001b[39mself\u001b[39m\u001b[39m.\u001b[39m_sslobj\u001b[39m.\u001b[39mread(\u001b[39mlen\u001b[39m)\n",
      "\u001b[1;31mKeyboardInterrupt\u001b[0m: "
     ]
    }
   ],
   "source": [
    "from jmd_imagescraper.core import *\n",
    "from pathlib import Path\n",
    "\n",
    "# 경로 설정\n",
    "root = Path().cwd() / \"images\"\n",
    "\n",
    "# \"bts\"로 이미지 검색 및 저장\n",
    "duckduckgo_search(root, \"bts\", \"BTS kpop\", max_results=20)\n",
    "\n",
    "from jmd_imagescraper.imagecleaner import *\n",
    "\n",
    "display_image_cleaner(root)"
   ]
  },
  {
   "cell_type": "code",
   "execution_count": 3,
   "metadata": {},
   "outputs": [
    {
     "name": "stdout",
     "output_type": "stream",
     "text": [
      "Duckduckgo search: BTS kpop\n",
      "Hit request throttle, sleeping and retrying\n",
      "Hit request throttle, sleeping and retrying\n"
     ]
    },
    {
     "ename": "KeyboardInterrupt",
     "evalue": "",
     "output_type": "error",
     "traceback": [
      "\u001b[1;31m---------------------------------------------------------------------------\u001b[0m",
      "\u001b[1;31mJSONDecodeError\u001b[0m                           Traceback (most recent call last)",
      "File \u001b[1;32mc:\\Python\\311\\Lib\\site-packages\\jmd_imagescraper\\core.py:121\u001b[0m, in \u001b[0;36mduckduckgo_scrape_urls\u001b[1;34m(keywords, max_results, img_size, img_type, img_layout, img_color)\u001b[0m\n\u001b[0;32m    120\u001b[0m resp \u001b[39m=\u001b[39m requests\u001b[39m.\u001b[39mget(requestUrl, headers\u001b[39m=\u001b[39mHEADERS, params\u001b[39m=\u001b[39mPARAMS)\n\u001b[1;32m--> 121\u001b[0m data \u001b[39m=\u001b[39m json\u001b[39m.\u001b[39;49mloads(resp\u001b[39m.\u001b[39;49mtext)\n\u001b[0;32m    122\u001b[0m \u001b[39mbreak\u001b[39;00m\n",
      "File \u001b[1;32mc:\\Python\\311\\Lib\\json\\__init__.py:346\u001b[0m, in \u001b[0;36mloads\u001b[1;34m(s, cls, object_hook, parse_float, parse_int, parse_constant, object_pairs_hook, **kw)\u001b[0m\n\u001b[0;32m    343\u001b[0m \u001b[39mif\u001b[39;00m (\u001b[39mcls\u001b[39m \u001b[39mis\u001b[39;00m \u001b[39mNone\u001b[39;00m \u001b[39mand\u001b[39;00m object_hook \u001b[39mis\u001b[39;00m \u001b[39mNone\u001b[39;00m \u001b[39mand\u001b[39;00m\n\u001b[0;32m    344\u001b[0m         parse_int \u001b[39mis\u001b[39;00m \u001b[39mNone\u001b[39;00m \u001b[39mand\u001b[39;00m parse_float \u001b[39mis\u001b[39;00m \u001b[39mNone\u001b[39;00m \u001b[39mand\u001b[39;00m\n\u001b[0;32m    345\u001b[0m         parse_constant \u001b[39mis\u001b[39;00m \u001b[39mNone\u001b[39;00m \u001b[39mand\u001b[39;00m object_pairs_hook \u001b[39mis\u001b[39;00m \u001b[39mNone\u001b[39;00m \u001b[39mand\u001b[39;00m \u001b[39mnot\u001b[39;00m kw):\n\u001b[1;32m--> 346\u001b[0m     \u001b[39mreturn\u001b[39;00m _default_decoder\u001b[39m.\u001b[39;49mdecode(s)\n\u001b[0;32m    347\u001b[0m \u001b[39mif\u001b[39;00m \u001b[39mcls\u001b[39m \u001b[39mis\u001b[39;00m \u001b[39mNone\u001b[39;00m:\n",
      "File \u001b[1;32mc:\\Python\\311\\Lib\\json\\decoder.py:337\u001b[0m, in \u001b[0;36mJSONDecoder.decode\u001b[1;34m(self, s, _w)\u001b[0m\n\u001b[0;32m    333\u001b[0m \u001b[39m\u001b[39m\u001b[39m\"\"\"Return the Python representation of ``s`` (a ``str`` instance\u001b[39;00m\n\u001b[0;32m    334\u001b[0m \u001b[39mcontaining a JSON document).\u001b[39;00m\n\u001b[0;32m    335\u001b[0m \n\u001b[0;32m    336\u001b[0m \u001b[39m\"\"\"\u001b[39;00m\n\u001b[1;32m--> 337\u001b[0m obj, end \u001b[39m=\u001b[39m \u001b[39mself\u001b[39;49m\u001b[39m.\u001b[39;49mraw_decode(s, idx\u001b[39m=\u001b[39;49m_w(s, \u001b[39m0\u001b[39;49m)\u001b[39m.\u001b[39;49mend())\n\u001b[0;32m    338\u001b[0m end \u001b[39m=\u001b[39m _w(s, end)\u001b[39m.\u001b[39mend()\n",
      "File \u001b[1;32mc:\\Python\\311\\Lib\\json\\decoder.py:355\u001b[0m, in \u001b[0;36mJSONDecoder.raw_decode\u001b[1;34m(self, s, idx)\u001b[0m\n\u001b[0;32m    354\u001b[0m \u001b[39mexcept\u001b[39;00m \u001b[39mStopIteration\u001b[39;00m \u001b[39mas\u001b[39;00m err:\n\u001b[1;32m--> 355\u001b[0m     \u001b[39mraise\u001b[39;00m JSONDecodeError(\u001b[39m\"\u001b[39m\u001b[39mExpecting value\u001b[39m\u001b[39m\"\u001b[39m, s, err\u001b[39m.\u001b[39mvalue) \u001b[39mfrom\u001b[39;00m \u001b[39mNone\u001b[39m\n\u001b[0;32m    356\u001b[0m \u001b[39mreturn\u001b[39;00m obj, end\n",
      "\u001b[1;31mJSONDecodeError\u001b[0m: Expecting value: line 1 column 1 (char 0)",
      "\nDuring handling of the above exception, another exception occurred:\n",
      "\u001b[1;31mKeyboardInterrupt\u001b[0m                         Traceback (most recent call last)",
      "Cell \u001b[1;32mIn[3], line 6\u001b[0m\n\u001b[0;32m      2\u001b[0m \u001b[38;5;28;01mfrom\u001b[39;00m \u001b[38;5;21;01mpathlib\u001b[39;00m \u001b[38;5;28;01mimport\u001b[39;00m Path\n\u001b[0;32m      4\u001b[0m root \u001b[38;5;241m=\u001b[39m Path()\u001b[38;5;241m.\u001b[39mcwd()\u001b[38;5;241m/\u001b[39m\u001b[38;5;124m\"\u001b[39m\u001b[38;5;124mimages\u001b[39m\u001b[38;5;124m\"\u001b[39m  \u001b[38;5;66;03m# Set the root directory where the images will be saved\u001b[39;00m\n\u001b[1;32m----> 6\u001b[0m \u001b[43mduckduckgo_search\u001b[49m\u001b[43m(\u001b[49m\u001b[43mroot\u001b[49m\u001b[43m,\u001b[49m\u001b[43m \u001b[49m\u001b[38;5;124;43m\"\u001b[39;49m\u001b[38;5;124;43mBTS\u001b[39;49m\u001b[38;5;124;43m\"\u001b[39;49m\u001b[43m,\u001b[49m\u001b[43m \u001b[49m\u001b[38;5;124;43m\"\u001b[39;49m\u001b[38;5;124;43mBTS kpop\u001b[39;49m\u001b[38;5;124;43m\"\u001b[39;49m\u001b[43m,\u001b[49m\u001b[43m \u001b[49m\u001b[43mmax_results\u001b[49m\u001b[38;5;241;43m=\u001b[39;49m\u001b[38;5;241;43m20\u001b[39;49m\u001b[43m)\u001b[49m  \u001b[38;5;66;03m# Perform a DuckDuckGo image search for BTS images\u001b[39;00m\n",
      "File \u001b[1;32mc:\\Python\\311\\Lib\\site-packages\\jmd_imagescraper\\core.py:211\u001b[0m, in \u001b[0;36mduckduckgo_search\u001b[1;34m(path, label, keywords, max_results, img_size, img_type, img_layout, img_color, uuid_names)\u001b[0m\n\u001b[0;32m    208\u001b[0m \u001b[39m\u001b[39m\u001b[39m'''Run a DuckDuckGo search and download the images. Returns a list of Path objects for files downloaded to disc.'''\u001b[39;00m\n\u001b[0;32m    210\u001b[0m \u001b[39mprint\u001b[39m(\u001b[39m\"\u001b[39m\u001b[39mDuckduckgo search:\u001b[39m\u001b[39m\"\u001b[39m, keywords)\n\u001b[1;32m--> 211\u001b[0m links \u001b[39m=\u001b[39m duckduckgo_scrape_urls(keywords, max_results, img_size, img_type, img_layout, img_color)\n\u001b[0;32m    212\u001b[0m \u001b[39mreturn\u001b[39;00m download_urls(Path(path)\u001b[39m/\u001b[39mlabel, links, uuid_names\u001b[39m=\u001b[39muuid_names)\n",
      "File \u001b[1;32mc:\\Python\\311\\Lib\\site-packages\\jmd_imagescraper\\core.py:125\u001b[0m, in \u001b[0;36mduckduckgo_scrape_urls\u001b[1;34m(keywords, max_results, img_size, img_type, img_layout, img_color)\u001b[0m\n\u001b[0;32m    123\u001b[0m     \u001b[39mexcept\u001b[39;00m \u001b[39mValueError\u001b[39;00m \u001b[39mas\u001b[39;00m e:\n\u001b[0;32m    124\u001b[0m         \u001b[39mprint\u001b[39m(\u001b[39m\"\u001b[39m\u001b[39mHit request throttle, sleeping and retrying\u001b[39m\u001b[39m\"\u001b[39m)\n\u001b[1;32m--> 125\u001b[0m         time\u001b[39m.\u001b[39;49msleep(\u001b[39m5\u001b[39;49m)\n\u001b[0;32m    126\u001b[0m         \u001b[39mcontinue\u001b[39;00m\n\u001b[0;32m    128\u001b[0m \u001b[39m#result[\"thumbnail\"] is normally big enough for most purposes\u001b[39;00m\n\u001b[0;32m    129\u001b[0m \u001b[39m#result[\"width\"], result[\"height\"] are for the full size img in result[\"image\"]\u001b[39;00m\n\u001b[0;32m    130\u001b[0m \u001b[39m#result[\"image\"] url to full size img on orig site (so may be less reliable)\u001b[39;00m\n\u001b[0;32m    131\u001b[0m \u001b[39m#result[\"url\"], result[\"title\"].encode('utf-8') from the page the img came from\u001b[39;00m\n",
      "\u001b[1;31mKeyboardInterrupt\u001b[0m: "
     ]
    }
   ],
   "source": [
    "from jmd_imagescraper.core import *\n",
    "from pathlib import Path\n",
    "\n",
    "root = Path().cwd()/\"images\"  # Set the root directory where the images will be saved\n",
    "\n",
    "duckduckgo_search(root, \"BTS\", \"BTS kpop\", max_results=20)  # Perform a DuckDuckGo image search for BTS images\n"
   ]
  },
  {
   "attachments": {},
   "cell_type": "markdown",
   "metadata": {},
   "source": [
    "블랙핑크라고 검색해서 나오는 이미지들을 50장 저장하는 파이썬 코드를 작성해줘"
   ]
  },
  {
   "cell_type": "code",
   "execution_count": 10,
   "metadata": {},
   "outputs": [
    {
     "name": "stdout",
     "output_type": "stream",
     "text": [
      "Duckduckgo search: Backpink images\n"
     ]
    },
    {
     "data": {
      "text/plain": [
       "[WindowsPath('e:/Github/JPA_WS/RPA_JAP/25_이미지_크롤링/images/Blackpink/001_40dc2b00.jpg'),\n",
       " WindowsPath('e:/Github/JPA_WS/RPA_JAP/25_이미지_크롤링/images/Blackpink/002_d6257c8f.jpg'),\n",
       " WindowsPath('e:/Github/JPA_WS/RPA_JAP/25_이미지_크롤링/images/Blackpink/003_89fda81b.jpg'),\n",
       " WindowsPath('e:/Github/JPA_WS/RPA_JAP/25_이미지_크롤링/images/Blackpink/004_bfbcd34e.jpg'),\n",
       " WindowsPath('e:/Github/JPA_WS/RPA_JAP/25_이미지_크롤링/images/Blackpink/005_171d7f3f.jpg'),\n",
       " WindowsPath('e:/Github/JPA_WS/RPA_JAP/25_이미지_크롤링/images/Blackpink/006_57b0ce20.jpg'),\n",
       " WindowsPath('e:/Github/JPA_WS/RPA_JAP/25_이미지_크롤링/images/Blackpink/007_4113dc01.jpg'),\n",
       " WindowsPath('e:/Github/JPA_WS/RPA_JAP/25_이미지_크롤링/images/Blackpink/008_317acd8d.jpg'),\n",
       " WindowsPath('e:/Github/JPA_WS/RPA_JAP/25_이미지_크롤링/images/Blackpink/009_16c309a2.jpg'),\n",
       " WindowsPath('e:/Github/JPA_WS/RPA_JAP/25_이미지_크롤링/images/Blackpink/010_0b163cb9.jpg'),\n",
       " WindowsPath('e:/Github/JPA_WS/RPA_JAP/25_이미지_크롤링/images/Blackpink/011_9d3fd757.jpg'),\n",
       " WindowsPath('e:/Github/JPA_WS/RPA_JAP/25_이미지_크롤링/images/Blackpink/012_c3192a53.jpg'),\n",
       " WindowsPath('e:/Github/JPA_WS/RPA_JAP/25_이미지_크롤링/images/Blackpink/013_5ec1d3bb.jpg'),\n",
       " WindowsPath('e:/Github/JPA_WS/RPA_JAP/25_이미지_크롤링/images/Blackpink/014_f0e48124.jpg'),\n",
       " WindowsPath('e:/Github/JPA_WS/RPA_JAP/25_이미지_크롤링/images/Blackpink/015_93ea86a5.jpg'),\n",
       " WindowsPath('e:/Github/JPA_WS/RPA_JAP/25_이미지_크롤링/images/Blackpink/016_e9f64060.jpg'),\n",
       " WindowsPath('e:/Github/JPA_WS/RPA_JAP/25_이미지_크롤링/images/Blackpink/017_8b05831a.jpg'),\n",
       " WindowsPath('e:/Github/JPA_WS/RPA_JAP/25_이미지_크롤링/images/Blackpink/018_39efd272.jpg'),\n",
       " WindowsPath('e:/Github/JPA_WS/RPA_JAP/25_이미지_크롤링/images/Blackpink/019_9a475a89.jpg'),\n",
       " WindowsPath('e:/Github/JPA_WS/RPA_JAP/25_이미지_크롤링/images/Blackpink/020_b26d9cbd.jpg'),\n",
       " WindowsPath('e:/Github/JPA_WS/RPA_JAP/25_이미지_크롤링/images/Blackpink/021_a3e860d7.jpg'),\n",
       " WindowsPath('e:/Github/JPA_WS/RPA_JAP/25_이미지_크롤링/images/Blackpink/022_c5f108d2.jpg'),\n",
       " WindowsPath('e:/Github/JPA_WS/RPA_JAP/25_이미지_크롤링/images/Blackpink/023_5118ba09.jpg'),\n",
       " WindowsPath('e:/Github/JPA_WS/RPA_JAP/25_이미지_크롤링/images/Blackpink/024_58cb38e4.jpg'),\n",
       " WindowsPath('e:/Github/JPA_WS/RPA_JAP/25_이미지_크롤링/images/Blackpink/025_4aea3b01.jpg'),\n",
       " WindowsPath('e:/Github/JPA_WS/RPA_JAP/25_이미지_크롤링/images/Blackpink/026_535a75ac.jpg'),\n",
       " WindowsPath('e:/Github/JPA_WS/RPA_JAP/25_이미지_크롤링/images/Blackpink/027_89b885c3.jpg'),\n",
       " WindowsPath('e:/Github/JPA_WS/RPA_JAP/25_이미지_크롤링/images/Blackpink/028_c501171c.jpg'),\n",
       " WindowsPath('e:/Github/JPA_WS/RPA_JAP/25_이미지_크롤링/images/Blackpink/029_5d4eee25.jpg'),\n",
       " WindowsPath('e:/Github/JPA_WS/RPA_JAP/25_이미지_크롤링/images/Blackpink/030_e6d1853e.jpg'),\n",
       " WindowsPath('e:/Github/JPA_WS/RPA_JAP/25_이미지_크롤링/images/Blackpink/031_869fd0c1.jpg'),\n",
       " WindowsPath('e:/Github/JPA_WS/RPA_JAP/25_이미지_크롤링/images/Blackpink/032_59f59aa6.jpg'),\n",
       " WindowsPath('e:/Github/JPA_WS/RPA_JAP/25_이미지_크롤링/images/Blackpink/034_435ba951.jpg'),\n",
       " WindowsPath('e:/Github/JPA_WS/RPA_JAP/25_이미지_크롤링/images/Blackpink/035_aaed4928.jpg'),\n",
       " WindowsPath('e:/Github/JPA_WS/RPA_JAP/25_이미지_크롤링/images/Blackpink/037_1e3c38e0.jpg'),\n",
       " WindowsPath('e:/Github/JPA_WS/RPA_JAP/25_이미지_크롤링/images/Blackpink/038_10ba2c8d.jpg'),\n",
       " WindowsPath('e:/Github/JPA_WS/RPA_JAP/25_이미지_크롤링/images/Blackpink/039_22270ce3.jpg'),\n",
       " WindowsPath('e:/Github/JPA_WS/RPA_JAP/25_이미지_크롤링/images/Blackpink/040_296bc807.jpg'),\n",
       " WindowsPath('e:/Github/JPA_WS/RPA_JAP/25_이미지_크롤링/images/Blackpink/041_00ff6054.jpg'),\n",
       " WindowsPath('e:/Github/JPA_WS/RPA_JAP/25_이미지_크롤링/images/Blackpink/042_b941bb2f.jpg'),\n",
       " WindowsPath('e:/Github/JPA_WS/RPA_JAP/25_이미지_크롤링/images/Blackpink/043_cf39253c.jpg'),\n",
       " WindowsPath('e:/Github/JPA_WS/RPA_JAP/25_이미지_크롤링/images/Blackpink/044_6a4875b3.jpg'),\n",
       " WindowsPath('e:/Github/JPA_WS/RPA_JAP/25_이미지_크롤링/images/Blackpink/045_f98af858.jpg'),\n",
       " WindowsPath('e:/Github/JPA_WS/RPA_JAP/25_이미지_크롤링/images/Blackpink/046_3e4cf1f5.jpg'),\n",
       " WindowsPath('e:/Github/JPA_WS/RPA_JAP/25_이미지_크롤링/images/Blackpink/047_0c6bcabb.jpg'),\n",
       " WindowsPath('e:/Github/JPA_WS/RPA_JAP/25_이미지_크롤링/images/Blackpink/048_3c246dbf.jpg'),\n",
       " WindowsPath('e:/Github/JPA_WS/RPA_JAP/25_이미지_크롤링/images/Blackpink/050_85c1f6c2.jpg')]"
      ]
     },
     "execution_count": 10,
     "metadata": {},
     "output_type": "execute_result"
    }
   ],
   "source": [
    "from jmd_imagescraper.core import *\n",
    "from pathlib import Path\n",
    "\n",
    "root = Path().cwd()/\"images\"  # Set root directory to current working directory + /images\n",
    "\n",
    "duckduckgo_search(root, \"Blackpink\", \"Backpink images\", max_results=50)  # Download 50 images of Blackpink from DuckDuckGo\n"
   ]
  },
  {
   "attachments": {},
   "cell_type": "markdown",
   "metadata": {},
   "source": [
    "blackpink를 한국어로 검색해줘"
   ]
  },
  {
   "cell_type": "code",
   "execution_count": 3,
   "metadata": {},
   "outputs": [
    {
     "name": "stdout",
     "output_type": "stream",
     "text": [
      "Duckduckgo search: 블랙핑크 이미지\n",
      "Hit request throttle, sleeping and retrying\n",
      "Hit request throttle, sleeping and retrying\n"
     ]
    },
    {
     "ename": "KeyboardInterrupt",
     "evalue": "",
     "output_type": "error",
     "traceback": [
      "\u001b[1;31m---------------------------------------------------------------------------\u001b[0m",
      "\u001b[1;31mJSONDecodeError\u001b[0m                           Traceback (most recent call last)",
      "File \u001b[1;32mc:\\Python\\311\\Lib\\site-packages\\jmd_imagescraper\\core.py:121\u001b[0m, in \u001b[0;36mduckduckgo_scrape_urls\u001b[1;34m(keywords, max_results, img_size, img_type, img_layout, img_color)\u001b[0m\n\u001b[0;32m    120\u001b[0m resp \u001b[39m=\u001b[39m requests\u001b[39m.\u001b[39mget(requestUrl, headers\u001b[39m=\u001b[39mHEADERS, params\u001b[39m=\u001b[39mPARAMS)\n\u001b[1;32m--> 121\u001b[0m data \u001b[39m=\u001b[39m json\u001b[39m.\u001b[39;49mloads(resp\u001b[39m.\u001b[39;49mtext)\n\u001b[0;32m    122\u001b[0m \u001b[39mbreak\u001b[39;00m\n",
      "File \u001b[1;32mc:\\Python\\311\\Lib\\json\\__init__.py:346\u001b[0m, in \u001b[0;36mloads\u001b[1;34m(s, cls, object_hook, parse_float, parse_int, parse_constant, object_pairs_hook, **kw)\u001b[0m\n\u001b[0;32m    343\u001b[0m \u001b[39mif\u001b[39;00m (\u001b[39mcls\u001b[39m \u001b[39mis\u001b[39;00m \u001b[39mNone\u001b[39;00m \u001b[39mand\u001b[39;00m object_hook \u001b[39mis\u001b[39;00m \u001b[39mNone\u001b[39;00m \u001b[39mand\u001b[39;00m\n\u001b[0;32m    344\u001b[0m         parse_int \u001b[39mis\u001b[39;00m \u001b[39mNone\u001b[39;00m \u001b[39mand\u001b[39;00m parse_float \u001b[39mis\u001b[39;00m \u001b[39mNone\u001b[39;00m \u001b[39mand\u001b[39;00m\n\u001b[0;32m    345\u001b[0m         parse_constant \u001b[39mis\u001b[39;00m \u001b[39mNone\u001b[39;00m \u001b[39mand\u001b[39;00m object_pairs_hook \u001b[39mis\u001b[39;00m \u001b[39mNone\u001b[39;00m \u001b[39mand\u001b[39;00m \u001b[39mnot\u001b[39;00m kw):\n\u001b[1;32m--> 346\u001b[0m     \u001b[39mreturn\u001b[39;00m _default_decoder\u001b[39m.\u001b[39;49mdecode(s)\n\u001b[0;32m    347\u001b[0m \u001b[39mif\u001b[39;00m \u001b[39mcls\u001b[39m \u001b[39mis\u001b[39;00m \u001b[39mNone\u001b[39;00m:\n",
      "File \u001b[1;32mc:\\Python\\311\\Lib\\json\\decoder.py:337\u001b[0m, in \u001b[0;36mJSONDecoder.decode\u001b[1;34m(self, s, _w)\u001b[0m\n\u001b[0;32m    333\u001b[0m \u001b[39m\u001b[39m\u001b[39m\"\"\"Return the Python representation of ``s`` (a ``str`` instance\u001b[39;00m\n\u001b[0;32m    334\u001b[0m \u001b[39mcontaining a JSON document).\u001b[39;00m\n\u001b[0;32m    335\u001b[0m \n\u001b[0;32m    336\u001b[0m \u001b[39m\"\"\"\u001b[39;00m\n\u001b[1;32m--> 337\u001b[0m obj, end \u001b[39m=\u001b[39m \u001b[39mself\u001b[39;49m\u001b[39m.\u001b[39;49mraw_decode(s, idx\u001b[39m=\u001b[39;49m_w(s, \u001b[39m0\u001b[39;49m)\u001b[39m.\u001b[39;49mend())\n\u001b[0;32m    338\u001b[0m end \u001b[39m=\u001b[39m _w(s, end)\u001b[39m.\u001b[39mend()\n",
      "File \u001b[1;32mc:\\Python\\311\\Lib\\json\\decoder.py:355\u001b[0m, in \u001b[0;36mJSONDecoder.raw_decode\u001b[1;34m(self, s, idx)\u001b[0m\n\u001b[0;32m    354\u001b[0m \u001b[39mexcept\u001b[39;00m \u001b[39mStopIteration\u001b[39;00m \u001b[39mas\u001b[39;00m err:\n\u001b[1;32m--> 355\u001b[0m     \u001b[39mraise\u001b[39;00m JSONDecodeError(\u001b[39m\"\u001b[39m\u001b[39mExpecting value\u001b[39m\u001b[39m\"\u001b[39m, s, err\u001b[39m.\u001b[39mvalue) \u001b[39mfrom\u001b[39;00m \u001b[39mNone\u001b[39m\n\u001b[0;32m    356\u001b[0m \u001b[39mreturn\u001b[39;00m obj, end\n",
      "\u001b[1;31mJSONDecodeError\u001b[0m: Expecting value: line 1 column 1 (char 0)",
      "\nDuring handling of the above exception, another exception occurred:\n",
      "\u001b[1;31mKeyboardInterrupt\u001b[0m                         Traceback (most recent call last)",
      "Cell \u001b[1;32mIn[3], line 6\u001b[0m\n\u001b[0;32m      2\u001b[0m \u001b[38;5;28;01mfrom\u001b[39;00m \u001b[38;5;21;01mpathlib\u001b[39;00m \u001b[38;5;28;01mimport\u001b[39;00m Path\n\u001b[0;32m      4\u001b[0m root \u001b[38;5;241m=\u001b[39m Path()\u001b[38;5;241m.\u001b[39mcwd()\u001b[38;5;241m/\u001b[39m\u001b[38;5;124m\"\u001b[39m\u001b[38;5;124mimages\u001b[39m\u001b[38;5;124m\"\u001b[39m  \u001b[38;5;66;03m# Set root directory to current working directory + /images\u001b[39;00m\n\u001b[1;32m----> 6\u001b[0m \u001b[43mduckduckgo_search\u001b[49m\u001b[43m(\u001b[49m\u001b[43mroot\u001b[49m\u001b[43m,\u001b[49m\u001b[43m \u001b[49m\u001b[38;5;124;43m\"\u001b[39;49m\u001b[38;5;124;43m블랙핑크\u001b[39;49m\u001b[38;5;124;43m\"\u001b[39;49m\u001b[43m,\u001b[49m\u001b[43m \u001b[49m\u001b[38;5;124;43m\"\u001b[39;49m\u001b[38;5;124;43m블랙핑크 이미지\u001b[39;49m\u001b[38;5;124;43m\"\u001b[39;49m\u001b[43m,\u001b[49m\u001b[43m \u001b[49m\u001b[43mmax_results\u001b[49m\u001b[38;5;241;43m=\u001b[39;49m\u001b[38;5;241;43m50\u001b[39;49m\u001b[43m)\u001b[49m  \u001b[38;5;66;03m# Search for \"블랙핑크\" and download 50 images\u001b[39;00m\n",
      "File \u001b[1;32mc:\\Python\\311\\Lib\\site-packages\\jmd_imagescraper\\core.py:211\u001b[0m, in \u001b[0;36mduckduckgo_search\u001b[1;34m(path, label, keywords, max_results, img_size, img_type, img_layout, img_color, uuid_names)\u001b[0m\n\u001b[0;32m    208\u001b[0m \u001b[39m\u001b[39m\u001b[39m'''Run a DuckDuckGo search and download the images. Returns a list of Path objects for files downloaded to disc.'''\u001b[39;00m\n\u001b[0;32m    210\u001b[0m \u001b[39mprint\u001b[39m(\u001b[39m\"\u001b[39m\u001b[39mDuckduckgo search:\u001b[39m\u001b[39m\"\u001b[39m, keywords)\n\u001b[1;32m--> 211\u001b[0m links \u001b[39m=\u001b[39m duckduckgo_scrape_urls(keywords, max_results, img_size, img_type, img_layout, img_color)\n\u001b[0;32m    212\u001b[0m \u001b[39mreturn\u001b[39;00m download_urls(Path(path)\u001b[39m/\u001b[39mlabel, links, uuid_names\u001b[39m=\u001b[39muuid_names)\n",
      "File \u001b[1;32mc:\\Python\\311\\Lib\\site-packages\\jmd_imagescraper\\core.py:125\u001b[0m, in \u001b[0;36mduckduckgo_scrape_urls\u001b[1;34m(keywords, max_results, img_size, img_type, img_layout, img_color)\u001b[0m\n\u001b[0;32m    123\u001b[0m     \u001b[39mexcept\u001b[39;00m \u001b[39mValueError\u001b[39;00m \u001b[39mas\u001b[39;00m e:\n\u001b[0;32m    124\u001b[0m         \u001b[39mprint\u001b[39m(\u001b[39m\"\u001b[39m\u001b[39mHit request throttle, sleeping and retrying\u001b[39m\u001b[39m\"\u001b[39m)\n\u001b[1;32m--> 125\u001b[0m         time\u001b[39m.\u001b[39;49msleep(\u001b[39m5\u001b[39;49m)\n\u001b[0;32m    126\u001b[0m         \u001b[39mcontinue\u001b[39;00m\n\u001b[0;32m    128\u001b[0m \u001b[39m#result[\"thumbnail\"] is normally big enough for most purposes\u001b[39;00m\n\u001b[0;32m    129\u001b[0m \u001b[39m#result[\"width\"], result[\"height\"] are for the full size img in result[\"image\"]\u001b[39;00m\n\u001b[0;32m    130\u001b[0m \u001b[39m#result[\"image\"] url to full size img on orig site (so may be less reliable)\u001b[39;00m\n\u001b[0;32m    131\u001b[0m \u001b[39m#result[\"url\"], result[\"title\"].encode('utf-8') from the page the img came from\u001b[39;00m\n",
      "\u001b[1;31mKeyboardInterrupt\u001b[0m: "
     ]
    }
   ],
   "source": [
    "from jmd_imagescraper.core import *\n",
    "from pathlib import Path\n",
    "\n",
    "root = Path().cwd()/\"images\"  # Set root directory to current working directory + /images\n",
    "\n",
    "duckduckgo_search(root, \"블랙핑크\", \"블랙핑크 이미지\", max_results=50)  # Search for \"블랙핑크\" and download 50 images\n"
   ]
  },
  {
   "attachments": {},
   "cell_type": "markdown",
   "metadata": {},
   "source": [
    "images/블랙핑크 폴더 안에 있는 jpg 파일들의 이름을 블랙핑크_1.jpg 블랙핑크_2.jpg 블랙핑크_3.jpg 형태로 변경하는 파이썬 코드 작성해줘"
   ]
  },
  {
   "cell_type": "code",
   "execution_count": 13,
   "metadata": {},
   "outputs": [],
   "source": [
    "import os\n",
    "\n",
    "folder_path = \"images/블랙핑크\"\n",
    "file_list = os.listdir(folder_path)\n",
    "\n",
    "i = 1\n",
    "for filename in file_list:\n",
    "    if filename.endswith(\".jpg\"):\n",
    "        new_filename = \"블랙핑크_\" + str(i) + \".jpg\"\n",
    "        os.rename(os.path.join(folder_path, filename), os.path.join(folder_path, new_filename))\n",
    "        i += 1\n"
   ]
  },
  {
   "attachments": {},
   "cell_type": "markdown",
   "metadata": {},
   "source": [
    "images 폴더를 zip 파일로 압축하는 파이썬 코드를 작성해줘"
   ]
  },
  {
   "cell_type": "code",
   "execution_count": null,
   "metadata": {},
   "outputs": [],
   "source": [
    "import zipfile\n",
    "import os\n",
    "\n",
    "# Name of the folder to compress\n",
    "folder_name = 'images'\n",
    "\n",
    "# Name of the zip file to create\n",
    "zip_name = 'compressed_images.zip'\n",
    "\n",
    "# Create a ZipFile object with the name of the zip file and mode='w' to write to it\n",
    "with zipfile.ZipFile(zip_name, 'w') as zip_obj:\n",
    "    \n",
    "    # Iterate over all files in the folder\n",
    "    for foldername, subfolders, filenames in os.walk(folder_name):\n",
    "        for filename in filenames:\n",
    "            \n",
    "            # Create the full file path by joining the folder name and the filename\n",
    "            file_path = os.path.join(foldername, filename)\n",
    "            \n",
    "            # Add the file to the zip file using the relative path\n",
    "            zip_obj.write(file_path, arcname=os.path.relpath(file_path, folder_name))\n"
   ]
  }
 ],
 "metadata": {
  "kernelspec": {
   "display_name": "Python 3.11.1 64-bit",
   "language": "python",
   "name": "python3"
  },
  "language_info": {
   "codemirror_mode": {
    "name": "ipython",
    "version": 3
   },
   "file_extension": ".py",
   "mimetype": "text/x-python",
   "name": "python",
   "nbconvert_exporter": "python",
   "pygments_lexer": "ipython3",
   "version": "3.11.6"
  },
  "orig_nbformat": 4,
  "vscode": {
   "interpreter": {
    "hash": "81eef19b52451e11e3f8bf6bc518dd5f147d5a651198624c9c211c83ec7c4923"
   }
  }
 },
 "nbformat": 4,
 "nbformat_minor": 2
}
