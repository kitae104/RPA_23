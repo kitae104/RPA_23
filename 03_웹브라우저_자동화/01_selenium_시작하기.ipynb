{
 "cells": [
  {
   "cell_type": "code",
   "execution_count": 1,
   "metadata": {},
   "outputs": [],
   "source": [
    "from selenium import webdriver\n",
    "from selenium.webdriver.chrome.service import Service"
   ]
  },
  {
   "cell_type": "code",
   "execution_count": 2,
   "metadata": {},
   "outputs": [],
   "source": [
    "#driver = webdriver.Chrome('data/chromedriver.exe')     # 이전엔 그냥 수행했지만 변견됨 \n",
    "s = Service('data/chromedriver')                        # 서비스 객체 사용 필요 \n",
    "driver = webdriver.Chrome(service=s)"
   ]
  },
  {
   "cell_type": "code",
   "execution_count": 3,
   "metadata": {},
   "outputs": [
    {
     "name": "stderr",
     "output_type": "stream",
     "text": [
      "C:\\Users\\UserK\\AppData\\Local\\Temp\\ipykernel_10368\\2195527000.py:8: DeprecationWarning: executable_path has been deprecated, please pass in a Service object\n",
      "  driver = webdriver.Chrome(options=options, executable_path='data/chromedriver.exe')\n"
     ]
    }
   ],
   "source": [
    "# 옵션 설정 \n",
    "options = webdriver.ChromeOptions()\n",
    "options.add_argument('--disable-extensions')    # 확장 프로그램 구동 정지\n",
    "options.add_argument(\"--start-maximized\")       # 최대 크기 윈도우로 시작\n",
    "# options.add_argument('window-size=600x600') # 윈도우 크기 지정\n",
    "# options.headless = True # 윈도우가 눈에 보이지 않게 실행\n",
    "# 실행 파일이 현재 경로에 없다면 executable_path로 지정해줘야 한다.\n",
    "driver = webdriver.Chrome(options=options, executable_path='data/chromedriver.exe')"
   ]
  },
  {
   "cell_type": "code",
   "execution_count": null,
   "metadata": {},
   "outputs": [],
   "source": [
    "driver.close()   # 브라우저 닫기 "
   ]
  }
 ],
 "metadata": {
  "kernelspec": {
   "display_name": "Python 3.11.1 64-bit",
   "language": "python",
   "name": "python3"
  },
  "language_info": {
   "codemirror_mode": {
    "name": "ipython",
    "version": 3
   },
   "file_extension": ".py",
   "mimetype": "text/x-python",
   "name": "python",
   "nbconvert_exporter": "python",
   "pygments_lexer": "ipython3",
   "version": "3.11.1"
  },
  "orig_nbformat": 4,
  "vscode": {
   "interpreter": {
    "hash": "81eef19b52451e11e3f8bf6bc518dd5f147d5a651198624c9c211c83ec7c4923"
   }
  }
 },
 "nbformat": 4,
 "nbformat_minor": 2
}
