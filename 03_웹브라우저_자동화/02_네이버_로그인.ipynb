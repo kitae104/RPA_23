{
 "cells": [
  {
   "cell_type": "code",
   "execution_count": null,
   "metadata": {},
   "outputs": [],
   "source": [
    "from selenium import webdriver\n",
    "import time\n",
    "from selenium.webdriver.common.by import By\n",
    "from webdriver_manager.chrome import ChromeDriverManager\n",
    "from selenium.webdriver.chrome.service import Service\n",
    "import pyperclip\n",
    "import pyautogui\n",
    "\n",
    "chrome_options = webdriver.ChromeOptions()\n",
    "driver = webdriver.Chrome(service=Service(ChromeDriverManager().install()))\n",
    "driver.get(url=\"https://www.naver.com/\")\n",
    "time.sleep(1)\n",
    "\n",
    "ico_naver = driver.find_element(By.CLASS_NAME,'MyView-module__link_login___HpHMW')\n",
    "ico_naver.click()\n",
    "time.sleep(1)\n",
    "\n",
    "naver_id = driver.find_element(By.CLASS_NAME,'input_text')\n",
    "naver_id.click()\n",
    "pyperclip.copy(\"네이버 아이디\")\n",
    "pyautogui.hotkey(\"ctrl\",\"v\")\n",
    "time.sleep(1)\n",
    "\n",
    "pyautogui.press('tab')\n",
    "pyperclip.copy(\"네이버패스워드\")\n",
    "pyautogui.hotkey(\"ctrl\",\"v\")\n",
    "\n",
    "naver_ok = driver.find_element(By.CLASS_NAME,'btn_login_wrap')\n",
    "naver_ok.click()\n"
   ]
  }
 ],
 "metadata": {
  "language_info": {
   "name": "python"
  }
 },
 "nbformat": 4,
 "nbformat_minor": 2
}
