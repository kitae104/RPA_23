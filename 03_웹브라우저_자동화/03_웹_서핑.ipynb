{
 "cells": [
  {
   "cell_type": "code",
   "execution_count": 1,
   "metadata": {},
   "outputs": [],
   "source": [
    "from selenium import webdriver\n",
    "from selenium.webdriver.chrome.service import Service\n",
    "from selenium.webdriver.chrome.options import Options\n",
    "from selenium.webdriver.common.keys import Keys\n",
    "from selenium.webdriver.common.by import By\n",
    "from webdriver_manager.chrome import ChromeDriverManager\n",
    "import time"
   ]
  },
  {
   "cell_type": "code",
   "execution_count": 2,
   "metadata": {},
   "outputs": [
    {
     "name": "stderr",
     "output_type": "stream",
     "text": [
      "[WDM] - Downloading: 100%|██████████| 6.30M/6.30M [00:00<00:00, 11.3MB/s]\n"
     ]
    }
   ],
   "source": [
    "options = Options()\n",
    "options.add_experimental_option(\"detach\", True)\n",
    "service = Service(ChromeDriverManager().install())\n",
    "driver = webdriver.Chrome(service=service, options=options)"
   ]
  },
  {
   "cell_type": "code",
   "execution_count": 3,
   "metadata": {},
   "outputs": [
    {
     "name": "stdout",
     "output_type": "stream",
     "text": [
      "NAVER\n"
     ]
    }
   ],
   "source": [
    "driver.get('https://www.naver.com/') # 사이트 연결하기\n",
    "print(driver.title)     # 타이틀 읽어오기\n",
    "time.sleep(1)           # 3초 대기하기"
   ]
  },
  {
   "cell_type": "markdown",
   "metadata": {},
   "source": [
    "검색창 사용하기 \n",
    "\n",
    "<input id=\"query\" name=\"query\" type=\"search\" title=\"검색어 입력\" maxlength=\"255\" class=\"input_text\" tabindex=\"1\" accesskey=\"s\" style=\"ime-mode:active;\" autocomplete=\"off\" placeholder=\"검색어를 입력해 주세요.\" onclick=\"document.getElementById('fbm').value=1;\" value=\"\" data-atcmp-element=\"\">"
   ]
  },
  {
   "cell_type": "code",
   "execution_count": 5,
   "metadata": {},
   "outputs": [],
   "source": [
    "driver.find_element(By.CLASS_NAME, \"search_input\").send_keys(\"파이썬\") # 검색창에 키워드 입력하기"
   ]
  },
  {
   "cell_type": "code",
   "execution_count": 6,
   "metadata": {},
   "outputs": [],
   "source": [
    "driver.find_element(By.ID, \"query\").send_keys(\"뉴진스\") # 검색창에 키워드 입력하기\n",
    "time.sleep(1)\n",
    "driver.find_element(By.NAME, \"query\").send_keys(\"인하공전\") # 검색창에 키워드 입력하기"
   ]
  },
  {
   "cell_type": "code",
   "execution_count": 7,
   "metadata": {},
   "outputs": [],
   "source": [
    "driver.find_element(By.CSS_SELECTOR, \"#query\").send_keys(\"RPA\") # 검색창에 키워드 입력하기"
   ]
  },
  {
   "cell_type": "code",
   "execution_count": 8,
   "metadata": {},
   "outputs": [],
   "source": [
    "driver.find_element(By.XPATH, '//*[@id=\"query\"]').send_keys(\"RPA\") # 검색창에 키워드 입력하기"
   ]
  },
  {
   "cell_type": "markdown",
   "metadata": {},
   "source": [
    "링크 클릭하기 "
   ]
  },
  {
   "cell_type": "code",
   "execution_count": 10,
   "metadata": {},
   "outputs": [],
   "source": [
    "driver.find_element(By.LINK_TEXT, \"쇼핑\").click() # 쇼핑LIVE 클릭하기"
   ]
  },
  {
   "cell_type": "code",
   "execution_count": 11,
   "metadata": {},
   "outputs": [],
   "source": [
    "driver.find_element(By.PARTIAL_LINK_TEXT, \"뉴스\").click() # 일부만 있는 경우 사용 "
   ]
  },
  {
   "cell_type": "markdown",
   "metadata": {},
   "source": [
    "여러 정보 가져오기 "
   ]
  },
  {
   "cell_type": "code",
   "execution_count": 13,
   "metadata": {},
   "outputs": [
    {
     "name": "stdout",
     "output_type": "stream",
     "text": [
      "메일\n",
      "카페\n",
      "블로그\n",
      "쇼핑\n",
      "뉴스\n",
      "증권\n",
      "부동산\n",
      "지도\n",
      "웹툰\n"
     ]
    }
   ],
   "source": [
    "#navs = driver.find_elements(By.CLASS_NAME, \".nav\") # 네이버 메뉴 읽어오기\n",
    "navs = driver.find_elements(By.CLASS_NAME, \"service_name\") # 네이버 메뉴 읽어오기\n",
    "for nav in navs:\n",
    "    print(nav.text)"
   ]
  },
  {
   "cell_type": "markdown",
   "metadata": {},
   "source": [
    "뉴스\n",
    "/html/body/div[2]/div[2]/div[2]/div[1]/div[1]/ul[2]/li[2]/a\n",
    "\n",
    "/html/body/div[2]/div[1]/div/div[5]/ul/li[5]/a"
   ]
  },
  {
   "cell_type": "code",
   "execution_count": 15,
   "metadata": {},
   "outputs": [
    {
     "name": "stdout",
     "output_type": "stream",
     "text": [
      "[<selenium.webdriver.remote.webelement.WebElement (session=\"c7e1a087a093d4fe7eec7f70715e7c65\", element=\"AB8B9D7895F31EBBE76F43281727B086_element_105\")>]\n"
     ]
    }
   ],
   "source": [
    "elem = driver.find_elements(By.XPATH, '/html/body/div[2]/div[1]/div/div[5]/ul/li[5]/a')\n",
    "print(elem)\n",
    "elem[0].click()"
   ]
  },
  {
   "cell_type": "markdown",
   "metadata": {},
   "source": [
    "검색창\n",
    "/html/body/section/header/div[1]/div/div/div[2]/div[3]/a/span"
   ]
  },
  {
   "cell_type": "code",
   "execution_count": 18,
   "metadata": {},
   "outputs": [
    {
     "name": "stdout",
     "output_type": "stream",
     "text": [
      "[]\n"
     ]
    }
   ],
   "source": [
    "elem = driver.find_elements(By.XPATH, '/html/body/section/header/div[1]/div/div/div[2]/div[3]/a/span')\n",
    "print(elem)\n",
    "#elem[0].click()"
   ]
  },
  {
   "cell_type": "markdown",
   "metadata": {},
   "source": [
    "질의어를 입력하고 결과 얻기 \n",
    "- 개발자 도구 \n",
    "- input 태그 선택 \n",
    "- name=\"q\""
   ]
  },
  {
   "cell_type": "code",
   "execution_count": 25,
   "metadata": {},
   "outputs": [
    {
     "name": "stdout",
     "output_type": "stream",
     "text": [
      "<selenium.webdriver.remote.webelement.WebElement (session=\"c7e1a087a093d4fe7eec7f70715e7c65\", element=\"0AF27676D23D8C157BA6237F0A152A3A_element_703\")>\n"
     ]
    }
   ],
   "source": [
    "elem = driver.find_element(By.NAME, 'query')\n",
    "print(elem)"
   ]
  },
  {
   "cell_type": "markdown",
   "metadata": {},
   "source": [
    "get_attribute() : 요소가 갖는 속성값 확인 "
   ]
  },
  {
   "cell_type": "code",
   "execution_count": 26,
   "metadata": {},
   "outputs": [
    {
     "name": "stdout",
     "output_type": "stream",
     "text": [
      "nx_query query box_window\n"
     ]
    }
   ],
   "source": [
    "# 각각의 속성 값 가져오기\n",
    "print(elem.get_attribute('id'), elem.get_attribute('name'), elem.get_attribute('class'))"
   ]
  },
  {
   "cell_type": "code",
   "execution_count": 27,
   "metadata": {},
   "outputs": [
    {
     "name": "stdout",
     "output_type": "stream",
     "text": [
      "input\n"
     ]
    }
   ],
   "source": [
    "# 태그 이름 확인하기 \n",
    "print(elem.tag_name)"
   ]
  },
  {
   "cell_type": "code",
   "execution_count": 30,
   "metadata": {},
   "outputs": [
    {
     "ename": "StaleElementReferenceException",
     "evalue": "Message: stale element reference: stale element not found\n  (Session info: chrome=114.0.5735.198)\nStacktrace:\nBacktrace:\n\tGetHandleVerifier [0x00A3A813+48355]\n\t(No symbol) [0x009CC4B1]\n\t(No symbol) [0x008D5358]\n\t(No symbol) [0x008DE5A3]\n\t(No symbol) [0x008D8A78]\n\t(No symbol) [0x008D7C03]\n\t(No symbol) [0x008D99E1]\n\t(No symbol) [0x008D9A80]\n\t(No symbol) [0x0090127B]\n\t(No symbol) [0x00901301]\n\t(No symbol) [0x008FBA3F]\n\t(No symbol) [0x0091A73C]\n\t(No symbol) [0x008F9A36]\n\t(No symbol) [0x0091AA94]\n\t(No symbol) [0x0092C922]\n\t(No symbol) [0x0091A536]\n\t(No symbol) [0x008F82DC]\n\t(No symbol) [0x008F93DD]\n\tGetHandleVerifier [0x00C9AABD+2539405]\n\tGetHandleVerifier [0x00CDA78F+2800735]\n\tGetHandleVerifier [0x00CD456C+2775612]\n\tGetHandleVerifier [0x00AC51E0+616112]\n\t(No symbol) [0x009D5F8C]\n\t(No symbol) [0x009D2328]\n\t(No symbol) [0x009D240B]\n\t(No symbol) [0x009C4FF7]\n\tBaseThreadInitThunk [0x775E6359+25]\n\tRtlGetAppContainerNamedObjectPath [0x77A07A94+228]\n\tRtlGetAppContainerNamedObjectPath [0x77A07A64+180]\n",
     "output_type": "error",
     "traceback": [
      "\u001b[1;31m---------------------------------------------------------------------------\u001b[0m",
      "\u001b[1;31mStaleElementReferenceException\u001b[0m            Traceback (most recent call last)",
      "Cell \u001b[1;32mIn[30], line 1\u001b[0m\n\u001b[1;32m----> 1\u001b[0m \u001b[43melem\u001b[49m\u001b[38;5;241;43m.\u001b[39;49m\u001b[43msend_keys\u001b[49m\u001b[43m(\u001b[49m\u001b[38;5;124;43m\"\u001b[39;49m\u001b[38;5;124;43m인하공전\u001b[39;49m\u001b[38;5;124;43m\"\u001b[39;49m\u001b[43m \u001b[49m\u001b[38;5;241;43m+\u001b[39;49m\u001b[43m \u001b[49m\u001b[43mKeys\u001b[49m\u001b[38;5;241;43m.\u001b[39;49m\u001b[43mRETURN\u001b[49m\u001b[43m)\u001b[49m   \u001b[38;5;66;03m# 텍스트 입력 후 클릭\u001b[39;00m\n",
      "File \u001b[1;32mc:\\Python\\311\\Lib\\site-packages\\selenium\\webdriver\\remote\\webelement.py:230\u001b[0m, in \u001b[0;36mWebElement.send_keys\u001b[1;34m(self, *value)\u001b[0m\n\u001b[0;32m    227\u001b[0m             remote_files\u001b[39m.\u001b[39mappend(\u001b[39mself\u001b[39m\u001b[39m.\u001b[39m_upload(file))\n\u001b[0;32m    228\u001b[0m         value \u001b[39m=\u001b[39m \u001b[39m\"\u001b[39m\u001b[39m\\n\u001b[39;00m\u001b[39m\"\u001b[39m\u001b[39m.\u001b[39mjoin(remote_files)\n\u001b[1;32m--> 230\u001b[0m \u001b[39mself\u001b[39;49m\u001b[39m.\u001b[39;49m_execute(\n\u001b[0;32m    231\u001b[0m     Command\u001b[39m.\u001b[39;49mSEND_KEYS_TO_ELEMENT, {\u001b[39m\"\u001b[39;49m\u001b[39mtext\u001b[39;49m\u001b[39m\"\u001b[39;49m: \u001b[39m\"\u001b[39;49m\u001b[39m\"\u001b[39;49m\u001b[39m.\u001b[39;49mjoin(keys_to_typing(value)), \u001b[39m\"\u001b[39;49m\u001b[39mvalue\u001b[39;49m\u001b[39m\"\u001b[39;49m: keys_to_typing(value)}\n\u001b[0;32m    232\u001b[0m )\n",
      "File \u001b[1;32mc:\\Python\\311\\Lib\\site-packages\\selenium\\webdriver\\remote\\webelement.py:403\u001b[0m, in \u001b[0;36mWebElement._execute\u001b[1;34m(self, command, params)\u001b[0m\n\u001b[0;32m    401\u001b[0m     params \u001b[39m=\u001b[39m {}\n\u001b[0;32m    402\u001b[0m params[\u001b[39m\"\u001b[39m\u001b[39mid\u001b[39m\u001b[39m\"\u001b[39m] \u001b[39m=\u001b[39m \u001b[39mself\u001b[39m\u001b[39m.\u001b[39m_id\n\u001b[1;32m--> 403\u001b[0m \u001b[39mreturn\u001b[39;00m \u001b[39mself\u001b[39;49m\u001b[39m.\u001b[39;49m_parent\u001b[39m.\u001b[39;49mexecute(command, params)\n",
      "File \u001b[1;32mc:\\Python\\311\\Lib\\site-packages\\selenium\\webdriver\\remote\\webdriver.py:440\u001b[0m, in \u001b[0;36mWebDriver.execute\u001b[1;34m(self, driver_command, params)\u001b[0m\n\u001b[0;32m    438\u001b[0m response \u001b[39m=\u001b[39m \u001b[39mself\u001b[39m\u001b[39m.\u001b[39mcommand_executor\u001b[39m.\u001b[39mexecute(driver_command, params)\n\u001b[0;32m    439\u001b[0m \u001b[39mif\u001b[39;00m response:\n\u001b[1;32m--> 440\u001b[0m     \u001b[39mself\u001b[39;49m\u001b[39m.\u001b[39;49merror_handler\u001b[39m.\u001b[39;49mcheck_response(response)\n\u001b[0;32m    441\u001b[0m     response[\u001b[39m\"\u001b[39m\u001b[39mvalue\u001b[39m\u001b[39m\"\u001b[39m] \u001b[39m=\u001b[39m \u001b[39mself\u001b[39m\u001b[39m.\u001b[39m_unwrap_value(response\u001b[39m.\u001b[39mget(\u001b[39m\"\u001b[39m\u001b[39mvalue\u001b[39m\u001b[39m\"\u001b[39m, \u001b[39mNone\u001b[39;00m))\n\u001b[0;32m    442\u001b[0m     \u001b[39mreturn\u001b[39;00m response\n",
      "File \u001b[1;32mc:\\Python\\311\\Lib\\site-packages\\selenium\\webdriver\\remote\\errorhandler.py:245\u001b[0m, in \u001b[0;36mErrorHandler.check_response\u001b[1;34m(self, response)\u001b[0m\n\u001b[0;32m    243\u001b[0m         alert_text \u001b[39m=\u001b[39m value[\u001b[39m\"\u001b[39m\u001b[39malert\u001b[39m\u001b[39m\"\u001b[39m]\u001b[39m.\u001b[39mget(\u001b[39m\"\u001b[39m\u001b[39mtext\u001b[39m\u001b[39m\"\u001b[39m)\n\u001b[0;32m    244\u001b[0m     \u001b[39mraise\u001b[39;00m exception_class(message, screen, stacktrace, alert_text)  \u001b[39m# type: ignore[call-arg]  # mypy is not smart enough here\u001b[39;00m\n\u001b[1;32m--> 245\u001b[0m \u001b[39mraise\u001b[39;00m exception_class(message, screen, stacktrace)\n",
      "\u001b[1;31mStaleElementReferenceException\u001b[0m: Message: stale element reference: stale element not found\n  (Session info: chrome=114.0.5735.198)\nStacktrace:\nBacktrace:\n\tGetHandleVerifier [0x00A3A813+48355]\n\t(No symbol) [0x009CC4B1]\n\t(No symbol) [0x008D5358]\n\t(No symbol) [0x008DE5A3]\n\t(No symbol) [0x008D8A78]\n\t(No symbol) [0x008D7C03]\n\t(No symbol) [0x008D99E1]\n\t(No symbol) [0x008D9A80]\n\t(No symbol) [0x0090127B]\n\t(No symbol) [0x00901301]\n\t(No symbol) [0x008FBA3F]\n\t(No symbol) [0x0091A73C]\n\t(No symbol) [0x008F9A36]\n\t(No symbol) [0x0091AA94]\n\t(No symbol) [0x0092C922]\n\t(No symbol) [0x0091A536]\n\t(No symbol) [0x008F82DC]\n\t(No symbol) [0x008F93DD]\n\tGetHandleVerifier [0x00C9AABD+2539405]\n\tGetHandleVerifier [0x00CDA78F+2800735]\n\tGetHandleVerifier [0x00CD456C+2775612]\n\tGetHandleVerifier [0x00AC51E0+616112]\n\t(No symbol) [0x009D5F8C]\n\t(No symbol) [0x009D2328]\n\t(No symbol) [0x009D240B]\n\t(No symbol) [0x009C4FF7]\n\tBaseThreadInitThunk [0x775E6359+25]\n\tRtlGetAppContainerNamedObjectPath [0x77A07A94+228]\n\tRtlGetAppContainerNamedObjectPath [0x77A07A64+180]\n"
     ]
    }
   ],
   "source": [
    "elem.send_keys(\"인하공전\" + Keys.RETURN)   # 텍스트 입력 후 클릭"
   ]
  },
  {
   "cell_type": "code",
   "execution_count": 31,
   "metadata": {},
   "outputs": [
    {
     "name": "stdout",
     "output_type": "stream",
     "text": [
      "/css\" href=\"https://ssl.pstatic.net/sstatic/search/pc/css/search2_230622.css\"> <link rel=\"stylesheet\" type=\"text/css\" href=\"https://ssl.pstatic.net/sstatic/search/pc/css/sp_autocomplete_220526.css\"><script type=\"text/javascript\" id=\"www-widgetapi-script\" src=\"https://www.youtube.com/s/player/71547d26/www-widgetapi.vflset/www-widgetapi.js\" async=\"\"></script><script> naver = window.naver || {}; naver.search = naver.search || {}; naver.search.abt_param = \"&abt=%5B%7B%22eid%22%3A%22SHOP-BLOCK%22%2C%22vid%22%3A%225%22%7D%2C%7B%22eid%22%3A%22PWL-FAVICON-EX%22%2C%22vid%22%3A%2254%22%7D%2C%7B%22eid%22%3A%22SBR1%22%2C%22vid%22%3A%221216%22%7D%5D\"; </script><script> naver = window.naver || {}; naver.search = naver.search || {}; naver.search.error = (function () { var errorList = Array() ; return { add : function (s) { errorList.push(s) ; }, clear : function () { delete errorList ; }, get : function (s) { return errorList ; }, getString : function (d) { if (typeof d === 'undefined') d = '|' ; ret\n"
     ]
    },
    {
     "data": {
      "text/plain": [
       "271351"
      ]
     },
     "execution_count": 31,
     "metadata": {},
     "output_type": "execute_result"
    }
   ],
   "source": [
    "# 페이제 내용 읽어와 일부 내용 확인하기 \n",
    "html = driver.page_source\n",
    "print(html[1200:2200])\n",
    "len(html)"
   ]
  },
  {
   "cell_type": "markdown",
   "metadata": {},
   "source": [
    "뉴스 기사 타이틀"
   ]
  },
  {
   "cell_type": "markdown",
   "metadata": {},
   "source": [
    "#sp_nws8 > div > div > a"
   ]
  },
  {
   "cell_type": "code",
   "execution_count": 33,
   "metadata": {},
   "outputs": [
    {
     "name": "stdout",
     "output_type": "stream",
     "text": [
      "[]\n"
     ]
    }
   ],
   "source": [
    "# 필요한 요소 찾기 \n",
    "elements = driver.find_elements(By.CLASS_NAME, 'news_tit')\n",
    "print(elements)\n",
    "for tag in elements:\n",
    "  print(tag.text, '-', tag.find_element(By.TAG_NAME, 'a').get_attribute('href'))"
   ]
  }
 ],
 "metadata": {
  "kernelspec": {
   "display_name": "Python 3.11.1 64-bit",
   "language": "python",
   "name": "python3"
  },
  "language_info": {
   "codemirror_mode": {
    "name": "ipython",
    "version": 3
   },
   "file_extension": ".py",
   "mimetype": "text/x-python",
   "name": "python",
   "nbconvert_exporter": "python",
   "pygments_lexer": "ipython3",
   "version": "3.11.1"
  },
  "orig_nbformat": 4,
  "vscode": {
   "interpreter": {
    "hash": "81eef19b52451e11e3f8bf6bc518dd5f147d5a651198624c9c211c83ec7c4923"
   }
  }
 },
 "nbformat": 4,
 "nbformat_minor": 2
}
