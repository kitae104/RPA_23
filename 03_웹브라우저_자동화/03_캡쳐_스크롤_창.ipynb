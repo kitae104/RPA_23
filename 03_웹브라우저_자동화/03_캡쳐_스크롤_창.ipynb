{
 "cells": [
  {
   "cell_type": "code",
   "execution_count": 1,
   "metadata": {},
   "outputs": [],
   "source": [
    "from selenium import webdriver\n",
    "from selenium.webdriver.chrome.service import Service\n",
    "from selenium.webdriver.common.keys import Keys\n",
    "from selenium.webdriver.common.by import By"
   ]
  },
  {
   "cell_type": "code",
   "execution_count": 3,
   "metadata": {},
   "outputs": [],
   "source": [
    "s = Service('data/chromedriver')\n",
    "driver = webdriver.Chrome(service=s)\n",
    "driver.get('http://www.python.org') # 사이트 연결하기"
   ]
  },
  {
   "cell_type": "code",
   "execution_count": 4,
   "metadata": {},
   "outputs": [],
   "source": [
    "elem = driver.find_element(By.NAME, 'q')\n",
    "elem.send_keys(\"pycon\" + Keys.RETURN)"
   ]
  },
  {
   "cell_type": "code",
   "execution_count": 6,
   "metadata": {},
   "outputs": [
    {
     "data": {
      "text/plain": [
       "55508"
      ]
     },
     "execution_count": 6,
     "metadata": {},
     "output_type": "execute_result"
    }
   ],
   "source": [
    "# 화면 캡쳐 \n",
    "png = driver.get_screenshot_as_png()\n",
    "open('img/screen_capture.png', 'wb').write(png)"
   ]
  },
  {
   "cell_type": "code",
   "execution_count": 7,
   "metadata": {},
   "outputs": [],
   "source": [
    "# 스크롤하기 \n",
    "driver.execute_script(\"window.scrollTo(0, document.body.scrollHeight);\")"
   ]
  },
  {
   "cell_type": "code",
   "execution_count": 12,
   "metadata": {},
   "outputs": [],
   "source": [
    "# 천천히 스크롤하기 \n",
    "for i in range(0, 10000, 10):\n",
    "  #driver.execute_script(\"window.scrollTo(0, {})\".format(i));  # format 형식\n",
    "  driver.execute_script(f\"window.scrollTo(0, {i})\");           # f-string"
   ]
  }
 ],
 "metadata": {
  "kernelspec": {
   "display_name": "Python 3.10.5 64-bit",
   "language": "python",
   "name": "python3"
  },
  "language_info": {
   "codemirror_mode": {
    "name": "ipython",
    "version": 3
   },
   "file_extension": ".py",
   "mimetype": "text/x-python",
   "name": "python",
   "nbconvert_exporter": "python",
   "pygments_lexer": "ipython3",
   "version": "3.10.5"
  },
  "orig_nbformat": 4,
  "vscode": {
   "interpreter": {
    "hash": "0f78bbb0629de31cfba7b6ffeb7ee704a2178ea9df3add28fbd43ed494a29e0d"
   }
  }
 },
 "nbformat": 4,
 "nbformat_minor": 2
}
