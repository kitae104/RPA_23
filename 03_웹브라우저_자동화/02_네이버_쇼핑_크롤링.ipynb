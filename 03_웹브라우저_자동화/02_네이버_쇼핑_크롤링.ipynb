{
 "cells": [
  {
   "attachments": {},
   "cell_type": "markdown",
   "metadata": {},
   "source": [
    "### 쇼핑몰 크롤링"
   ]
  },
  {
   "cell_type": "code",
   "execution_count": 5,
   "metadata": {},
   "outputs": [],
   "source": [
    "from selenium import webdriver\n",
    "from selenium.webdriver.chrome.service import Service\n",
    "from selenium.webdriver.chrome.options import Options\n",
    "from selenium.webdriver.common.keys import Keys\n",
    "from selenium.webdriver.common.by import By\n",
    "from webdriver_manager.chrome import ChromeDriverManager\n",
    "import time"
   ]
  },
  {
   "cell_type": "code",
   "execution_count": 6,
   "metadata": {},
   "outputs": [],
   "source": [
    "options = Options() # 크롬 옵션 객체 생성\n",
    "options.add_experimental_option(\"detach\", True) # 크롬 창을 종료해도 프로세스가 종료되지 않도록 설정\n",
    "service = Service(ChromeDriverManager().install())  # 크롬 드라이버 경로 설정\n",
    "driver = webdriver.Chrome(service=service, options=options) # 크롬 드라이버 객체 생성"
   ]
  },
  {
   "cell_type": "code",
   "execution_count": 7,
   "metadata": {},
   "outputs": [
    {
     "name": "stdout",
     "output_type": "stream",
     "text": [
      "NAVER\n"
     ]
    }
   ],
   "source": [
    "driver.get('https://www.naver.com/') # 사이트 연결하기\n",
    "print(driver.title)     # 타이틀 읽어오기\n",
    "#time.sleep(1)           # 3초 대기하기\n",
    "driver.implicity_wait(10) # 10초 대기하기\n"
   ]
  },
  {
   "attachments": {},
   "cell_type": "markdown",
   "metadata": {},
   "source": [
    "<a href=\"https://shopping.naver.com/\" class=\"nav shop\" data-clk=\"svc.shopping\"><span class=\"blind\">쇼핑</span></a>"
   ]
  },
  {
   "cell_type": "code",
   "execution_count": 8,
   "metadata": {},
   "outputs": [],
   "source": [
    "# 쇼핑 메뉴 클릭하기\n",
    "driver.find_element(By.CSS_SELECTOR, \"a.nav.shop\").click()\n",
    "time.sleep(2)"
   ]
  },
  {
   "attachments": {},
   "cell_type": "markdown",
   "metadata": {},
   "source": [
    "<input type=\"text\" class=\"_searchInput_search_text_3CUDs\" title=\"검색어 입력\" value=\"\">"
   ]
  },
  {
   "cell_type": "code",
   "execution_count": 18,
   "metadata": {},
   "outputs": [],
   "source": [
    "# 검색창 클릭\n",
    "search = driver.find_element(By.CSS_SELECTOR, \"input._searchInput_search_text_3CUDs\")\n",
    "search.click()\n"
   ]
  },
  {
   "cell_type": "code",
   "execution_count": 19,
   "metadata": {},
   "outputs": [],
   "source": [
    "# 검색어 입력 \n",
    "search.send_keys(\"아이폰14\")  # 검색어 입력\n",
    "search.send_keys(Keys.ENTER)  # 엔터 입력"
   ]
  },
  {
   "attachments": {},
   "cell_type": "markdown",
   "metadata": {},
   "source": [
    "현재 스크롤된 높이 확인  - 무한 스크롤 처리\n",
    "- window.scrollY"
   ]
  },
  {
   "cell_type": "code",
   "execution_count": 20,
   "metadata": {},
   "outputs": [],
   "source": [
    "# 스크롤 전 높이\n",
    "before_height = driver.execute_script(\"return window.scrollY\")\n",
    "\n",
    "# 무한 스크롤 \n",
    "# 스크롤을 내리면서 데이터를 수집하는 방법\n",
    "while True:\n",
    "    try:\n",
    "        # 맨 아래로 스크롤 내리기\n",
    "        more = driver.find_element(By.CSS_SELECTOR, \"body\").send_keys(Keys.END)\n",
    "        \n",
    "        # 스크롤 후 페이지 로딩 시간 대기 \n",
    "        time.sleep(1)\n",
    "\n",
    "        # 스크롤 후 높이\n",
    "        after_height = driver.execute_script(\"return window.scrollY\")\n",
    "        if before_height == after_height:\n",
    "            break\n",
    "\n",
    "        before_height = after_height\n",
    "\n",
    "    except:\n",
    "        break"
   ]
  },
  {
   "attachments": {},
   "cell_type": "markdown",
   "metadata": {},
   "source": [
    "상품정보\n",
    "* basicList_info_area__TWvzp"
   ]
  },
  {
   "cell_type": "markdown",
   "metadata": {},
   "source": [
    "CSV파일로 저장하기"
   ]
  },
  {
   "cell_type": "code",
   "execution_count": 29,
   "metadata": {},
   "outputs": [],
   "source": [
    "import csv\n",
    "\n",
    "# 파일 생성\n",
    "f = open(\"naver_shopping.csv\", \"w\", encoding=\"utf-8\", newline=\"\")  # newline : 줄바꿈 제거\n"
   ]
  },
  {
   "cell_type": "code",
   "execution_count": 30,
   "metadata": {},
   "outputs": [
    {
     "name": "stdout",
     "output_type": "stream",
     "text": [
      "Apple 정품 아이폰 14 자급제 레드 256GB MPWH3KH/A 1,312,400원 https://adcr.naver.com/adcr?x=MPeHR5xqZpeFGTVsddm6av///w==kU0TBnNvS8HXXyWyJMMiDQ/Dhwo2zCW4ofQa20Cu8hq7AYk+DCvB+h7yk59jMDUFznrqhqYvySZoQidURyyvYJBbFDU/iw9GaQ9WWbsrBy7algkkoiiBLoSA9wzLL79Fvk20wCSocakDj2xMDdznPPnn7RnP9vS0ALTclxXQgQOJ8B/8hsI4ZuInVFIzCnXHQhNgH81H5QaWjkyrU5q1YYDvWvDUGt7AkqnUUowyef5c4iS3tI2PvrgJx1FlvE5EnqOpLmeZAdgcer61pTcijqpWuwIlwp+Z15GfH/xEKec6/aQwYvbSSrLZgXT4rWU2wBW9ePU0TajGVwnW6NegkXvOtH4Xl04KF31rnJNpFfcN/zMqPqGpiCZX4v75ynefR9CpL9UbfTGmZ69yMtf1PFq/Y3ZiF4KK5DpKcyXuSL1rdHlWkNlG8h0/k3qZc5IP5DIG2fKvQ41A1Nn3tiEH0tgIddgX8WP2oF66dQVNqUSYoYeiTTLkxb29wbdL7dN6CLI85RM17LNBLtluvDTfXRQE/5dQEKXu6c/qafg/PTp7lk+v2HNdFZEHw/3gROs7ETE5hEfeajse+BOKo7q46ZlarmTc9SwBVI9CtR8zZVa4DRFoRavMidyxhZJumCaXendMQZfdSqzsizTo5NxWkN4lu7jZEWT9H1vf0CEMRvNb7vkbQxuHRBh6cRGxl0/0o5ikIwS/KH+wzps9tuK6uN4rT5l7mtiE9wPprNOM5AZQEeyYFIi5tSH+7GUKi+CwuAN7f0GJCPnVNqOlySs3yLZ0Vq61YqHkJ/1K59QxJgl0dvVVMLM1WDBZ6275/ySP6noK9I3wf7LzS5CHknnIGpDhPRlJYyD4y8ki7fIpZ3277wi9hN3wnb6tdxP3AkEQZC9Puoe5U0ymuKmX2DjhzhQ==\n",
      "Apple 정품 아이폰 14 자급제 미드나이트 128GB MPUF3KH/A 1,118,750원 https://adcr.naver.com/adcr?x=lnMavFnwjtb/EhY7IGMP6f///w==kSTHTgDwnWAg5oskJs+qtfi9lzHKi5J48oieTUUehTZ+0QPf6rZEKom0ZI9HmV/Chfr8RPjb2S8mP5TY5fryf5ZBsGqml69+H/B/Pm1aXe3V+IN32LfhKs+J6MRol37hYxjRO0UOfE799TgTNLDA1aaRUwGBILMhOJsCXjMUiH4tKb9BxHsxskfmcTgSisAssV/8hFRa0RpYU/G2YCUcns2pg3Qi1Pn4lG6GG9gydxuww3vpQIe6qDc0J61skkVFrYPw9oUnlVfCZFEUZbI6QGXV36ZGAAJAgk9fWcPvFAqJXKFOIomK3QllcpaKr5fqF2CFUc2ac2Yfz+dtLCJu7CeH3wJ6qgodEBHTnATUa+bTJku9lr/fcOHgd4GHACma1hdkpy75yHeANjThfyaLQdkVlJQ/DnFM/YdlTnQcMrkkNwUpqPicdeYqhCVvAmIUmGeEwyA17I5R9o27ZCXdXAXF8gPRNMYyDyXMtDbpXJzlW/nRA7JgupshfOlODTi/z9u2a9jpQ83uh/02Y0Ait0pGzupI06p2uzCt3YpaX1KLVvIc2yppV+l4DL44NvVkcouisKSUMZmXDX+FyRJdQcT1ppQ3aAREFNaF/b26iHOu95IzzDWFJOgfcu2CATVN107wFmbHV9l5CZFVCOQOe889M5nCYThYzY/X8chxPkpI+ZjCX8xtML4K2NmQYXhQtC51Jj9r+4+WEfqrKHmyDmZGlT+PkO9/rbD4UllrwSf+6e40NPb0uHfsLyyBLdmQw8GEWb9opNgKmPj085F1L0nyzgVg6CGcH0vpvCHL9WEeaN8yfBIgb6Qd/WXQ6sJ7HYkFqkcdXVE6QbpjOBtHz7Xe17HFqTXvNmUUbar7WgdEUryvx2vESexJTTi/4PS7HIb7JsGdyjdh7hCwlZ89dGQ==\n",
      "Apple 정품 아이폰 14 Plus 자급제 스타라이트 256GB MQ553KH/A 1,380,000원 https://adcr.naver.com/adcr?x=azX8TjpRGjvyEg6p/Mik8v///w==kSTHTgDwnWAg5oskJs+qtfiSLXQidBDa9spQQy5LeY8mJpdALTBHTULFOa12yjUYxf1kbegplloV8QPqW4ZZnJUTgevA2NVp9Jxh51tRVbbTSFfcJ3NkPRmWjBP70Q3QSYe0mC7MJH4Bd3R90+JLBNlmp7Pflnd5zC26lF1lx89YmmYNJjPyryp77baJmgE2jQy7ujFXAIhDCEhRXYbxngWqAjXNcy4Pp1WwLvcutCeHEUdlrayHacAVBie5OGC6Ii4nn2uqlx4fhM5b9ToCrIv79Utsp73wA66aMqkmnS6u+JWJMQkiNw+m7XNjcI6F4QvuDMfmySKPpylsdj80N1Yl3k6m4iURpsndnjOxjCkzfcUti1TRoYLuXG8Qkuu3S5OVjA/QUM2M4CrpVhX4A+iadDWfvsQ/hqVFLPu9iUVjzbPMDH3mh/SyHif2M1wNlJB2V/Kq1F3qUNN3hLglI3Pontj6lmYj7+ExSZ7zy2NZm6FybQOpi7NOBiOH7kY8TNhrekMC7XBzauXoo9HaXhootEemJXbCYtvA7lzOGX3/yf90m7h0rt1H0/isJxvgaXC2h0ad8g0akKy5uGuZWHORYXQdfYf2Ag9RBh/GjDRr85uStZ6/ITpalGrFQS4kcVKvBpJm3HmC34iWjJ7fj5GX+oxVmDcHiaMe/WuqRlFZHL9MgPqX0K0nLZRf7+i4tBlXtbe+i/9DxQ7tBHvpV66YhX06ffQJS637We+vP2oUiaDGFJLNn8/mH0i0F1Py9ukrujlOl6XGu/OpdHIm5GYXMU/t2I2HBrmH0cw8qRMJ6RR+eRLImTAAD0GudwW5jF2WtVrspLTvh9r+W+CM1Kfq2S5WkP3Oymo5IIWFmpJz7xX8aMyO6spqdZyIGYYXcACy2RupakMLUZ/w8i/+wFw==\n",
      "Apple 아이폰 14 프로 256GB [자급제] 1,530,000원 https://cr.shopping.naver.com/adcr.nhn?x=u%2BB33%2FZPaozWnDWL3bgGd%2F%2F%2F%2Fw%3D%3DskhCcB8MepjgK6%2BnsUY5DwbBNip6vclUPeoNb4blZuuC73bVQHldJ9ftGXbklIZwQ71HJf%2FDj9mHQGQSrVMYPc0bAoeRkvpJaJBMwPydFbM8QhkkHXK4%2FmSRy5icYE%2F27MgytCeoXns4eYFwCYFK9PVfCwog8a5n%2B3SvlX92MXub23sQsd8t%2FiY%2FDge6gmjFNZ51b4zIIhzI2xYZuL9f9QD9rXyqENDUD8omnd%2BAEOiuq%2BaggpXkaCK5s8iUm%2BxDYduUZ1aVKBhJ7Likc0rwfJovFOQV9u2CZQf15VdnhYXoNyTdujLoChtH822cWdzXaWvx8BBxoXmoUCqpM4bIojFVd6Z%2BmZ5fvTALbBBPmfKLmnGLANk9TjQtjOEdf9xG%2Fr6UshdtSemwYvMaVdqvJyrNoujdiiNe5Aky91pn4j%2FL%2FRfyAUEGGvquedOTk2rasabQ5Y6NPV60r20DKkzlmaLHJM06m8XkkoABSxxLFFemOsyh0bwCm%2FIOHaD6%2FrVAHjDMtu1%2FW2z6RQY7dOz1lzQ385erTrEUuUwLA0NA5uM8tyoSE6KxzK06m1%2BHQP34C%2BAbd%2FnsxOlP7gHu5L6C8cL88Q%2F5kaUu5ryUhcaf8q2gSzxwVRNV%2FYRemZK5z1sCENb2kgeTe%2Bzg%2Bw0TnD1J5wcVIvagQ1mm0y3NKwn4%2BCOdoaKZHilHbuauHUigNM5KA&nvMid=34561756621&catId=50001519\n",
      "Apple 아이폰 14 128GB [자급제] 1,118,600원 https://cr.shopping.naver.com/adcr.nhn?x=X2M63P49CxSaqIGcVexfDv%2F%2F%2Fw%3D%3DsaC6LZxSN3lqAMytxc9zE4ENwnR8fg3SB4Tkdxwpj8axHDJsKgV2dQLI4PLgR0HubPxn%2F%2BLna4l8KH8idwPd7hx4pza8ebIOIXPrPsGGS95ek6v2w9jBqMGR4TTsgYaQnQO9RbatmTGCBPUTCXrbVe8A%2F8WNmzvqa4o%2B6QP2x%2BiE7h9Gs8fN5G%2FG8H5VQpsKjYvis7tvefVw0oqcD2ObJLoBsJjzV%2F3vl5Lmd9HbkUGK2UN9V2N4kWfJsGecC069WHX0ExKgFyXPmg5dfAMof11NP%2F9CJheBrCWSTQseekct7WCwQL1x304%2FdnplGc4PqX40oacb%2FnMvqNV7CgnBsHcv%2BjB2erv%2BZ%2Brrs5VHOiTRLlIk0uAh1LVcUK1nkYRMYQdeITLTPuaWFZiKta3tqBO6T3bDtpWlCEOHcbcnbPa4bV9SohnsJOp40F4RSK4iNgqJ1H1QUWpx%2FaWRUKzJmCi6UxJeah0Om0lkIOZtT9ZLxLbU57LuNzmnFLwGq45KoS9On0N814DZeCIUYYeQL7M9Tqme0YK6uG79Xy6idNiHlfowHcl1ucGiE6LxBjaayE4zUD7v0fKn1d0PlX9l2BxCMirINs7hXq0tHh0ZTR8eP9ozmdV%2FWs5eTR9VTjChb81WoTD2tBpF8bB14QsrcXMDemSVtudDvWAVlmZOGiZWCqA6%2BrrPkSkQjk3bFq%2FUy&nvMid=34561821618&catId=50001519\n",
      "Apple 아이폰 14 프로 128GB [자급제] 1,371,700원 https://cr.shopping.naver.com/adcr.nhn?x=bDSkS17y9DmMM%2B15jWnzFP%2F%2F%2Fw%3D%3DsXBVEErFZ0l81FWpySdXTsy8WMVYDKwnGVEIXQ3Tmepi73bVQHldJ9ftGXbklIZwQf86WEMA%2FlmhoLeyK8cCqrkbAoeRkvpJaJBMwPydFbM8QhkkHXK4%2FmSRy5icYE%2F27MgytCeoXns4eYFwCYFK9PVfCwog8a5n%2B3SvlX92MXub23sQsd8t%2FiY%2FDge6gmjFNZ51b4zIIhzI2xYZuL9f9QD9rXyqENDUD8omnd%2BAEOisPTfanYRnbsBJlo6Yw%2BUVe%2BZmZtgMehNoJc8GiJZ%2FFOYvFOQV9u2CZQf15VdnhYXoNyTdujLoChtH822cWdzXaWvx8BBxoXmoUCqpM4bIojFVd6Z%2BmZ5fvTALbBBPmfKLmnGLANk9TjQtjOEdf9xG%2F%2BzOw03htq5cE13DS3iiGqLNoujdiiNe5Aky91pn4j%2FL%2FRfyAUEGGvquedOTk2rasmGFuS%2BOXm20RClFEBVy8MrHJM06m8XkkoABSxxLFFemOsyh0bwCm%2FIOHaD6%2FrVAHuSD%2B7qfrK2Ehl%2FHat%2FUmGQ385erTrEUuUwLA0NA5uM8tyoSE6KxzK06m1%2BHQP34CN0i%2BICBmM3F16eOMosyKnHN4mwxtD3H2Nf4OP0tawCgSzxwVRNV%2FYRemZK5z1sCE%2FNbg0tT8Lb%2BxX7V9TgVmZsRHrmOEIY%2FqN9zq6il0YVZoaKZHilHbuauHUigNM5KA&nvMid=34558906623&catId=50001519\n",
      "Apple 아이폰 14 256GB [자급제] 1,252,900원 https://cr.shopping.naver.com/adcr.nhn?x=qV4QL4aJoOiEMG1dDveryP%2F%2F%2Fw%3D%3DsnuTn4H4NhB05RYIOj55y7GdwlXLKm7QVIf1PVZ5Ns0673bVQHldJ9ftGXbklIZwQXI2L021e0I70dqS%2FDOv%2FBUbAoeRkvpJaJBMwPydFbM8QhkkHXK4%2FmSRy5icYE%2F27MgytCeoXns4eYFwCYFK9PVfCwog8a5n%2B3SvlX92MXub23sQsd8t%2FiY%2FDge6gmjFNZ51b4zIIhzI2xYZuL9f9QD9rXyqENDUD8omnd%2BAEOiuAd27O%2FASMNm1auq%2B0EFTl4LLDJfskdIuN25CI4r2Lt4vFOQV9u2CZQf15VdnhYXoNyTdujLoChtH822cWdzXaWvx8BBxoXmoUCqpM4bIojFVd6Z%2BmZ5fvTALbBBPmfKLmnGLANk9TjQtjOEdf9xG%2FHIuRnBQr8AfYOzuoA5n7ZbNoujdiiNe5Aky91pn4j%2FL%2FRfyAUEGGvquedOTk2ras%2BBaF%2FOSlJL6GeR%2BFZ%2FUv37HJM06m8XkkoABSxxLFFemOsyh0bwCm%2FIOHaD6%2FrVAH7%2BxifVqW6WcdDDAa14xUF0P%2BQUw7izuxPHixtztdddBeXnYVq7wgba8GgaWkWX00XcP4nLal0gy5rwpeUnXt8cLSGId%2BZ%2FOYAjRfVwLnTYrIxEpjTfq8onpRlfc3AhreglJxZSfSOIQIPMuk9WzUC2k562BGSHm%2F3xG%2BMu%2FwZi8GruH08DlKshetxY8KUEZb&nvMid=34563811621&catId=50001519\n",
      "Apple 아이폰 14 프로 맥스 256GB [자급제] 1,681,500원 https://cr.shopping.naver.com/adcr.nhn?x=hAsrWarbdzx9Oubwym96Of%2F%2F%2Fw%3D%3Ds0UIQFjEs8IALKhdOuh3UI96sm0CeOVXwLn1WiuYp7FFGjrUjzI8JCL0SQIFxMKUA0AwoXghoEUyNEDOcGcTIwjRW%2Bs6b6w0rbijbehKhUvq54J8UO7LDGXdPU9Do8oyMJJe7sWnbT0TmLJsg8wguUXhrb%2FbuQdOrFsHoIH5xfLq2My1%2FY1%2FNiCsYj5cW9uw0CvF1Qec0i86%2FtiZJSMkAJ8OmY27ZGze0Q%2BtXRlM4Oxvl48pn4Dvz5Q0UPYVKcm4hYDF4otyogkvPY%2FGf5z1HQcdAmfSN83ChOoIPfneWzCYJEDhxD4YKFHbjo21UeCExMLohdJSoy6qsj2Z%2FeZqxcd9%2BKy%2Fm0d%2BgYWHtEf61Jo4AUk0tbEb%2BPaAR8Zvsauh44TG0W0Z8K9lyzBvCYeFYT8swxAhdD2m92XyCMoJ4MkHqdi3Q%2Fm8V2A5jR123nAwZELoGMmIbR8ObBchQpoRiqO7Ps88QvLGtE%2FDBhKM1akVDk2nHMP4aHVCx%2FcONoE3uHIVGZ6AjBbrkJoVCl0LLyAMC8VRZxDY4cjIIz6rWwYjlE80KNwbfNxekQsGJejRksTXhzeKkynwlV5iG42bUw2TSvGNH2h%2FIdubAy2Jv%2BhsMuIhRzmHb5blL%2BI8EeCDgv4YGjJCSIW1IvBxXT1wG9%2B%2BnZqjY%2BXZ6OIgx6tIN46hh9M%2FnyVwPy2k2bro9YpVlDhLBwu%2FFQS5xWYf5w6G3jQ%3D%3D&nvMid=34561927619&catId=50001519\n",
      "Apple 아이폰 14 플러스 128GB [자급제] 1,187,970원 https://cr.shopping.naver.com/adcr.nhn?x=j2Dc0iNG7oNXiKWZJ2tyD%2F%2F%2F%2Fw%3D%3DsYbuGdV7V8ijVRX1iqATVTYKF3BvNauhCBt%2FTNlDCcR9HDJsKgV2dQLI4PLgR0Hub5F9fCzsbpdXzIuQAvKo%2Bzx4pza8ebIOIXPrPsGGS95ek6v2w9jBqMGR4TTsgYaQnQO9RbatmTGCBPUTCXrbVe8A%2F8WNmzvqa4o%2B6QP2x%2BiE7h9Gs8fN5G%2FG8H5VQpsKjYvis7tvefVw0oqcD2ObJLoBsJjzV%2F3vl5Lmd9HbkUGK2UN9V2N4kWfJsGecC069WyaMch8hSv38Jh49Z0zLgm1NP%2F9CJheBrCWSTQseekct7WCwQL1x304%2FdnplGc4PqX40oacb%2FnMvqNV7CgnBsHcv%2BjB2erv%2BZ%2Brrs5VHOiTRLlIk0uAh1LVcUK1nkYRMYbM4N7aGKpKRJEn68JnS9qDGLU6s9nfQJSwdauULeBewbV9SohnsJOp40F4RSK4iN9ufb%2BuObzSg%2Fh0GxqWfSJC6UxJeah0Om0lkIOZtT9ZLxLbU57LuNzmnFLwGq45KovPp2kQOMKpL7ZhSND638SJD9PxxGmGMxcEW4jGOfHfoUVxRG4ldwD1%2BkE4NgSPi6Orebu7PzBnchm%2FG8VyL10u1nI6Eg%2BMTWwf8Z6GWG%2F7ABhNg6pO%2F%2Bw6bSRwW%2FduOkoOaPw8DGreU834qq9fiJGxU%2B3JWYYf9DJcrnANFvkscDfkLIyuldBS3f8m8e6nLmzUhNzs2VE%2B%2Bisqs3JAEppg%3D%3D&nvMid=34562379623&catId=50001519\n",
      "Apple 아이폰 14 프로 맥스 128GB [자급제] 1,540,000원 https://cr.shopping.naver.com/adcr.nhn?x=jC2ZL6VbwhwtuVXwr09%2BRf%2F%2F%2Fw%3D%3Ds6OjmaEe9WeSNVjbpxk5ybbf2TuWWdJ6%2BBJhiXNN4KQVGjrUjzI8JCL0SQIFxMKUAye%2BgQ5yUp61HoYvDddbQ8W3zn5KzDW0lR%2F%2FEaArCfhy54J8UO7LDGXdPU9Do8oyMJJe7sWnbT0TmLJsg8wguUXhrb%2FbuQdOrFsHoIH5xfLq2My1%2FY1%2FNiCsYj5cW9uw0CvF1Qec0i86%2FtiZJSMkAJ8OmY27ZGze0Q%2BtXRlM4Oxvl48pn4Dvz5Q0UPYVKcm4hvXCmxZhX8OHN7Wt562Lxw8dAmfSN83ChOoIPfneWzCYJEDhxD4YKFHbjo21UeCExMLohdJSoy6qsj2Z%2FeZqxcd9%2BKy%2Fm0d%2BgYWHtEf61Jo4AUk0tbEb%2BPaAR8Zvsauh45cHAcBmA68mcRA28ejaTQRrOJNJWgopZG8CzMnKdyrrqdi3Q%2Fm8V2A5jR123nAwZ8iE2SbAxL2z7TrQWyyktt9%2FxAgg4ef62WIJT1K%2BzOB5Dk2nHMP4aHVCx%2FcONoE3uHIVGZ6AjBbrkJoVCl0LLyCC%2FOSQKpmiFUQRvI9TGNtDlE80KNwbfNxekQsGJejRksTXhzeKkynwlV5iG42bUw%2FevZ9VoKWZH4zG1cq%2Fpa4bWG7pAI9OhDzEc8BXUOEwgv4YGjJCSIW1IvBxXT1wG916pwq4sabyXya%2FHMnOA16Y3rXBlbN9ABzjeYeGnyELtDhLBwu%2FFQS5xWYf5w6G3jQ%3D%3D&nvMid=34562805618&catId=50001519\n",
      "Apple 아이폰 14 플러스 256GB [자급제] 1,200,000원 https://cr.shopping.naver.com/adcr.nhn?x=CA2OwrEV6ZcMMdexx3dgCP%2F%2F%2Fw%3D%3DspujSj6AYFdyr8tZhLPnjJXrbdoFgtOTNurW563U35aNHDJsKgV2dQLI4PLgR0Hub1jVAW0OR6Sbbc%2FM6gCT%2B3h4pza8ebIOIXPrPsGGS95ek6v2w9jBqMGR4TTsgYaQnQO9RbatmTGCBPUTCXrbVe8A%2F8WNmzvqa4o%2B6QP2x%2BiE7h9Gs8fN5G%2FG8H5VQpsKjYvis7tvefVw0oqcD2ObJLoBsJjzV%2F3vl5Lmd9HbkUGK2UN9V2N4kWfJsGecC069Wu4yrGJHAWCQY1WUnt1jMy1NP%2F9CJheBrCWSTQseekct7WCwQL1x304%2FdnplGc4PqX40oacb%2FnMvqNV7CgnBsHcv%2BjB2erv%2BZ%2Brrs5VHOiTRLlIk0uAh1LVcUK1nkYRMYgDMYta2GxkEwfETAuOK8S8nFrN04wx1b%2BHNUqrF7rbkbV9SohnsJOp40F4RSK4iNm5mKyIP%2FBOfDNmsSIs7YBi6UxJeah0Om0lkIOZtT9ZLxLbU57LuNzmnFLwGq45KovPp2kQOMKpL7ZhSND638SJtc52q2yOwx3zfIsxNGTG8UVxRG4ldwD1%2BkE4NgSPi6feX6fz9I2n7r8ZwIqE1%2FP1YRWa3Y7dG%2BzsVsEOYq5bMBhNg6pO%2F%2Bw6bSRwW%2FduOkThHzgX%2F0kjkyaTojE7kSE6whjO%2FfMARQqcnBiAqDwbsDfkLIyuldBS3f8m8e6nLmzUhNzs2VE%2B%2Bisqs3JAEppg%3D%3D&nvMid=34562947618&catId=50001519\n",
      "애플 아이폰 14 프로 256GB 미개봉 새상품 자급제 통신사 1,299,000원 https://cr.shopping.naver.com/adcr.nhn?x=M69Hyx7nqMMiCEu4A%2FWrlf%2F%2F%2Fw%3D%3Dsj%2Bwdiyj8gJ3QlyuQn5JLWBIB%2BT%2BTNQqEgL6YxtLE7gK73bVQHldJ9ftGXbklIZwQ97%2FR2cbhc6NnJ7lCW2j8vkbAoeRkvpJaJBMwPydFbM8QhkkHXK4%2FmSRy5icYE%2F27MgytCeoXns4eYFwCYFK9PVfCwog8a5n%2B3SvlX92MXub23sQsd8t%2FiY%2FDge6gmjFNMBbAUTLhEczrfo6o%2BFCYJ9koDZhZTyE2PqJzLGA4wO4wZDsQVCokVtMpQBp981v9Sw%2Fnhf%2FyTVc30WwcAQTve0Mig8364v5znerpPovLdTOk6v2w9jBqMGR4TTsgYaQnlII%2ByYYqWVu3SSXxcjEJdHp%2FIpPxoRPVpmdPMms6TyEpFZeP7IvQY%2BFaVR6QzfppbF4OZVL2Q%2FcwuxYvViSTh9VAkRG56UpPl1ga0nC8NdHAK%2BFEp2ob85bpvvxlv70gpVNWliYCGX2FJOL64M1QZRzdeybNoHDI4lgqZQb2dMn8A%2FRagQjZzKzCQE1fycoW7FLWp3RE8WLG48kGSEPngpLA1N1LEePZf%2FLX257BVnKEEs02bEqypTqxLxel2Pz6eG2NXWEbxDm0hqhYHEoFSx3BLjwRcBTLvwRoeYF9ZEXOv7jX9qk7iAtWEPzukU%2BzmbhnL9c1OasN6BtYdDkOXf35jD2%2FK220AaeP57ON1lAGruH08DlKshetxY8KUEZb&nvMid=85782486887&catId=50001519\n",
      "애플 아이폰 14 프로맥스 256GB 미개봉 새상품 자급제 통신사 1,497,000원 https://cr.shopping.naver.com/adcr.nhn?x=kKI3bHH0yWI7mlUgwOo2TP%2F%2F%2Fw%3D%3Dsf7RLzB6hwFGicIVEg0oRL1Iy9AsztQPGuXzEs2E0AatHDJsKgV2dQLI4PLgR0HubLNQo86sKiNTqtYz%2BkchKMx4pza8ebIOIXPrPsGGS95ek6v2w9jBqMGR4TTsgYaQnQO9RbatmTGCBPUTCXrbVe8A%2F8WNmzvqa4o%2B6QP2x%2BiE7h9Gs8fN5G%2FG8H5VQpsKjXW7xQU2%2F4%2FFUkXsz7IBdG%2Ba0O2TX7GIDZW3de8vjU8wXwM1tNuDwxlmWps2CEFOewyXvZVW7oKLPfbU2E0RshkSFkDFwtEtObaCdqeZU1t254J8UO7LDGXdPU9Do8oyMXmq0wb8nQ9S1CNyVqQgAyF9kf2XsCLtDSn%2B9vcfpItW04gDBdc7qhFZroWPQH69AvX82Y5Ils9cLeBDu1LyZB7DZ8cMkwPKPy%2Bw2UZCDqhgUIkt5M0yIil13vZMydQVHa6Vks%2B2VmMH7X%2BXhca4pjeM4kzn8XjKdeALCFitCcefaG%2BF%2BIiaSAQFKLyiJN8G2HE8aFw9Uq51%2BbpOuwhia71R66T2JuoCf2FSyFlPyyRNFuVrPkkJARiuo992QR%2F2VxzTcXRW14PR%2Fn7OKn216GzYhYCKekPCDvbTMF%2FwJQpdpyzsyoNdRITS%2Fpv3AvFhGn%2BJVHI9OkcK%2BPMdurqnWnnk9PBU4S2yyH7jXZBpLKmzke%2FVP%2BgM94BPZkP5YJ%2Bex&nvMid=85782491599&catId=50001519\n",
      "Apple 아이폰 14 프로 512GB [자급제] 1,809,500원 https://cr.shopping.naver.com/adcr.nhn?x=rUUdtU7b17qOdcmuEJe4IP%2F%2F%2Fw%3D%3Ds8BiK2knKnUyOL1idf4sYjyHcit1P6ES19LTpfcDgpulHDJsKgV2dQLI4PLgR0HubB06CGfTeZ2o42VWqxA4fVB4pza8ebIOIXPrPsGGS95ek6v2w9jBqMGR4TTsgYaQnQO9RbatmTGCBPUTCXrbVe8A%2F8WNmzvqa4o%2B6QP2x%2BiE7h9Gs8fN5G%2FG8H5VQpsKjYvis7tvefVw0oqcD2ObJLoBsJjzV%2F3vl5Lmd9HbkUGK2UN9V2N4kWfJsGecC069WGzUxPGhmEBKGkSNQ3KHhKVNP%2F9CJheBrCWSTQseekct7WCwQL1x304%2FdnplGc4PqX40oacb%2FnMvqNV7CgnBsHcv%2BjB2erv%2BZ%2Brrs5VHOiTRLlIk0uAh1LVcUK1nkYRMYc5ZRfc7AHF9uIWDYDgWRkW0mmFAEeToCuOR8ihX%2BdK8bV9SohnsJOp40F4RSK4iNbo4oIQSoW3gwozCbSSwGzy6UxJeah0Om0lkIOZtT9ZLxLbU57LuNzmnFLwGq45Kobi8DfWAwhINqZSQO9TRY7wnrPi2U4bJlb1h8%2Fb7weIijriJ8H0NV5nx9%2BVr0aUV2ozNCL%2BUAUmd23JnU5%2Bll8eg1eaAXOtVUz6KB8JBHLxWIDf9TYDOC4LzgCehLsur5fIJW0tJt68YdRDBEnsa%2BVDZ2eopCiwvBIoUT3oHtQDFXc50eBITwugSNPH3Ok09sVpGw61BSdoQRvEGgfFlc5w%3D%3D&nvMid=34562688619&catId=50001519\n",
      "Apple 아이폰 14 프로 1TB [자급제] 2,184,000원 https://cr.shopping.naver.com/adcr.nhn?x=Kmgub1VcWrKKNF8H5uhSXP%2F%2F%2Fw%3D%3DsRK5oMZXmqPyDlM56fQOB5CO5lTplHBWSwpGz7r8coJpIzwzRFNv0gVi1N2%2FwGpMCOufZFonF79lXRMejTYFn%2FNof6jW5jHdz%2FbROY2pgmykluxxfm60J9z8rnZUjvqTWfirCB2GLjnzFjEWtNU%2B%2B3VwMX2Os3Tpkc1%2Fh7gf06KoKyabpLrikZ57E%2FNLKRp1tSWzUz3G5xfGQ8%2B3tBOZJEWvqR2unsG9Pw6XBns%2FftjJIVYElBciDAebCX67ukT%2BPopZ2yWpH1Etspn%2FXHAyiP%2BPi0Saw6L6RKGlnVGdk9xV1jGzvzIHxu8Fy9cDWiRKSRIWQMXC0S05toJ2p5lTW3bngnxQ7ssMZd09T0OjyjIxearTBvydD1LUI3JWpCADI5tKceHv7hihImqwsKcAPvlC8IvS%2BNPsEPJ7D6mlNi%2F71weJu5wrfvRUFgIuwANioc5T5MHOfRxGLaBO%2FC1kde0tdy%2F0DPgmbquq6SjnyPoOyovKRC4aHTXKUgO0QOirGeeUUtOxO59E%2FFqNUFNMi9iLkdKvOGEI4xa5d1nG8Ze%2BwlPRmB4QjA5nnKUyLZtVDib432%2Faglv1S3esIRAHFe7ruoVk0MBFhxmRFA1PBjCnXilMSnGEk8%2FOylRGMGcQWXtCefVJv79%2FiRU972yCQcgvlGy7qNjypAcrOALeZxDSCqA6%2BrrPkSkQjk3bFq%2FUy&nvMid=34562724618&catId=50001519\n",
      "애플 아이폰 14 프로맥스 128GB 미개봉 새상품 자급제 통신사 1,354,000원 https://cr.shopping.naver.com/adcr.nhn?x=%2FhlnzwCRf29CUckChWB7z%2F%2F%2F%2Fw%3D%3Ds0mfWsALGUcqI4ly%2BhtZsi%2BhIrFrDxB9k2NtRkmVObipGjrUjzI8JCL0SQIFxMKUANuGVNSpthROJv4L1gdbP%2BtckXOT%2F3LAxl9LO8wQZPi254J8UO7LDGXdPU9Do8oyMJJe7sWnbT0TmLJsg8wguUXhrb%2FbuQdOrFsHoIH5xfLq2My1%2FY1%2FNiCsYj5cW9uw08vVzcVDPdO81k0AeYUWA%2Fbzg5LotibZWs96FaOW7%2BneOP0oYFbr1kQPfR4PYNcaQKuiMPpkv6jHeHCABJnoXv1r8fAQcaF5qFAqqTOGyKIxVXemfpmeX70wC2wQT5nyi5pxiwDZPU40LYzhHX%2FcRvx7yJtosquLZ3LiR6T4yKN1zmvya0XEt9NKeC9ptScMkDG4evy%2BM13j64UYOnhTyGe%2FLKnMm1zJivu5v4V6Pf7Gy%2Fg%2B%2FSRal1BwobMCCgGuXzgKInaGsHN%2BzcOI5%2BwOSJbX8tHPBotk2KgwJfX0xwCE0AcUMIFbc%2F9AQQLq6vQ8bKzmb%2FhMgnJh9aGBQASxHpv%2BGcOaZWglvIAbjS7bRP1xdnvoolkKVNouiKxvFitIQVJba%2FekqQeTjmSZYzutJcpj3mN8NTG74vWKk4YXustH5x6a9N5DIavHLmsGQwAKsIfiV89cE6qfszk9TYecLvEsqkHzuFnkEx3JcZSP495gDfkLIyuldBS3f8m8e6nLmzUhNzs2VE%2B%2Bisqs3JAEppg%3D%3D&nvMid=85782490302&catId=50001519\n",
      "아이폰14 256GB Apple iPhone14 865,700원 https://cr.shopping.naver.com/adcr.nhn?x=ZYTzpFqRhyLCUZ1KfqHDEf%2F%2F%2Fw%3D%3Dsp20WjLaO4Xe4qVHXrk%2FXevc4JOOxRO6c58U5IjDYm%2BFHDJsKgV2dQLI4PLgR0Hube31dA77et91IUMT3IPdVQh4pza8ebIOIXPrPsGGS95ek6v2w9jBqMGR4TTsgYaQnQO9RbatmTGCBPUTCXrbVe8A%2F8WNmzvqa4o%2B6QP2x%2BiE7h9Gs8fN5G%2FG8H5VQpsKjkZ6bfrsdIe6KupOqykoOYd9xspAqaYlGb2A4AlKGsKoK3cUwfn%2Fx7YomcErBEMnLkjwfXY2%2F1U%2F3kN%2F8Fx8clL8D1qOivf%2FRL%2FfuEHF7vv9DIoPN%2BuL%2Bc53q6T6Ly3UzpOr9sPYwajBkeE07IGGkJ5SCPsmGKllbt0kl8XIxCXQPa8F5lp80CPhGGhqFdGt5piX2Jpc1KWUKWgVla65i8WGMkKJgDgkcL2l7%2BAVNd7%2Fz1qGiFcy2yjWm35E3vytXXl7PCYSq9cP300KINpRopGlSx2KO%2F%2B9KfCQl0cm3r4J3qRdoyzjUFzRZnx4%2B7tsEXAHJutJxyrj4EPL2TjI9Al8KhwpiNRkdvHV3oQYr0tHTn%2BIvcxawVxNuePP9ktethpdEt0lR23j5IBduLpWnu3spgTYfDD9%2B4MGpimxYgnFHmQ%2FOkDrr7qBfv2rGMUuYQdAiJdwXirBRdnaxfvrBbw%3D%3D&nvMid=35365225579&catId=50001519\n",
      "Apple 아이폰 14 프로 맥스 512GB [자급제] 2,039,800원 https://cr.shopping.naver.com/adcr.nhn?x=5W%2BTACEhKKxowyfxawNZff%2F%2F%2Fw%3D%3DsjWhMK8HiTTBQDFrd7W7PSfk7C1e06HnujD8NS0jF1ttGjrUjzI8JCL0SQIFxMKUAwW%2BIYIKoJa4udgVcMpOlIzRW%2Bs6b6w0rbijbehKhUvq54J8UO7LDGXdPU9Do8oyMJJe7sWnbT0TmLJsg8wguUXhrb%2FbuQdOrFsHoIH5xfLq2My1%2FY1%2FNiCsYj5cW9uw0CvF1Qec0i86%2FtiZJSMkAJ8OmY27ZGze0Q%2BtXRlM4Oxvl48pn4Dvz5Q0UPYVKcm4hfZUj3iI6z8M2YIoKGVN7C8dAmfSN83ChOoIPfneWzCYJEDhxD4YKFHbjo21UeCExMLohdJSoy6qsj2Z%2FeZqxcd9%2BKy%2Fm0d%2BgYWHtEf61Jo4AUk0tbEb%2BPaAR8Zvsauh4WVtzq5O6XGtyFoPMH%2Bng4G80MD7mmwo%2BqVBuWydey8%2Fqdi3Q%2Fm8V2A5jR123nAwZtm4vIOKzLHAEUsHP%2Fc68i9%2FxAgg4ef62WIJT1K%2BzOB5Dk2nHMP4aHVCx%2FcONoE3uHIVGZ6AjBbrkJoVCl0LLyMyI7UTAGXbjyFUSumeQoOTlE80KNwbfNxekQsGJejRksTXhzeKkynwlV5iG42bUwysoqIY9ikVzbLgafghHt8gZ%2BNlFIM2se53HyNiQe5UDv4YGjJCSIW1IvBxXT1wG95lFLPnGNKZoeBE0ha%2BUV9oYM2W02%2BEHBF%2BqfgSxtswshWw3%2BIByOa0jCVNQVnCDoA%3D%3D&nvMid=34562823618&catId=50001519\n",
      "Apple 아이폰 14 프로 맥스 1TB [자급제] 2,321,770원 https://cr.shopping.naver.com/adcr.nhn?x=zmrXwl%2BLoFCEO5uBqAzOef%2F%2F%2Fw%3D%3DsviFCH1KESq6fx3IQnWPGShleMm7oNGtTb8uyd6np7IVHDJsKgV2dQLI4PLgR0Hub3Rg%2B%2Fl%2Bdh%2FCC8Ot2ROZnZh4pza8ebIOIXPrPsGGS95ek6v2w9jBqMGR4TTsgYaQnQO9RbatmTGCBPUTCXrbVe8A%2F8WNmzvqa4o%2B6QP2x%2BiE7h9Gs8fN5G%2FG8H5VQpsKjYvis7tvefVw0oqcD2ObJLoBsJjzV%2F3vl5Lmd9HbkUGK2UN9V2N4kWfJsGecC069WQlbxdh2atrgYu3DnNa5aDVNP%2F9CJheBrCWSTQseekct7WCwQL1x304%2FdnplGc4PqX40oacb%2FnMvqNV7CgnBsHcv%2BjB2erv%2BZ%2Brrs5VHOiTRLlIk0uAh1LVcUK1nkYRMYHLB0BC%2FbUpYnDUhkOSZC%2Fydw29MtgWojygKv%2FCpg9T0bV9SohnsJOp40F4RSK4iNZUGn2gw7qQDxr%2BHyP4tY6C6UxJeah0Om0lkIOZtT9ZLxLbU57LuNzmnFLwGq45KoK1tTZOtYJS0aJBRTHwTQGAWVjY8nGZej8sCkHDpBQ6WZZd0C6e2Zyps4U6T5DErBZCJVU7bdVikYLVtI1sedQN73GJbfk5Jzv6JR8ezUCutP4PMPHCnudPTZjGRUD3iUlG7Pc%2F2144WbRF8YblGZ4if5NrhrIACLgdXBGT7QLs50X%2FKuyg37fsTKPvmB73%2BKBq7h9PA5SrIXrcWPClBGWw%3D%3D&nvMid=34562724619&catId=50001519\n",
      "Apple 정품 아이폰 14 자급제 옐로 256GB A2882 1,380,000원 https://cr.shopping.naver.com/adcr.nhn?x=mojx6%2BICM7Zn8ag9CXWFo%2F%2F%2F%2Fw%3D%3DsVYhQQAprFTe9elTNGSuVLvaFJubADd42TmwEO9pY8T9HDJsKgV2dQLI4PLgR0HubQSh04AX0TDTgi37jk11%2BBR4pza8ebIOIXPrPsGGS95ek6v2w9jBqMGR4TTsgYaQnQO9RbatmTGCBPUTCXrbVe8A%2F8WNmzvqa4o%2B6QP2x%2BiE7h9Gs8fN5G%2FG8H5VQpsKjCgIml23h0OsgoNdykhk5ng9S4JdloJ%2BBqm37beRLy0PIk4p7qYTTC7m2uG6Hf7HM6jGWhLt5Cv9E3nS49%2FH5F1llkM2416p%2F1ZQD0%2BruVBs%2F5Ub9IZ79vHn%2FLXOfyWAClWz9oaoRUTamWmdAp0Mk2N8q%2BQ5%2BhglZTFm1AI00%2BjZMK1OA%2F7mP7ni4tdZFC%2BcfMLohdJSoy6qsj2Z%2FeZqxcd9%2BKy%2Fm0d%2BgYWHtEf61Jo4AUk0tbEb%2BPaAR8Zvsauh4gvUp7aKzEstPEd%2F4hYDJvfhTstbcyxIq%2F2Nhr91JX93qdi3Q%2Fm8V2A5jR123nAwZLAVHx1bir3QRM5%2FpH%2F4m8ikJnKACqD5qc0uarY35yP9dNeB0fG2lStni%2B8T4llTwXZdc8sF3Rks2vZtEIAVsjj9AyekwTTDFbmjqYtb5jB%2BjgctIUOihg1QhPWUgNAkcH5LLh5eR2eS2YZ77PcGeL6KKuNIHxFI4pxPolges0Y6jrgWQ%2F0JBsjHud4pzo5y1F63%2B1ImUukR4%2BlPnEjWdO92VWlyYtv7SUlfqVieNoNO2Iq9e4%2FJu3N2D3XDnxwizgqgOvq6z5EpEI5N2xav1Mg%3D%3D&nvMid=38562055402&catId=50001519\n",
      "애플 아이폰 14 프로 128GB 미개봉 새상품 자급제 통신사 1,145,000원 https://cr.shopping.naver.com/adcr.nhn?x=WGlbiqkEupMlp%2BJCvyH2kf%2F%2F%2Fw%3D%3Ds0K3opx%2FfUmevPnVa8AU1QN0A20ZPAo24yHZfL7mSFWy73bVQHldJ9ftGXbklIZwQDrj9yuJZ2BYQw0vAaO2nTEbAoeRkvpJaJBMwPydFbM8QhkkHXK4%2FmSRy5icYE%2F27MgytCeoXns4eYFwCYFK9PVfCwog8a5n%2B3SvlX92MXub23sQsd8t%2FiY%2FDge6gmjFNMBbAUTLhEczrfo6o%2BFCYJ9koDZhZTyE2PqJzLGA4wO4wZDsQVCokVtMpQBp981v96c%2B522QjBpg3Fy%2B%2FycxufUMig8364v5znerpPovLdTOk6v2w9jBqMGR4TTsgYaQnlII%2ByYYqWVu3SSXxcjEJdAcjS3u1fc5Kn05GFZSgTQQpFZeP7IvQY%2BFaVR6QzfppbF4OZVL2Q%2FcwuxYvViSTh5PmcZg3l946kyvtBHkjEQPAK%2BFEp2ob85bpvvxlv70gpVNWliYCGX2FJOL64M1QZfdFzlHKDszB1eHsQ9c6jar8A%2FRagQjZzKzCQE1fycoW7FLWp3RE8WLG48kGSEPngpLA1N1LEePZf%2FLX257BVnJC%2F4w4OdOni1z2758ASInidDztFb5dRYGu1QV09kc0UB3BLjwRcBTLvwRoeYF9ZEXN6kuvWMvmZqES%2BHPna4wGa2XtjcPEHsfBLpclYiuzfyHtVXSXs0ZttZR3FcWFjahB0CIl3BeKsFF2drF%2B%2BsFv&nvMid=85782419728&catId=50001519\n",
      "[대여] 아이폰14 프로 렌탈 무보증금 무서류 카메라 캠코더 휴대폰 스마트폰 20,000원 https://cr.shopping.naver.com/adcr.nhn?x=FiZnXBxZr5GIpS4%2BduDe5f%2F%2F%2Fw%3D%3Ds%2Fv3gB0RhPSCLdCHNkNbbSSki7fceReP0JQU0Wdwskdu73bVQHldJ9ftGXbklIZwQsyTC65kFG3FBnJnnmiCXzEbAoeRkvpJaJBMwPydFbM8QhkkHXK4%2FmSRy5icYE%2F27MgytCeoXns4eYFwCYFK9PVfCwog8a5n%2B3SvlX92MXub23sQsd8t%2FiY%2FDge6gmjFNMBbAUTLhEczrfo6o%2BFCYJ9koDZhZTyE2PqJzLGA4wO7oif7wCkTcpa5MY3cw%2FGWoLwizRU1RsjXSHJ8Of7VadEMig8364v5znerpPovLdTOk6v2w9jBqMGR4TTsgYaQnlII%2ByYYqWVu3SSXxcjEJdHOG8ogGDjLm0Hn4K3rtCu4KzRkJXU9%2FG%2FeS8pptq%2BaDmm1JLu3o30uX0kQP1eRkNbYfkU1OuQvcirNOwX9O6nGVOK0dQ%2FP5I%2BZWWSuANJoNR6on%2F%2BcuyV6iDkhlzaBDPu2v0Dek7yB8MMIyLVQ9VIXhifCpaYOK0ulelgb0pu0g8OlIQBmrL8MXgs%2FDe9OHWSB%2BuRz7heom%2Bs4HskzngB7itrznPgkBzkvMesCcuNhXpZF%2BuO2XY48Pfq%2BTHL6fmuQ4QSY8eF85UmXPgP64gak2IWAinpDwg720zBf8CUKXHDxUz8BfMHGG%2FuGa9BCmsi8xaINI9ym8EFJVlQITXawfVzIL0m80T6FUZU5K8EjN5Hv1T%2FoDPeAT2ZD%2BWCfnsQ%3D%3D&nvMid=84914932359&catId=50001519\n",
      "애플 아이폰 14 플러스 128GB 미개봉 새상품 자급제 통신사 947,000원 https://cr.shopping.naver.com/adcr.nhn?x=8EkaEvCOQS8nWrsc70HPOf%2F%2F%2Fw%3D%3DsulJCiSKCfPJjPFd9jH%2BLzEfVpeNgXV1FHPiVXodEqmxHDJsKgV2dQLI4PLgR0HubaitKZg19UHr5%2F8E7tcNCDh4pza8ebIOIXPrPsGGS95ek6v2w9jBqMGR4TTsgYaQnQO9RbatmTGCBPUTCXrbVe8A%2F8WNmzvqa4o%2B6QP2x%2BiE7h9Gs8fN5G%2FG8H5VQpsKjXW7xQU2%2F4%2FFUkXsz7IBdG%2Ba0O2TX7GIDZW3de8vjU8wXwM1tNuDwxlmWps2CEFOe%2FAl7otkdurxA5gOC79SdQUSFkDFwtEtObaCdqeZU1t254J8UO7LDGXdPU9Do8oyMXmq0wb8nQ9S1CNyVqQgAyGZUhu9xCfQMOW%2BFDpbmQxO04gDBdc7qhFZroWPQH69AvX82Y5Ils9cLeBDu1LyZB2pvMCcVmE2kNwuNa8fO4BcUIkt5M0yIil13vZMydQVHa6Vks%2B2VmMH7X%2BXhca4pjdLp9GHRRPUXbljTWjK33xq8UqcOYpkgGTM0Qc4LRI3TB2JfOmgX3FkMXp5wjiqWLk%2Blgenq74WhMQa7xlpNDruHwAvTVSK4gXG12Iz%2FL0lH9ix2nZqj6wO6tAfMbmLWOLEKHCxBhmtMLJXh3NqRZK3XqDJERfBAJa6cd1V3KtnXmxbeYEBdlNbjSQLWEfcUgvZEtXKckZKnILFv75VXWfPLVWGr8fvvH1mWvUgXPK6j&nvMid=85782402821&catId=50001519\n",
      "Apple 정품 아이폰 14 Pro 자급제 딥퍼플 512GB MQ293KH/A 1,860,000원 https://adcr.naver.com/adcr?x=+41rJ03cFe8/Xx6UH9v0Wf///w==kSTHTgDwnWAg5oskJs+qtflkTinahBZU2zkCWmJJKb5K0QPf6rZEKom0ZI9HmV/ChPsjPKQmTiC/POdYRNf6aPZynRI2yrIKMgOyQwZT0vCx+IN32LfhKs+J6MRol37hY+QGRetgWVbHNB1CumuX8fWNr4m0uU21v4zs811CnBndNQ1u1gcNbZR0KEN7ddUvVt8DogjIvmKfk7dXOiotOJDkB5T7/XzTEI5nNFlGTsIDJ/qsOy/3dDAbKsMO5w8ltgnOnj7krWyRSbNVPCU2P5NtlyQ2USwN9fbCFF7LxlqKIKB1W4XZqXV7CryJNwWYaa4mcrneeNc7+ObX7dUHKO8PANtGzlK213fNpPbbt0DvJ+Jgtq7bGGbrMjwM0WgCXNH9yRsVXkiAW+uiM5lDof3RQOR/NoPGNwm3LHqn61HYd7ZFWAjsbiiuZfOjK1cZABCxZOrqxh+21wO7psU3fVnro/070Fz8S4GJic+oPU5e3gSt2PJ5pbOwv5uXavtTm1irZGUN3IAwoZsVL3Z8gE38BFe+Mpnh2uCLZn26G9KVcJEexcRvJ0gfAfM88OJORCVFPLeh+HCAuxRPxrCsmdm6WH/mK1Wf5Cob/vY7iN6xITY4y5FGc8WtilD75YXL7st+hzS/Znn7KJL4ETUC1QlsWPZKWyMINA9jrKtm0Qgt15KyhoHhVoVd0Pk9VmUaR2yOerSf9AYi1a02DvEG48zdPI3qZQnUVWoIlu/o5GjmJ7bVGeQL24jn/nqJf5LHncd7Q+4OxGLsLTPYqfl9VX/o11byWSkUpt2OXgbySF2xgUsGO700+37/NFInRsyz/Pf5GTrCueCd5ot5UhU1ZKxJLVnLzoNNmzpAF4CobqLv/u5HIWmw1XLtGEAulv13j5Kxn3Vemd7U4+jubhP3k9g==\n",
      "Apple 정품 아이폰 14 Pro Max 자급제 실버 128GB MQ9Q3KH/A 1,615,500원 https://adcr.naver.com/adcr?x=vWMWEPv6JKTouqil4vLsMf///w==kZSdxwskswJQSrmtA5bXlcv2Gs8+8PJQsCQkccY8VuUu9gskbxqDEAktGAWQQghG/DxkFV5rom7PE27THbmNbxkFtXqJLFnM0DB5FcYMS4yi0O7v8ySeXzKsNpOu88UivuiNRhXyTcZSGzJq6Tdw1Yyw0AbpgJuoWIb7eVIoG3/MoHL+m2QKQuL0B2WPdk24JQixAp6Q/urKw2Dw13oR4XbgovmgjM7/YAWGb7WTyDLIuc4T38jZnbW/9KyKGeibOj7fFp4Ch06iYhoZb49te1yuCEx2p4gWC4vJ2U7HUNIgYrI9R4+ByZS3oYBQ/HwLtZ7HXdjMULNFakbbS9U5/hmc1CsP7Db/jml1l1dhC2K3XJo0uZdS0GbocnFGx4uIE5ekB7GeTqReK6LoctG2sNtv6Y6IdZqr1C9aeErfV3CzAcpEwQVsPyaBChgZopjAxsPV53UIJlARefQ69dxyqURhh/m1gbc5MIpjXwl6C/LVscdT6osh3qNXYe8j1Oj1OHHPU7cnG/99WHQVxvqonf7rPfnpw4RByPMHKfsbGz/EHUB+Nb+tKkKFmSoIdpX4wVZLcU2L8mdJaHm7puSMaEHY1i2oMB0+kp/20Ps5BtvSPqUmcuDmABzG7E/uhEpAWkDKCkMRLJRHQ+WGsC6/tkwG8xIFBM1RJaXAPODqxoeEyLWeXLb0R3ja3uwLMuRnlhnIb5BKHiTz+mk2CaoYXkv4Pp5uzftlWin9nIgr8VeiSxJoKkWCfOCNa4bAduXpEp/C9i0WHBA3hKkcZtTuZIEDkmjOHnGdfCXR++0QJIFjYts8zrXM9bi+izBCaihVvUYx5cVEOgMPbb3PL6KIB80FQ9DekN/zkvyFqBBo6eLtxuxzSNTwEjGeCuGgi0T3rylJzSzmxCNgYBrIl2qBYyA==\n",
      "Apple 정품 아이폰 14 자급제 블루 128GB MPVN3KH/A 1,118,600원 https://adcr.naver.com/adcr?x=JKznQRYmvnwKC0GxhiRBcv///w==k2ItIPJ2tXlrLTEDlCOhyPi9lzHKi5J48oieTUUehTZ8r1Z6LsIHCeCY99WHL+Qkt8KpriAc4m9SKorNPDBJgoLSTFrb1zNvCOnel/Vd82c9+IN32LfhKs+J6MRol37hYmh7wF03XYpnvezBPLVHu8CDuPNBITNVpLRZ+oSqZKGFlI3wmz3DL0JUBYhbtMoBr+nseX0AtSjkxw4zEe+e5T0n3Rje0HlWbvJPtr28aC/zWmGk8EfEo8x739XMmmjAQphraVzKzxpE4veAdG36Zm9OF9aZ7bKx2GFp1LEieGAmyHOMjyUHtbu5hwPtiTgse2FGqu8yuoeAdEG9FdctgJjpiqT5FPsh3L79Rmtki93GF4k1UIV/Ar/UE/DsW5qeD97nGv89kEmzi42NoVMKosbk8w5L+uYhpyzmASN24gPbnVeS2Sgf1Z09Fs651FNDzT8jN7FFoy5O4OW8BXGqGYp46Xz1E84rAd3ReLenFirkNFQgj8tG8/ej2tha1spIVwSJFikf0EPh3y6iD+aOh6F8rfo0rUtGch0l9DJmu/dc287UiOPE3bYfw5KYEvH7EvS8USvvdYQSZbCRCdwkgYLkKtWo4mS2c/qfzHz9iQwFcslImVczH1Q0tzWlnypWTb9tEwNjvX500+X4yRZ1KANWg9UxwiRwx5TszPA0GORQkp038mnInqqCkGhPOi7MoqPe+PjStYhu1oOKuGouTbEeZZ2Ma+fvk1qD6PSnx1JRlhVijFlL7oEPRclgS2XwAo1/Be3ZFWJz6pp6gVqiN6t54loc1j4GpW6EjYbs1PU/Qgc4kZ6ZLRxvu87l0cGnNR6koMfXIfrSIQa2X5l/0lSrfooNcNT8DeR+gxWd9XQzFNve13TpKNa6turkoZue4hRgmBIVgqhLW9VavzYw4kQ==\n",
      "해외아이폰14프로 홍콩판 128GB 직구 물리듀얼유심 언락폰 공기계 미개봉 미활성화 홍콩폰 1,365,910원 https://cr.shopping.naver.com/adcr.nhn?x=PGb4Kr7ng5yu757CGAo4ff%2F%2F%2Fw%3D%3Ds5vH9CaTKm%2Fuu3BJEW2NzdHM7uFi5bF8LaFAU%2BHY7DQ5HDJsKgV2dQLI4PLgR0Hub6jMqz8%2BWjjJoG7kPYdeqKx4pza8ebIOIXPrPsGGS95ek6v2w9jBqMGR4TTsgYaQnQO9RbatmTGCBPUTCXrbVe8A%2F8WNmzvqa4o%2B6QP2x%2BiE7h9Gs8fN5G%2FG8H5VQpsKjXW7xQU2%2F4%2FFUkXsz7IBdG%2Ba0O2TX7GIDZW3de8vjU8zK%2Bk2r2EFYTtzcKNKPjkzQ8Dw58M%2FLaXyuk5dRGlpQ5kSFkDFwtEtObaCdqeZU1t254J8UO7LDGXdPU9Do8oyMXmq0wb8nQ9S1CNyVqQgAyANbmb8pyp6oa%2FcKRE%2BTtnwZ9IOTvQybnytZKIpBClnT%2F0X8gFBBhr6rnnTk5Nq2rJ9Yca8Uot149GxfhP7DGy9Ia%2FIDcyjh15RQN5IM5zaTwXnJI64vnR1tcF%2B1hI4ZuoL2FupA7BXHcozbe9L6G7nlx7M8h2%2BLce9za2HkoVkF8pnHM2ftxferpZDVNHoODPi%2BhM97utyA3r9ti4ZjtQ7y79NY7JzDU2Ww0SW69%2Fd9TysGEQe9AMhjWEXq45Jdpwvqet95udyQkKqCpL%2FVSchfy4p7vxnmt%2B3qrfHdJJQLTIHyo7%2FNsl5i2DsmsNzDUnZ0ZnH4qcMcBaMSplpLtE6X40aJgd8Loxdy899%2F%2BkI27h4JeJnlejDZhY2cq3BvIFdznR4EhPC6BI08fc6TT2xWkbDrUFJ2hBG8QaB8WVzn&nvMid=84745204405&catId=50001519\n",
      "아이폰 14 프로 자급제 256GB 딥 퍼플 MQ1F3KH/A 1,532,200원 https://cr.shopping.naver.com/adcr.nhn?x=1GgFSJyEPjh0V6Sz1m84P%2F%2F%2F%2Fw%3D%3Dsb6QoQkrg%2FsSiX%2FfX3YIHoRpslGbOmBsE%2BwYvXbEK5DhHDJsKgV2dQLI4PLgR0Hub%2Fg0gmAvCz8KcWonM5xXyox4pza8ebIOIXPrPsGGS95ek6v2w9jBqMGR4TTsgYaQnQO9RbatmTGCBPUTCXrbVe8A%2F8WNmzvqa4o%2B6QP2x%2BiE7h9Gs8fN5G%2FG8H5VQpsKjqDWX9kL22HBcfyFZhL2QNVrX5yw%2FWo5Rpxs8nsPT%2BL%2BzBLLOMY4mtGW6kPsCbXZnpcnBSt8tGfB46DK%2BMcKdTLxuFPU03ZgxAo6YHS5uExYFXt7YhXBBxzobSpdFkM0Fv2EiltJOORyWOHra3e26cVdbuJP1Kf19MrYwcPrtZIZsyxvSHxuSEheUV2eKPLXWVNQxKkjjHxMovgZMkMSKv2HWat0HmI61mR5c6N14RaBcFX0%2BoSnBT7uyNVUc35Vaw6ZjbtkbN7RD61dGUzg7G1qsmhWtsS26cBgiQoajA6qGlkAhc5ZSW5nFiDu1xPf5BdZD5XXo9pDW4QJb%2BGETtBtX1KiGewk6njQXhFIriI0ds%2FlyXWV4mGQWEGM45ZVnzfNVo1KcSVSazeZg7M%2BAaeBZZDRw7Xh41jbo%2FkZ9diMxP26t9o%2BFmx4GWx6z9AkgiMnXeySf0cKBlDg3v1QXciatYQ9lmrd5XlmvFqCe8LXzxm%2FxwPM9%2BtjhCC6%2BM2y169tqvKVyLu0ZjYbSW2nDH9Of4i9zFrBXE2548%2F2S1623AuBRy5fDUzSUwxX4mz%2F9CQ2gNaG5fYoq01YsP9KCARCQ0dq%2F3ygdaTiVr3UX7kxB0CIl3BeKsFF2drF%2B%2BsFv&nvMid=37132609782&catId=50001519\n",
      "Apple 정품 아이폰 14 Plus 자급제 옐로 128GB A2886 1,290,000원 https://cr.shopping.naver.com/adcr.nhn?x=uB8d0qBXArl%2FLHigUmKlAf%2F%2F%2Fw%3D%3Ds6zaP8UaVcwLOE3CEcSLtrITajlso4sG6k2yRLZaLQotHDJsKgV2dQLI4PLgR0HubNJK33IIttDBU5S%2BjHPDMGh4pza8ebIOIXPrPsGGS95ek6v2w9jBqMGR4TTsgYaQnQO9RbatmTGCBPUTCXrbVe8A%2F8WNmzvqa4o%2B6QP2x%2BiE7h9Gs8fN5G%2FG8H5VQpsKjCgIml23h0OsgoNdykhk5ng9S4JdloJ%2BBqm37beRLy0PIk4p7qYTTC7m2uG6Hf7HMqWov7Qn5AQ5tukWExOQsYAA%2FN9IxZYDOaXaU%2BAxQXsQYXmQu8x8mXeNTc%2BjTeEF3JH%2BPsnvyLsqCQMTe87FoWO1Sq77krmBO3uSr64L04xWvvbQTwd%2BXHzO0%2FXJwKuwJMLohdJSoy6qsj2Z%2FeZqxcd9%2BKy%2Fm0d%2BgYWHtEf61Jo4AUk0tbEb%2BPaAR8Zvsauh4jfYOWRx%2BsnIIj6LVkxtY%2BKUN8hyYBDLm2hUWHc%2FSzFHqdi3Q%2Fm8V2A5jR123nAwZCFU1xnibHCEVWFETdqfw%2FbK9hhn8hwAZhQIRULPoG4JdNeB0fG2lStni%2B8T4llTwFZd6xilTPgh9LR6UmHJJv4ts9vbpei7WyudGkTrgYUMyFFr%2Bupzi4Mz932m0nA%2FZXsP9Kx8k8s3PUekv%2FYKHtxP59p9rFDZzclUMI9OcVgkHac%2BPgJALgwD7UHJNYozky9O26Di8KMS%2BiGo7JDPn2cxB4Ta8GtKequU47ZeM9IfgaoqrcessA6mKEJAb9yawzY6of2Xpggjm6A4Z8HgJhg%3D%3D&nvMid=38561975201&catId=50001519\n",
      "Apple 아이폰 14 128GB 새제품 미개봉 미개통 993,000원 https://cr.shopping.naver.com/adcr.nhn?x=t7b1SqGRqZ%2FA%2B3A7JHjkbP%2F%2F%2Fw%3D%3DsqqcwYqjAsdFbkrNIGxPCwj%2BtZx22Nx3Nhhf6O6NBNSNHDJsKgV2dQLI4PLgR0Hube2QmTPIWaUvKGK6avHUzLx4pza8ebIOIXPrPsGGS95ek6v2w9jBqMGR4TTsgYaQnQO9RbatmTGCBPUTCXrbVe8A%2F8WNmzvqa4o%2B6QP2x%2BiE7h9Gs8fN5G%2FG8H5VQpsKjXW7xQU2%2F4%2FFUkXsz7IBdG%2Ba0O2TX7GIDZW3de8vjU8zNgYr%2BTU9nxFUXczyPNZNfzZ2zd6mRffUGBMDvjAy8pkSFkDFwtEtObaCdqeZU1t254J8UO7LDGXdPU9Do8oyMXmq0wb8nQ9S1CNyVqQgAyGRl7PdPlHuSNZ86OOJg%2Bud7wRG7bAVT8KqactQIDzNFvX82Y5Ils9cLeBDu1LyZB5jtWtBa4TSHeIH7AmusH4BLQe74TsdJ8UiO2Ys4UCfLjeP22qwxrpWe5yPpU7pLmBw4sBRqLzHpehdf4xYsju1SSPwX9ZGuOiBfwbyI1aneLVr2WSDOIulDvwfWwAtqWKqT4Sumv2H5Gc7gjgwjLHHTqlxwVcHHQfKKrQXWhQ9fEarHAk%2BwhKA5e3BPdlBdvIh644bdaJnnovy4AVPl5DcX2ySPxAw10EOmMj%2F0JRVZ9vq80IsN2tgilGOqYU8hjEHQIiXcF4qwUXZ2sX76wW8%3D&nvMid=84939743818&catId=50001519\n",
      "아이폰 14 프로 256GB / 극딜할인 / 플래티넘 기준 1,267,000원 https://cr.shopping.naver.com/adcr.nhn?x=5za9iekq%2BM%2FuiKHZPVfmfv%2F%2F%2Fw%3D%3DsS6CKtdb%2BlDoaLLs788ZL5UYYdFsG3KmoYtvOZWNviRi73bVQHldJ9ftGXbklIZwQwEiDhOUnrIO%2BvbcrUTSQqkbAoeRkvpJaJBMwPydFbM8QhkkHXK4%2FmSRy5icYE%2F27MgytCeoXns4eYFwCYFK9PVfCwog8a5n%2B3SvlX92MXub23sQsd8t%2FiY%2FDge6gmjFNSYuPPfKOHcYH5jgK8bi4SO%2FA%2Bza6oXb8JuJAnBIxVIejQC9iRyQjwiCk1DK2aEVvII6hnPUp%2BSsMB4QXAWKs7Zzq%2BllA3fZBBOEasnb8jKY%2Fa18qhDQ1A%2FKJp3fgBDor391W%2FC1w5SVs2sYtTdFSehFQ5F1z38j%2BhQ0V4dAhZJWzQ%2FdXygQJJoMnd7pJT8a4bF4OZVL2Q%2FcwuxYvViSThxTZqAWSMZ%2FkW6%2F%2FUTmvn20hwTs421x06c99CW0QrZnzJlgmxrG8kQzXqGT5L8sRhN8ylYLBEQK6qoU8kaRmIduitzxoxaD3Tgq0cHbAwAPg043TUm1aIX74RPfRCZYyeuSF4JWO0PcUVYVBzxUawa3VH4rhZdXm8SYc8DMB2nfDfAl5dudTqZlos35c9ihFnHZDzdhrOosjgmKHuxiboU0hw37mbX%2FeLP1Pivb2zNjLxyAhEKTy%2B0Zvtn8oYxIR0Q%3D%3D&nvMid=34988188025&catId=50001519\n",
      "(미개봉 새상품)애플 아이폰14 프로 256GB/Apple iPhone14 Pro 256GB LGU+ 985,000원 https://cr.shopping.naver.com/adcr.nhn?x=9wvxQCBxI599L7t0KqT65f%2F%2F%2Fw%3D%3DskiECYHkFIqnO6SLywB23AF9o8L0M8qwSaKY%2BfmR%2B%2FqpHDJsKgV2dQLI4PLgR0HubLpN6qu10Tf8wh3QPF8fFtx4pza8ebIOIXPrPsGGS95ek6v2w9jBqMGR4TTsgYaQnQO9RbatmTGCBPUTCXrbVe8A%2F8WNmzvqa4o%2B6QP2x%2BiE7h9Gs8fN5G%2FG8H5VQpsKjCgIml23h0OsgoNdykhk5ng9S4JdloJ%2BBqm37beRLy0PIk4p7qYTTC7m2uG6Hf7HMEknJ4XBT%2F8m%2FKSXt0RzUPdryBVoNChJZRYixdNSgf97OLAg0qXK%2BPlrsb1xRrcSg82BBqcIF1KS8lBRR%2B7k1pr%2Bo0v25af8g4tCxabP2PhilL3XnWjlyY8V9j7qjormqF%2Folhnl5227a19YGDZ%2Fxk0Pg%2F6PYJW9LpCSumzPJoigK7CtQzZWLlur1%2FFge4%2BEpOEcuHv06nTALgmcs8iy6aB4Mwr1dCEHEIeJFhv%2Fmnx3Ye9CsbWrnsboog%2B94RL%2FIsF7FQ3woCepwHejt5TVyN1nKagDhk1Cg5do%2FRTr2KvK9FbrvPOkUBpZoc%2F8%2BM9a%2FnZZ83RNCUrWQz4vSSVP5H%2B0xqazgxa78jlA1xCb9mGl%2FuONLbaTuxbrvpLmqKq0PxMgfjoc6Ns7OAnQRgziLAIKaB5cPNtMwWJnL8B2prC4v3lzz76zRIvlvlvWfjgDpHPkfJMXvngarBEPswZYALmU3N0kWCShHUw4vdlvoRYX1LQooRYnABNmolSqFcUVgrEniGBmBxcqdveAyf8r2aVdznR4EhPC6BI08fc6TT2xWkbDrUFJ2hBG8QaB8WVzn&nvMid=39053289622&catId=50001519\n",
      "Apple 아이폰 14 플러스 512GB [자급제] 1,529,980원 https://cr.shopping.naver.com/adcr.nhn?x=CJMS54LSjDnlHtuDOR6CAP%2F%2F%2Fw%3D%3Ds5Fld46PpTzkpa02Hv3712cwekQYbPHeD50kFqCrEzihHDJsKgV2dQLI4PLgR0Hub%2FryV9XVCD4j%2B2jPScv6Y5h4pza8ebIOIXPrPsGGS95ek6v2w9jBqMGR4TTsgYaQnQO9RbatmTGCBPUTCXrbVe8A%2F8WNmzvqa4o%2B6QP2x%2BiE7h9Gs8fN5G%2FG8H5VQpsKjYvis7tvefVw0oqcD2ObJLoBsJjzV%2F3vl5Lmd9HbkUGK2UN9V2N4kWfJsGecC069WxbLFgh2uxWu49OSIdtcPCFNP%2F9CJheBrCWSTQseekct7WCwQL1x304%2FdnplGc4PqX40oacb%2FnMvqNV7CgnBsHcv%2BjB2erv%2BZ%2Brrs5VHOiTRLlIk0uAh1LVcUK1nkYRMYZecn3v8GqrWrTGGaz%2B%2FyMzGLU6s9nfQJSwdauULeBewbV9SohnsJOp40F4RSK4iNzQnh8xMoXS8D5fK3ZmTXNi6UxJeah0Om0lkIOZtT9ZLxLbU57LuNzmnFLwGq45KovPp2kQOMKpL7ZhSND638SGU8CY6sV6QhaO32ODb7LWMUVxRG4ldwD1%2BkE4NgSPi6cY9vkUAzCB15iXpxw%2F88SNzB3gW%2Fc%2FD6JQTGC0yCgp4BhNg6pO%2F%2Bw6bSRwW%2FduOk8oyoJb8p7CTcPrW7QlEKZwVXcRVv4rO75jcAJKR4gNxvU2Y6hEEwGxc1AZfON9sL4VRAH%2BsMDObarUodGweR8Q%3D%3D&nvMid=34562442621&catId=50001519\n",
      "애플 아이폰14플러스 128GB 미개통 새상품 1,054,320원 https://cr.shopping.naver.com/adcr.nhn?x=o%2B%2Fw9v%2FYKJWYPPaQlHgc4%2F%2F%2F%2Fw%3D%3Ds92usaes8Cl7joCDB8B3SaZSef5gMC%2BAXbQ9CB9jg8jNGjrUjzI8JCL0SQIFxMKUA%2Fl5kRS1TU6Nj7TfqyMaaR2tNv2mlSJa7kKtjMVeHbo254J8UO7LDGXdPU9Do8oyMJJe7sWnbT0TmLJsg8wguUXhrb%2FbuQdOrFsHoIH5xfLq2My1%2FY1%2FNiCsYj5cW9uw0SEbdM5%2FHF9IOHJtRdg2l8Y41FVW4KFopfFaQ9bivvWhqzBXWPbtXf%2Bl9pVE572w%2Bf2eo2MQBx9I9tysYQDhQY3yZMwMlD6AtwQeVooc09D26sFCeOrBzTJbMu4brYGxH%2FOIq6qLqW%2BXB7aAhUB%2FZQCVdN3LpKf%2FbKuiZi7z1XJQu9YnXFavMxM034Oo%2FpIx4uSZwQCRYjRvRloThX%2FpdwqwS7yh4I4jO5sLytqCVvf1mdnRf%2FusLU9RQC3ehMOrieiudN4wUxYjvrJTsG8aODs4CiJ2hrBzfs3DiOfsDkiWsZPftLibVLYOvg%2FlMfrBrWTXQYsqYuCDUtQ2G7w%2FWyDulBXMG7WVUNNGPsx5675e1kznVZTjCxbNz%2BzNXWtR85g5AXFy1v9PwTmFKzjcdcXR9INs9ZpxiOekV5%2FkbMXH1ftAo5dDeWT1kvs63IJCJ9HsllBuO7jWpT6or1IeeigN%2BQsjK6V0FLd%2Fybx7qcubNSE3OzZUT76KyqzckASmm&nvMid=34961517837&catId=50001519\n",
      "애플 아이폰 14 128GB 미개봉 새상품 자급제 통신사 848,000원 https://cr.shopping.naver.com/adcr.nhn?x=CV3qILXkfztSweLlOAbsFf%2F%2F%2Fw%3D%3DsM4LHO7StaRYZhKnkSA6%2BbrtWa%2BKwHudvzmdIwPnW%2FTBHDJsKgV2dQLI4PLgR0HubwOUwdiKFnJ1F8RmSAmfkxB4pza8ebIOIXPrPsGGS95ek6v2w9jBqMGR4TTsgYaQnQO9RbatmTGCBPUTCXrbVe8A%2F8WNmzvqa4o%2B6QP2x%2BiE7h9Gs8fN5G%2FG8H5VQpsKjXW7xQU2%2F4%2FFUkXsz7IBdG%2Ba0O2TX7GIDZW3de8vjU8wXwM1tNuDwxlmWps2CEFOexP1NNIzXAcCeQ6WhrO5F%2BUSFkDFwtEtObaCdqeZU1t254J8UO7LDGXdPU9Do8oyMXmq0wb8nQ9S1CNyVqQgAyLHjZhTCpqFcnJMACYOe79K04gDBdc7qhFZroWPQH69AvX82Y5Ils9cLeBDu1LyZB47BNef6nLvmSv3QvCsrQ%2BMUIkt5M0yIil13vZMydQVHa6Vks%2B2VmMH7X%2BXhca4pjXgSqQ0Dh4KulNNt6Om7RhorOZv%2BEyCcmH1oYFABLEem%2F4Zw5plaCW8gBuNLttE%2FXF2e%2BiiWQpU2i6IrG8WK0hBa0n9wb%2FhIuuOOqbJMMpdCPNRouOLVBR9bkVCm5wEj0B5ktIwhvAclLAgZqREKGE9yTEe6w4lg0oxAWFp7jAsZ%2FHI2s2ixDYqUKpy3BTGZvlaFndIwdNwuWmKtx1HNSCrUkiyUGZ3FpPHvE7X48%2Bhb&nvMid=85782393891&catId=50001519\n",
      "Apple 정품 아이폰 14 Pro Max 자급제 실버 128GB MQ9Q3KH/A 1,615,500원 https://cr.shopping.naver.com/adcr.nhn?x=eflt1jrEFxdjZYlm40eDhv%2F%2F%2Fw%3D%3DsNUyYFYqTGK6mRZtVqpOojYUiHoT3YNa2mgqgK%2F6qgkxHDJsKgV2dQLI4PLgR0HubzHouAheo85isoDHFy18ZWx4pza8ebIOIXPrPsGGS95ek6v2w9jBqMGR4TTsgYaQnQO9RbatmTGCBPUTCXrbVe8A%2F8WNmzvqa4o%2B6QP2x%2BiE7h9Gs8fN5G%2FG8H5VQpsKjCgIml23h0OsgoNdykhk5ng9S4JdloJ%2BBqm37beRLy0PIk4p7qYTTC7m2uG6Hf7HMJDinLdPtw0h4%2Fcy3EiSQkj1uoSBKEd3hp0bKAG6%2BQNKASFpn%2FRAnolraOA%2BvTEfjcld8NcgF3jUcTqZfg9GFf943Z2GGhu7Hxmui22P42Jc%2FmKpyamyEwamwN0N%2Fv5QPMLohdJSoy6qsj2Z%2FeZqxcd9%2BKy%2Fm0d%2BgYWHtEf61Jo4AUk0tbEb%2BPaAR8Zvsauh4Fa6fCxuArxn%2FVCpFtawVPZzMdINnuKcgl2xVXLUyMN3qdi3Q%2Fm8V2A5jR123nAwZNsphzinjXLd2uO7MKGbD76kQ4rrQyCWi581n%2Fo79e01dNeB0fG2lStni%2B8T4llTwc%2FbXEKEm3riszeGjkE8pHo4aTH%2BGZzPhih56L1F%2BIid%2FsgHP3d5xmmfXY9jQ4c7l6KfNy8hOKogAaOK5L3NSIwpJP%2FCoHVFom%2FsWORByYZnl444%2FPYeEUGZiJ3fAJxHAa1jS8Ua1hwiaLnWMxworxqkFLqGliajfxCk2vLXQI6H%2FgJDkWhSq1rzk3Sd%2BeiKyY7RBJx2aPv1bgiR77Jh46w1QmAmnoJRdq4K9btjkCM0%3D&nvMid=37029763124&catId=50001519\n",
      "아이폰14 128GB 선택약정 요금할인 Apple iPhone14 256GB 919,000원 https://cr.shopping.naver.com/adcr.nhn?x=B9WzhcqJsPdYZW6NJ94WUf%2F%2F%2Fw%3D%3DsdHSmbEiqYwCbQStC01ekQMnH1RUJMuZsioVt%2FlzTbVVGjrUjzI8JCL0SQIFxMKUAUXG1tsCjE2ZPQ%2Fbg9IGtRZTkz%2BU%2FlWTNqzfcvDoff2G54J8UO7LDGXdPU9Do8oyMJJe7sWnbT0TmLJsg8wguUXhrb%2FbuQdOrFsHoIH5xfLq2My1%2FY1%2FNiCsYj5cW9uw0SEbdM5%2FHF9IOHJtRdg2l8Y41FVW4KFopfFaQ9bivvWhqzBXWPbtXf%2Bl9pVE572w%2BkzRaUVZWFUhK6hQFXuTkLQnKKHWt%2FPpNm8w59wUalP7ekHOfhgZhfP7CCBo7YabUqwkXVMbwNe%2B45dFaHZqJITVCZ4rdk8hPModxsSdH4jyVK1%2BjBupQv6b6Y%2Bm%2BsH9NtkfHpn40Cz2xYe%2BHLDxZDWH887x6xNbHl9QWC%2BIeyXIoKkpOwIq%2BY1nRkNN8L4cYzfNVo1KcSVSazeZg7M%2BAafknevyrIjiyEG9x8iwNK35gcIqHsx4Z%2FXinrUVQ0Q0yxkCdZxIAATXCJCB3ZFyN%2FdBo6SKDVdIHaq5zROyznq65kp2i2MrlMGZvWbZdy%2BvH93F2WSSVCgEJtciuPSYdpTQxggbnQn7eomPPA2PB0L3ZlVYLDEJpnI8cF6CMPSIWUXwHqHbCF%2B8%2BXCk3jaRr3bY28GZDTPdAVdciUwiWDoCFbDf4gHI5rSMJU1BWcIOg&nvMid=33319329622&catId=50001519\n",
      "아이폰 14 프로 자급제 128GB 딥 퍼플 MQ0G3KH/A 1,391,200원 https://cr.shopping.naver.com/adcr.nhn?x=x%2BC3eUrmNGHXzMkLrTc%2Bnf%2F%2F%2Fw%3D%3Dss343PxMlQD2a7mmRQD6Vi2gulZklBZg2Er278Oq2ROpHDJsKgV2dQLI4PLgR0HubFRCBz1bQPakN%2FzEHG7XNFR4pza8ebIOIXPrPsGGS95ek6v2w9jBqMGR4TTsgYaQnQO9RbatmTGCBPUTCXrbVe8A%2F8WNmzvqa4o%2B6QP2x%2BiE7h9Gs8fN5G%2FG8H5VQpsKjqDWX9kL22HBcfyFZhL2QNVrX5yw%2FWo5Rpxs8nsPT%2BL%2BzBLLOMY4mtGW6kPsCbXZn4K8wvQgInszYKLyDPy5IdLxuFPU03ZgxAo6YHS5uExYFXt7YhXBBxzobSpdFkM0Fv2EiltJOORyWOHra3e26cVdbuJP1Kf19MrYwcPrtZIZsyxvSHxuSEheUV2eKPLXWVNQxKkjjHxMovgZMkMSKv2HWat0HmI61mR5c6N14RaBcFX0%2BoSnBT7uyNVUc35Vaw6ZjbtkbN7RD61dGUzg7G1qsmhWtsS26cBgiQoajA6rFEWJVUuS96IiGj8OuuLLKBdZD5XXo9pDW4QJb%2BGETtBtX1KiGewk6njQXhFIriI2aUDMOfNhrK3jbdm170%2F4uzfNVo1KcSVSazeZg7M%2BAaeBZZDRw7Xh41jbo%2FkZ9diOEy8MuNJ4ZatGWURvLhwWb8EhtyiJTeYs8kQYdXZqSvEiu2iMZhci8J3srB%2FBrk9fzxm%2FxwPM9%2BtjhCC6%2BM2y1NBd2uDXeGIFPBFxTfwnGAdOf4i9zFrBXE2548%2F2S163bNv2hbUEzkZcib8e5pAbCVY72O3ZiAk628N%2B3g5lWY2vqsl51YLWlbPbAp%2FN3MK9B0CIl3BeKsFF2drF%2B%2BsFv&nvMid=37235501464&catId=50001519\n",
      "아이폰 14 프로 자급제 128GB 골드 MQ083KH/A 1,391,200원 https://cr.shopping.naver.com/adcr.nhn?x=MN9C7UVWVI5HMg6cpvImev%2F%2F%2Fw%3D%3Ds9MsVLz%2FQxnrr0tHRNVMTkZfta1l7kb24Vffbs5rDDLFGjrUjzI8JCL0SQIFxMKUACPZdUHKEpe1DdwBbUrOXDW3zn5KzDW0lR%2F%2FEaArCfhy54J8UO7LDGXdPU9Do8oyMJJe7sWnbT0TmLJsg8wguUXhrb%2FbuQdOrFsHoIH5xfLq2My1%2FY1%2FNiCsYj5cW9uw0efqLcqFEC6lyTrZzqvJfjrNOGUZ7YZ7gDUZIfEDFGaNUJwg7HOKjafG7ZdvyQsIFQTVVlAlezA0zec0ebYD6oDO%2FjmUiVGLaAsDKmYMg5k35eoajySDW01gOBrcDbHCHHlES0MhA%2FQ2FhhnMNc0L1oqIsNCc58AFpc%2BK9eJhz7VvkoYm3vgiS4jmjH4wxLBoxbRla2NRFwwfztOO4CgJlRnqiu5%2BPqJ0nhi6YMhQL%2FAX%2BiWGeXnbbtrX1gYNn%2FGTQ%2BD%2Fo9glb0ukJK6bM8miKArsK1DNlYuW6vX8WB7j4SloIehuWZiiymkwboa74uJpuu0j%2Bocj0ocFsG1BNlCfHep2LdD%2BbxXYDmNHXbecDBkrgsdai1yEszO8fCtfXjJu21sw1Vkmmw%2FCtlIjz2ZBLATcfGM%2FoPXviQ24LWnFamQjhniPTnnXCP8NAcGWAOnV%2Bx16i4JVEX0fmMe9b0DE482Sbb5MRv5OmNmbK%2FO9UqkhenDFhgS86yVeD2hZMfu0wTGaH4t%2F4HZ%2F3Xfq2IZmOSmEzheSrB6vooBgHNaQHmeBiHA%2BfI8xXRxFprbLcDX1K7eml6O9SZRywYCUWWZwMeo%2F1GSKc5iH8geNPAfO1%2BgGruH08DlKshetxY8KUEZb&nvMid=36883807864&catId=50001519\n",
      "Apple 아이폰 14 512GB [자급제] 1,462,000원 https://cr.shopping.naver.com/adcr.nhn?x=%2B7AJnIiaK1kSpBv5u5BSL%2F%2F%2F%2Fw%3D%3Ds%2FFNR94m9VKzzmHMJPfWKKtIkcwIuZwAErqGKkEkWHQG73bVQHldJ9ftGXbklIZwQRF4de8I00K%2BCA%2BHaUgsMtEbAoeRkvpJaJBMwPydFbM8QhkkHXK4%2FmSRy5icYE%2F27MgytCeoXns4eYFwCYFK9PVfCwog8a5n%2B3SvlX92MXub23sQsd8t%2FiY%2FDge6gmjFNZ51b4zIIhzI2xYZuL9f9QD9rXyqENDUD8omnd%2BAEOivxHBcglKNBLICU5gjm6hRja5vEHC7jUbL8Zzrq%2Fn3mp4vFOQV9u2CZQf15VdnhYXoNyTdujLoChtH822cWdzXaWvx8BBxoXmoUCqpM4bIojFVd6Z%2BmZ5fvTALbBBPmfKLmnGLANk9TjQtjOEdf9xG%2F7F8SjXFRXDKx0lKS0ux%2BHrNoujdiiNe5Aky91pn4j%2FL%2FRfyAUEGGvquedOTk2rasWXSZCfJFLf8xaQ866diNGrHJM06m8XkkoABSxxLFFemOsyh0bwCm%2FIOHaD6%2FrVAH1%2FFTxapQdERJfgf93h7zXkP%2BQUw7izuxPHixtztdddBeXnYVq7wgba8GgaWkWX00KgQjA029flyEMtWw9MOAFMLSGId%2BZ%2FOYAjRfVwLnTYpXk8q%2FJkAdaakPyAk1oVq8huXye%2F2RmF0ZgKg6XS6qPnQxSWlcDqqZMmAQwcTPdhdB0CIl3BeKsFF2drF%2B%2BsFv&nvMid=34562379620&catId=50001519\n",
      "Apple 아이폰14 프로 256G iPhone 14 Pro 1,536,500원 https://cr.shopping.naver.com/adcr.nhn?x=OL0T8Db7Y%2FnFzyhDf98Hxv%2F%2F%2Fw%3D%3DsK%2FOdm5yzsSaE0ZztEpusgn9S%2F4VwCwtfW4IaYvWb5a1GjrUjzI8JCL0SQIFxMKUA%2FFNaEcHDGDuuKluEMA2wof4aa%2Fv2S%2FC2g%2F0Rinj9vEq54J8UO7LDGXdPU9Do8oyMJJe7sWnbT0TmLJsg8wguUXhrb%2FbuQdOrFsHoIH5xfLq2My1%2FY1%2FNiCsYj5cW9uw0efqLcqFEC6lyTrZzqvJfjkdvSBnI13YILaFJLYrmK8RSwqsj9T3od3tsIeITLjo%2BP4GwFkinA1oOxVA9M4Js6ynBVTIyP1kjVu85Sxrb6W9EhZAxcLRLTm2gnanmVNbdueCfFDuywxl3T1PQ6PKMjF5qtMG%2FJ0PUtQjclakIAMhoiVY4VpGAEIKxOV%2FS03z%2BkmwsO5REVAGEkbzk0OC0JyvfCmiGWuFQRNFecKmBkk6Y40i7XcB3m0NeEh5L%2Bmj7jB5%2BwQwTWqlzZqCmwHkzL78YPQ3WceUq75CFDSjYXlD3R9jaNyN5goB9fYppee7fsaMGWnmmF33FE3%2Bc0a2MW4iE9u3scvrvC%2FfIKt0pjJCer%2FGppcItesEj0OJ9agw8KYTOF5KsHq%2BigGAc1pAeZ%2F3uR219qXNGACIy%2FSBaGSpGIa6U9OnIQodRLRKuVLUJqhRnU1dLvy0rzJIu%2BdbaLAau4fTwOUqyF63FjwpQRls%3D&nvMid=35365192713&catId=50001519\n",
      "(미개봉 새상품)애플 아이폰14 프로 512GB/Apple iPhone14 Pro 512GB LGU+ 1,282,000원 https://cr.shopping.naver.com/adcr.nhn?x=Throyzow3MO%2F10zUUa1wq%2F%2F%2F%2Fw%3D%3DssgOAgT0AcNuIWFwhZCUWagqEZODnovJpv506hE3bjhhHDJsKgV2dQLI4PLgR0HubzWv%2Bq2rVA9jykwhID%2BaPXh4pza8ebIOIXPrPsGGS95ek6v2w9jBqMGR4TTsgYaQnQO9RbatmTGCBPUTCXrbVe8A%2F8WNmzvqa4o%2B6QP2x%2BiE7h9Gs8fN5G%2FG8H5VQpsKjCgIml23h0OsgoNdykhk5ng9S4JdloJ%2BBqm37beRLy0PIk4p7qYTTC7m2uG6Hf7HM49JYhCHqmGuSYzjr4aTPQWCsyWYSICJO7SKwjxoRtzEqnF1et8CFpR5G2xWKMVPQm6qRpef09%2FhlJaTjC2gEEVEzp6fDciKbY03azUUH6aBnatZePgShDTF6AbWIjuiKF%2Folhnl5227a19YGDZ%2Fxk0Pg%2F6PYJW9LpCSumzPJoigK7CtQzZWLlur1%2FFge4%2BEpVr%2BTYCt7cPf6%2FkJQ8D%2F8fH3syG%2BIfnAdY1a0jdRTkK3Ye9CsbWrnsboog%2B94RL%2FIef9ywhSGU%2F1mfXGeAeVw186%2FDEV6RNyftFf1KKn4jzq9FbrvPOkUBpZoc%2F8%2BM9a%2FnZZ83RNCUrWQz4vSSVP5H%2B0xqazgxa78jlA1xCb9mGkziULXpDTJJTn%2BK%2FdEozFkKxouTPYCjRPd88yCjI2%2BLYKaB5cPNtMwWJnL8B2prC5nsaX%2B5Jvc5N9poXsvExhOKebRitQQFWxnxXVgDlNZlsKR3YKlD9qGAl6gX9HvZO4Sb3X13Qts%2B3bF0NmPwSN2VEOG9tiGbjEiNr4BVS%2BinFaFndIwdNwuWmKtx1HNSCrUkiyUGZ3FpPHvE7X48%2Bhb&nvMid=39053221003&catId=50001519\n",
      "아이폰 Apple 아이폰14 5G 256GB 기기값 77만원 777,000원 https://cr.shopping.naver.com/adcr.nhn?x=ZL2PMn8vc615g4Um%2F4oSnf%2F%2F%2Fw%3D%3Ds2J63GO4wAN9fuMzo3uePV8Xzl9r7vp0BvthSp5Egp4dHDJsKgV2dQLI4PLgR0HubSsy%2FMomXdR2Fh4Z36Giwph4pza8ebIOIXPrPsGGS95ek6v2w9jBqMGR4TTsgYaQnQO9RbatmTGCBPUTCXrbVe8A%2F8WNmzvqa4o%2B6QP2x%2BiE7h9Gs8fN5G%2FG8H5VQpsKjxq63MHszXRrixoOC2Bf6h30nZkTLRyrbnGxKEzaTAIRP4FrSnndNqGku6nJaBBZPHxMzbgRA4w5XlO%2Bx0mt1wB5MFISAJoPzcj1VbQOQXlEwVgMovayWRlsXjeRyfzHlC2iKMzj7PBwDqIz5Si9vvxRDko3cG%2B4DC094YYeAaguc6vpZQN32QQThGrJ2%2FIymP2tfKoQ0NQPyiad34AQ6K9%2FdVvwtcOUlbNrGLU3RUnrkblZb5tAh3LN9fxhhz0fyhqQvwmR%2FqlT0jQuNbOPrwry6ezX6CkG5vV%2Fbw8IymVLZPAA7If9B7dWBAthU5MgYkcJhBU0uTW5xNjhnsS1ThS9RbJw%2F4jZAdpid%2BI77%2F70juOFm2DiwGj5gmlAEjp2Ji0JZmIgLyDnbhXQbPZvZO12e%2BiiWQpU2i6IrG8WK0hASNELd9gG2pTeovJcii9OMPNRouOLVBR9bkVCm5wEj0IYC%2FbED3GC5WQIkmmh93e6Wl7%2BFqUNgb1Xx0%2BuZtESqEd5L1MTzK7u14I2%2FQ56gjw4SwcLvxUEucVmH%2BcOht40%3D&nvMid=35044488755&catId=50001519\n",
      "[자급제] 애플 아이폰 14 프로 256기가 실버 (국내 정식 발매 제품) MQ103KH/A 1,584,000원 https://cr.shopping.naver.com/adcr.nhn?x=v2%2FtVvd7L7uJix%2FPBdsNFv%2F%2F%2Fw%3D%3Ds3Y5zJogHpjRjT3JUZKRLPAS7TJ8ieW7n6F%2Bt%2F3Hev8tHDJsKgV2dQLI4PLgR0HubLvcsu1VIcocyZ1RomEsqoh4pza8ebIOIXPrPsGGS95ek6v2w9jBqMGR4TTsgYaQnQO9RbatmTGCBPUTCXrbVe8A%2F8WNmzvqa4o%2B6QP2x%2BiE7h9Gs8fN5G%2FG8H5VQpsKjI5j7%2FDWIfVN0plnId9Lav7J8CiUQnALjNrrrntSclfU40kLTzqPFr67vByz1QDobJamqHye9ZGNhF3FgiEjh6Jzq%2BllA3fZBBOEasnb8jKY%2Fa18qhDQ1A%2FKJp3fgBDor391W%2FC1w5SVs2sYtTdFSercOKq3fngD4NaOj%2FpIocsqNJUXz%2FjSX%2FibZ2N9DMr9u%2F0X8gFBBhr6rnnTk5Nq2rJXp9fFQQhHx%2FtCMXbpR71IpnG6P0QktuCtjT7R842NeuD%2Fkajf1d5vFI5S6kOADjbPE7lnGK5rX5HFwTjgnb4snuB4TxOeBR45ziEKwygl325BXBJRq4cXzjIajpltQGU5P3wn4gItJzgR9Fj1A3YJcteBm%2FOrgdLNGRKrGTShdt5gnCPiu90xYNQgw%2FdG3%2B4BF6eiAQ3OWzHwnpz7vev9rWNLxRrWHCJoudYzHCivGASvxP89P2csp6JyuCIpgrSuZP9hvWB1VftWXhtQh0Mk6HJZQgjI8VSlbO1R88zJ2DVCYCaeglF2rgr1u2OQIzQ%3D%3D&nvMid=35138075898&catId=50001519\n",
      "[아이폰] 애플 아이폰14플러스 256GB 새상품 미개봉 746,000원 https://cr.shopping.naver.com/adcr.nhn?x=qP2B%2Bu%2FwN8l0fF5M7dAGuf%2F%2F%2Fw%3D%3Dst2zHtME7Q72%2FtdtdqnTE2e6CAQY0b9BqnY42jm7Gbg9HDJsKgV2dQLI4PLgR0HubPIeB8cskE%2FUa0Ac1OnVGkR4pza8ebIOIXPrPsGGS95ek6v2w9jBqMGR4TTsgYaQnQO9RbatmTGCBPUTCXrbVe8A%2F8WNmzvqa4o%2B6QP2x%2BiE7h9Gs8fN5G%2FG8H5VQpsKjEaQ6VtXp9uS6o0Pk63wkugudFM%2F%2BQOsSInb9YuIp8qhPMezuRd25dKie5Otd5cVqcHCgkQck97Ro8yn6oGztYvUSElNjmO0oHW5l4uXQirajRqydLEk663hFlGXGJbck4uqsxBm%2BJg3TWakAAwZDGxf6JYZ5edtu2tfWBg2f8ZND4P%2Bj2CVvS6QkrpszyaIoCuwrUM2Vi5bq9fxYHuPhKaTw%2FeN%2FeM1Oc9SOlECPom9lHBc1ylKWRvbE0XS6DB212HvQrG1q57G6KIPveES%2FyNcEi%2FeBWxKZRgsKQ7Buq6Jtua%2FnQn1QJVeRZVt7AJt%2Fe61KmCaqWSwL16ND3tKJ12ZTzQm%2FJCTPv1HJ4ZwU%2BN9Hr0hgmvcCT7zigFvjHPWiZmAmIkC8qegjQXetX22It56DI6gaQ9jC%2BL0WOR%2FY4Pl11sLAzujTeBNlMZGB9L2p%2FPFb%2BjlJ32ftmWpoOW1TiaOuBZD%2FQkGyMe53inOjnLX8v8jzcXzMWVHG5HAHJ0gD8B8uhYfNHA9fhv0Tifil2rYir17j8m7c3YPdcOfHCLOCqA6%2BrrPkSkQjk3bFq%2FUy&nvMid=38722692572&catId=50001519\n",
      "해외홍콩 아이폰14 프로 256기가 직구 물리적듀얼심 카메라 무음 자급제 1,590,000원 https://cr.shopping.naver.com/adcr.nhn?x=%2FpZdtitPa93iAE5STBMmLv%2F%2F%2Fw%3D%3DsfhTyvCVn4fkV6GgNeoaBb5l%2FW3f23MOKtV8fwIEie1tGjrUjzI8JCL0SQIFxMKUAmrpYIkd5kVF%2FeX1ye7x6JGXIs5%2BIEntcFCR8c8kZR%2B254J8UO7LDGXdPU9Do8oyMJJe7sWnbT0TmLJsg8wguUXhrb%2FbuQdOrFsHoIH5xfLq2My1%2FY1%2FNiCsYj5cW9uw08vVzcVDPdO81k0AeYUWA%2Fbzg5LotibZWs96FaOW7%2BneOP0oYFbr1kQPfR4PYNcaQeOHrsaVCRNChFh%2B%2FqF6Qplr8fAQcaF5qFAqqTOGyKIxVXemfpmeX70wC2wQT5nyi5pxiwDZPU40LYzhHX%2FcRv5j3fIZzCvMIJSUfOTiJBmODgiXsngj%2FMXpRD4NyzLBODG4evy%2BM13j64UYOnhTyGf9xtt4kNJY8sdQcooqP9IvG%2FX3t%2FKNhLJcWuuhZgRR2s4sQuVzKWHRnWewmqyQK4HzcvBwnHAXbv%2BOTqA9KlxfWvoBRDibQuIx6mxwWTzG75xC0xNKlHITsVCBoFAySVDk%2BQrqZuBJVhSAdVt7sou%2BtQYKOJbUEkh%2B9%2FsNU5DwaUAB7CK25G%2FHf6IHIbOYz8o8X%2BgEQUyPAteQuYGp7dVNrWNLxRrWHCJoudYzHCivGIp1BZcJNEVb0qJh9GRHlQ6teSL5%2Bi9sVtGdXXwkEVE4BR0e5xDrxYynn%2FD4%2By%2BT4aGimR4pR27mrh1IoDTOSgA%3D%3D&nvMid=85434226445&catId=50001519\n"
     ]
    }
   ],
   "source": [
    "# 상품 정보 div\n",
    "items = driver.find_elements(By.CSS_SELECTOR, \"div.basicList_info_area__TWvzp\")\n",
    "\n",
    "for item in items:\n",
    "    # 상품명\n",
    "    name = item.find_element(By.CSS_SELECTOR, \"div.basicList_title__VfX3c\").text\n",
    "    # 가격\n",
    "    price = item.find_element(By.CSS_SELECTOR, \"span.price_num__S2p_v\").text\n",
    "\n",
    "    # 링크 - 자식 선택자 사용\n",
    "    link = item.find_element(By.CSS_SELECTOR, \"div.basicList_title__VfX3c > a\").get_attribute(\"href\")\n",
    "\n",
    "    # # 평점  - 오류가 있는 경우 try except 사용 - 예외 처리 \n",
    "    # try:\n",
    "    #     rate = item.find_element(By.CSS_SELECTOR, \"em.basicList_num__1yXM9\").text\n",
    "    # except:\n",
    "    #     rate = \"평점 없음\"\n",
    "    # # 평점 수\n",
    "    # try:\n",
    "    #     rate_cnt = item.find_element(By.CSS_SELECTOR, \"span.basicList_num__1yXM9\").text\n",
    "    # except:\n",
    "    #     rate_cnt = \"평점 없음\"\n",
    "    # # 쇼핑몰\n",
    "    # mall = item.find_element(By.CSS_SELECTOR, \"a.basicList_mall__sbVax\").text\n",
    "    # # 배송비\n",
    "    # try:\n",
    "    #     delivery = item.find_element(By.CSS_SELECTOR, \"span.basicList_delivery__3X9Q7\").text\n",
    "    # except:\n",
    "    #     delivery = \"무료배송\"\n",
    "\n",
    "    # print(name, price, rate, rate_cnt, mall, delivery)\n",
    "    print(name, price, link)\n",
    "    csv.writer(f).writerow([name, price, link])\n",
    "\n",
    "f.close()"
   ]
  }
 ],
 "metadata": {
  "kernelspec": {
   "display_name": "Python 3",
   "language": "python",
   "name": "python3"
  },
  "language_info": {
   "codemirror_mode": {
    "name": "ipython",
    "version": 3
   },
   "file_extension": ".py",
   "mimetype": "text/x-python",
   "name": "python",
   "nbconvert_exporter": "python",
   "pygments_lexer": "ipython3",
   "version": "3.11.0"
  },
  "orig_nbformat": 4
 },
 "nbformat": 4,
 "nbformat_minor": 2
}
