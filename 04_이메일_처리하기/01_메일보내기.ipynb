{
 "cells": [
  {
   "cell_type": "code",
   "execution_count": 1,
   "metadata": {},
   "outputs": [],
   "source": [
    "import smtplib\n",
    "from email.mime.text import MIMEText\n",
    "from email.header import Header"
   ]
  },
  {
   "cell_type": "code",
   "execution_count": 2,
   "metadata": {},
   "outputs": [
    {
     "data": {
      "text/plain": [
       "(235, b'2.7.0 Accepted HBLYTj0oTYqMANRbaaYyUA - nsmtp')"
      ]
     },
     "execution_count": 2,
     "metadata": {},
     "output_type": "execute_result"
    }
   ],
   "source": [
    "# 로그인 \n",
    "smtp = smtplib.SMTP('smtp.naver.com', 587)\n",
    "smtp.ehlo()       # Extended Helo - 클라이언트가 서버와 대화하겠다는 인사 \n",
    "smtp.starttls()   # 보안을 위한 암호화 단계\n",
    "smtp.login('id', 'password')"
   ]
  },
  {
   "cell_type": "code",
   "execution_count": 3,
   "metadata": {},
   "outputs": [],
   "source": [
    "# 보낼 자료 준비 \n",
    "me = 'kktpsh@naver.com'     # 보내는 사람 \n",
    "you = 'kktpsh@naver.com'    # 받는 사람 \n",
    "subject = '제목..'\n",
    "message = '본문 내용..'\n",
    "\n",
    "msg = MIMEText(message.encode('utf-8'), _subtype='plain', _charset='utf-8')  # 서브타입을 html 변경 가능\n",
    "msg['Subject'] = Header(subject.encode('utf-8'), 'utf-8')\n",
    "msg['From'] = me\n",
    "msg['To'] = you"
   ]
  },
  {
   "cell_type": "code",
   "execution_count": 4,
   "metadata": {},
   "outputs": [
    {
     "data": {
      "text/plain": [
       "(221, b'2.0.0 Closing connection HBLYTj0oTYqMANRbaaYyUA - nsmtp')"
      ]
     },
     "execution_count": 4,
     "metadata": {},
     "output_type": "execute_result"
    }
   ],
   "source": [
    "# 메일 보내기 \n",
    "smtp.sendmail(me, you, msg.as_string())\n",
    "smtp.quit()"
   ]
  }
 ],
 "metadata": {
  "kernelspec": {
   "display_name": "Python 3.10.5 64-bit",
   "language": "python",
   "name": "python3"
  },
  "language_info": {
   "codemirror_mode": {
    "name": "ipython",
    "version": 3
   },
   "file_extension": ".py",
   "mimetype": "text/x-python",
   "name": "python",
   "nbconvert_exporter": "python",
   "pygments_lexer": "ipython3",
   "version": "3.11.0"
  },
  "orig_nbformat": 4,
  "vscode": {
   "interpreter": {
    "hash": "0f78bbb0629de31cfba7b6ffeb7ee704a2178ea9df3add28fbd43ed494a29e0d"
   }
  }
 },
 "nbformat": 4,
 "nbformat_minor": 2
}
