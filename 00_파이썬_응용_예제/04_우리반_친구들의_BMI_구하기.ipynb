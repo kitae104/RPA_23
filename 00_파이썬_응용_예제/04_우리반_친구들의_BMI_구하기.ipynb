{
 "cells": [
  {
   "cell_type": "markdown",
   "metadata": {},
   "source": [
    "### 우리반 친구들의 BMI 구하기\n",
    "- 함수를 이용하여 BMI 구하기\n",
    "- https://health.seoulmc.or.kr/healthCareInfo/myBMIPopup.do\n",
    "- 체질량지수는 자신의 몸무게(kg)를 키의 제곱(m)으로 나눈 값입니다."
   ]
  },
  {
   "cell_type": "code",
   "execution_count": 1,
   "metadata": {},
   "outputs": [
    {
     "name": "stdout",
     "output_type": "stream",
     "text": [
      "22.343441814595664\n"
     ]
    }
   ],
   "source": [
    "height = 187.2\n",
    "weight = 78.3\n",
    "bmi = weight / (height/100)**2\n",
    "print(bmi)"
   ]
  },
  {
   "cell_type": "code",
   "execution_count": 2,
   "metadata": {},
   "outputs": [],
   "source": [
    "# BMI 계산하기 \n",
    "def calc_bmi(height, weight):\n",
    "    height = height / 100\n",
    "    bmi = weight / (height ** 2)\n",
    "    return bmi"
   ]
  },
  {
   "cell_type": "code",
   "execution_count": 6,
   "metadata": {},
   "outputs": [],
   "source": [
    "# BMI 값에 따라서 체형을 판단하는 함수\n",
    "def get_bmi(bmi):\n",
    "    if bmi < 18.5:\n",
    "        return '마른'\n",
    "    elif bmi < 23.0:\n",
    "        return '표준'\n",
    "    elif bmi < 25.0:\n",
    "        return '과체중'\n",
    "    else:\n",
    "        return '비만'"
   ]
  },
  {
   "cell_type": "code",
   "execution_count": 12,
   "metadata": {},
   "outputs": [
    {
     "name": "stdout",
     "output_type": "stream",
     "text": [
      "A님의 BMI 지수는 28.14이고, 비만체형입니다.\n",
      "B님의 BMI 지수는 16.41이고, 마른체형입니다.\n",
      "C님의 BMI 지수는 21.57이고, 표준체형입니다.\n",
      "D님의 BMI 지수는 23.25이고, 과체중체형입니다.\n",
      "E님의 BMI 지수는 26.46이고, 비만체형입니다.\n",
      "F님의 BMI 지수는 17.95이고, 마른체형입니다.\n",
      "G님의 BMI 지수는 23.80이고, 과체중체형입니다.\n",
      "H님의 BMI 지수는 24.66이고, 과체중체형입니다.\n",
      "I님의 BMI 지수는 17.96이고, 마른체형입니다.\n",
      "J님의 BMI 지수는 21.12이고, 표준체형입니다.\n"
     ]
    }
   ],
   "source": [
    "# 우리반 학생들의 정보 \n",
    "names = ['A', 'B', 'C', 'D', 'E', 'F', 'G', 'H', 'I', 'J']\n",
    "height = [187, 178, 174, 184, 166, 172, 171, 176, 169, 173]\n",
    "weight = [98.4, 52.0, 65.3, 78.7, 72.9, 53.1, 69.6, 76.4, 51.3, 63.2]\n",
    "\n",
    "for i in range(len(names)):\n",
    "    bmi = calc_bmi(height[i], weight[i])\n",
    "    result = get_bmi(bmi)\n",
    "    #print('%s님의 BMI 지수는 %.2f이고, %s체형입니다.' % (names[i], bmi, result))\n",
    "    print(f'{names[i]}님의 BMI 지수는 {bmi:.2f}이고, {result}체형입니다.')\n"
   ]
  }
 ],
 "metadata": {
  "kernelspec": {
   "display_name": "Python 3.11.1 64-bit",
   "language": "python",
   "name": "python3"
  },
  "language_info": {
   "codemirror_mode": {
    "name": "ipython",
    "version": 3
   },
   "file_extension": ".py",
   "mimetype": "text/x-python",
   "name": "python",
   "nbconvert_exporter": "python",
   "pygments_lexer": "ipython3",
   "version": "3.11.1"
  },
  "orig_nbformat": 4,
  "vscode": {
   "interpreter": {
    "hash": "81eef19b52451e11e3f8bf6bc518dd5f147d5a651198624c9c211c83ec7c4923"
   }
  }
 },
 "nbformat": 4,
 "nbformat_minor": 2
}
