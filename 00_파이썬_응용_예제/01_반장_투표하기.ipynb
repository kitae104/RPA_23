{
 "cells": [
  {
   "cell_type": "markdown",
   "metadata": {},
   "source": [
    "### 반장 투표하기\n",
    "- 학생들이 좋아하는 반장 후보를 투표하는 프로그램을 작성하시오.\n",
    "- 조건1: 투표는 1번부터 4번까지 후보 번호로 투표한다.\n",
    "- 조건2: 투표를 마치면 각 후보별 득표수를 출력한다. 무효표가 있는 경우 갯수를 출력한다.\n",
    "- 조건3: 리스트를 이용한다.\n",
    "- 조건4: 반복문을 이용한다."
   ]
  },
  {
   "cell_type": "code",
   "execution_count": 4,
   "metadata": {},
   "outputs": [
    {
     "name": "stdout",
     "output_type": "stream",
     "text": [
      "15\n",
      "후보자별 득표수 :  [0, 3, 5, 4, 1]\n",
      "무효표 :  2\n"
     ]
    }
   ],
   "source": [
    "votes = [1, 2, 3, 2, 3, 1, 2, 2, 4, 3, 5, 0, 3, 2, 1]   # 0 ~ 4까지의 15개의 숫자가 들어갈 수 있음\n",
    "print(len(votes))\n",
    "count = [0, 0, 0, 0, 0]   # 1번에서 4번까지이지만 인덱스 처리를 위해 0번을 추가함\n",
    "invalid = 0               # 무효표 처리를 위한 변수\n",
    "\n",
    "for i in range(len(votes)):\n",
    "    if votes[i] >= 1 and votes[i] <= 4:\n",
    "        count[votes[i]] += 1\n",
    "    else:\n",
    "        invalid += 1\n",
    "\n",
    "print(\"후보자별 득표수 : \", count)\n",
    "print(\"무효표 : \", invalid)"
   ]
  },
  {
   "cell_type": "code",
   "execution_count": 7,
   "metadata": {},
   "outputs": [
    {
     "name": "stdout",
     "output_type": "stream",
     "text": [
      "1 번 후보자 득표수 :  3 표, 득표율 :  23.076923076923077 %\n",
      "2 번 후보자 득표수 :  5 표, 득표율 :  38.46153846153847 %\n",
      "3 번 후보자 득표수 :  4 표, 득표율 :  30.76923076923077 %\n",
      "4 번 후보자 득표수 :  1 표, 득표율 :  7.6923076923076925 %\n"
     ]
    }
   ],
   "source": [
    "for i in range(1, len(count)):\n",
    "    print(i, \"번 후보자 득표수 : \",count[i] , \"표, 득표율 : \", count[i] / (len(votes) - invalid) * 100, \"%\")"
   ]
  }
 ],
 "metadata": {
  "kernelspec": {
   "display_name": "Python 3.11.1 64-bit",
   "language": "python",
   "name": "python3"
  },
  "language_info": {
   "codemirror_mode": {
    "name": "ipython",
    "version": 3
   },
   "file_extension": ".py",
   "mimetype": "text/x-python",
   "name": "python",
   "nbconvert_exporter": "python",
   "pygments_lexer": "ipython3",
   "version": "3.11.1"
  },
  "orig_nbformat": 4,
  "vscode": {
   "interpreter": {
    "hash": "81eef19b52451e11e3f8bf6bc518dd5f147d5a651198624c9c211c83ec7c4923"
   }
  }
 },
 "nbformat": 4,
 "nbformat_minor": 2
}
