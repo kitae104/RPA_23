{
 "cells": [
  {
   "cell_type": "markdown",
   "metadata": {},
   "source": [
    "### 오늘 청소할 사람 정하기\n",
    "- 번호와 이름을 같이 출력할 수 있도록 코드를 작성하시오. \n",
    "- 이때 학생의 이름은 다음과 같다.\n",
    "  - 남학생 : 도준, 하빈, 유현, 성준, 중훈, 홍민, 재민, 재원, 하원, 태원, 종하(1번~11번)\n",
    "  - 여학생 : 선아, 하늘, 보라, 서현, 민주, 민솔, 보림, 인영, 서하, 지수, 윤하(21번~31번)\n",
    "- (조건) 선별할 학생의 수를 입력 받아서 해당 학생의 번호와 이름을 출력한다. "
   ]
  },
  {
   "cell_type": "code",
   "execution_count": 1,
   "metadata": {},
   "outputs": [
    {
     "name": "stdout",
     "output_type": "stream",
     "text": [
      "[1, 2, 3, 4, 5, 6, 7, 8, 9, 10, 11]\n",
      "[21, 22, 23, 24, 25, 26, 27, 28, 29, 30, 31]\n",
      "['도준', '하빈', '유현', '성준', '중훈', '홍민', '재민', '재원', '하원', '태원', '종하']\n",
      "['선아', '하늘', '보라', '서현', '민주', '민솔', '보림', '인영', '서하', '지수', '윤하']\n"
     ]
    }
   ],
   "source": [
    "import random\n",
    "man_list = list(range(1, 12,1))\n",
    "woman_list = list(range(21, 32,1))\n",
    "man_name_list = ['도준', '하빈', '유현', '성준', '중훈', '홍민', '재민', '재원', '하원', '태원', '종하']\n",
    "woman_name_list = ['선아', '하늘', '보라', '서현', '민주', '민솔','보림', '인영', '서하', '지수', '윤하']\n",
    "print(man_list)\n",
    "print(woman_list)\n",
    "print(man_name_list)\n",
    "print(woman_name_list)"
   ]
  },
  {
   "cell_type": "code",
   "execution_count": 3,
   "metadata": {},
   "outputs": [
    {
     "name": "stdout",
     "output_type": "stream",
     "text": [
      "[1, 2, 3, 4, 5, 6, 7, 8, 9, 10, 11, 21, 22, 23, 24, 25, 26, 27, 28, 29, 30, 31]\n",
      "['도준', '하빈', '유현', '성준', '중훈', '홍민', '재민', '재원', '하원', '태원', '종하', '선아', '하늘', '보라', '서현', '민주', '민솔', '보림', '인영', '서하', '지수', '윤하']\n"
     ]
    }
   ],
   "source": [
    "member = man_list + woman_list\n",
    "member_name = man_name_list + woman_name_list\n",
    "print(member)\n",
    "print(member_name)"
   ]
  },
  {
   "cell_type": "code",
   "execution_count": 4,
   "metadata": {},
   "outputs": [
    {
     "name": "stdout",
     "output_type": "stream",
     "text": [
      "{1: '도준', 2: '하빈', 3: '유현', 4: '성준', 5: '중훈', 6: '홍민', 7: '재민', 8: '재원', 9: '하원', 10: '태원', 11: '종하', 21: '선아', 22: '하늘', 23: '보라', 24: '서현', 25: '민주', 26: '민솔', 27: '보림', 28: '인영', 29: '서하', 30: '지수', 31: '윤하'}\n"
     ]
    }
   ],
   "source": [
    "member_dict = dict(zip(member, member_name))\n",
    "print(member_dict)"
   ]
  },
  {
   "cell_type": "code",
   "execution_count": 10,
   "metadata": {},
   "outputs": [
    {
     "name": "stdout",
     "output_type": "stream",
     "text": [
      "[5, 10, 24, 28, 31]\n"
     ]
    }
   ],
   "source": [
    "num = int(input(\"몇 명의 학생을 뽑을까요?\"))\n",
    "result = random.sample(member, num)\n",
    "result.sort()\n",
    "print(result)"
   ]
  },
  {
   "cell_type": "code",
   "execution_count": 13,
   "metadata": {},
   "outputs": [
    {
     "name": "stdout",
     "output_type": "stream",
     "text": [
      "**************************************************\n",
      "   5번 - 이름 : 중훈는 오늘 청소 당번입니다.\n",
      "  10번 - 이름 : 태원는 오늘 청소 당번입니다.\n",
      "  24번 - 이름 : 서현는 오늘 청소 당번입니다.\n",
      "  28번 - 이름 : 인영는 오늘 청소 당번입니다.\n",
      "  31번 - 이름 : 윤하는 오늘 청소 당번입니다.\n",
      "**************************************************\n"
     ]
    }
   ],
   "source": [
    "print(\"*\" * 50)\n",
    "for i in range(len(result)):\n",
    "    print(f\"{result[i]:4d}번 - 이름 : {member_dict.get(result[i])}는 오늘 청소 당번입니다.\")\n",
    "print(\"*\" * 50)"
   ]
  }
 ],
 "metadata": {
  "kernelspec": {
   "display_name": "Python 3.11.1 64-bit",
   "language": "python",
   "name": "python3"
  },
  "language_info": {
   "codemirror_mode": {
    "name": "ipython",
    "version": 3
   },
   "file_extension": ".py",
   "mimetype": "text/x-python",
   "name": "python",
   "nbconvert_exporter": "python",
   "pygments_lexer": "ipython3",
   "version": "3.11.1"
  },
  "orig_nbformat": 4,
  "vscode": {
   "interpreter": {
    "hash": "81eef19b52451e11e3f8bf6bc518dd5f147d5a651198624c9c211c83ec7c4923"
   }
  }
 },
 "nbformat": 4,
 "nbformat_minor": 2
}
