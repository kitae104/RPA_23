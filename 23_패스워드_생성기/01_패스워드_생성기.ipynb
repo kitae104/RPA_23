{
 "cells": [
  {
   "cell_type": "code",
   "execution_count": 1,
   "metadata": {},
   "outputs": [],
   "source": [
    "import random\n",
    "import string"
   ]
  },
  {
   "cell_type": "code",
   "execution_count": 2,
   "metadata": {},
   "outputs": [],
   "source": [
    "def generate_password():\n",
    "  # 문자, 숫자, 특수문자를 모두 포함한 길이 12의 패스워드 생성\n",
    "  characters = string.ascii_letters + string.digits + string.punctuation\n",
    "  password = \"\".join(random.choice(characters) for i in range(12))\n",
    "  return password"
   ]
  },
  {
   "cell_type": "code",
   "execution_count": 4,
   "metadata": {},
   "outputs": [
    {
     "name": "stdout",
     "output_type": "stream",
     "text": [
      "생성된 패스워드:  7qG=~Ac9OvY.\n"
     ]
    }
   ],
   "source": [
    "# 패스워드 생성 함수 호출\n",
    "password = generate_password()\n",
    "\n",
    "print(\"생성된 패스워드: \", password)"
   ]
  }
 ],
 "metadata": {
  "kernelspec": {
   "display_name": "Python 3",
   "language": "python",
   "name": "python3"
  },
  "language_info": {
   "codemirror_mode": {
    "name": "ipython",
    "version": 3
   },
   "file_extension": ".py",
   "mimetype": "text/x-python",
   "name": "python",
   "nbconvert_exporter": "python",
   "pygments_lexer": "ipython3",
   "version": "3.11.6"
  }
 },
 "nbformat": 4,
 "nbformat_minor": 2
}
