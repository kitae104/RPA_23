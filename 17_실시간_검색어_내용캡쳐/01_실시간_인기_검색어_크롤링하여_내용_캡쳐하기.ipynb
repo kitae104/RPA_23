{
 "cells": [
  {
   "cell_type": "markdown",
   "metadata": {},
   "source": [
    "### 실시간 인기 검색어 크롤링하여 내용 캡쳐하기"
   ]
  },
  {
   "cell_type": "markdown",
   "metadata": {},
   "source": [
    "1. 라이브러리 설치하기\n",
    "- pip install selenium\n",
    "- pip install webdriver_manager"
   ]
  },
  {
   "cell_type": "code",
   "execution_count": 1,
   "metadata": {},
   "outputs": [],
   "source": [
    "from webdriver_manager.chrome import ChromeDriverManager\n",
    "from selenium import webdriver\n",
    "from selenium.webdriver.common.by import By"
   ]
  },
  {
   "cell_type": "markdown",
   "metadata": {},
   "source": [
    "2. 시그널 실시간 검색어 사이트 접속하기\n",
    "- 요소 선택 \n",
    "- 셀렉터 비교하기(차이점 확인하기)"
   ]
  },
  {
   "cell_type": "code",
   "execution_count": 2,
   "metadata": {},
   "outputs": [
    {
     "name": "stderr",
     "output_type": "stream",
     "text": [
      "C:\\Users\\UserK\\AppData\\Local\\Temp\\ipykernel_10624\\3991823511.py:1: DeprecationWarning: executable_path has been deprecated, please pass in a Service object\n",
      "  driver = webdriver.Chrome(ChromeDriverManager().install())    # 크롬 드라이버 다운로드\n"
     ]
    }
   ],
   "source": [
    "driver = webdriver.Chrome(ChromeDriverManager().install())    # 크롬 드라이버 다운로드\n",
    "URL='https://signal.bz/news'\n",
    "driver.get(url=URL)\n",
    "driver.implicitly_wait(time_to_wait=10)  # 암묵적 대기, 활성화를 최대 10초간 기다림\n",
    "\n",
    "naver_results = driver.find_elements(By.CSS_SELECTOR, '#app > div > main > div > section > div > section > section:nth-child(2) > div:nth-child(2) > div > div > div > a')"
   ]
  },
  {
   "cell_type": "markdown",
   "metadata": {},
   "source": [
    "3. 검색어와 링크주소를 가져와 리스트에 저장시키는 코드 만들기"
   ]
  },
  {
   "cell_type": "code",
   "execution_count": 3,
   "metadata": {},
   "outputs": [
    {
     "name": "stdout",
     "output_type": "stream",
     "text": [
      "명세빈\n",
      "https://search.naver.com/search.naver?where=news&sm=tab_jum&query=%EB%AA%85%EC%84%B8%EB%B9%88\n",
      "킹더랜드\n",
      "https://search.naver.com/search.naver?where=news&sm=tab_jum&query=%ED%82%B9%EB%8D%94%EB%9E%9C%EB%93%9C\n",
      "구혜선 소송 패소\n",
      "https://search.naver.com/search.naver?where=news&sm=tab_jum&query=%EA%B5%AC%ED%98%9C%EC%84%A0%20%EC%86%8C%EC%86%A1%20%ED%8C%A8%EC%86%8C\n",
      "덱스\n",
      "https://search.naver.com/search.naver?where=news&sm=tab_jum&query=%EB%8D%B1%EC%8A%A4\n",
      "최한빛\n",
      "https://search.naver.com/search.naver?where=news&sm=tab_jum&query=%EC%B5%9C%ED%95%9C%EB%B9%9B\n",
      "정유정\n",
      "https://search.naver.com/search.naver?where=news&sm=tab_jum&query=%EC%A0%95%EC%9C%A0%EC%A0%95\n",
      "송가인 막걸리\n",
      "https://search.naver.com/search.naver?where=news&sm=tab_jum&query=%EC%86%A1%EA%B0%80%EC%9D%B8%20%EB%A7%89%EA%B1%B8%EB%A6%AC\n",
      "홍쌍리\n",
      "https://search.naver.com/search.naver?where=news&sm=tab_jum&query=%ED%99%8D%EC%8C%8D%EB%A6%AC\n",
      "손준호\n",
      "https://search.naver.com/search.naver?where=news&sm=tab_jum&query=%EC%86%90%EC%A4%80%ED%98%B8\n",
      "축구 국가대표 평가전\n",
      "https://search.naver.com/search.naver?where=news&sm=tab_jum&query=%EC%B6%95%EA%B5%AC%20%EA%B5%AD%EA%B0%80%EB%8C%80%ED%91%9C%20%ED%8F%89%EA%B0%80%EC%A0%84\n"
     ]
    }
   ],
   "source": [
    "naver_list = []\n",
    "link_list = []\n",
    "for naver_result in naver_results:\n",
    "    print(naver_result.text.split(\"\\n\")[1])               # 실시간 검색어\n",
    "    print(naver_result.get_attribute(\"href\"))             # 실시간 검색어 링크\n",
    "    naver_list.append(naver_result.text.split(\"\\n\")[1])   # 실시간 검색어 리스트에 추가 \n",
    "    link_list.append(naver_result.get_attribute(\"href\"))  # 실시간 검색어 링크 리스트에 추가"
   ]
  },
  {
   "cell_type": "markdown",
   "metadata": {},
   "source": [
    "4. 링크 주소에 접속하여 내용 캡쳐한 후 사진으로 저장하기 "
   ]
  },
  {
   "cell_type": "code",
   "execution_count": 5,
   "metadata": {},
   "outputs": [
    {
     "name": "stdout",
     "output_type": "stream",
     "text": [
      "명세빈 https://search.naver.com/search.naver?where=news&sm=tab_jum&query=%EB%AA%85%EC%84%B8%EB%B9%88\n",
      "킹더랜드 https://search.naver.com/search.naver?where=news&sm=tab_jum&query=%ED%82%B9%EB%8D%94%EB%9E%9C%EB%93%9C\n",
      "구혜선 소송 패소 https://search.naver.com/search.naver?where=news&sm=tab_jum&query=%EA%B5%AC%ED%98%9C%EC%84%A0%20%EC%86%8C%EC%86%A1%20%ED%8C%A8%EC%86%8C\n",
      "덱스 https://search.naver.com/search.naver?where=news&sm=tab_jum&query=%EB%8D%B1%EC%8A%A4\n",
      "최한빛 https://search.naver.com/search.naver?where=news&sm=tab_jum&query=%EC%B5%9C%ED%95%9C%EB%B9%9B\n",
      "정유정 https://search.naver.com/search.naver?where=news&sm=tab_jum&query=%EC%A0%95%EC%9C%A0%EC%A0%95\n",
      "송가인 막걸리 https://search.naver.com/search.naver?where=news&sm=tab_jum&query=%EC%86%A1%EA%B0%80%EC%9D%B8%20%EB%A7%89%EA%B1%B8%EB%A6%AC\n",
      "홍쌍리 https://search.naver.com/search.naver?where=news&sm=tab_jum&query=%ED%99%8D%EC%8C%8D%EB%A6%AC\n",
      "손준호 https://search.naver.com/search.naver?where=news&sm=tab_jum&query=%EC%86%90%EC%A4%80%ED%98%B8\n",
      "축구 국가대표 평가전 https://search.naver.com/search.naver?where=news&sm=tab_jum&query=%EC%B6%95%EA%B5%AC%20%EA%B5%AD%EA%B0%80%EB%8C%80%ED%91%9C%20%ED%8F%89%EA%B0%80%EC%A0%84\n"
     ]
    }
   ],
   "source": [
    "for i,link in enumerate(link_list):\n",
    "    print(naver_list[i],link)\n",
    "    driver.get(url=link)\n",
    "    driver.implicitly_wait(time_to_wait=10) \n",
    "    driver.save_screenshot(\"./images/\" + str(i+1) + '_' + naver_list[i] + \".png\")"
   ]
  }
 ],
 "metadata": {
  "kernelspec": {
   "display_name": "Python 3.11.1 64-bit",
   "language": "python",
   "name": "python3"
  },
  "language_info": {
   "codemirror_mode": {
    "name": "ipython",
    "version": 3
   },
   "file_extension": ".py",
   "mimetype": "text/x-python",
   "name": "python",
   "nbconvert_exporter": "python",
   "pygments_lexer": "ipython3",
   "version": "3.11.1"
  },
  "orig_nbformat": 4,
  "vscode": {
   "interpreter": {
    "hash": "81eef19b52451e11e3f8bf6bc518dd5f147d5a651198624c9c211c83ec7c4923"
   }
  }
 },
 "nbformat": 4,
 "nbformat_minor": 2
}
