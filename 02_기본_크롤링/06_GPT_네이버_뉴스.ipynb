{
 "cells": [
  {
   "cell_type": "markdown",
   "metadata": {},
   "source": [
    "라이브러리 추가 \n",
    "- pip install requests\n",
    "- pip install beautifulsoup4\n",
    "\n",
    "[질의]\n",
    "- https://search.naver.com/search.naver?where=news&ie=utf8&sm=nws_hty&query=chatgpt 에서 a.news_tit 부분에 제목들을 추출하는 python 크롤링 스크립트를 \n",
    "- 요소 선택\n",
    "- .select 사용하기 "
   ]
  },
  {
   "cell_type": "code",
   "execution_count": 3,
   "metadata": {},
   "outputs": [
    {
     "name": "stdout",
     "output_type": "stream",
     "text": [
      "솔트룩스-새싹, 취창업 연계 ChatGPT 무료 인공지능 교육 모집\n",
      "[NEWS ANALYSIS] Growing ChatGPT jitters from Korean tech firms\n",
      "바이두, 자사 '어니 봇'이 ChatGPT 4.0 능가한다고 발표\n",
      "ChatGPT Made a Guest Appearance at the Marc Jacobs Three-Minute Fashion ...\n",
      "[경상일보 제13기 BCS 16강]ChatGPT와 함께하는 디지털 시대의 비즈니스 혁신...\n",
      "한국열린사이버대-KIRD, 'ChatGPT' 활용···교육과정 공동개발\n",
      "캠퍼스멘토, 'ChatGPT 똑똑하게 활용하기' 특별 강연 실시\n",
      "재능교육, 창의 융합 사고력 코딩 학습 ‘코코블’ 출시\n",
      "훔친 ChatGPT 계정이 다크 웹에 넘쳐난다\n",
      "[대일응접실] \"충남교육 대한민국 미래교육 1번지 도약할 것\"\n"
     ]
    }
   ],
   "source": [
    "import requests\n",
    "from bs4 import BeautifulSoup\n",
    "\n",
    "url = \"https://search.naver.com/search.naver?where=news&ie=utf8&sm=nws_hty&query=chatgpt\"\n",
    "response = requests.get(url)\n",
    "\n",
    "soup = BeautifulSoup(response.text, \"html.parser\")\n",
    "news_titles = soup.select(\".news_tit\")\n",
    "\n",
    "for title in news_titles:\n",
    "    print(title.text)\n"
   ]
  },
  {
   "cell_type": "markdown",
   "metadata": {},
   "source": [
    "[질의]\n",
    "- 위의 결과를 CSV 파일로 저장해줘"
   ]
  },
  {
   "cell_type": "code",
   "execution_count": 4,
   "metadata": {},
   "outputs": [
    {
     "name": "stdout",
     "output_type": "stream",
     "text": [
      "CSV file has been created successfully!\n"
     ]
    }
   ],
   "source": [
    "import requests\n",
    "import csv\n",
    "from bs4 import BeautifulSoup\n",
    "\n",
    "url = \"https://search.naver.com/search.naver?where=news&ie=utf8&sm=nws_hty&query=chatgpt\"\n",
    "response = requests.get(url)\n",
    "\n",
    "soup = BeautifulSoup(response.text, \"html.parser\")\n",
    "news_titles = soup.select(\".news_tit\")\n",
    "\n",
    "# Open the CSV file for writing\n",
    "with open('news_titles.csv', mode='w', encoding='utf-8', newline='') as csv_file:\n",
    "    writer = csv.writer(csv_file)\n",
    "\n",
    "    # Write the header row\n",
    "    writer.writerow(['Title'])\n",
    "\n",
    "    # Write the news titles\n",
    "    for title in news_titles:\n",
    "        writer.writerow([title.text.strip()])\n",
    "\n",
    "print(\"CSV file has been created successfully!\")\n"
   ]
  }
 ],
 "metadata": {
  "kernelspec": {
   "display_name": "Python 3.11.1 64-bit",
   "language": "python",
   "name": "python3"
  },
  "language_info": {
   "codemirror_mode": {
    "name": "ipython",
    "version": 3
   },
   "file_extension": ".py",
   "mimetype": "text/x-python",
   "name": "python",
   "nbconvert_exporter": "python",
   "pygments_lexer": "ipython3",
   "version": "3.11.1"
  },
  "orig_nbformat": 4,
  "vscode": {
   "interpreter": {
    "hash": "81eef19b52451e11e3f8bf6bc518dd5f147d5a651198624c9c211c83ec7c4923"
   }
  }
 },
 "nbformat": 4,
 "nbformat_minor": 2
}
