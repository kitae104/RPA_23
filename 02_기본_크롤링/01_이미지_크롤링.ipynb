{
 "cells": [
  {
   "attachments": {},
   "cell_type": "markdown",
   "metadata": {},
   "source": [
    "### 이미지 크롤링"
   ]
  },
  {
   "cell_type": "markdown",
   "metadata": {},
   "source": [
    "- 구글 이미지 검색 \n",
    "- 작은 이미지를 클릭하여 나온 큰 이미지를 저장하기 "
   ]
  },
  {
   "cell_type": "code",
   "execution_count": 6,
   "metadata": {},
   "outputs": [
    {
     "name": "stdout",
     "output_type": "stream",
     "text": [
      "이미지 저장 실패: HTTP Error 403: Forbidden\n",
      "이미지 저장 완료: images/아이브_2.jpg\n",
      "이미지 저장 완료: images/아이브_3.jpg\n",
      "이미지 저장 완료: images/아이브_4.jpg\n",
      "이미지 저장 완료: images/아이브_5.jpg\n",
      "이미지 저장 완료: images/아이브_6.jpg\n",
      "이미지 저장 완료: images/아이브_7.jpg\n",
      "이미지 저장 완료: images/아이브_8.jpg\n",
      "이미지 저장 완료: images/아이브_9.jpg\n",
      "이미지 저장 완료: images/아이브_10.jpg\n"
     ]
    }
   ],
   "source": [
    "from selenium import webdriver\n",
    "from selenium.webdriver.chrome.service import Service\n",
    "from selenium.webdriver.common.by import By\n",
    "from webdriver_manager.chrome import ChromeDriverManager\n",
    "import os\n",
    "import time\n",
    "import urllib.request\n",
    "\n",
    "# 웹 드라이버 서비스 생성\n",
    "service = Service(ChromeDriverManager().install())\n",
    "\n",
    "# 검색할 키워드\n",
    "search_keyword = input(\"어떤 이미지를 검색할까요? \") #'blackpink'\n",
    "\n",
    "# 이미지 저장 폴더 경로\n",
    "save_directory = 'images/'\n",
    "\n",
    "# images 폴더가 없을 경우 폴더 생성\n",
    "if not os.path.exists(save_directory):\n",
    "    os.makedirs(save_directory)\n",
    "\n",
    "# 웹 드라이버 실행\n",
    "driver = webdriver.Chrome(service=service)\n",
    "\n",
    "# Google 이미지 검색 페이지 열기\n",
    "driver.get(\"https://www.google.co.kr/search?q=\" + search_keyword + \"&tbm=isch\")\n",
    "\n",
    "# 이미지 로딩을 위해 잠시 대기\n",
    "time.sleep(5)\n",
    "\n",
    "# 이미지 클릭하고 큰 이미지 저장하기\n",
    "images = driver.find_elements(By.CSS_SELECTOR, \".rg_i\")\n",
    "for i, image in enumerate(images):\n",
    "    if i == 10:\n",
    "        break\n",
    "      \n",
    "    try:\n",
    "        # 이미지 클릭\n",
    "        driver.execute_script(\"arguments[0].click();\", image)\n",
    "        \n",
    "        # 이미지 로딩을 위해 잠시 대기\n",
    "        time.sleep(2)\n",
    "        \n",
    "        # 큰 이미지 URL 가져오기\n",
    "        #big_image = driver.find_element(By.CSS_SELECTOR, \".Du2c7e img\")\n",
    "        big_image = driver.find_element(By.XPATH, \"/html/body/div[2]/c-wiz/div[3]/div[2]/div[3]/div[2]/div[2]/div[2]/div[2]/c-wiz/div/div/div/div[3]/div[1]/a/img[1]\")\n",
    "        image_url = big_image.get_attribute(\"src\")\n",
    "        \n",
    "        # 이미지 저장\n",
    "        file_name = save_directory + f\"{search_keyword}_{i+1}.jpg\"\n",
    "        urllib.request.urlretrieve(image_url, file_name)\n",
    "        print(f\"이미지 저장 완료: {file_name}\")\n",
    "        \n",
    "        # 뒤로 가기\n",
    "        driver.execute_script(\"window.history.go(-1)\")\n",
    "        \n",
    "        # 이미지 로딩을 위해 잠시 대기\n",
    "        time.sleep(2)\n",
    "    except Exception as e:\n",
    "        print(f\"이미지 저장 실패: {e}\")\n",
    "\n",
    "# 웹 드라이버 종료\n",
    "driver.quit()\n"
   ]
  },
  {
   "cell_type": "markdown",
   "metadata": {},
   "source": [
    "Du2c7e\n",
    "<img src=\"https://media.cnn.com/api/v1/images/stellar/prod/221206090002-blackpink-file-082822.jpg?c=original\" jsaction=\"VQAsE\" class=\"r48jcc pT0Scc iPVvYb\" style=\"max-width: 2000px; height: 289px; margin: 0px; width: 415px;\" alt=\"Blackpink named Time Entertainer of the Year 2022 | CNN\" jsname=\"kn3ccd\" aria-hidden=\"false\">\n",
    "\n",
    "<img src=\"https://post-phinf.pstatic.net/MjAyMjA5MDJfMjYg/MDAxNjYyMDgwMjI1MDE2.7y-Vggia4SCBs4Y5gGOxAgf7tUPTXFWYd9fT8NTl9twg.0ceiOXVJQMerjTzkijUddblVAOMnZO-FyMpKHpaV6X4g.JPEG/%EB%B8%94%EB%9E%99%ED%95%91%ED%81%AC_%288%29.jpg?type=w800_q75\" jsaction=\"VQAsE\" class=\"r48jcc pT0Scc iPVvYb\" style=\"max-width: 800px; width: 415px; height: 277px; margin: 0px;\" alt=\"BLACKPINK] 블랙핑크가 독이라면, 기꺼이 중독될게♥ (ft.MV 비하인드 컷) : 네이버 포스트\" jsname=\"kn3ccd\" aria-hidden=\"false\">"
   ]
  }
 ],
 "metadata": {
  "kernelspec": {
   "display_name": "Python 3.11.1 64-bit",
   "language": "python",
   "name": "python3"
  },
  "language_info": {
   "codemirror_mode": {
    "name": "ipython",
    "version": 3
   },
   "file_extension": ".py",
   "mimetype": "text/x-python",
   "name": "python",
   "nbconvert_exporter": "python",
   "pygments_lexer": "ipython3",
   "version": "3.11.1"
  },
  "orig_nbformat": 4,
  "vscode": {
   "interpreter": {
    "hash": "81eef19b52451e11e3f8bf6bc518dd5f147d5a651198624c9c211c83ec7c4923"
   }
  }
 },
 "nbformat": 4,
 "nbformat_minor": 2
}
