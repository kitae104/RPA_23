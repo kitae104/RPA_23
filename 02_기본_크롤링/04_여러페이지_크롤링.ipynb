{
 "cells": [
  {
   "cell_type": "markdown",
   "metadata": {},
   "source": [
    "여러 페이지를 크롤링하기\n",
    "* 페이지 이동시 변경 되는 부분을 확인한다\n",
    "* https://search.naver.com/search.naver?where=news&sm=tab_pge&query=%EC%9D%B8%ED%95%98%EA%B3%B5%EC%A0%84&sort=0&photo=0&field=0&pd=0&ds=&de=&cluster_rank=29&mynews=0&office_type=0&office_section_code=0&news_office_checked=&nso=so:r,p:all,a:all&start=11\n",
    "* https://search.naver.com/search.naver?where=news&sm=tab_pge&query=%EC%9D%B8%ED%95%98%EA%B3%B5%EC%A0%84&sort=0&photo=0&field=0&pd=0&ds=&de=&cluster_rank=52&mynews=0&office_type=0&office_section_code=0&news_office_checked=&nso=so:r,p:all,a:all&start=21\n",
    "* https://search.naver.com/search.naver?where=news&sm=tab_pge&query=%EC%9D%B8%ED%95%98%EA%B3%B5%EC%A0%84&sort=0&photo=0&field=0&pd=0&ds=&de=&cluster_rank=68&mynews=0&office_type=0&office_section_code=0&news_office_checked=&nso=so:r,p:all,a:all&start=31"
   ]
  },
  {
   "cell_type": "markdown",
   "metadata": {},
   "source": [
    "for i in range(시작, 끝+1, 단계):"
   ]
  },
  {
   "cell_type": "code",
   "execution_count": 6,
   "metadata": {},
   "outputs": [
    {
     "name": "stdout",
     "output_type": "stream",
     "text": [
      "========================================1 페이지 입니다.========================================\n",
      "1 인하공전 공간정보빅데이터과 주준민 학생, 국토부 장관상 수상 http://www.newsis.com/view/?id=NISX20230227_0002207316&cID=14001&pID=14000\n",
      "2 인하공전-인천광역시, 지역 반도체 산업 발전 '맞손' http://news.mt.co.kr/mtview.php?no=2023022314511144869\n",
      "3 인하공전, 공간정보특성화 프로그램으로 국토부 장관상 수상 https://www.joongang.co.kr/article/25143803\n",
      "4 인하공전, 2022학년도 학위수여식 개최 https://www.munhwa.com/news/view.html?no=2023021301039927085001\n",
      "5 ANC크루팩토리 승무원학원, 제8회 인하공전·한서대학교 합격자 간담회 주최 http://www.e2news.com/news/articleView.html?idxno=249952\n",
      "6 크루팩토리 승무원학원, 인하공전·한서대 집중프로젝트 오픈 http://www.kbsm.net/news/view.php?idx=377192\n",
      "7 인하공전 'ESG 경영과정' 세미나 개최 http://www.veritas-a.com/news/articleView.html?idxno=439910\n",
      "8 인하공전 '사랑의 김장 나눔' 지역봉사활동 실천 http://www.veritas-a.com/news/articleView.html?idxno=438874\n",
      "9 크루팩토리 승무원학원, 23학년도 수시1차 인하공전 수시44명 합격생 배출 http://edu.donga.com/?p=article&ps=view&at_no=20221205152713156289\n",
      "10 크루팩토리 승무원학원 수시1차 인하공전 39명, 한양여대 30명등 대거합격 https://www.job-post.co.kr/news/articleView.html?idxno=64936\n",
      "========================================2 페이지 입니다.========================================\n",
      "1 인하공전 '2022 교육성과전시회' 개최 http://www.veritas-a.com/news/articleView.html?idxno=437549\n",
      "2 인하공전, 2023 e-MU 과정 신입생 모집 http://www.veritas-a.com/news/articleView.html?idxno=436500\n",
      "3 인하공전 건설환경공학과 김원대 교수, 대통령 표창 수상 http://www.veritas-a.com/news/articleView.html?idxno=435371\n",
      "4 부산 코리아승무원학원, ‘예비 고3 합격 스파르타반’∙‘인하공전/한서대 합... http://edu.donga.com/?p=article&ps=view&at_no=20221124102919547338\n",
      "5 인하공업전문대학, 창의와 혁신으로 미래 고등직업교육 선도 https://news.unn.net/news/articleView.html?idxno=541425\n",
      "6 ABC승무원학원, 인하공전 합격자 32명 집계. 역대급 합격자 대량 배출 http://edu.donga.com/?p=article&ps=view&at_no=20221125105828558806\n",
      "7 인하공전 티스케이프와 업무 협약 체결 http://www.veritas-a.com/news/articleView.html?idxno=430489\n",
      "8 [2023전문대 수시박람회] 인하공전 '상담 환영합니다' http://www.veritas-a.com/news/articleView.html?idxno=430915\n",
      "9 인하공전, 한국공대와 업무협약 체결 http://www.veritas-a.com/news/articleView.html?idxno=428579\n",
      "10 [2023전문대수시특집] '9개 4년제학사 심화과정' 인하공전 수시 2311명(90%).... http://www.veritas-a.com/news/articleView.html?idxno=425114\n"
     ]
    }
   ],
   "source": [
    "import requests\n",
    "from bs4 import BeautifulSoup\n",
    "import pyautogui\n",
    "\n",
    "keyword = pyautogui.prompt(\"검색어를 입력하세요>>\")\n",
    "lastPage = pyautogui.prompt(\"마지막 페이지 번호를 입력하세요>>\")\n",
    "pageNum = 1\n",
    "for i in range(1, int(lastPage) * 10, 10):\n",
    "  print(f\"========================================{pageNum} 페이지 입니다.========================================\")\n",
    "  response = requests.get(f\"https://search.naver.com/search.naver?where=news&sm=tab_jum&query={keyword}&start={i}\")\n",
    "  html = response.text\n",
    "  soup = BeautifulSoup(html, 'html.parser')\n",
    "  links = soup.select('.news_tit')          # 결과는 리스트 \n",
    "\n",
    "  for i,link in enumerate(links):\n",
    "    title = link.text         # 텍스트 요소 \n",
    "    url = link.attrs['href']  # 속성값 \n",
    "    print(i+1,title, url)\n",
    "\n",
    "  pageNum+=1\n"
   ]
  }
 ],
 "metadata": {
  "kernelspec": {
   "display_name": "Python 3.11.1 64-bit",
   "language": "python",
   "name": "python3"
  },
  "language_info": {
   "codemirror_mode": {
    "name": "ipython",
    "version": 3
   },
   "file_extension": ".py",
   "mimetype": "text/x-python",
   "name": "python",
   "nbconvert_exporter": "python",
   "pygments_lexer": "ipython3",
   "version": "3.11.1"
  },
  "orig_nbformat": 4,
  "vscode": {
   "interpreter": {
    "hash": "81eef19b52451e11e3f8bf6bc518dd5f147d5a651198624c9c211c83ec7c4923"
   }
  }
 },
 "nbformat": 4,
 "nbformat_minor": 2
}
