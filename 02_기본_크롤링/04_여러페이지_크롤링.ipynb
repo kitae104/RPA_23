{
 "cells": [
  {
   "cell_type": "markdown",
   "metadata": {},
   "source": [
    "여러 페이지를 크롤링하기\n",
    "* 페이지 이동시 변경 되는 부분을 확인한다\n",
    "* https://search.naver.com/search.naver?where=news&sm=tab_pge&query=%EC%9D%B8%ED%95%98%EA%B3%B5%EC%A0%84&sort=0&photo=0&field=0&pd=0&ds=&de=&cluster_rank=29&mynews=0&office_type=0&office_section_code=0&news_office_checked=&nso=so:r,p:all,a:all&start=11\n",
    "* https://search.naver.com/search.naver?where=news&sm=tab_pge&query=%EC%9D%B8%ED%95%98%EA%B3%B5%EC%A0%84&sort=0&photo=0&field=0&pd=0&ds=&de=&cluster_rank=52&mynews=0&office_type=0&office_section_code=0&news_office_checked=&nso=so:r,p:all,a:all&start=21\n",
    "* https://search.naver.com/search.naver?where=news&sm=tab_pge&query=%EC%9D%B8%ED%95%98%EA%B3%B5%EC%A0%84&sort=0&photo=0&field=0&pd=0&ds=&de=&cluster_rank=68&mynews=0&office_type=0&office_section_code=0&news_office_checked=&nso=so:r,p:all,a:all&start=31"
   ]
  },
  {
   "cell_type": "markdown",
   "metadata": {},
   "source": [
    "for i in range(시작, 끝+1, 단계):"
   ]
  },
  {
   "cell_type": "code",
   "execution_count": 4,
   "metadata": {},
   "outputs": [
    {
     "name": "stdout",
     "output_type": "stream",
     "text": [
      "========================================1 페이지 입니다.========================================\n",
      "1 두루이디에스-몬스터테스트랩, 'SW테스팅 교육 기술' 업무협약 체결 https://www.etnews.com/20240304000450\n",
      "2 두루이디에스, 몬스터테스트랩과 SW테스팅 교육 기술 협력 MOU 체결 http://www.itdaily.kr/news/articleView.html?idxno=220892\n",
      "3 [미리보는 SECON & eGISEC 2024] 스패로우·시큐레이어·시큐리온 http://www.boannews.com/media/view.asp?idx=127495&kind=\n",
      "4 [AI TOP] 배현섭 슈어소프트테크 대표 “테스트 특화 AI, 韓 경쟁력 있다” http://digitalchosun.dizzo.com/site/data/html_dir/2024/03/06/2024030680184.html\n",
      "5 두루이디에스, 몬스터테스트랩과 SW 품질 향상 위해 '맞손' http://www.inews24.com/view/1692591\n",
      "6 잇따른 오류에 구글 제미나이 이미지 기능 중단 https://www.todayeconomic.com/news/article.html?no=25644\n",
      "7 아우토크립트, KOLAS 국제공인시험기관 인정 획득 https://www.dailysecu.com/news/articleView.html?idxno=153626\n",
      "8 와이즈스톤-앱테스트에이아이, 소프트웨어 테스트 자동화 활성화 협력 https://www.ddaily.co.kr/page/view/2024022018001918203\n",
      "9 AI신뢰성협회, 창립 총회 개최…회장에 권원일 대표 선임 https://it.chosun.com/news/articleView.html?idxno=2023092110059\n",
      "10 아우토크립트, 자동차 보안 통합 테스팅 플랫폼 출시 https://www.datanet.co.kr/news/articleView.html?idxno=190861\n",
      "========================================2 페이지 입니다.========================================\n",
      "1 두루이디에스, 몬스터테스트랩과 SW테스팅 교육 기술 협력 MOU 체결 http://www.itdaily.kr/news/articleView.html?idxno=220892\n",
      "2 [미리보는 SECON & eGISEC 2024] 스패로우·시큐레이어·시큐리온 http://www.boannews.com/media/view.asp?idx=127495&kind=\n",
      "3 [AI TOP] 배현섭 슈어소프트테크 대표 “테스트 특화 AI, 韓 경쟁력 있다” http://digitalchosun.dizzo.com/site/data/html_dir/2024/03/06/2024030680184.html\n",
      "4 두루이디에스, 몬스터테스트랩과 SW 품질 향상 위해 '맞손' http://www.inews24.com/view/1692591\n",
      "5 잇따른 오류에 구글 제미나이 이미지 기능 중단 https://www.todayeconomic.com/news/article.html?no=25644\n",
      "6 아우토크립트, 'KOLAS' 국제공인시험기관 인정 획득 https://www.etnews.com/20240216000228\n",
      "7 와이즈스톤, 앱테스트에이아이와 SW 테스트 자동화 '맞손' https://www.etnews.com/20240220000361\n",
      "8 AI신뢰성협회, 창립 총회 개최…회장에 권원일 대표 선임 https://it.chosun.com/news/articleView.html?idxno=2023092110059\n",
      "9 아우토크립트, 자동차 보안 통합 테스팅 플랫폼 CSTP 출시 http://www.boannews.com/media/view.asp?idx=126490&kind=\n",
      "10 한국 진출한 트리센티스, \"금융 SW 테스팅 시장에서 큰 성장 기대\" https://www.ddaily.co.kr/page/view/2023112811014977972\n"
     ]
    }
   ],
   "source": [
    "import requests\n",
    "from bs4 import BeautifulSoup\n",
    "import pyautogui\n",
    "\n",
    "keyword = pyautogui.prompt(\"검색어를 입력하세요>>\")\n",
    "lastPage = pyautogui.prompt(\"마지막 페이지 번호를 입력하세요>>\")\n",
    "pageNum = 1\n",
    "for i in range(1, int(lastPage), 1):\n",
    "  print(f\"========================================{pageNum} 페이지 입니다.========================================\")\n",
    "  response = requests.get(f\"https://search.naver.com/search.naver?where=news&sm=tab_jum&query={keyword}&start={i}\")\n",
    "  html = response.text\n",
    "  soup = BeautifulSoup(html, 'html.parser')\n",
    "  links = soup.select('.news_tit')          # 결과는 리스트 \n",
    "\n",
    "  for i,link in enumerate(links):\n",
    "    title = link.text         # 텍스트 요소 \n",
    "    url = link.attrs['href']  # 속성값 \n",
    "    print(i+1,title, url)\n",
    "\n",
    "  pageNum+=1\n"
   ]
  }
 ],
 "metadata": {
  "kernelspec": {
   "display_name": "Python 3.11.1 64-bit",
   "language": "python",
   "name": "python3"
  },
  "language_info": {
   "codemirror_mode": {
    "name": "ipython",
    "version": 3
   },
   "file_extension": ".py",
   "mimetype": "text/x-python",
   "name": "python",
   "nbconvert_exporter": "python",
   "pygments_lexer": "ipython3",
   "version": "3.12.2"
  },
  "orig_nbformat": 4,
  "vscode": {
   "interpreter": {
    "hash": "81eef19b52451e11e3f8bf6bc518dd5f147d5a651198624c9c211c83ec7c4923"
   }
  }
 },
 "nbformat": 4,
 "nbformat_minor": 2
}
