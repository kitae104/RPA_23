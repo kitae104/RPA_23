{
 "cells": [
  {
   "cell_type": "markdown",
   "metadata": {},
   "source": [
    "네이버 뉴스 제목과 링크 크롤링"
   ]
  },
  {
   "cell_type": "code",
   "execution_count": 2,
   "metadata": {},
   "outputs": [
    {
     "name": "stdout",
     "output_type": "stream",
     "text": [
      "[<a class=\"news_tit\" href=\"http://www.newsis.com/view/?id=NISX20230227_0002207316&amp;cID=14001&amp;pID=14000\" onclick=\"return goOtherCR(this, 'a=nws*a.tit&amp;r=1&amp;i=88000127_000000000000000011712876&amp;g=003.0011712876&amp;u='+urlencode(this.href));\" target=\"_blank\" title=\"인하공전 공간정보빅데이터과 주준민 학생, 국토부 장관상 수상\"><mark>인하</mark><mark>공전</mark> 공간정보빅데이터과 주준민 학생, 국토부 장관상 수상</a>, <a class=\"news_tit\" href=\"http://news.mt.co.kr/mtview.php?no=2023022314511144869\" onclick=\"return goOtherCR(this, 'a=nws*a.tit&amp;r=6&amp;i=880000C2_000000000000000004854881&amp;g=008.0004854881&amp;u='+urlencode(this.href));\" target=\"_blank\" title=\"인하공전-인천광역시, 지역 반도체 산업 발전 '맞손'\"><mark>인하</mark><mark>공전</mark>-인천광역시, 지역 반도체 산업 발전 '맞손'</a>, <a class=\"news_tit\" href=\"https://www.joongang.co.kr/article/25143803\" onclick=\"return goOtherCR(this, 'a=nws*e.tit&amp;r=11&amp;i=880000F2_000000000000000003262713&amp;g=025.0003262713&amp;u='+urlencode(this.href));\" target=\"_blank\" title=\"인하공전, 공간정보특성화 프로그램으로 국토부 장관상 수상\"><mark>인하</mark><mark>공전</mark>, 공간정보특성화 프로그램으로 국토부 장관상 수상</a>, <a class=\"news_tit\" href=\"https://www.munhwa.com/news/view.html?no=2023021301039927085001\" onclick=\"return goOtherCR(this, 'a=nws*a.tit&amp;r=12&amp;i=880000C4_000000000000000002556233&amp;g=021.0002556233&amp;u='+urlencode(this.href));\" target=\"_blank\" title=\"인하공전, 2022학년도 학위수여식 개최\"><mark>인하</mark><mark>공전</mark>, 2022학년도 학위수여식 개최</a>, <a class=\"news_tit\" href=\"http://www.e2news.com/news/articleView.html?idxno=249952\" onclick=\"return goOtherCR(this, 'a=nws*f.tit&amp;r=17&amp;i=88098040_000000000000000000123351&amp;g=5118.0000123351&amp;u='+urlencode(this.href));\" target=\"_blank\" title=\"ANC크루팩토리 승무원학원, 제8회 인하공전·한서대학교 합격자 간담회 주최\">ANC크루팩토리 승무원학원, 제8회 <mark>인하</mark><mark>공전</mark>·한서<mark>대학교</mark> 합격자 간담회 주최</a>, <a class=\"news_tit\" href=\"http://www.kbsm.net/news/view.php?idx=377192\" onclick=\"return goOtherCR(this, 'a=nws*f.tit&amp;r=18&amp;i=8817ca6c_000000000000000000197201&amp;g=5533.0000197201&amp;u='+urlencode(this.href));\" target=\"_blank\" title=\"크루팩토리 승무원학원, 인하공전·한서대 집중프로젝트 오픈\">크루팩토리 승무원학원, <mark>인하</mark><mark>공전</mark>·한서대 집중프로젝트 오픈</a>, <a class=\"news_tit\" href=\"http://www.veritas-a.com/news/articleView.html?idxno=439910\" onclick=\"return goOtherCR(this, 'a=nws*b.tit&amp;r=19&amp;i=8813C2F1_000000000000000000248332&amp;g=5258.0000248332&amp;u='+urlencode(this.href));\" target=\"_blank\" title=\"인하공전 'ESG 경영과정' 세미나 개최\"><mark>인하</mark><mark>공전</mark> 'ESG 경영과정' 세미나 개최</a>, <a class=\"news_tit\" href=\"http://www.veritas-a.com/news/articleView.html?idxno=438874\" onclick=\"return goOtherCR(this, 'a=nws*b.tit&amp;r=24&amp;i=8813C2F1_000000000000000000247420&amp;g=5258.0000247420&amp;u='+urlencode(this.href));\" target=\"_blank\" title=\"인하공전 '사랑의 김장 나눔' 지역봉사활동 실천\"><mark>인하</mark><mark>공전</mark> '사랑의 김장 나눔' 지역봉사활동 실천</a>, <a class=\"news_tit\" href=\"http://edu.donga.com/?p=article&amp;ps=view&amp;at_no=20221205152713156289\" onclick=\"return goOtherCR(this, 'a=nws*f.tit&amp;r=28&amp;i=881665ae_000000000000000000063726&amp;g=5449.0000063726&amp;u='+urlencode(this.href));\" target=\"_blank\" title=\"크루팩토리 승무원학원, 23학년도 수시1차 인하공전 수시44명 합격생 배출\">크루팩토리 승무원학원, 23학년도 수시1차 <mark>인하</mark><mark>공전</mark> 수시44명 합격생 배출</a>, <a class=\"news_tit\" href=\"https://www.job-post.co.kr/news/articleView.html?idxno=64936\" onclick=\"return goOtherCR(this, 'a=nws*f.tit&amp;r=29&amp;i=88202rai_000000000000000000048053&amp;g=5820.0000048053&amp;u='+urlencode(this.href));\" target=\"_blank\" title=\"크루팩토리 승무원학원 수시1차 인하공전 39명, 한양여대 30명등 대거합격\">크루팩토리 승무원학원 수시1차 <mark>인하</mark><mark>공전</mark> 39명, 한양여대 30명등 대거합격</a>]\n"
     ]
    }
   ],
   "source": [
    "import requests\n",
    "from bs4 import BeautifulSoup\n",
    "\n",
    "response = requests.get(\"https://search.naver.com/search.naver?where=news&sm=tab_jum&query=%EC%9D%B8%ED%95%98%EA%B3%B5%EC%A0%84\")\n",
    "html = response.text\n",
    "soup = BeautifulSoup(html, 'html.parser')\n",
    "links = soup.select('.news_tit')          # 결과는 리스트 \n",
    "print(links)\n",
    "\n"
   ]
  },
  {
   "cell_type": "code",
   "execution_count": 7,
   "metadata": {},
   "outputs": [
    {
     "name": "stdout",
     "output_type": "stream",
     "text": [
      "1 인하공전 공간정보빅데이터과 주준민 학생, 국토부 장관상 수상 http://www.newsis.com/view/?id=NISX20230227_0002207316&cID=14001&pID=14000\n",
      "2 인하공전-인천광역시, 지역 반도체 산업 발전 '맞손' http://news.mt.co.kr/mtview.php?no=2023022314511144869\n",
      "3 인하공전, 공간정보특성화 프로그램으로 국토부 장관상 수상 https://www.joongang.co.kr/article/25143803\n",
      "4 인하공전, 2022학년도 학위수여식 개최 https://www.munhwa.com/news/view.html?no=2023021301039927085001\n",
      "5 ANC크루팩토리 승무원학원, 제8회 인하공전·한서대학교 합격자 간담회 주최 http://www.e2news.com/news/articleView.html?idxno=249952\n",
      "6 크루팩토리 승무원학원, 인하공전·한서대 집중프로젝트 오픈 http://www.kbsm.net/news/view.php?idx=377192\n",
      "7 인하공전 'ESG 경영과정' 세미나 개최 http://www.veritas-a.com/news/articleView.html?idxno=439910\n",
      "8 인하공전 '사랑의 김장 나눔' 지역봉사활동 실천 http://www.veritas-a.com/news/articleView.html?idxno=438874\n",
      "9 크루팩토리 승무원학원, 23학년도 수시1차 인하공전 수시44명 합격생 배출 http://edu.donga.com/?p=article&ps=view&at_no=20221205152713156289\n",
      "10 크루팩토리 승무원학원 수시1차 인하공전 39명, 한양여대 30명등 대거합격 https://www.job-post.co.kr/news/articleView.html?idxno=64936\n"
     ]
    }
   ],
   "source": [
    "for i,link in enumerate(links):\n",
    "  title = link.text         # 텍스트 요소 \n",
    "  url = link.attrs['href']  # 속성값 \n",
    "  print(i+1,title, url)"
   ]
  }
 ],
 "metadata": {
  "kernelspec": {
   "display_name": "Python 3.11.1 64-bit",
   "language": "python",
   "name": "python3"
  },
  "language_info": {
   "codemirror_mode": {
    "name": "ipython",
    "version": 3
   },
   "file_extension": ".py",
   "mimetype": "text/x-python",
   "name": "python",
   "nbconvert_exporter": "python",
   "pygments_lexer": "ipython3",
   "version": "3.11.1"
  },
  "orig_nbformat": 4,
  "vscode": {
   "interpreter": {
    "hash": "81eef19b52451e11e3f8bf6bc518dd5f147d5a651198624c9c211c83ec7c4923"
   }
  }
 },
 "nbformat": 4,
 "nbformat_minor": 2
}
