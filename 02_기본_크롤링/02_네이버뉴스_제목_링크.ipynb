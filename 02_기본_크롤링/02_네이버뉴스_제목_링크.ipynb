{
 "cells": [
  {
   "cell_type": "markdown",
   "metadata": {},
   "source": [
    "네이버 뉴스 제목과 링크 크롤링"
   ]
  },
  {
   "cell_type": "code",
   "execution_count": 1,
   "metadata": {},
   "outputs": [
    {
     "ename": "ModuleNotFoundError",
     "evalue": "No module named 'bs4'",
     "output_type": "error",
     "traceback": [
      "\u001b[1;31m---------------------------------------------------------------------------\u001b[0m",
      "\u001b[1;31mModuleNotFoundError\u001b[0m                       Traceback (most recent call last)",
      "Cell \u001b[1;32mIn[1], line 2\u001b[0m\n\u001b[0;32m      1\u001b[0m \u001b[38;5;28;01mimport\u001b[39;00m \u001b[38;5;21;01mrequests\u001b[39;00m\n\u001b[1;32m----> 2\u001b[0m \u001b[38;5;28;01mfrom\u001b[39;00m \u001b[38;5;21;01mbs4\u001b[39;00m \u001b[38;5;28;01mimport\u001b[39;00m BeautifulSoup\n\u001b[0;32m      4\u001b[0m response \u001b[38;5;241m=\u001b[39m requests\u001b[38;5;241m.\u001b[39mget(\u001b[38;5;124m\"\u001b[39m\u001b[38;5;124mhttps://search.naver.com/search.naver?where=news&sm=tab_jum&query=\u001b[39m\u001b[38;5;132;01m%E\u001b[39;00m\u001b[38;5;124mC\u001b[39m\u001b[38;5;124m%\u001b[39m\u001b[38;5;124m9D\u001b[39m\u001b[38;5;124m%\u001b[39m\u001b[38;5;124mB8\u001b[39m\u001b[38;5;132;01m%E\u001b[39;00m\u001b[38;5;124mD\u001b[39m\u001b[38;5;132;01m%95%\u001b[39;00m\u001b[38;5;124m98\u001b[39m\u001b[38;5;132;01m%E\u001b[39;00m\u001b[38;5;124mA\u001b[39m\u001b[38;5;124m%\u001b[39m\u001b[38;5;124mB3\u001b[39m\u001b[38;5;124m%\u001b[39m\u001b[38;5;124mB5\u001b[39m\u001b[38;5;132;01m%E\u001b[39;00m\u001b[38;5;124mC\u001b[39m\u001b[38;5;124m%\u001b[39m\u001b[38;5;124mA0\u001b[39m\u001b[38;5;124m%\u001b[39m\u001b[38;5;124m84\u001b[39m\u001b[38;5;124m\"\u001b[39m)\n\u001b[0;32m      5\u001b[0m html \u001b[38;5;241m=\u001b[39m response\u001b[38;5;241m.\u001b[39mtext\n",
      "\u001b[1;31mModuleNotFoundError\u001b[0m: No module named 'bs4'"
     ]
    }
   ],
   "source": [
    "import requests\n",
    "from bs4 import BeautifulSoup\n",
    "\n",
    "response = requests.get(\"https://search.naver.com/search.naver?where=news&sm=tab_jum&query=%EC%9D%B8%ED%95%98%EA%B3%B5%EC%A0%84\")\n",
    "html = response.text\n",
    "soup = BeautifulSoup(html, 'html.parser')\n",
    "links = soup.select('.news_tit')          # 결과는 리스트 \n",
    "print(len(links))\n",
    "\n"
   ]
  },
  {
   "cell_type": "code",
   "execution_count": 4,
   "metadata": {},
   "outputs": [
    {
     "name": "stdout",
     "output_type": "stream",
     "text": [
      "1 인하공전 재학생, 공간정보 특성화 사업 유공 '국토부 장관상' http://news.mt.co.kr/mtview.php?no=2024022611243958937\n",
      "2 [브랜드평판] 전문대학 2024년 2월 빅데이터 1위 경복대학교, 2위 서울예술대... https://www.cbci.co.kr/news/articleView.html?idxno=459669\n",
      "3 인하공전 최주희 학생, '국토부 장관상' 수상 http://www.incheontoday.com/news/articleView.html?idxno=242129\n",
      "4 인하공전 뿌리산업 외국인 기술 인력 양성대학 선정 http://www.veritas-a.com/news/articleView.html?idxno=491222\n",
      "5 인하공전 김원대 교수 한국측량학회 제23대 회장 취임 http://www.veritas-a.com/news/articleView.html?idxno=489746\n",
      "6 인하공전, ‘뿌리산업 외국인 기술인력 양성대학’ 선정 https://www.munhwa.com/news/view.html?no=2024011701039936156001\n",
      "7 '안전에 발목 잡힐라'…고삐 죄는 티웨이항공 https://news.mtn.co.kr/news-detail/2024030616432113553\n",
      "8 크루팩토리 승무원학원, 인하공전·한서대 대비 겨울방학 정규과정 개강 https://www.gukjenews.com/news/articleView.html?idxno=2878362\n",
      "9 인하공전 '사랑의 김장 나눔' 봉사 실시 http://www.veritas-a.com/news/articleView.html?idxno=483942\n",
      "10 한국측량학회 23대 회장에 김원대 인하공전 교수 http://mcnews.co.kr/79915\n"
     ]
    }
   ],
   "source": [
    "for i,link in enumerate(links):\n",
    "  title = link.text         # 텍스트 요소 \n",
    "  url = link.attrs['href']  # 속성값 \n",
    "  print(i+1,title, url)"
   ]
  }
 ],
 "metadata": {
  "kernelspec": {
   "display_name": "Python 3.11.1 64-bit",
   "language": "python",
   "name": "python3"
  },
  "language_info": {
   "codemirror_mode": {
    "name": "ipython",
    "version": 3
   },
   "file_extension": ".py",
   "mimetype": "text/x-python",
   "name": "python",
   "nbconvert_exporter": "python",
   "pygments_lexer": "ipython3",
   "version": "3.12.2"
  },
  "orig_nbformat": 4,
  "vscode": {
   "interpreter": {
    "hash": "81eef19b52451e11e3f8bf6bc518dd5f147d5a651198624c9c211c83ec7c4923"
   }
  }
 },
 "nbformat": 4,
 "nbformat_minor": 2
}
