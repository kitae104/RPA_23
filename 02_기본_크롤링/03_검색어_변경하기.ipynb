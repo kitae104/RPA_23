{
 "cells": [
  {
   "cell_type": "markdown",
   "metadata": {},
   "source": [
    "검색어를 입력 받아 네이버 뉴스 제목과 링크 크롤링"
   ]
  },
  {
   "cell_type": "code",
   "execution_count": 2,
   "metadata": {},
   "outputs": [
    {
     "name": "stdout",
     "output_type": "stream",
     "text": [
      "1 인하공전 2023 '학생홍보대사' 선발 http://www.veritas-a.com/news/articleView.html?idxno=472475\n",
      "2 인하공전 산업전환공동훈련센터 '자동차산업의 3D 프린팅 활용 사례' 세미나 ... http://www.veritas-a.com/news/articleView.html?idxno=472677\n",
      "3 인하공전 키르기즈한국대학 컴퓨터사이언스학과 개설 협력 http://www.veritas-a.com/news/articleView.html?idxno=472538\n",
      "4 인하공전 2개 강좌, K-MOOC 블루리본 혁신 강좌 선정 http://news.mt.co.kr/mtview.php?no=2023091213594125650\n",
      "5 인하공전 '반도체 개론' 등 2개 강좌 K-MOOC 우수 강좌 '블루리본' 선정 http://www.veritas-a.com/news/articleView.html?idxno=472375\n",
      "6 인하대 이어 인하공전 CA 진출... 키르기스스탄 '컴퓨터학과' 개설 http://www.incheontoday.com/news/articleView.html?idxno=234449\n",
      "7 인하공전, 유니버설로봇코리아와 '맞손'…로봇 운용 전문인력 양성 http://www.newsis.com/view/?id=NISX20230906_0002439618&cID=14001&pID=14000\n",
      "8 인하공전 김성찬 총장 취임식 개최 https://www.joongang.co.kr/article/25189204\n",
      "9 [2024 전문대 수시특집/신설학과 소개] 신산업 수요, 미래 사회 변화에 선제적... https://news.unn.net/news/articleView.html?idxno=552398\n",
      "10 [게시판] 르노코리아, 인하공전과 미래차 분야 산학협력 협약 https://www.yna.co.kr/view/AKR20230824059100003?input=1195m\n"
     ]
    }
   ],
   "source": [
    "import requests\n",
    "from bs4 import BeautifulSoup\n",
    "import pyautogui\n",
    "\n",
    "#keyword = pyautogui.prompt(\"검색어를 입력하세요>>\")\n",
    "keyword = input(\"검색어를 입력하세요>>\")\n",
    "\n",
    "response = requests.get(f\"https://search.naver.com/search.naver?where=news&sm=tab_jum&query={keyword}\")\n",
    "html = response.text\n",
    "soup = BeautifulSoup(html, 'html.parser')\n",
    "links = soup.select('.news_tit')          # 결과는 리스트 \n",
    "\n",
    "for i,link in enumerate(links):\n",
    "  title = link.text         # 텍스트 요소 \n",
    "  url = link.attrs['href']  # 속성값 \n",
    "  print(i+1,title, url)\n",
    "\n"
   ]
  }
 ],
 "metadata": {
  "kernelspec": {
   "display_name": "Python 3.11.1 64-bit",
   "language": "python",
   "name": "python3"
  },
  "language_info": {
   "codemirror_mode": {
    "name": "ipython",
    "version": 3
   },
   "file_extension": ".py",
   "mimetype": "text/x-python",
   "name": "python",
   "nbconvert_exporter": "python",
   "pygments_lexer": "ipython3",
   "version": "3.11.1"
  },
  "orig_nbformat": 4,
  "vscode": {
   "interpreter": {
    "hash": "81eef19b52451e11e3f8bf6bc518dd5f147d5a651198624c9c211c83ec7c4923"
   }
  }
 },
 "nbformat": 4,
 "nbformat_minor": 2
}
