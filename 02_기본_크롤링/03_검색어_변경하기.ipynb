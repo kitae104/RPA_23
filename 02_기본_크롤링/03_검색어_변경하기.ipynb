{
 "cells": [
  {
   "cell_type": "markdown",
   "metadata": {},
   "source": [
    "검색어를 입력 받아 네이버 뉴스 제목과 링크 크롤링"
   ]
  },
  {
   "cell_type": "code",
   "execution_count": 3,
   "metadata": {},
   "outputs": [
    {
     "name": "stdout",
     "output_type": "stream",
     "text": [
      "1 네이버 카페, 접속 오류 발생…원인 조사 중 https://www.yna.co.kr/view/AKR20230314158900017?input=1195m\n",
      "2 “개인 맞춤형 네이버웍스 AI 비서 나온다” http://www.fnnews.com/news/202303131028327573\n",
      "3 최수연 네이버 대표, 작년 연봉 11억원 수령 https://zdnet.co.kr/view/?no=20230314180233\n",
      "4 네이버-CJ 동맹에 '햇반전쟁' 판도 바뀌나 http://moneys.mt.co.kr/news/mwView.php?no=2023031316452791792\n",
      "5 빅테크 구조조정 여파…네이버-카카오 美자회사도 감원 칼바람 http://www.newsis.com/view/?id=NISX20230314_0002225927&cID=13006&pID=13100\n",
      "6 네이버페이-삼성페이 이르면 이달말 연동‥사전 마케팅 시작 https://imnews.imbc.com/news/2023/econo/article/6463906_36140.html\n",
      "7 네이버 공익재단 떠난 최인혁·윤재승, 대웅서 만난다 https://www.bloter.net/news/articleView.html?idxno=50233\n",
      "8 [단독] 네이버 단체교섭 한창인데…회사만 48차례 접촉한 고용부 https://www.mk.co.kr/article/10680683\n",
      "9 ‘소년판타지’ 네이버 NOW.·日 아베마TV 동시 방송 https://isplus.com/article/view/isp202303140225\n",
      "10 \"쿠팡 게 섰거라\"...네이버, 도착보장 브랜드관 강화 나서 https://zdnet.co.kr/view/?no=20230314172015\n"
     ]
    }
   ],
   "source": [
    "import requests\n",
    "from bs4 import BeautifulSoup\n",
    "import pyautogui\n",
    "\n",
    "keyword = pyautogui.prompt(\"검색어를 입력하세요>>\")\n",
    "\n",
    "response = requests.get(f\"https://search.naver.com/search.naver?where=news&sm=tab_jum&query={keyword}\")\n",
    "html = response.text\n",
    "soup = BeautifulSoup(html, 'html.parser')\n",
    "links = soup.select('.news_tit')          # 결과는 리스트 \n",
    "\n",
    "for i,link in enumerate(links):\n",
    "  title = link.text         # 텍스트 요소 \n",
    "  url = link.attrs['href']  # 속성값 \n",
    "  print(i+1,title, url)\n",
    "\n"
   ]
  }
 ],
 "metadata": {
  "kernelspec": {
   "display_name": "Python 3.11.1 64-bit",
   "language": "python",
   "name": "python3"
  },
  "language_info": {
   "codemirror_mode": {
    "name": "ipython",
    "version": 3
   },
   "file_extension": ".py",
   "mimetype": "text/x-python",
   "name": "python",
   "nbconvert_exporter": "python",
   "pygments_lexer": "ipython3",
   "version": "3.11.1"
  },
  "orig_nbformat": 4,
  "vscode": {
   "interpreter": {
    "hash": "81eef19b52451e11e3f8bf6bc518dd5f147d5a651198624c9c211c83ec7c4923"
   }
  }
 },
 "nbformat": 4,
 "nbformat_minor": 2
}
