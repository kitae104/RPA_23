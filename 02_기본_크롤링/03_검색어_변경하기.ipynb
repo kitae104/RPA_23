{
 "cells": [
  {
   "cell_type": "markdown",
   "metadata": {},
   "source": [
    "검색어를 입력 받아 네이버 뉴스 제목과 링크 크롤링"
   ]
  },
  {
   "cell_type": "code",
   "execution_count": 3,
   "metadata": {},
   "outputs": [
    {
     "name": "stdout",
     "output_type": "stream",
     "text": [
      "1 독일서 60대 남성 \"29개월간 코로나 백신 217번 접종\" https://news.jtbc.co.kr/article/article.aspx?news_id=NB12168398\n",
      "2 지난해 대구 찾은 외국인 관광객 36만 명…코로나19 엔데믹 효과 https://www.yna.co.kr/view/AKR20240306109800053?input=1195m\n",
      "3 작년 1인당 국민소득 3만3745달러…코로나 한창이던 2021년보다 적어 https://www.khan.co.kr/economy/economy-general/article/202403050819011\n",
      "4 전기엽 자유민주당 예비후보 \"코로나19 백신 부작용 알릴 것\" https://www.news1.kr/articles/5341772\n",
      "5 나노소용돌이 일으켜 코로나19 조기 진단 '일회용 칩' https://www.dongascience.com/news/view/64090\n",
      "6 [단독] 간호사도 코로나19 검사·심폐소생술 한다…진료지원 가이드라인 배포 http://news.mt.co.kr/mtview.php?no=2024030615025696567\n",
      "7 코로나 때 주춤했던 취객 난동 신고 다시 증가 https://www.busan.com/view/busan/view.php?code=2024030618113980179\n",
      "8 코로나 걸린 후 계속 아픈 이유...체내 '이것' 흐름 막혀서? https://kormedi.com/?p=1669237\n",
      "9 일본, 코로나 백신·병상 등 4월부터 국비 지원 종료 http://www.newsis.com/view/?id=NISX20240306_0002650862&cID=10101&pID=10100\n",
      "10 코로나 백신 217차례 맞은 60대 독일 남성…\"건강 상태는?\" https://www.hankyung.com/article/2024030625757\n"
     ]
    }
   ],
   "source": [
    "import requests\n",
    "from bs4 import BeautifulSoup\n",
    "import pyautogui\n",
    "\n",
    "keyword = pyautogui.prompt(\"검색어를 입력하세요>>\")\n",
    "#keyword = input(\"검색어를 입력하세요>>\")\n",
    "\n",
    "response = requests.get(f\"https://search.naver.com/search.naver?where=news&sm=tab_jum&query={keyword}\")\n",
    "html = response.text\n",
    "soup = BeautifulSoup(html, 'html.parser')\n",
    "links = soup.select('.news_tit')          # 결과는 리스트 \n",
    "\n",
    "for i,link in enumerate(links):\n",
    "  title = link.text         # 텍스트 요소 \n",
    "  url = link.attrs['href']  # 속성값 \n",
    "  print(i+1,title, url)\n",
    "\n"
   ]
  }
 ],
 "metadata": {
  "kernelspec": {
   "display_name": "Python 3.11.1 64-bit",
   "language": "python",
   "name": "python3"
  },
  "language_info": {
   "codemirror_mode": {
    "name": "ipython",
    "version": 3
   },
   "file_extension": ".py",
   "mimetype": "text/x-python",
   "name": "python",
   "nbconvert_exporter": "python",
   "pygments_lexer": "ipython3",
   "version": "3.11.6"
  },
  "orig_nbformat": 4,
  "vscode": {
   "interpreter": {
    "hash": "81eef19b52451e11e3f8bf6bc518dd5f147d5a651198624c9c211c83ec7c4923"
   }
  }
 },
 "nbformat": 4,
 "nbformat_minor": 2
}
