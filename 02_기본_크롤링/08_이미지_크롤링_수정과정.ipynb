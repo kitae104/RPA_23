{
 "cells": [
  {
   "attachments": {},
   "cell_type": "markdown",
   "metadata": {},
   "source": [
    "### 이미지 크롤링"
   ]
  },
  {
   "cell_type": "markdown",
   "metadata": {},
   "source": [
    "- 구글 이미지 검색 \n",
    "- 작은 이미지를 클릭하여 나온 큰 이미지를 저장하기 "
   ]
  },
  {
   "cell_type": "markdown",
   "metadata": {},
   "source": [
    "1. 구글이미지 검색 질의하기 \n",
    "- https://www.google.co.kr/search?q=blackpink&tbm=isch&ved=2ahUKEwif9MvgmOj_AhUCH3AKHYOoCmMQ2-cCegQIABAA&oq=blackpink&gs_lcp=CgNpbWcQA1AAWABg1QhoAHAAeACAAQCIAQCSAQCYAQCqAQtnd3Mtd2l6LWltZ8ABAQ&sclient=img&ei=f1KdZN-4IoK-wAOD0aqYBg&bih=966&biw=1816&hl=ko 에서 작은 이미지를 하나씩 클릭하고, 클릭 결과로 나온 큰 이미지들을 저장하는 python selenium 코드를 작성해줘"
   ]
  },
  {
   "cell_type": "code",
   "execution_count": null,
   "metadata": {},
   "outputs": [],
   "source": [
    "from selenium import webdriver\n",
    "import time\n",
    "import urllib.request\n",
    "\n",
    "# 웹 드라이버 경로 설정 (Chrome 웹 드라이버)\n",
    "driver_path = '웹드라이버_경로/chromedriver.exe'\n",
    "\n",
    "# 검색할 키워드\n",
    "search_keyword = 'blackpink'\n",
    "\n",
    "# 이미지 저장 경로\n",
    "save_directory = '이미지_저장_경로/'\n",
    "\n",
    "# 웹 드라이버 실행\n",
    "driver = webdriver.Chrome(driver_path)\n",
    "\n",
    "# Google 이미지 검색 페이지 열기\n",
    "driver.get(\"https://www.google.co.kr/search?q=\" + search_keyword + \"&tbm=isch\")\n",
    "\n",
    "# 이미지 로딩을 위해 잠시 대기\n",
    "time.sleep(5)\n",
    "\n",
    "# 이미지 클릭하고 큰 이미지 저장하기\n",
    "images = driver.find_elements_by_css_selector(\".rg_i\")\n",
    "for i, image in enumerate(images):\n",
    "    try:\n",
    "        # 이미지 클릭\n",
    "        driver.execute_script(\"arguments[0].click();\", image)\n",
    "        \n",
    "        # 이미지 로딩을 위해 잠시 대기\n",
    "        time.sleep(2)\n",
    "        \n",
    "        # 큰 이미지 URL 가져오기\n",
    "        big_image = driver.find_element_by_css_selector(\".n3VNCb img\")\n",
    "        image_url = big_image.get_attribute(\"src\")\n",
    "        \n",
    "        # 이미지 저장\n",
    "        file_name = save_directory + f\"{search_keyword}_{i+1}.jpg\"\n",
    "        urllib.request.urlretrieve(image_url, file_name)\n",
    "        print(f\"이미지 저장 완료: {file_name}\")\n",
    "        \n",
    "        # 뒤로 가기\n",
    "        driver.execute_script(\"window.history.go(-1)\")\n",
    "        \n",
    "        # 이미지 로딩을 위해 잠시 대기\n",
    "        time.sleep(2)\n",
    "    except Exception as e:\n",
    "        print(f\"이미지 저장 실패: {e}\")\n",
    "\n",
    "# 웹 드라이버 종료\n",
    "driver.quit()"
   ]
  },
  {
   "cell_type": "markdown",
   "metadata": {},
   "source": [
    "2. 위의 코드를 크롬용 webdriver-manager를 사용하는 코드로 작성해줘"
   ]
  },
  {
   "cell_type": "code",
   "execution_count": 1,
   "metadata": {},
   "outputs": [
    {
     "ename": "ValueError",
     "evalue": "There is no such driver by url https://chromedriver.storage.googleapis.com/117.0.5938/chromedriver_win32.zip",
     "output_type": "error",
     "traceback": [
      "\u001b[1;31m---------------------------------------------------------------------------\u001b[0m",
      "\u001b[1;31mValueError\u001b[0m                                Traceback (most recent call last)",
      "Cell \u001b[1;32mIn[1], line 10\u001b[0m\n\u001b[0;32m      7\u001b[0m \u001b[38;5;28;01mimport\u001b[39;00m \u001b[38;5;21;01murllib\u001b[39;00m\u001b[38;5;21;01m.\u001b[39;00m\u001b[38;5;21;01mrequest\u001b[39;00m\n\u001b[0;32m      9\u001b[0m \u001b[38;5;66;03m# 웹 드라이버 서비스 생성\u001b[39;00m\n\u001b[1;32m---> 10\u001b[0m service \u001b[38;5;241m=\u001b[39m Service(\u001b[43mChromeDriverManager\u001b[49m\u001b[43m(\u001b[49m\u001b[43m)\u001b[49m\u001b[38;5;241;43m.\u001b[39;49m\u001b[43minstall\u001b[49m\u001b[43m(\u001b[49m\u001b[43m)\u001b[49m)\n\u001b[0;32m     12\u001b[0m \u001b[38;5;66;03m# 검색할 키워드\u001b[39;00m\n\u001b[0;32m     13\u001b[0m search_keyword \u001b[38;5;241m=\u001b[39m \u001b[38;5;124m'\u001b[39m\u001b[38;5;124mblackpink\u001b[39m\u001b[38;5;124m'\u001b[39m \u001b[38;5;66;03m#input(\"어떤 이미지를 검색할까요? \") #'blackpink'\u001b[39;00m\n",
      "File \u001b[1;32mc:\\Python\\311\\Lib\\site-packages\\webdriver_manager\\chrome.py:39\u001b[0m, in \u001b[0;36mChromeDriverManager.install\u001b[1;34m(self)\u001b[0m\n\u001b[0;32m     38\u001b[0m \u001b[39mdef\u001b[39;00m \u001b[39minstall\u001b[39m(\u001b[39mself\u001b[39m) \u001b[39m-\u001b[39m\u001b[39m>\u001b[39m \u001b[39mstr\u001b[39m:\n\u001b[1;32m---> 39\u001b[0m     driver_path \u001b[39m=\u001b[39m \u001b[39mself\u001b[39;49m\u001b[39m.\u001b[39;49m_get_driver_path(\u001b[39mself\u001b[39;49m\u001b[39m.\u001b[39;49mdriver)\n\u001b[0;32m     40\u001b[0m     os\u001b[39m.\u001b[39mchmod(driver_path, \u001b[39m0o755\u001b[39m)\n\u001b[0;32m     41\u001b[0m     \u001b[39mreturn\u001b[39;00m driver_path\n",
      "File \u001b[1;32mc:\\Python\\311\\Lib\\site-packages\\webdriver_manager\\core\\manager.py:30\u001b[0m, in \u001b[0;36mDriverManager._get_driver_path\u001b[1;34m(self, driver)\u001b[0m\n\u001b[0;32m     27\u001b[0m \u001b[39mif\u001b[39;00m binary_path:\n\u001b[0;32m     28\u001b[0m     \u001b[39mreturn\u001b[39;00m binary_path\n\u001b[1;32m---> 30\u001b[0m file \u001b[39m=\u001b[39m \u001b[39mself\u001b[39;49m\u001b[39m.\u001b[39;49m_download_manager\u001b[39m.\u001b[39;49mdownload_file(driver\u001b[39m.\u001b[39;49mget_url())\n\u001b[0;32m     31\u001b[0m binary_path \u001b[39m=\u001b[39m \u001b[39mself\u001b[39m\u001b[39m.\u001b[39mdriver_cache\u001b[39m.\u001b[39msave_file_to_cache(driver, file)\n\u001b[0;32m     32\u001b[0m \u001b[39mreturn\u001b[39;00m binary_path\n",
      "File \u001b[1;32mc:\\Python\\311\\Lib\\site-packages\\webdriver_manager\\core\\download_manager.py:28\u001b[0m, in \u001b[0;36mWDMDownloadManager.download_file\u001b[1;34m(self, url)\u001b[0m\n\u001b[0;32m     26\u001b[0m \u001b[39mdef\u001b[39;00m \u001b[39mdownload_file\u001b[39m(\u001b[39mself\u001b[39m, url: \u001b[39mstr\u001b[39m) \u001b[39m-\u001b[39m\u001b[39m>\u001b[39m File:\n\u001b[0;32m     27\u001b[0m     log(\u001b[39mf\u001b[39m\u001b[39m\"\u001b[39m\u001b[39mAbout to download new driver from \u001b[39m\u001b[39m{\u001b[39;00murl\u001b[39m}\u001b[39;00m\u001b[39m\"\u001b[39m)\n\u001b[1;32m---> 28\u001b[0m     response \u001b[39m=\u001b[39m \u001b[39mself\u001b[39;49m\u001b[39m.\u001b[39;49m_http_client\u001b[39m.\u001b[39;49mget(url)\n\u001b[0;32m     29\u001b[0m     \u001b[39mreturn\u001b[39;00m File(response)\n",
      "File \u001b[1;32mc:\\Python\\311\\Lib\\site-packages\\webdriver_manager\\core\\http.py:33\u001b[0m, in \u001b[0;36mWDMHttpClient.get\u001b[1;34m(self, url, **kwargs)\u001b[0m\n\u001b[0;32m     31\u001b[0m \u001b[39mdef\u001b[39;00m \u001b[39mget\u001b[39m(\u001b[39mself\u001b[39m, url, \u001b[39m*\u001b[39m\u001b[39m*\u001b[39mkwargs) \u001b[39m-\u001b[39m\u001b[39m>\u001b[39m Response:\n\u001b[0;32m     32\u001b[0m     resp \u001b[39m=\u001b[39m requests\u001b[39m.\u001b[39mget(url\u001b[39m=\u001b[39murl, verify\u001b[39m=\u001b[39m\u001b[39mself\u001b[39m\u001b[39m.\u001b[39m_ssl_verify, stream\u001b[39m=\u001b[39m\u001b[39mTrue\u001b[39;00m, \u001b[39m*\u001b[39m\u001b[39m*\u001b[39mkwargs)\n\u001b[1;32m---> 33\u001b[0m     \u001b[39mself\u001b[39;49m\u001b[39m.\u001b[39;49mvalidate_response(resp)\n\u001b[0;32m     34\u001b[0m     \u001b[39mif\u001b[39;00m wdm_progress_bar():\n\u001b[0;32m     35\u001b[0m         show_download_progress(resp)\n",
      "File \u001b[1;32mc:\\Python\\311\\Lib\\site-packages\\webdriver_manager\\core\\http.py:16\u001b[0m, in \u001b[0;36mHttpClient.validate_response\u001b[1;34m(resp)\u001b[0m\n\u001b[0;32m     14\u001b[0m status_code \u001b[39m=\u001b[39m resp\u001b[39m.\u001b[39mstatus_code\n\u001b[0;32m     15\u001b[0m \u001b[39mif\u001b[39;00m status_code \u001b[39m==\u001b[39m \u001b[39m404\u001b[39m:\n\u001b[1;32m---> 16\u001b[0m     \u001b[39mraise\u001b[39;00m \u001b[39mValueError\u001b[39;00m(\u001b[39mf\u001b[39m\u001b[39m\"\u001b[39m\u001b[39mThere is no such driver by url \u001b[39m\u001b[39m{\u001b[39;00mresp\u001b[39m.\u001b[39murl\u001b[39m}\u001b[39;00m\u001b[39m\"\u001b[39m)\n\u001b[0;32m     17\u001b[0m \u001b[39melif\u001b[39;00m status_code \u001b[39m==\u001b[39m \u001b[39m401\u001b[39m:\n\u001b[0;32m     18\u001b[0m     \u001b[39mraise\u001b[39;00m \u001b[39mValueError\u001b[39;00m(\u001b[39mf\u001b[39m\u001b[39m\"\u001b[39m\u001b[39mAPI Rate limit exceeded. You have to add GH_TOKEN!!!\u001b[39m\u001b[39m\"\u001b[39m)\n",
      "\u001b[1;31mValueError\u001b[0m: There is no such driver by url https://chromedriver.storage.googleapis.com/117.0.5938/chromedriver_win32.zip"
     ]
    }
   ],
   "source": [
    "from selenium import webdriver\n",
    "from selenium.webdriver.chrome.service import Service\n",
    "from selenium.webdriver.common.by import By\n",
    "from webdriver_manager.chrome import ChromeDriverManager\n",
    "import os\n",
    "import time\n",
    "import urllib.request\n",
    "\n",
    "# 웹 드라이버 서비스 생성\n",
    "service = Service(ChromeDriverManager().install())\n",
    "\n",
    "# 검색할 키워드\n",
    "search_keyword = 'blackpink' #input(\"어떤 이미지를 검색할까요? \") #'blackpink'\n",
    "\n",
    "# 이미지 저장 폴더 경로\n",
    "save_directory = 'images/'\n",
    "\n",
    "# images 폴더가 없을 경우 폴더 생성\n",
    "if not os.path.exists(save_directory):\n",
    "    os.makedirs(save_directory)\n",
    "\n",
    "# 웹 드라이버 실행\n",
    "driver = webdriver.Chrome(service=service)\n",
    "\n",
    "# Google 이미지 검색 페이지 열기\n",
    "driver.get(\"https://www.google.co.kr/search?q=\" + search_keyword + \"&tbm=isch\")\n",
    "\n",
    "# 이미지 로딩을 위해 잠시 대기\n",
    "time.sleep(5)\n",
    "\n",
    "# 이미지 클릭하고 큰 이미지 저장하기\n",
    "images = driver.find_elements(By.CSS_SELECTOR, \".rg_i\")\n",
    "for i, image in enumerate(images):\n",
    "    if i == 10:\n",
    "        break\n",
    "      \n",
    "    try:\n",
    "        # 이미지 클릭\n",
    "        driver.execute_script(\"arguments[0].click();\", image)\n",
    "        \n",
    "        # 이미지 로딩을 위해 잠시 대기\n",
    "        time.sleep(2)\n",
    "        \n",
    "        # 큰 이미지 URL 가져오기\n",
    "        #big_image = driver.find_element(By.CSS_SELECTOR, \".Du2c7e img\")\n",
    "        big_image = driver.find_element(By.XPATH, \"/html/body/div[2]/c-wiz/div[3]/div[2]/div[3]/div[2]/div[2]/div[2]/div[2]/c-wiz/div/div/div/div[3]/div[1]/a/img[1]\")\n",
    "        image_url = big_image.get_attribute(\"src\")\n",
    "        \n",
    "        # 이미지 저장\n",
    "        file_name = save_directory + f\"{search_keyword}_{i+1}.jpg\"\n",
    "        urllib.request.urlretrieve(image_url, file_name)\n",
    "        print(f\"이미지 저장 완료: {file_name}\")\n",
    "        \n",
    "        # 뒤로 가기\n",
    "        driver.execute_script(\"window.history.go(-1)\")\n",
    "        \n",
    "        # 이미지 로딩을 위해 잠시 대기\n",
    "        time.sleep(2)\n",
    "    except Exception as e:\n",
    "        print(f\"이미지 저장 실패: {e}\")\n",
    "\n",
    "# 웹 드라이버 종료\n",
    "driver.quit()\n"
   ]
  },
  {
   "cell_type": "markdown",
   "metadata": {},
   "source": [
    "Du2c7e\n",
    "<img src=\"https://media.cnn.com/api/v1/images/stellar/prod/221206090002-blackpink-file-082822.jpg?c=original\" jsaction=\"VQAsE\" class=\"r48jcc pT0Scc iPVvYb\" style=\"max-width: 2000px; height: 289px; margin: 0px; width: 415px;\" alt=\"Blackpink named Time Entertainer of the Year 2022 | CNN\" jsname=\"kn3ccd\" aria-hidden=\"false\">\n",
    "\n",
    "<img src=\"https://post-phinf.pstatic.net/MjAyMjA5MDJfMjYg/MDAxNjYyMDgwMjI1MDE2.7y-Vggia4SCBs4Y5gGOxAgf7tUPTXFWYd9fT8NTl9twg.0ceiOXVJQMerjTzkijUddblVAOMnZO-FyMpKHpaV6X4g.JPEG/%EB%B8%94%EB%9E%99%ED%95%91%ED%81%AC_%288%29.jpg?type=w800_q75\" jsaction=\"VQAsE\" class=\"r48jcc pT0Scc iPVvYb\" style=\"max-width: 800px; width: 415px; height: 277px; margin: 0px;\" alt=\"BLACKPINK] 블랙핑크가 독이라면, 기꺼이 중독될게♥ (ft.MV 비하인드 컷) : 네이버 포스트\" jsname=\"kn3ccd\" aria-hidden=\"false\">"
   ]
  }
 ],
 "metadata": {
  "kernelspec": {
   "display_name": "Python 3.11.1 64-bit",
   "language": "python",
   "name": "python3"
  },
  "language_info": {
   "codemirror_mode": {
    "name": "ipython",
    "version": 3
   },
   "file_extension": ".py",
   "mimetype": "text/x-python",
   "name": "python",
   "nbconvert_exporter": "python",
   "pygments_lexer": "ipython3",
   "version": "3.11.5"
  },
  "orig_nbformat": 4,
  "vscode": {
   "interpreter": {
    "hash": "81eef19b52451e11e3f8bf6bc518dd5f147d5a651198624c9c211c83ec7c4923"
   }
  }
 },
 "nbformat": 4,
 "nbformat_minor": 2
}
