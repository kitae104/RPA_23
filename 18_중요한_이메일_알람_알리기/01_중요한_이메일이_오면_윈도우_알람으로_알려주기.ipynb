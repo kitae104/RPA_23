{
 "cells": [
  {
   "cell_type": "markdown",
   "metadata": {},
   "source": [
    "### 중요한 이메일이 오면 윈도우 알람으로 알려주기"
   ]
  },
  {
   "cell_type": "code",
   "execution_count": 4,
   "metadata": {},
   "outputs": [],
   "source": [
    "import imaplib\n",
    "import email\n",
    "from email import policy "
   ]
  },
  {
   "cell_type": "markdown",
   "metadata": {},
   "source": [
    "1.환경 변수에 값 설정한 후 해당 값 가져오기 "
   ]
  },
  {
   "cell_type": "code",
   "execution_count": 2,
   "metadata": {},
   "outputs": [
    {
     "name": "stdout",
     "output_type": "stream",
     "text": [
      "환경 변수 값이 존재합니다.\n"
     ]
    }
   ],
   "source": [
    "import os\n",
    "# 환경 변수의 값을 가져오기\n",
    "value = os.environ.get('EMAIL_PASSWORD')\n",
    "\n",
    "if value:\n",
    "    print(f'환경 변수 값이 존재합니다.')\n",
    "else:\n",
    "    print('해당 환경 변수가 존재하지 않습니다.')"
   ]
  },
  {
   "cell_type": "code",
   "execution_count": 13,
   "metadata": {},
   "outputs": [
    {
     "name": "stdout",
     "output_type": "stream",
     "text": [
      "OK 116 1\n"
     ]
    }
   ],
   "source": [
    "imap = imaplib.IMAP4_SSL('imap.naver.com')\n",
    "id = 'kktpsh'\n",
    "pw = value          # 비밀 번호와 같은 경우는 노출 위험 때문에 환경 변수를 사용\n",
    "imap.login(id, pw)\n",
    "\n",
    "imap.select('INBOX')\n",
    "resp, data = imap.uid('search', None, 'All')  # 응답 코드와 검색결과 리스트\n",
    "all_email = data[0].split()\n",
    "last_email = all_email[-10:]    # 최근 10개의 이메일만 가져오기 \n",
    "print(resp, len(all_email), len(last_email))"
   ]
  },
  {
   "cell_type": "markdown",
   "metadata": {},
   "source": [
    "'(RFC822)'는 이메일 내용을 가져올 때 원본 형식인 RFC822 형식으로 가져오라는 의미입니다. RFC822는 이메일 메시지의 표준 형식을 말합니다."
   ]
  },
  {
   "cell_type": "code",
   "execution_count": 14,
   "metadata": {},
   "outputs": [
    {
     "name": "stdout",
     "output_type": "stream",
     "text": [
      "======================================================================\n",
      "FROM: 인프런 학습 소식 <study@inflearn.com>\n",
      "SENDER: None\n",
      "TO: kktpsh@naver.com\n",
      "DATE: Wed, 14 Jun 2023 11:48:30 +0000\n",
      "SUBJECT: [인프런] 지식공유자 김플님이 새소식을 등록했어요.📫\n",
      "[CONTENT]\n",
      "======================================================================\n"
     ]
    },
    {
     "data": {
      "text/plain": [
       "('BYE', [b'Logging out'])"
      ]
     },
     "execution_count": 14,
     "metadata": {},
     "output_type": "execute_result"
    }
   ],
   "source": [
    "for mail in reversed(last_email):\n",
    "    result, data = imap.uid('fetch', mail, '(RFC822)')    # 메일을 읽어온다.\n",
    "    raw_email = data[0][1]                                # 메일의 내용을 가져온다.\n",
    "    email_message = email.message_from_bytes(raw_email, policy=policy.default) # 메일의 내용을 파싱한다. \n",
    "\n",
    "    print('='*70)\n",
    "    print('FROM:', email_message['From'])\n",
    "    print('SENDER:', email_message['Sender'])\n",
    "    print('TO:', email_message['To'])\n",
    "    print('DATE:', email_message['Date'])\n",
    "    print('SUBJECT:', email_message['Subject'])\n",
    "\n",
    "    print('[CONTENT]')\n",
    "    message = ''\n",
    "    if email_message.is_multipart():\n",
    "        for part in email_message.get_payload():          # 메일의 내용을 가져온다.\n",
    "            if part.get_content_type() == 'text/plain':   # 메일의 내용 중에서 text/plain 타입만 가져온다.\n",
    "                bytes = part.get_payload(decode=True)     # 메일의 내용을 가져온다.\n",
    "                encode = part.get_content_charset()       # 메일의 인코딩을 가져온다.\n",
    "                message = message + str(bytes, encode)    # 메일의 내용을 문자열로 변환한다.\n",
    "    #print(message)\n",
    "    print('='*70)\n",
    "\n",
    "imap.close()\n",
    "imap.logout()"
   ]
  }
 ],
 "metadata": {
  "kernelspec": {
   "display_name": "Python 3.11.1 64-bit",
   "language": "python",
   "name": "python3"
  },
  "language_info": {
   "codemirror_mode": {
    "name": "ipython",
    "version": 3
   },
   "file_extension": ".py",
   "mimetype": "text/x-python",
   "name": "python",
   "nbconvert_exporter": "python",
   "pygments_lexer": "ipython3",
   "version": "3.11.1"
  },
  "orig_nbformat": 4,
  "vscode": {
   "interpreter": {
    "hash": "81eef19b52451e11e3f8bf6bc518dd5f147d5a651198624c9c211c83ec7c4923"
   }
  }
 },
 "nbformat": 4,
 "nbformat_minor": 2
}
