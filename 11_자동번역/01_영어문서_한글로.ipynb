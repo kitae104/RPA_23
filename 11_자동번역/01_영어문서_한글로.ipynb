{
 "cells": [
  {
   "cell_type": "code",
   "execution_count": 1,
   "metadata": {},
   "outputs": [],
   "source": [
    "from googletrans import Translator"
   ]
  },
  {
   "cell_type": "code",
   "execution_count": null,
   "metadata": {},
   "outputs": [],
   "source": [
    "# 번역기 생성\n",
    "translator = Translator()\n",
    "\n",
    "# 파일 읽기\n",
    "with open(\"영어문서.txt\", \"r\", encoding=\"utf-8\") as input_file:\n",
    "    text = input_file.read()\n",
    "\n",
    "# 번역\n",
    "result = translator.translate(text, dest=\"ko\")\n",
    "\n",
    "# 번역된 결과를 파일에 쓰기\n",
    "with open(\"한글문서.txt\", \"w\", encoding=\"utf-8\") as output_file:\n",
    "    output_file.write(result.text)"
   ]
  }
 ],
 "metadata": {
  "kernelspec": {
   "display_name": "Python 3",
   "language": "python",
   "name": "python3"
  },
  "language_info": {
   "codemirror_mode": {
    "name": "ipython",
    "version": 3
   },
   "file_extension": ".py",
   "mimetype": "text/x-python",
   "name": "python",
   "nbconvert_exporter": "python",
   "pygments_lexer": "ipython3",
   "version": "3.11.0"
  },
  "orig_nbformat": 4
 },
 "nbformat": 4,
 "nbformat_minor": 2
}
