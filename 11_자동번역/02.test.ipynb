{
 "cells": [
  {
   "cell_type": "markdown",
   "metadata": {},
   "source": [
    "라이브러리 설치\n",
    "- pip install googletrans==4.0.0-rc1"
   ]
  },
  {
   "cell_type": "code",
   "execution_count": 3,
   "metadata": {},
   "outputs": [],
   "source": [
    "from googletrans import Translator\n",
    "\n",
    "translator = Translator()"
   ]
  },
  {
   "cell_type": "code",
   "execution_count": 7,
   "metadata": {},
   "outputs": [
    {
     "name": "stdout",
     "output_type": "stream",
     "text": [
      "The grass is always greener.\n",
      "Kill two birds with one stone.\n",
      "No pain, no gain.\n",
      "Blood is thicker than water. => 잔디는 항상 더 녹색입니다.\n",
      "하나의 돌로 두 마리의 새를 죽입니다.\n",
      "고통이 없으면 얻는 것도 없다.\n",
      "피는 물보다 진하다.\n"
     ]
    }
   ],
   "source": [
    "with open(\"영어문서.txt\", \"r\", encoding=\"utf-8\") as input_file:\n",
    "    en1 = input_file.read()\n",
    "\n",
    "#ko1 = \"안녕하세요. 제 블로그를 방문해주셔서 감사합니다.\"\n",
    "ko1 = translator.translate(en1, dest=\"ko\")\n",
    "print(f\"{en1} => {ko1.text}\")"
   ]
  }
 ],
 "metadata": {
  "kernelspec": {
   "display_name": "Python 3.11.1 64-bit",
   "language": "python",
   "name": "python3"
  },
  "language_info": {
   "codemirror_mode": {
    "name": "ipython",
    "version": 3
   },
   "file_extension": ".py",
   "mimetype": "text/x-python",
   "name": "python",
   "nbconvert_exporter": "python",
   "pygments_lexer": "ipython3",
   "version": "3.11.1"
  },
  "orig_nbformat": 4,
  "vscode": {
   "interpreter": {
    "hash": "81eef19b52451e11e3f8bf6bc518dd5f147d5a651198624c9c211c83ec7c4923"
   }
  }
 },
 "nbformat": 4,
 "nbformat_minor": 2
}
