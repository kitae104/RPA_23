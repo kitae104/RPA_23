{
 "cells": [
  {
   "cell_type": "code",
   "execution_count": 1,
   "metadata": {},
   "outputs": [],
   "source": [
    "import os\n",
    "import shutil"
   ]
  },
  {
   "cell_type": "code",
   "execution_count": 3,
   "metadata": {},
   "outputs": [
    {
     "name": "stdout",
     "output_type": "stream",
     "text": [
      "./폴더2\\부산1.txt\n",
      "./폴더2\\부산2.txt\n",
      "./폴더2\\서울1.txt\n",
      "./폴더2\\서울2.txt\n"
     ]
    }
   ],
   "source": [
    "path = './폴더2'\n",
    "move_path = './폴더1'\n",
    "\n",
    "for dirpath, dirname, files in os.walk(path):                 # 폴더 내부의 모든 파일을 탐색\n",
    "    for file in files:\n",
    "        print(os.path.join(dirpath, file))\n",
    "        shutil.move(os.path.join(dirpath, file), move_path)"
   ]
  },
  {
   "cell_type": "code",
   "execution_count": 4,
   "metadata": {},
   "outputs": [
    {
     "name": "stdout",
     "output_type": "stream",
     "text": [
      "./폴더1 []\n"
     ]
    }
   ],
   "source": [
    "path = './폴더1'\n",
    "\n",
    "for dirpath, dirname, files in os.walk(path):     # 폴더 내부의 모든 파일을 탐색\n",
    "    print(dirpath, dirname)\n",
    "    for file in files:\n",
    "        fname = file[:2]                          # 파일명 앞의 2글자를 추출\n",
    "        \n",
    "        if not os.path.exists(dirpath+\"/\" +fname):             # 폴더가 존재하지 않으면\n",
    "          os.makedirs(dirpath+\"/\" +fname)                      # 폴더를 생성\n",
    "\n",
    "        shutil.move(os.path.join(dirpath, file), dirpath+\"/\" + fname)\n",
    "        \n"
   ]
  }
 ],
 "metadata": {
  "kernelspec": {
   "display_name": "Python 3.11.1 64-bit",
   "language": "python",
   "name": "python3"
  },
  "language_info": {
   "codemirror_mode": {
    "name": "ipython",
    "version": 3
   },
   "file_extension": ".py",
   "mimetype": "text/x-python",
   "name": "python",
   "nbconvert_exporter": "python",
   "pygments_lexer": "ipython3",
   "version": "3.11.6"
  },
  "orig_nbformat": 4,
  "vscode": {
   "interpreter": {
    "hash": "81eef19b52451e11e3f8bf6bc518dd5f147d5a651198624c9c211c83ec7c4923"
   }
  }
 },
 "nbformat": 4,
 "nbformat_minor": 2
}
