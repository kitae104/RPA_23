{
 "cells": [
  {
   "cell_type": "markdown",
   "metadata": {},
   "source": [
    "https://search.naver.com/search.naver?where=news&ie=utf8&sm=nws_hty&query=%EC%9D%B8%ED%95%98%EA%B3%B5%EC%A0%84에서 a.news_tit 부분에 제목들을 추출하는 파이썬 크롤링 스크립트 작성해줘"
   ]
  },
  {
   "cell_type": "code",
   "execution_count": 3,
   "metadata": {},
   "outputs": [
    {
     "name": "stdout",
     "output_type": "stream",
     "text": [
      "Requirement already satisfied: beautifulsoup4 in c:\\python\\311\\lib\\site-packages (4.11.2)\n",
      "Requirement already satisfied: soupsieve>1.2 in c:\\python\\311\\lib\\site-packages (from beautifulsoup4) (2.4)\n"
     ]
    },
    {
     "name": "stderr",
     "output_type": "stream",
     "text": [
      "\n",
      "[notice] A new release of pip is available: 23.0.1 -> 23.1.1\n",
      "[notice] To update, run: python.exe -m pip install --upgrade pip\n"
     ]
    },
    {
     "name": "stdout",
     "output_type": "stream",
     "text": [
      "Requirement already satisfied: requests in c:\\python\\311\\lib\\site-packages (2.28.2)\n",
      "Requirement already satisfied: charset-normalizer<4,>=2 in c:\\python\\311\\lib\\site-packages (from requests) (3.0.1)\n",
      "Requirement already satisfied: idna<4,>=2.5 in c:\\python\\311\\lib\\site-packages (from requests) (3.4)\n",
      "Requirement already satisfied: urllib3<1.27,>=1.21.1 in c:\\python\\311\\lib\\site-packages (from requests) (1.26.14)\n",
      "Requirement already satisfied: certifi>=2017.4.17 in c:\\python\\311\\lib\\site-packages (from requests) (2022.12.7)\n"
     ]
    },
    {
     "name": "stderr",
     "output_type": "stream",
     "text": [
      "\n",
      "[notice] A new release of pip is available: 23.0.1 -> 23.1.1\n",
      "[notice] To update, run: python.exe -m pip install --upgrade pip\n"
     ]
    }
   ],
   "source": [
    "!pip install beautifulsoup4\n",
    "!pip install requests"
   ]
  },
  {
   "cell_type": "code",
   "execution_count": 4,
   "metadata": {},
   "outputs": [
    {
     "name": "stdout",
     "output_type": "stream",
     "text": [
      "['인하공전, 2023년 K-MOOC 신규 강좌 4개 선정', '인하공전-국토지리정보원, 공간정보 전문기술인 양성 협약', \"'제2회 인하사랑 테니스대회' 인하대 등 4곳서 열려\", '법인 감사에 총장 사퇴 인하공전 내홍으로 뒤숭숭', \"인하공전, 올해 '케이무크' 신규 4개 강좌 선정\", '인하공전, 대학정보공시 운영협력대학으로 선정돼', '인하공전 건설환경공학과 곽창원 교수 표창 수상', '서태범 인하공전 총장 ‘학기 도중’ 면직', '인하공전 건설환경공학과 곽창원 교수 표창 수상', \"인하공전-미추홀구 '도심 속 나무심기' 봉사활동 진행\"]\n"
     ]
    }
   ],
   "source": [
    "import requests\n",
    "from bs4 import BeautifulSoup\n",
    "\n",
    "url = 'https://search.naver.com/search.naver?where=news&ie=utf8&sm=nws_hty&query=%EC%9D%B8%ED%95%98%EA%B3%B5%EC%A0%84'\n",
    "\n",
    "response = requests.get(url)\n",
    "\n",
    "soup = BeautifulSoup(response.text, 'html.parser')\n",
    "\n",
    "news_titles = []\n",
    "\n",
    "for news_title in soup.select('a.news_tit'):\n",
    "    news_titles.append(news_title.text)\n",
    "\n",
    "print(news_titles)"
   ]
  },
  {
   "cell_type": "code",
   "execution_count": 5,
   "metadata": {},
   "outputs": [
    {
     "name": "stdout",
     "output_type": "stream",
     "text": [
      "인하공전, 2023년 K-MOOC 신규 강좌 4개 선정\n",
      "인하공전-국토지리정보원, 공간정보 전문기술인 양성 협약\n",
      "'제2회 인하사랑 테니스대회' 인하대 등 4곳서 열려\n",
      "법인 감사에 총장 사퇴 인하공전 내홍으로 뒤숭숭\n",
      "인하공전, 올해 '케이무크' 신규 4개 강좌 선정\n",
      "인하공전, 대학정보공시 운영협력대학으로 선정돼\n",
      "인하공전 건설환경공학과 곽창원 교수 표창 수상\n",
      "서태범 인하공전 총장 ‘학기 도중’ 면직\n",
      "인하공전 건설환경공학과 곽창원 교수 표창 수상\n",
      "인하공전-미추홀구 '도심 속 나무심기' 봉사활동 진행\n"
     ]
    }
   ],
   "source": [
    "import requests\n",
    "from bs4 import BeautifulSoup\n",
    "\n",
    "url = 'https://search.naver.com/search.naver?where=news&ie=utf8&sm=nws_hty&query=%EC%9D%B8%ED%95%98%EA%B3%B5%EC%A0%84'\n",
    "\n",
    "response = requests.get(url)\n",
    "soup = BeautifulSoup(response.text, 'html.parser')\n",
    "\n",
    "news_titles = soup.select('a.news_tit')\n",
    "\n",
    "for title in news_titles:\n",
    "    print(title.text)"
   ]
  },
  {
   "cell_type": "code",
   "execution_count": null,
   "metadata": {},
   "outputs": [],
   "source": [
    "import requests\n",
    "import csv\n",
    "from bs4 import BeautifulSoup\n",
    "\n",
    "url = 'https://search.naver.com/search.naver?where=news&ie=utf8&sm=nws_hty&query=%EC%9D%B8%ED%95%98%EA%B3%B5%EC%A0%84'\n",
    "\n",
    "response = requests.get(url)\n",
    "soup = BeautifulSoup(response.text, 'html.parser')\n",
    "\n",
    "news_titles = soup.select('a.news_tit')\n",
    "\n",
    "with open('news_titles.csv', mode='w', encoding='utf-8-sig', newline='') as file:\n",
    "    writer = csv.writer(file)\n",
    "    writer.writerow(['News Titles'])\n",
    "    for title in news_titles:\n",
    "        writer.writerow([title.text])"
   ]
  }
 ],
 "metadata": {
  "kernelspec": {
   "display_name": "Python 3.11.1 64-bit",
   "language": "python",
   "name": "python3"
  },
  "language_info": {
   "codemirror_mode": {
    "name": "ipython",
    "version": 3
   },
   "file_extension": ".py",
   "mimetype": "text/x-python",
   "name": "python",
   "nbconvert_exporter": "python",
   "pygments_lexer": "ipython3",
   "version": "3.11.1"
  },
  "orig_nbformat": 4,
  "vscode": {
   "interpreter": {
    "hash": "81eef19b52451e11e3f8bf6bc518dd5f147d5a651198624c9c211c83ec7c4923"
   }
  }
 },
 "nbformat": 4,
 "nbformat_minor": 2
}
