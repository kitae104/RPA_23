{
 "cells": [
  {
   "cell_type": "markdown",
   "metadata": {},
   "source": [
    "pandas와 faker를 이용하여 회원정보.xlsx라는 파일명을 가지고 첫번째 행에는 [이름, 나이, 휴대폰번호, 이메일주소]라는 값을 가지고 두번째 행부터 열번째 행까지는 임의의 이름, 나이, 휴대폰번호, 이메일주소를 생성해서 저장하는 파이썬 코드를 작성해줘"
   ]
  },
  {
   "cell_type": "code",
   "execution_count": 1,
   "metadata": {},
   "outputs": [],
   "source": [
    "import pandas as pd\n",
    "import numpy as np\n",
    "from faker import Faker\n",
    "\n",
    "# 필드명\n",
    "fields = ['이름', '나이', '휴대폰번호', '이메일주소']\n",
    "\n",
    "# 랜덤 데이터 생성\n",
    "fake = Faker('ko_KR')\n",
    "data = {\n",
    "    fields[0]: [fake.name() for _ in range(10)],\n",
    "    fields[1]: np.random.randint(low=20, high=50, size=10),\n",
    "    fields[2]: [fake.phone_number() for _ in range(10)],\n",
    "    fields[3]: [fake.email() for _ in range(10)]\n",
    "}\n",
    "\n",
    "# 데이터프레임 생성\n",
    "df = pd.DataFrame(data)\n",
    "\n",
    "# 엑셀 파일로 저장\n",
    "df.to_excel('회원정보.xlsx', index=False, header=fields)"
   ]
  },
  {
   "cell_type": "code",
   "execution_count": 2,
   "metadata": {},
   "outputs": [],
   "source": [
    "import pandas as pd\n",
    "import random\n",
    "\n",
    "# 열 제목\n",
    "columns = ['이름', '나이', '휴대폰번호', '이메일주소']\n",
    "\n",
    "# 데이터 프레임 생성\n",
    "data = pd.DataFrame(columns=columns)\n",
    "\n",
    "# 임의의 데이터 추가\n",
    "for i in range(10):\n",
    "    name = '이름{}'.format(i)\n",
    "    age = random.randint(20, 50)\n",
    "    phone = '010-{}-{}'.format(random.randint(1000, 9999), random.randint(1000, 9999))\n",
    "    email = 'email{}@domain.com'.format(i)\n",
    "    data.loc[i] = [name, age, phone, email]\n",
    "\n",
    "# 엑셀 파일 저장\n",
    "data.to_excel('회원정보1.xlsx', index=False)"
   ]
  },
  {
   "cell_type": "markdown",
   "metadata": {},
   "source": [
    "회원정보1.xlsx 파일의 B열에서 나이가 23인 데이터를 찾고  A열에서 나이가 23인 사람의 이름을 찾는 파이썬 프로그램을 작성해줘"
   ]
  },
  {
   "cell_type": "code",
   "execution_count": 4,
   "metadata": {},
   "outputs": [
    {
     "name": "stdout",
     "output_type": "stream",
     "text": [
      "3    김성호\n",
      "Name: 이름, dtype: object\n"
     ]
    }
   ],
   "source": [
    "import pandas as pd\n",
    "\n",
    "# 엑셀 파일 불러오기\n",
    "data = pd.read_excel('회원정보.xlsx')\n",
    "\n",
    "# 나이가 23인 데이터 찾기\n",
    "result = data[data['나이'] == 26]\n",
    "\n",
    "# 이름 출력하기\n",
    "print(result['이름'])"
   ]
  }
 ],
 "metadata": {
  "kernelspec": {
   "display_name": "Python 3.11.1 64-bit",
   "language": "python",
   "name": "python3"
  },
  "language_info": {
   "codemirror_mode": {
    "name": "ipython",
    "version": 3
   },
   "file_extension": ".py",
   "mimetype": "text/x-python",
   "name": "python",
   "nbconvert_exporter": "python",
   "pygments_lexer": "ipython3",
   "version": "3.11.1"
  },
  "orig_nbformat": 4,
  "vscode": {
   "interpreter": {
    "hash": "81eef19b52451e11e3f8bf6bc518dd5f147d5a651198624c9c211c83ec7c4923"
   }
  }
 },
 "nbformat": 4,
 "nbformat_minor": 2
}
