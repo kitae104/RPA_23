{
 "cells": [
  {
   "attachments": {},
   "cell_type": "markdown",
   "metadata": {},
   "source": [
    "- pip install selenium\n",
    "- pip install webdriver_manager"
   ]
  },
  {
   "cell_type": "code",
   "execution_count": 7,
   "metadata": {},
   "outputs": [],
   "source": [
    "from webdriver_manager.chrome import ChromeDriverManager\n",
    "from selenium import webdriver\n",
    "from selenium.webdriver.common.by import By\n",
    "import time"
   ]
  },
  {
   "cell_type": "code",
   "execution_count": 8,
   "metadata": {},
   "outputs": [
    {
     "name": "stderr",
     "output_type": "stream",
     "text": [
      "C:\\Users\\kitae\\AppData\\Local\\Temp\\ipykernel_11524\\1069127788.py:1: DeprecationWarning: executable_path has been deprecated, please pass in a Service object\n",
      "  driver = webdriver.Chrome(ChromeDriverManager().install())        # 크롬 드라이버 실행\n"
     ]
    }
   ],
   "source": [
    "driver = webdriver.Chrome(ChromeDriverManager().install())        # 크롬 드라이버 실행\n",
    "\n",
    "URL='https://www.starbucks.co.kr/store/store_map.do?disp=locale'  # URL 주소\n",
    "driver.get(url=URL)                         # URL 접속\n",
    "\n",
    "driver.implicitly_wait(time_to_wait=10)     # 10초 대기"
   ]
  },
  {
   "attachments": {},
   "cell_type": "markdown",
   "metadata": {},
   "source": [
    "- 지역 검색 : #container > div > form > fieldset > div > section > article.find_store_cont > article > header.loca_search > h3 > a"
   ]
  },
  {
   "cell_type": "code",
   "execution_count": 9,
   "metadata": {},
   "outputs": [],
   "source": [
    "location_search = driver.find_element(By.CSS_SELECTOR,\"#container > div > form > fieldset > div > section > article.find_store_cont > article > header.loca_search > h3 > a\")\n",
    "location_search.click()"
   ]
  },
  {
   "attachments": {},
   "cell_type": "markdown",
   "metadata": {},
   "source": [
    "- 시도 검색 :공통 부분 추출 \n",
    "- #container > div > form > fieldset > div > section > article.find_store_cont > article > article:nth-child(4) > div.loca_step1 > div.loca_step1_cont > ul > li:nth-child(1) > a\n",
    "- #container > div > form > fieldset > div > section > article.find_store_cont > article > article:nth-child(4) > div.loca_step1 > div.loca_step1_cont > ul > li:nth-child(3) > a\n"
   ]
  },
  {
   "cell_type": "code",
   "execution_count": 10,
   "metadata": {},
   "outputs": [
    {
     "name": "stdout",
     "output_type": "stream",
     "text": [
      "서울,경기,광주,대구,대전,부산,울산,인천,강원,경남,경북,전남,전북,충남,충북,제주,세종,"
     ]
    }
   ],
   "source": [
    "location_list = driver.find_elements(By.CSS_SELECTOR,\"#container > div > form > fieldset > div > section > article.find_store_cont > article > article > div.loca_step1 > div.loca_step1_cont > ul > li > a\")\n",
    "for location in location_list:\n",
    "    print(location.text,end=\",\")"
   ]
  },
  {
   "attachments": {},
   "cell_type": "markdown",
   "metadata": {},
   "source": [
    "- 서울 > 전체 \n",
    "- #mCSB_2_container > ul > li:nth-child(1) > a"
   ]
  },
  {
   "cell_type": "code",
   "execution_count": 11,
   "metadata": {},
   "outputs": [],
   "source": [
    "driver.find_element(By.CSS_SELECTOR,\"#mCSB_2_container > ul > li:nth-child(1) > a\").click()"
   ]
  },
  {
   "attachments": {},
   "cell_type": "markdown",
   "metadata": {},
   "source": [
    "- 각 시도의 전체 매장 \n",
    "- #mCSB_3_container > ul > li:nth-child(1)\n",
    "- #mCSB_3_container > ul > li:nth-child(2)"
   ]
  },
  {
   "cell_type": "code",
   "execution_count": 13,
   "metadata": {},
   "outputs": [
    {
     "name": "stdout",
     "output_type": "stream",
     "text": [
      "['역삼아레나빌딩', '논현역사거리', '신사역성일빌딩', '국기원사거리', '대치재경빌딩R', '봉은사역', '압구정윤성빌딩', '코엑스별마당', '삼성역섬유센터R', '압구정R']\n",
      "['37.501087', '37.510178', '37.5139309', '37.499517', '37.494668', '37.515000', '37.5227934', '37.510150', '37.507750', '37.5273669']\n",
      "['127.043069', '127.022223', '127.0206057', '127.031495', '127.062583', '127.063196', '127.0286009', '127.060275', '127.060651', '127.033061']\n"
     ]
    }
   ],
   "source": [
    "#지역에서 데이터수집하여 출력\n",
    "data_name_list = []\n",
    "data_lat_list = []\n",
    "data_long_list = []\n",
    "shop_list = driver.find_elements(By.CSS_SELECTOR,\"#mCSB_3_container > ul > li\")\n",
    "for shop in shop_list:\n",
    "    data_name_list.append(shop.get_attribute(\"data-name\"))\n",
    "    data_lat_list.append(shop.get_attribute(\"data-lat\"))\n",
    "    data_long_list.append(shop.get_attribute(\"data-long\"))\n",
    "\n",
    "print(data_name_list[0:10])\n",
    "print(data_lat_list[0:10])\n",
    "print(data_long_list[0:10])"
   ]
  },
  {
   "attachments": {},
   "cell_type": "markdown",
   "metadata": {},
   "source": [
    "모든 시도의 매장 찾아 리스트로 저장\n",
    "- 1.시/도 클릭 -> 2.전체 클릭 -> 3.데이터수집 -> 4.지역검색 버튼을 눌러 시/도로 이동"
   ]
  },
  {
   "cell_type": "code",
   "execution_count": 14,
   "metadata": {},
   "outputs": [
    {
     "name": "stdout",
     "output_type": "stream",
     "text": [
      "서울 [지역버튼] 클릭\n",
      "전체 클릭\n",
      "서울 데이터수집중\n",
      "[지역검색버튼] 클릭\n",
      "경기 [지역버튼] 클릭\n",
      "전체 클릭\n",
      "경기 데이터수집중\n",
      "[지역검색버튼] 클릭\n",
      "광주 [지역버튼] 클릭\n",
      "전체 클릭\n",
      "광주 데이터수집중\n",
      "[지역검색버튼] 클릭\n",
      "대구 [지역버튼] 클릭\n",
      "전체 클릭\n",
      "대구 데이터수집중\n",
      "[지역검색버튼] 클릭\n",
      "대전 [지역버튼] 클릭\n",
      "전체 클릭\n",
      "대전 데이터수집중\n",
      "[지역검색버튼] 클릭\n",
      "부산 [지역버튼] 클릭\n",
      "전체 클릭\n",
      "부산 데이터수집중\n",
      "[지역검색버튼] 클릭\n",
      "울산 [지역버튼] 클릭\n",
      "전체 클릭\n",
      "울산 데이터수집중\n",
      "[지역검색버튼] 클릭\n",
      "인천 [지역버튼] 클릭\n",
      "전체 클릭\n",
      "인천 데이터수집중\n",
      "[지역검색버튼] 클릭\n",
      "강원 [지역버튼] 클릭\n",
      "전체 클릭\n",
      "강원 데이터수집중\n",
      "[지역검색버튼] 클릭\n",
      "경남 [지역버튼] 클릭\n",
      "전체 클릭\n",
      "경남 데이터수집중\n",
      "[지역검색버튼] 클릭\n",
      "경북 [지역버튼] 클릭\n",
      "전체 클릭\n",
      "경북 데이터수집중\n",
      "[지역검색버튼] 클릭\n",
      "전남 [지역버튼] 클릭\n",
      "전체 클릭\n",
      "전남 데이터수집중\n",
      "[지역검색버튼] 클릭\n",
      "전북 [지역버튼] 클릭\n",
      "전체 클릭\n",
      "전북 데이터수집중\n",
      "[지역검색버튼] 클릭\n",
      "충남 [지역버튼] 클릭\n",
      "전체 클릭\n",
      "충남 데이터수집중\n",
      "[지역검색버튼] 클릭\n",
      "충북 [지역버튼] 클릭\n",
      "전체 클릭\n",
      "충북 데이터수집중\n",
      "[지역검색버튼] 클릭\n",
      "제주 [지역버튼] 클릭\n",
      "전체 클릭\n",
      "제주 데이터수집중\n",
      "[지역검색버튼] 클릭\n",
      "세종 [지역버튼] 클릭\n",
      "전체 클릭\n",
      "전체가 없어 계속진행합니다\n",
      "세종 데이터수집중\n",
      "[지역검색버튼] 클릭\n"
     ]
    }
   ],
   "source": [
    "location_search = driver.find_element(By.CSS_SELECTOR,\"#container > div > form > fieldset > div > section > article.find_store_cont > article > header.loca_search > h3 > a\")\n",
    "location_search.click()\n",
    "location_list = driver.find_elements(By.CSS_SELECTOR,\"#container > div > form > fieldset > div > section > article.find_store_cont > article > article > div.loca_step1 > div.loca_step1_cont > ul > li > a\")\n",
    "\n",
    "data_location_list = []\n",
    "data_name_list = []\n",
    "data_lat_list = []\n",
    "data_long_list = []\n",
    "\n",
    "for location in location_list:\n",
    "    #1.시/도 클릭\n",
    "    region = location.text\n",
    "    print(region,\"[지역버튼] 클릭\")\n",
    "    location.click()\n",
    "    time.sleep(3.0)\n",
    "\n",
    "    #2.전체 클릭\n",
    "    try:\n",
    "        print(\"전체 클릭\")\n",
    "        driver.find_element(By.CSS_SELECTOR,\"#mCSB_2_container > ul > li:nth-child(1) > a\").click()\n",
    "        time.sleep(3.0)\n",
    "    except:\n",
    "        print(\"전체가 없어 계속진행합니다\")\n",
    "        time.sleep(3.0)\n",
    "    \n",
    "    #3.데이터수집\n",
    "    print(region,\"데이터수집중\")\n",
    "    shop_list = driver.find_elements(By.CSS_SELECTOR,\"#mCSB_3_container > ul > li\")\n",
    "    for shop in shop_list:\n",
    "        data_location_list.append(region)\n",
    "        data_name_list.append(shop.get_attribute(\"data-name\"))\n",
    "        data_lat_list.append(shop.get_attribute(\"data-lat\"))\n",
    "        data_long_list.append(shop.get_attribute(\"data-long\"))\n",
    "    \n",
    "    #4.지역검색 버튼을 눌러 시/도로 이동\n",
    "    print(\"[지역검색버튼] 클릭\")\n",
    "    location_search.click()\n",
    "    time.sleep(3.0)"
   ]
  },
  {
   "attachments": {},
   "cell_type": "markdown",
   "metadata": {},
   "source": [
    "매장 정보 리스트를 엑셀로 저장하기 "
   ]
  },
  {
   "cell_type": "code",
   "execution_count": 15,
   "metadata": {},
   "outputs": [
    {
     "name": "stdout",
     "output_type": "stream",
     "text": [
      "['서울', '서울', '서울', '서울', '서울']\n",
      "['역삼아레나빌딩', '논현역사거리', '신사역성일빌딩', '국기원사거리', '대치재경빌딩R']\n",
      "['37.501087', '37.510178', '37.5139309', '37.499517', '37.494668']\n",
      "['127.043069', '127.022223', '127.0206057', '127.031495', '127.062583']\n"
     ]
    }
   ],
   "source": [
    "import pandas as pd\n",
    "\n",
    "df = pd.DataFrame()\n",
    "\n",
    "print(data_location_list[:5])\n",
    "print(data_name_list[:5])\n",
    "print(data_lat_list[:5])\n",
    "print(data_long_list[:5])\n",
    "\n",
    "df[\"지역\"] = data_location_list\n",
    "df[\"이름\"] = data_name_list\n",
    "df[\"lat\"] = data_lat_list\n",
    "df[\"long\"] = data_long_list\n",
    "\n",
    "df.to_excel(\"스타벅스위치.xlsx\")"
   ]
  }
 ],
 "metadata": {
  "kernelspec": {
   "display_name": "Python 3",
   "language": "python",
   "name": "python3"
  },
  "language_info": {
   "codemirror_mode": {
    "name": "ipython",
    "version": 3
   },
   "file_extension": ".py",
   "mimetype": "text/x-python",
   "name": "python",
   "nbconvert_exporter": "python",
   "pygments_lexer": "ipython3",
   "version": "3.11.0"
  },
  "orig_nbformat": 4
 },
 "nbformat": 4,
 "nbformat_minor": 2
}
