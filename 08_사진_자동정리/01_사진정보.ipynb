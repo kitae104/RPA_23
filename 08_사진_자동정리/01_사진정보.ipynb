{
 "cells": [
  {
   "attachments": {},
   "cell_type": "markdown",
   "metadata": {},
   "source": [
    "1. 사진 파일의 정보 가져오기"
   ]
  },
  {
   "cell_type": "code",
   "execution_count": 1,
   "metadata": {},
   "outputs": [],
   "source": [
    "from PIL import Image\n",
    "from PIL.ExifTags import TAGS\n",
    "from glob import glob"
   ]
  },
  {
   "cell_type": "code",
   "execution_count": 2,
   "metadata": {},
   "outputs": [
    {
     "name": "stdout",
     "output_type": "stream",
     "text": [
      "사진: ['사진\\\\1.png', '사진\\\\2.png', '사진\\\\3.png']\n"
     ]
    }
   ],
   "source": [
    "photos = (glob(r'사진\\*.jpg'))      # 사진 폴더에 있는 모든 jpg 파일을 가져옴 \n",
    "photos.extend(glob(r'사진\\*.png'))  # 사진 폴더에 있는 모든 png 파일을 가져옴\n",
    "\n",
    "print(\"사진:\", photos)"
   ]
  },
  {
   "cell_type": "code",
   "execution_count": 3,
   "metadata": {},
   "outputs": [
    {
     "data": {
      "text/plain": [
       "{34853: {0: b'\\x02\\x02\\x00\\x00',\n",
       "  1: 'N',\n",
       "  2: (37.0, 11.0, 38.0),\n",
       "  3: 'E',\n",
       "  4: (126.0, 38.0, 43.0),\n",
       "  5: b'\\x01',\n",
       "  6: 0.0,\n",
       "  7: (4.0, 25.0, 55.0),\n",
       "  29: '2018:12:10'},\n",
       " 296: 2,\n",
       " 34665: 214,\n",
       " 271: 'samsung',\n",
       " 272: 'SM-G955N',\n",
       " 305: 'G955NKSU3CRJ1',\n",
       " 274: 1,\n",
       " 306: '2018:12:10 13:25:58',\n",
       " 531: 1,\n",
       " 282: 72.0,\n",
       " 283: 72.0,\n",
       " 36864: b'0220',\n",
       " 37121: b'\\x01\\x02\\x03\\x00',\n",
       " 37377: 12.05,\n",
       " 36867: '2018:12:10 13:25:58',\n",
       " 36868: '2018:12:10 13:25:58',\n",
       " 37378: 1.53,\n",
       " 37379: 9.75,\n",
       " 37380: 0.0,\n",
       " 37381: 1.53,\n",
       " 37383: 2,\n",
       " 37385: 0,\n",
       " 37386: 4.2,\n",
       " 37510: b'\\x00\\x00\\x00\\x00\\x00\\x00\\x00\\x00\\x00\\x00\\x00\\x00\\x00',\n",
       " 40961: 1,\n",
       " 40962: 4032,\n",
       " 41990: 0,\n",
       " 37520: '0035',\n",
       " 37521: '0035',\n",
       " 37522: '0035',\n",
       " 40963: 2268,\n",
       " 33434: 0.0002358490566037736,\n",
       " 40965: 852,\n",
       " 33437: 1.7,\n",
       " 42016: 'F12LLJA00SM F12LLKL01GM\\n',\n",
       " 34850: 2,\n",
       " 34855: 40,\n",
       " 41986: 0,\n",
       " 40960: b'0100',\n",
       " 41987: 0,\n",
       " 41989: 26,\n",
       " 37500: b'\\x07\\x00\\x01\\x00\\x07\\x00\\x04\\x00\\x00\\x000100\\x02\\x00\\x04\\x00\\x01\\x00\\x00\\x00\\x00 \\x01\\x00\\x0c\\x00\\x04\\x00\\x01\\x00\\x00\\x00\\x00\\x00\\x00\\x00\\x10\\x00\\x05\\x00\\x01\\x00\\x00\\x00Z\\x00\\x00\\x00@\\x00\\x04\\x00\\x01\\x00\\x00\\x00\\x00\\x00\\x00\\x00P\\x00\\x04\\x00\\x01\\x00\\x00\\x00\\x01\\x00\\x00\\x00\\x00\\x01\\x03\\x00\\x01\\x00\\x00\\x00\\x00\\x00\\x00\\x00\\x00\\x00\\x00\\x00\\x00\\x00\\x00\\x00\\x00\\x00\\x00\\x00'}"
      ]
     },
     "execution_count": 3,
     "metadata": {},
     "output_type": "execute_result"
    }
   ],
   "source": [
    "image = Image.open(photos[0])\n",
    "info = image._getexif();        # 사진 정보를 가져옴\n",
    "image.close()\n",
    "info"
   ]
  },
  {
   "attachments": {},
   "cell_type": "markdown",
   "metadata": {},
   "source": [
    "파일 정보를 딕셔너리에 저장"
   ]
  },
  {
   "cell_type": "code",
   "execution_count": 4,
   "metadata": {},
   "outputs": [
    {
     "data": {
      "text/plain": [
       "{'GPSInfo': {0: b'\\x02\\x02\\x00\\x00',\n",
       "  1: 'N',\n",
       "  2: (37.0, 11.0, 38.0),\n",
       "  3: 'E',\n",
       "  4: (126.0, 38.0, 43.0),\n",
       "  5: b'\\x01',\n",
       "  6: 0.0,\n",
       "  7: (4.0, 25.0, 55.0),\n",
       "  29: '2018:12:10'},\n",
       " 'ResolutionUnit': 2,\n",
       " 'ExifOffset': 214,\n",
       " 'Make': 'samsung',\n",
       " 'Model': 'SM-G955N',\n",
       " 'Software': 'G955NKSU3CRJ1',\n",
       " 'Orientation': 1,\n",
       " 'DateTime': '2018:12:10 13:25:58',\n",
       " 'YCbCrPositioning': 1,\n",
       " 'XResolution': 72.0,\n",
       " 'YResolution': 72.0,\n",
       " 'ExifVersion': b'0220',\n",
       " 'ComponentsConfiguration': b'\\x01\\x02\\x03\\x00',\n",
       " 'ShutterSpeedValue': 12.05,\n",
       " 'DateTimeOriginal': '2018:12:10 13:25:58',\n",
       " 'DateTimeDigitized': '2018:12:10 13:25:58',\n",
       " 'ApertureValue': 1.53,\n",
       " 'BrightnessValue': 9.75,\n",
       " 'ExposureBiasValue': 0.0,\n",
       " 'MaxApertureValue': 1.53,\n",
       " 'MeteringMode': 2,\n",
       " 'Flash': 0,\n",
       " 'FocalLength': 4.2,\n",
       " 'UserComment': b'\\x00\\x00\\x00\\x00\\x00\\x00\\x00\\x00\\x00\\x00\\x00\\x00\\x00',\n",
       " 'ColorSpace': 1,\n",
       " 'ExifImageWidth': 4032,\n",
       " 'SceneCaptureType': 0,\n",
       " 'SubsecTime': '0035',\n",
       " 'SubsecTimeOriginal': '0035',\n",
       " 'SubsecTimeDigitized': '0035',\n",
       " 'ExifImageHeight': 2268,\n",
       " 'ExposureTime': 0.0002358490566037736,\n",
       " 'ExifInteroperabilityOffset': 852,\n",
       " 'FNumber': 1.7,\n",
       " 'ImageUniqueID': 'F12LLJA00SM F12LLKL01GM\\n',\n",
       " 'ExposureProgram': 2,\n",
       " 'ISOSpeedRatings': 40,\n",
       " 'ExposureMode': 0,\n",
       " 'FlashPixVersion': b'0100',\n",
       " 'WhiteBalance': 0,\n",
       " 'FocalLengthIn35mmFilm': 26,\n",
       " 'MakerNote': b'\\x07\\x00\\x01\\x00\\x07\\x00\\x04\\x00\\x00\\x000100\\x02\\x00\\x04\\x00\\x01\\x00\\x00\\x00\\x00 \\x01\\x00\\x0c\\x00\\x04\\x00\\x01\\x00\\x00\\x00\\x00\\x00\\x00\\x00\\x10\\x00\\x05\\x00\\x01\\x00\\x00\\x00Z\\x00\\x00\\x00@\\x00\\x04\\x00\\x01\\x00\\x00\\x00\\x00\\x00\\x00\\x00P\\x00\\x04\\x00\\x01\\x00\\x00\\x00\\x01\\x00\\x00\\x00\\x00\\x01\\x03\\x00\\x01\\x00\\x00\\x00\\x00\\x00\\x00\\x00\\x00\\x00\\x00\\x00\\x00\\x00\\x00\\x00\\x00\\x00\\x00\\x00'}"
      ]
     },
     "execution_count": 4,
     "metadata": {},
     "output_type": "execute_result"
    }
   ],
   "source": [
    "taglabel = {}\n",
    "for tag, value in info.items():\n",
    "    decoded = TAGS.get(tag, tag)        # tag를 텍스트로 변환\n",
    "    taglabel[decoded] = value           # 사전에 저장\n",
    "\n",
    "taglabel"
   ]
  },
  {
   "cell_type": "code",
   "execution_count": 5,
   "metadata": {},
   "outputs": [
    {
     "name": "stdout",
     "output_type": "stream",
     "text": [
      "사진촬영날짜:  2018:12:10 13:25:58\n",
      "사진촬영장소:  {0: b'\\x02\\x02\\x00\\x00', 1: 'N', 2: (37.0, 11.0, 38.0), 3: 'E', 4: (126.0, 38.0, 43.0), 5: b'\\x01', 6: 0.0, 7: (4.0, 25.0, 55.0), 29: '2018:12:10'}\n"
     ]
    }
   ],
   "source": [
    "print(\"사진촬영날짜: \",taglabel['DateTime'])\n",
    "print(\"사진촬영장소: \",taglabel['GPSInfo'])"
   ]
  },
  {
   "attachments": {},
   "cell_type": "markdown",
   "metadata": {},
   "source": [
    "2. 모든 사진파일의 촬영시간, 촬영장소 출력하기 "
   ]
  },
  {
   "cell_type": "code",
   "execution_count": 6,
   "metadata": {},
   "outputs": [
    {
     "name": "stdout",
     "output_type": "stream",
     "text": [
      "사진이름:  사진\\1.png\n",
      "사진촬영시간:  2018:12:10 13:25:58\n",
      "사진촬영장소:  {0: b'\\x02\\x02\\x00\\x00', 1: 'N', 2: (37.0, 11.0, 38.0), 3: 'E', 4: (126.0, 38.0, 43.0), 5: b'\\x01', 6: 0.0, 7: (4.0, 25.0, 55.0), 29: '2018:12:10'}\n",
      "사진이름:  사진\\2.png\n",
      "사진촬영시간:  2018:12:10 14:13:35\n",
      "사진촬영장소:  {0: b'\\x02\\x02\\x00\\x00', 1: 'N', 2: (37.0, 11.0, 32.0), 3: 'E', 4: (126.0, 38.0, 36.0), 5: b'\\x00', 6: 44.0, 7: (5.0, 13.0, 23.0), 29: '2018:12:10'}\n",
      "사진이름:  사진\\3.png\n",
      "사진촬영시간:  2018:12:10 11:16:35\n",
      "사진촬영장소:  {0: b'\\x02\\x02\\x00\\x00', 1: 'N', 2: (37.0, 7.0, 59.0), 3: 'E', 4: (126.0, 42.0, 6.0), 5: b'\\x01', 6: 0.0, 7: (2.0, 16.0, 27.0), 29: '2018:12:10'}\n"
     ]
    }
   ],
   "source": [
    "for photo in photos:\n",
    "    image = Image.open(photo)\n",
    "    info = image._getexif();\n",
    "    image.close()\n",
    "\n",
    "    taglabel = {}\n",
    "    for tag, value in info.items():\n",
    "        decoded = TAGS.get(tag, tag)\n",
    "        taglabel[decoded] = value\n",
    "        \n",
    "    print(\"사진이름: \",photo)\n",
    "    print(\"사진촬영시간: \",taglabel['DateTime'])\n",
    "    print(\"사진촬영장소: \",taglabel['GPSInfo'])"
   ]
  },
  {
   "attachments": {},
   "cell_type": "markdown",
   "metadata": {},
   "source": [
    "3. 좌표 데이터를 주소 데이터로 변경하기 "
   ]
  },
  {
   "cell_type": "code",
   "execution_count": 8,
   "metadata": {},
   "outputs": [
    {
     "name": "stdout",
     "output_type": "stream",
     "text": [
      "주소:  구령서길, 신동, 구령리, 아산시, 충청남도, 31482, 대한민국\n",
      "주소리스트:  ['구령서길', ' 신동', ' 구령리', ' 아산시', ' 충청남도', ' 31482', ' 대한민국']\n",
      "시도이름:  구령리_신동\n"
     ]
    }
   ],
   "source": [
    "from geopy.geocoders import Nominatim\n",
    "\n",
    "def geocoding_reverse(lat_lng_str): \n",
    "    geolocoder = Nominatim(user_agent = 'South Korea', timeout=None)\n",
    "    address = geolocoder.reverse(lat_lng_str)\n",
    "    return address\n",
    "\n",
    "address = geocoding_reverse('36.77384887777778, 127.04070869722223')\n",
    "print(\"주소: \",address)\n",
    "\n",
    "address_list = address[0].split(',')\n",
    "print(\"주소리스트: \",address_list)\n",
    "\n",
    "시도이름 = address_list[2].strip() + \"_\" + address_list[1].strip()\n",
    "print(\"시도이름: \",시도이름)"
   ]
  },
  {
   "attachments": {},
   "cell_type": "markdown",
   "metadata": {},
   "source": [
    "4. 사진 이름을 장소+시간으로 변경하기 "
   ]
  },
  {
   "cell_type": "code",
   "execution_count": 11,
   "metadata": {},
   "outputs": [
    {
     "name": "stdout",
     "output_type": "stream",
     "text": [
      "위도:  37.193888888888885 경도:  126.64527777777778\n",
      "주소:  제1주차장, 대부황금로, 대부동, 단원구, 안산시, 경기도, 15652, 대한민국\n",
      "8\n",
      "시도이름:  경기도_안산시\n",
      "사진이름:  ./사진/경기도_안산시_2018-12-10 13-25-58.png\n",
      "위도:  37.19222222222222 경도:  126.64333333333333\n",
      "주소:  대부황금로, 대부동, 단원구, 안산시, 경기도, 15652, 대한민국\n",
      "7\n",
      "시도이름:  경기도_안산시\n",
      "사진이름:  ./사진/경기도_안산시_2018-12-10 14-13-35.png\n",
      "위도:  37.13305555555556 경도:  126.70166666666667\n",
      "주소:  궁평리, 화성시, 경기도, 18555, 대한민국\n",
      "5\n",
      "시도이름:  경기도_화성시\n",
      "사진이름:  ./사진/경기도_화성시_2018-12-10 11-16-35.png\n"
     ]
    }
   ],
   "source": [
    "import os\n",
    "\n",
    "for photo in photos:\n",
    "    image = Image.open(photo)\n",
    "    info = image._getexif();\n",
    "    image.close()\n",
    "\n",
    "    taglabel = {}\n",
    "    for tag, value in info.items():\n",
    "        decoded = TAGS.get(tag, tag)\n",
    "        taglabel[decoded] = value\n",
    "\n",
    "    lat = (((taglabel['GPSInfo'][2][2] / 60.0 ) +  taglabel['GPSInfo'][2][1]) / 60.0) + taglabel['GPSInfo'][2][0]\n",
    "    lon = (((taglabel['GPSInfo'][4][2] / 60.0 ) +  taglabel['GPSInfo'][4][1]) / 60.0) + taglabel['GPSInfo'][4][0]    \n",
    "    \n",
    "    print(\"위도: \",lat, \"경도: \",lon)\n",
    "\n",
    "    address = geocoding_reverse(str(lat) + \",\" + str(lon))\n",
    "    print(\"주소: \",address)\n",
    "\n",
    "    address_list = address[0].split(',')\n",
    "    print(len(address_list))\n",
    "\n",
    "    if len(address_list) == 6:\n",
    "        sido = address_list[3].strip() + \"_\" + address_list[2].strip()\n",
    "    elif len(address_list) == 5:\n",
    "        sido = address_list[2].strip() + \"_\" + address_list[1].strip()\n",
    "    elif len(address_list) == 7:\n",
    "        sido = address_list[4].strip() + \"_\" + address_list[3].strip()\n",
    "    elif len(address_list) == 4:\n",
    "        sido = address_list[1].strip() + \"_\" + address_list[0].strip()\n",
    "    elif len(address_list) == 8:\n",
    "        sido = address_list[5].strip() + \"_\" + address_list[4].strip()\n",
    "    else:\n",
    "        sido = \"모름\"\n",
    "        \n",
    "    print(\"시도이름: \",sido)\n",
    "    time = taglabel['DateTime']\n",
    "    photo_name = \"./사진/\" + sido + \"_\" + time.replace(\":\",\"-\") + \".png\"\n",
    "    print(\"사진이름: \",photo_name)\n",
    "\n",
    "    os.rename(photo, photo_name)"
   ]
  },
  {
   "cell_type": "markdown",
   "metadata": {},
   "source": []
  }
 ],
 "metadata": {
  "kernelspec": {
   "display_name": "Python 3.11.1 64-bit",
   "language": "python",
   "name": "python3"
  },
  "language_info": {
   "codemirror_mode": {
    "name": "ipython",
    "version": 3
   },
   "file_extension": ".py",
   "mimetype": "text/x-python",
   "name": "python",
   "nbconvert_exporter": "python",
   "pygments_lexer": "ipython3",
   "version": "3.11.6"
  },
  "orig_nbformat": 4,
  "vscode": {
   "interpreter": {
    "hash": "81eef19b52451e11e3f8bf6bc518dd5f147d5a651198624c9c211c83ec7c4923"
   }
  }
 },
 "nbformat": 4,
 "nbformat_minor": 2
}
